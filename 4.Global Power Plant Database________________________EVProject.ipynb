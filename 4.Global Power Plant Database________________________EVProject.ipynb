{
 "cells": [
  {
   "cell_type": "markdown",
   "metadata": {},
   "source": [
    "##### Global Power Plant Project"
   ]
  },
  {
   "cell_type": "markdown",
   "metadata": {},
   "source": [
    "###### Import Libraries"
   ]
  },
  {
   "cell_type": "code",
   "execution_count": 571,
   "metadata": {},
   "outputs": [],
   "source": [
    "import pandas as pd\n",
    "import numpy as np\n",
    "import matplotlib.pyplot as plt\n",
    "import seaborn as sns\n",
    "from scipy import stats\n",
    "from scipy.stats import f_oneway\n",
    "%matplotlib inline\n",
    "from sklearn.preprocessing import LabelEncoder,StandardScaler\n",
    "from sklearn import metrics\n",
    "from sklearn.metrics import make_scorer\n",
    "from sklearn.model_selection import train_test_split\n",
    "from sklearn.model_selection import RandomizedSearchCV,cross_val_score\n",
    "\n",
    "from sklearn.linear_model import LinearRegression,Lasso\n",
    "from sklearn.tree import DecisionTreeRegressor\n",
    "from sklearn.ensemble import  RandomForestRegressor\n",
    "from sklearn.neighbors import KNeighborsRegressor \n",
    "from sklearn.metrics import mean_absolute_error, accuracy_score\n",
    "\n",
    "import warnings\n",
    "warnings.filterwarnings('ignore')"
   ]
  },
  {
   "cell_type": "markdown",
   "metadata": {},
   "source": [
    "###### Load Dataset"
   ]
  },
  {
   "cell_type": "code",
   "execution_count": 576,
   "metadata": {},
   "outputs": [],
   "source": [
    "pd.pandas.set_option('display.max_columns',None)\n",
    "df=pd.read_csv('https://raw.githubusercontent.com/wri/global-power-plant-database/master/source_databases_csv/database_IND.csv')\n"
   ]
  },
  {
   "cell_type": "markdown",
   "metadata": {},
   "source": [
    "###### Dimension of Dataset"
   ]
  },
  {
   "cell_type": "code",
   "execution_count": 577,
   "metadata": {},
   "outputs": [
    {
     "data": {
      "text/plain": [
       "(908, 25)"
      ]
     },
     "execution_count": 577,
     "metadata": {},
     "output_type": "execute_result"
    }
   ],
   "source": [
    "df.shape"
   ]
  },
  {
   "cell_type": "markdown",
   "metadata": {},
   "source": [
    "*Observation :*<br>*Dataset have 908 rows and 25 columns*"
   ]
  },
  {
   "cell_type": "markdown",
   "metadata": {},
   "source": [
    "###### Sample of Data"
   ]
  },
  {
   "cell_type": "code",
   "execution_count": 578,
   "metadata": {},
   "outputs": [
    {
     "data": {
      "text/html": [
       "<div>\n",
       "<style scoped>\n",
       "    .dataframe tbody tr th:only-of-type {\n",
       "        vertical-align: middle;\n",
       "    }\n",
       "\n",
       "    .dataframe tbody tr th {\n",
       "        vertical-align: top;\n",
       "    }\n",
       "\n",
       "    .dataframe thead th {\n",
       "        text-align: right;\n",
       "    }\n",
       "</style>\n",
       "<table border=\"1\" class=\"dataframe\">\n",
       "  <thead>\n",
       "    <tr style=\"text-align: right;\">\n",
       "      <th></th>\n",
       "      <th>country</th>\n",
       "      <th>country_long</th>\n",
       "      <th>name</th>\n",
       "      <th>gppd_idnr</th>\n",
       "      <th>capacity_mw</th>\n",
       "      <th>latitude</th>\n",
       "      <th>longitude</th>\n",
       "      <th>primary_fuel</th>\n",
       "      <th>other_fuel1</th>\n",
       "      <th>other_fuel2</th>\n",
       "      <th>other_fuel3</th>\n",
       "      <th>commissioning_year</th>\n",
       "      <th>owner</th>\n",
       "      <th>source</th>\n",
       "      <th>url</th>\n",
       "      <th>geolocation_source</th>\n",
       "      <th>wepp_id</th>\n",
       "      <th>year_of_capacity_data</th>\n",
       "      <th>generation_gwh_2013</th>\n",
       "      <th>generation_gwh_2014</th>\n",
       "      <th>generation_gwh_2015</th>\n",
       "      <th>generation_gwh_2016</th>\n",
       "      <th>generation_gwh_2017</th>\n",
       "      <th>generation_data_source</th>\n",
       "      <th>estimated_generation_gwh</th>\n",
       "    </tr>\n",
       "  </thead>\n",
       "  <tbody>\n",
       "    <tr>\n",
       "      <th>0</th>\n",
       "      <td>IND</td>\n",
       "      <td>India</td>\n",
       "      <td>ACME Solar Tower</td>\n",
       "      <td>WRI1020239</td>\n",
       "      <td>2.5</td>\n",
       "      <td>28.1839</td>\n",
       "      <td>73.2407</td>\n",
       "      <td>Solar</td>\n",
       "      <td>NaN</td>\n",
       "      <td>NaN</td>\n",
       "      <td>NaN</td>\n",
       "      <td>2011.0</td>\n",
       "      <td>Solar Paces</td>\n",
       "      <td>National Renewable Energy Laboratory</td>\n",
       "      <td>http://www.nrel.gov/csp/solarpaces/project_det...</td>\n",
       "      <td>National Renewable Energy Laboratory</td>\n",
       "      <td>NaN</td>\n",
       "      <td>NaN</td>\n",
       "      <td>NaN</td>\n",
       "      <td>NaN</td>\n",
       "      <td>NaN</td>\n",
       "      <td>NaN</td>\n",
       "      <td>NaN</td>\n",
       "      <td>NaN</td>\n",
       "      <td>NaN</td>\n",
       "    </tr>\n",
       "    <tr>\n",
       "      <th>1</th>\n",
       "      <td>IND</td>\n",
       "      <td>India</td>\n",
       "      <td>ADITYA CEMENT WORKS</td>\n",
       "      <td>WRI1019881</td>\n",
       "      <td>98.0</td>\n",
       "      <td>24.7663</td>\n",
       "      <td>74.6090</td>\n",
       "      <td>Coal</td>\n",
       "      <td>NaN</td>\n",
       "      <td>NaN</td>\n",
       "      <td>NaN</td>\n",
       "      <td>NaN</td>\n",
       "      <td>Ultratech Cement ltd</td>\n",
       "      <td>Ultratech Cement ltd</td>\n",
       "      <td>http://www.ultratechcement.com/</td>\n",
       "      <td>WRI</td>\n",
       "      <td>NaN</td>\n",
       "      <td>NaN</td>\n",
       "      <td>NaN</td>\n",
       "      <td>NaN</td>\n",
       "      <td>NaN</td>\n",
       "      <td>NaN</td>\n",
       "      <td>NaN</td>\n",
       "      <td>NaN</td>\n",
       "      <td>NaN</td>\n",
       "    </tr>\n",
       "    <tr>\n",
       "      <th>2</th>\n",
       "      <td>IND</td>\n",
       "      <td>India</td>\n",
       "      <td>AES Saurashtra Windfarms</td>\n",
       "      <td>WRI1026669</td>\n",
       "      <td>39.2</td>\n",
       "      <td>21.9038</td>\n",
       "      <td>69.3732</td>\n",
       "      <td>Wind</td>\n",
       "      <td>NaN</td>\n",
       "      <td>NaN</td>\n",
       "      <td>NaN</td>\n",
       "      <td>NaN</td>\n",
       "      <td>AES</td>\n",
       "      <td>CDM</td>\n",
       "      <td>https://cdm.unfccc.int/Projects/DB/DNV-CUK1328...</td>\n",
       "      <td>WRI</td>\n",
       "      <td>NaN</td>\n",
       "      <td>NaN</td>\n",
       "      <td>NaN</td>\n",
       "      <td>NaN</td>\n",
       "      <td>NaN</td>\n",
       "      <td>NaN</td>\n",
       "      <td>NaN</td>\n",
       "      <td>NaN</td>\n",
       "      <td>NaN</td>\n",
       "    </tr>\n",
       "    <tr>\n",
       "      <th>3</th>\n",
       "      <td>IND</td>\n",
       "      <td>India</td>\n",
       "      <td>AGARTALA GT</td>\n",
       "      <td>IND0000001</td>\n",
       "      <td>135.0</td>\n",
       "      <td>23.8712</td>\n",
       "      <td>91.3602</td>\n",
       "      <td>Gas</td>\n",
       "      <td>NaN</td>\n",
       "      <td>NaN</td>\n",
       "      <td>NaN</td>\n",
       "      <td>2004.0</td>\n",
       "      <td>NaN</td>\n",
       "      <td>Central Electricity Authority</td>\n",
       "      <td>http://www.cea.nic.in/</td>\n",
       "      <td>WRI</td>\n",
       "      <td>NaN</td>\n",
       "      <td>2018.0</td>\n",
       "      <td>631.777928</td>\n",
       "      <td>617.789264</td>\n",
       "      <td>843.747</td>\n",
       "      <td>886.004428</td>\n",
       "      <td>663.774500</td>\n",
       "      <td>Central Electricity Authority</td>\n",
       "      <td>NaN</td>\n",
       "    </tr>\n",
       "    <tr>\n",
       "      <th>4</th>\n",
       "      <td>IND</td>\n",
       "      <td>India</td>\n",
       "      <td>AKALTARA TPP</td>\n",
       "      <td>IND0000002</td>\n",
       "      <td>1800.0</td>\n",
       "      <td>21.9603</td>\n",
       "      <td>82.4091</td>\n",
       "      <td>Coal</td>\n",
       "      <td>Oil</td>\n",
       "      <td>NaN</td>\n",
       "      <td>NaN</td>\n",
       "      <td>2015.0</td>\n",
       "      <td>NaN</td>\n",
       "      <td>Central Electricity Authority</td>\n",
       "      <td>http://www.cea.nic.in/</td>\n",
       "      <td>WRI</td>\n",
       "      <td>NaN</td>\n",
       "      <td>2018.0</td>\n",
       "      <td>1668.290000</td>\n",
       "      <td>3035.550000</td>\n",
       "      <td>5916.370</td>\n",
       "      <td>6243.000000</td>\n",
       "      <td>5385.579736</td>\n",
       "      <td>Central Electricity Authority</td>\n",
       "      <td>NaN</td>\n",
       "    </tr>\n",
       "  </tbody>\n",
       "</table>\n",
       "</div>"
      ],
      "text/plain": [
       "  country country_long                      name   gppd_idnr  capacity_mw  \\\n",
       "0     IND        India          ACME Solar Tower  WRI1020239          2.5   \n",
       "1     IND        India       ADITYA CEMENT WORKS  WRI1019881         98.0   \n",
       "2     IND        India  AES Saurashtra Windfarms  WRI1026669         39.2   \n",
       "3     IND        India               AGARTALA GT  IND0000001        135.0   \n",
       "4     IND        India              AKALTARA TPP  IND0000002       1800.0   \n",
       "\n",
       "   latitude  longitude primary_fuel other_fuel1 other_fuel2  other_fuel3  \\\n",
       "0   28.1839    73.2407        Solar         NaN         NaN          NaN   \n",
       "1   24.7663    74.6090         Coal         NaN         NaN          NaN   \n",
       "2   21.9038    69.3732         Wind         NaN         NaN          NaN   \n",
       "3   23.8712    91.3602          Gas         NaN         NaN          NaN   \n",
       "4   21.9603    82.4091         Coal         Oil         NaN          NaN   \n",
       "\n",
       "   commissioning_year                 owner  \\\n",
       "0              2011.0           Solar Paces   \n",
       "1                 NaN  Ultratech Cement ltd   \n",
       "2                 NaN                   AES   \n",
       "3              2004.0                   NaN   \n",
       "4              2015.0                   NaN   \n",
       "\n",
       "                                 source  \\\n",
       "0  National Renewable Energy Laboratory   \n",
       "1                  Ultratech Cement ltd   \n",
       "2                                   CDM   \n",
       "3         Central Electricity Authority   \n",
       "4         Central Electricity Authority   \n",
       "\n",
       "                                                 url  \\\n",
       "0  http://www.nrel.gov/csp/solarpaces/project_det...   \n",
       "1                    http://www.ultratechcement.com/   \n",
       "2  https://cdm.unfccc.int/Projects/DB/DNV-CUK1328...   \n",
       "3                             http://www.cea.nic.in/   \n",
       "4                             http://www.cea.nic.in/   \n",
       "\n",
       "                     geolocation_source  wepp_id  year_of_capacity_data  \\\n",
       "0  National Renewable Energy Laboratory      NaN                    NaN   \n",
       "1                                   WRI      NaN                    NaN   \n",
       "2                                   WRI      NaN                    NaN   \n",
       "3                                   WRI      NaN                 2018.0   \n",
       "4                                   WRI      NaN                 2018.0   \n",
       "\n",
       "   generation_gwh_2013  generation_gwh_2014  generation_gwh_2015  \\\n",
       "0                  NaN                  NaN                  NaN   \n",
       "1                  NaN                  NaN                  NaN   \n",
       "2                  NaN                  NaN                  NaN   \n",
       "3           631.777928           617.789264              843.747   \n",
       "4          1668.290000          3035.550000             5916.370   \n",
       "\n",
       "   generation_gwh_2016  generation_gwh_2017         generation_data_source  \\\n",
       "0                  NaN                  NaN                            NaN   \n",
       "1                  NaN                  NaN                            NaN   \n",
       "2                  NaN                  NaN                            NaN   \n",
       "3           886.004428           663.774500  Central Electricity Authority   \n",
       "4          6243.000000          5385.579736  Central Electricity Authority   \n",
       "\n",
       "   estimated_generation_gwh  \n",
       "0                       NaN  \n",
       "1                       NaN  \n",
       "2                       NaN  \n",
       "3                       NaN  \n",
       "4                       NaN  "
      ]
     },
     "execution_count": 578,
     "metadata": {},
     "output_type": "execute_result"
    }
   ],
   "source": [
    "df.head()"
   ]
  },
  {
   "cell_type": "markdown",
   "metadata": {},
   "source": [
    "###### Brief Information About Data"
   ]
  },
  {
   "cell_type": "code",
   "execution_count": 579,
   "metadata": {},
   "outputs": [
    {
     "name": "stdout",
     "output_type": "stream",
     "text": [
      "<class 'pandas.core.frame.DataFrame'>\n",
      "RangeIndex: 908 entries, 0 to 907\n",
      "Data columns (total 25 columns):\n",
      " #   Column                    Non-Null Count  Dtype  \n",
      "---  ------                    --------------  -----  \n",
      " 0   country                   908 non-null    object \n",
      " 1   country_long              908 non-null    object \n",
      " 2   name                      908 non-null    object \n",
      " 3   gppd_idnr                 908 non-null    object \n",
      " 4   capacity_mw               908 non-null    float64\n",
      " 5   latitude                  862 non-null    float64\n",
      " 6   longitude                 862 non-null    float64\n",
      " 7   primary_fuel              908 non-null    object \n",
      " 8   other_fuel1               199 non-null    object \n",
      " 9   other_fuel2               1 non-null      object \n",
      " 10  other_fuel3               0 non-null      float64\n",
      " 11  commissioning_year        528 non-null    float64\n",
      " 12  owner                     342 non-null    object \n",
      " 13  source                    908 non-null    object \n",
      " 14  url                       908 non-null    object \n",
      " 15  geolocation_source        889 non-null    object \n",
      " 16  wepp_id                   0 non-null      float64\n",
      " 17  year_of_capacity_data     520 non-null    float64\n",
      " 18  generation_gwh_2013       384 non-null    float64\n",
      " 19  generation_gwh_2014       401 non-null    float64\n",
      " 20  generation_gwh_2015       425 non-null    float64\n",
      " 21  generation_gwh_2016       437 non-null    float64\n",
      " 22  generation_gwh_2017       443 non-null    float64\n",
      " 23  generation_data_source    450 non-null    object \n",
      " 24  estimated_generation_gwh  0 non-null      float64\n",
      "dtypes: float64(13), object(12)\n",
      "memory usage: 177.5+ KB\n"
     ]
    }
   ],
   "source": [
    "df.info()"
   ]
  },
  {
   "cell_type": "markdown",
   "metadata": {},
   "source": [
    "*Observation :*<br>*Dataset have 13 float type columns and 12 object type columns*\n",
    "<br>*most of the columns not have non-null values count 908. it means there are missing values*"
   ]
  },
  {
   "cell_type": "markdown",
   "metadata": {},
   "source": [
    "###### Statistical Summary of data"
   ]
  },
  {
   "cell_type": "markdown",
   "metadata": {},
   "source": [
    "###### ---For numerical variable"
   ]
  },
  {
   "cell_type": "code",
   "execution_count": 580,
   "metadata": {},
   "outputs": [
    {
     "data": {
      "text/html": [
       "<div>\n",
       "<style scoped>\n",
       "    .dataframe tbody tr th:only-of-type {\n",
       "        vertical-align: middle;\n",
       "    }\n",
       "\n",
       "    .dataframe tbody tr th {\n",
       "        vertical-align: top;\n",
       "    }\n",
       "\n",
       "    .dataframe thead th {\n",
       "        text-align: right;\n",
       "    }\n",
       "</style>\n",
       "<table border=\"1\" class=\"dataframe\">\n",
       "  <thead>\n",
       "    <tr style=\"text-align: right;\">\n",
       "      <th></th>\n",
       "      <th>capacity_mw</th>\n",
       "      <th>latitude</th>\n",
       "      <th>longitude</th>\n",
       "      <th>other_fuel3</th>\n",
       "      <th>commissioning_year</th>\n",
       "      <th>wepp_id</th>\n",
       "      <th>year_of_capacity_data</th>\n",
       "      <th>generation_gwh_2013</th>\n",
       "      <th>generation_gwh_2014</th>\n",
       "      <th>generation_gwh_2015</th>\n",
       "      <th>generation_gwh_2016</th>\n",
       "      <th>generation_gwh_2017</th>\n",
       "      <th>estimated_generation_gwh</th>\n",
       "    </tr>\n",
       "  </thead>\n",
       "  <tbody>\n",
       "    <tr>\n",
       "      <th>count</th>\n",
       "      <td>908.000000</td>\n",
       "      <td>862.000000</td>\n",
       "      <td>862.000000</td>\n",
       "      <td>0.0</td>\n",
       "      <td>528.000000</td>\n",
       "      <td>0.0</td>\n",
       "      <td>520.0</td>\n",
       "      <td>384.000000</td>\n",
       "      <td>401.000000</td>\n",
       "      <td>425.000000</td>\n",
       "      <td>437.000000</td>\n",
       "      <td>443.000000</td>\n",
       "      <td>0.0</td>\n",
       "    </tr>\n",
       "    <tr>\n",
       "      <th>mean</th>\n",
       "      <td>321.046378</td>\n",
       "      <td>21.196189</td>\n",
       "      <td>77.447848</td>\n",
       "      <td>NaN</td>\n",
       "      <td>1996.876894</td>\n",
       "      <td>NaN</td>\n",
       "      <td>2018.0</td>\n",
       "      <td>2304.059202</td>\n",
       "      <td>2420.393316</td>\n",
       "      <td>2414.072373</td>\n",
       "      <td>2453.936292</td>\n",
       "      <td>2531.754458</td>\n",
       "      <td>NaN</td>\n",
       "    </tr>\n",
       "    <tr>\n",
       "      <th>std</th>\n",
       "      <td>580.221767</td>\n",
       "      <td>6.248627</td>\n",
       "      <td>4.907260</td>\n",
       "      <td>NaN</td>\n",
       "      <td>17.047817</td>\n",
       "      <td>NaN</td>\n",
       "      <td>0.0</td>\n",
       "      <td>3794.767492</td>\n",
       "      <td>4013.558173</td>\n",
       "      <td>4183.203199</td>\n",
       "      <td>4152.038216</td>\n",
       "      <td>4187.236364</td>\n",
       "      <td>NaN</td>\n",
       "    </tr>\n",
       "    <tr>\n",
       "      <th>min</th>\n",
       "      <td>0.000000</td>\n",
       "      <td>8.168900</td>\n",
       "      <td>68.644700</td>\n",
       "      <td>NaN</td>\n",
       "      <td>1927.000000</td>\n",
       "      <td>NaN</td>\n",
       "      <td>2018.0</td>\n",
       "      <td>0.000000</td>\n",
       "      <td>0.000000</td>\n",
       "      <td>0.000000</td>\n",
       "      <td>0.000000</td>\n",
       "      <td>0.000000</td>\n",
       "      <td>NaN</td>\n",
       "    </tr>\n",
       "    <tr>\n",
       "      <th>25%</th>\n",
       "      <td>16.837500</td>\n",
       "      <td>16.771575</td>\n",
       "      <td>74.258975</td>\n",
       "      <td>NaN</td>\n",
       "      <td>1988.000000</td>\n",
       "      <td>NaN</td>\n",
       "      <td>2018.0</td>\n",
       "      <td>244.458088</td>\n",
       "      <td>223.650436</td>\n",
       "      <td>174.174750</td>\n",
       "      <td>187.193669</td>\n",
       "      <td>177.643170</td>\n",
       "      <td>NaN</td>\n",
       "    </tr>\n",
       "    <tr>\n",
       "      <th>50%</th>\n",
       "      <td>60.000000</td>\n",
       "      <td>21.778300</td>\n",
       "      <td>76.719250</td>\n",
       "      <td>NaN</td>\n",
       "      <td>2000.000000</td>\n",
       "      <td>NaN</td>\n",
       "      <td>2018.0</td>\n",
       "      <td>797.063475</td>\n",
       "      <td>805.760000</td>\n",
       "      <td>701.027250</td>\n",
       "      <td>716.728350</td>\n",
       "      <td>807.601700</td>\n",
       "      <td>NaN</td>\n",
       "    </tr>\n",
       "    <tr>\n",
       "      <th>75%</th>\n",
       "      <td>388.125000</td>\n",
       "      <td>25.516375</td>\n",
       "      <td>79.441475</td>\n",
       "      <td>NaN</td>\n",
       "      <td>2011.250000</td>\n",
       "      <td>NaN</td>\n",
       "      <td>2018.0</td>\n",
       "      <td>2795.021500</td>\n",
       "      <td>3034.575000</td>\n",
       "      <td>3080.000000</td>\n",
       "      <td>3263.483000</td>\n",
       "      <td>3258.785000</td>\n",
       "      <td>NaN</td>\n",
       "    </tr>\n",
       "    <tr>\n",
       "      <th>max</th>\n",
       "      <td>4760.000000</td>\n",
       "      <td>34.649000</td>\n",
       "      <td>95.408000</td>\n",
       "      <td>NaN</td>\n",
       "      <td>2018.000000</td>\n",
       "      <td>NaN</td>\n",
       "      <td>2018.0</td>\n",
       "      <td>27586.200000</td>\n",
       "      <td>28127.000000</td>\n",
       "      <td>30539.000000</td>\n",
       "      <td>30015.000000</td>\n",
       "      <td>35116.000000</td>\n",
       "      <td>NaN</td>\n",
       "    </tr>\n",
       "  </tbody>\n",
       "</table>\n",
       "</div>"
      ],
      "text/plain": [
       "       capacity_mw    latitude   longitude  other_fuel3  commissioning_year  \\\n",
       "count   908.000000  862.000000  862.000000          0.0          528.000000   \n",
       "mean    321.046378   21.196189   77.447848          NaN         1996.876894   \n",
       "std     580.221767    6.248627    4.907260          NaN           17.047817   \n",
       "min       0.000000    8.168900   68.644700          NaN         1927.000000   \n",
       "25%      16.837500   16.771575   74.258975          NaN         1988.000000   \n",
       "50%      60.000000   21.778300   76.719250          NaN         2000.000000   \n",
       "75%     388.125000   25.516375   79.441475          NaN         2011.250000   \n",
       "max    4760.000000   34.649000   95.408000          NaN         2018.000000   \n",
       "\n",
       "       wepp_id  year_of_capacity_data  generation_gwh_2013  \\\n",
       "count      0.0                  520.0           384.000000   \n",
       "mean       NaN                 2018.0          2304.059202   \n",
       "std        NaN                    0.0          3794.767492   \n",
       "min        NaN                 2018.0             0.000000   \n",
       "25%        NaN                 2018.0           244.458088   \n",
       "50%        NaN                 2018.0           797.063475   \n",
       "75%        NaN                 2018.0          2795.021500   \n",
       "max        NaN                 2018.0         27586.200000   \n",
       "\n",
       "       generation_gwh_2014  generation_gwh_2015  generation_gwh_2016  \\\n",
       "count           401.000000           425.000000           437.000000   \n",
       "mean           2420.393316          2414.072373          2453.936292   \n",
       "std            4013.558173          4183.203199          4152.038216   \n",
       "min               0.000000             0.000000             0.000000   \n",
       "25%             223.650436           174.174750           187.193669   \n",
       "50%             805.760000           701.027250           716.728350   \n",
       "75%            3034.575000          3080.000000          3263.483000   \n",
       "max           28127.000000         30539.000000         30015.000000   \n",
       "\n",
       "       generation_gwh_2017  estimated_generation_gwh  \n",
       "count           443.000000                       0.0  \n",
       "mean           2531.754458                       NaN  \n",
       "std            4187.236364                       NaN  \n",
       "min               0.000000                       NaN  \n",
       "25%             177.643170                       NaN  \n",
       "50%             807.601700                       NaN  \n",
       "75%            3258.785000                       NaN  \n",
       "max           35116.000000                       NaN  "
      ]
     },
     "execution_count": 580,
     "metadata": {},
     "output_type": "execute_result"
    }
   ],
   "source": [
    "df.describe(exclude='object')"
   ]
  },
  {
   "cell_type": "markdown",
   "metadata": {},
   "source": [
    "###### ---For Categorical variable"
   ]
  },
  {
   "cell_type": "code",
   "execution_count": 581,
   "metadata": {},
   "outputs": [
    {
     "data": {
      "text/html": [
       "<div>\n",
       "<style scoped>\n",
       "    .dataframe tbody tr th:only-of-type {\n",
       "        vertical-align: middle;\n",
       "    }\n",
       "\n",
       "    .dataframe tbody tr th {\n",
       "        vertical-align: top;\n",
       "    }\n",
       "\n",
       "    .dataframe thead th {\n",
       "        text-align: right;\n",
       "    }\n",
       "</style>\n",
       "<table border=\"1\" class=\"dataframe\">\n",
       "  <thead>\n",
       "    <tr style=\"text-align: right;\">\n",
       "      <th></th>\n",
       "      <th>country</th>\n",
       "      <th>country_long</th>\n",
       "      <th>name</th>\n",
       "      <th>gppd_idnr</th>\n",
       "      <th>primary_fuel</th>\n",
       "      <th>other_fuel1</th>\n",
       "      <th>other_fuel2</th>\n",
       "      <th>owner</th>\n",
       "      <th>source</th>\n",
       "      <th>url</th>\n",
       "      <th>geolocation_source</th>\n",
       "      <th>generation_data_source</th>\n",
       "    </tr>\n",
       "  </thead>\n",
       "  <tbody>\n",
       "    <tr>\n",
       "      <th>count</th>\n",
       "      <td>908</td>\n",
       "      <td>908</td>\n",
       "      <td>908</td>\n",
       "      <td>908</td>\n",
       "      <td>908</td>\n",
       "      <td>199</td>\n",
       "      <td>1</td>\n",
       "      <td>342</td>\n",
       "      <td>908</td>\n",
       "      <td>908</td>\n",
       "      <td>889</td>\n",
       "      <td>450</td>\n",
       "    </tr>\n",
       "    <tr>\n",
       "      <th>unique</th>\n",
       "      <td>1</td>\n",
       "      <td>1</td>\n",
       "      <td>908</td>\n",
       "      <td>908</td>\n",
       "      <td>8</td>\n",
       "      <td>3</td>\n",
       "      <td>1</td>\n",
       "      <td>280</td>\n",
       "      <td>191</td>\n",
       "      <td>304</td>\n",
       "      <td>3</td>\n",
       "      <td>1</td>\n",
       "    </tr>\n",
       "    <tr>\n",
       "      <th>top</th>\n",
       "      <td>IND</td>\n",
       "      <td>India</td>\n",
       "      <td>UPPER SINDH I&amp; II</td>\n",
       "      <td>IND0000205</td>\n",
       "      <td>Coal</td>\n",
       "      <td>Oil</td>\n",
       "      <td>Oil</td>\n",
       "      <td>Sterling Agro Industries ltd.</td>\n",
       "      <td>Central Electricity Authority</td>\n",
       "      <td>http://www.cea.nic.in/</td>\n",
       "      <td>WRI</td>\n",
       "      <td>Central Electricity Authority</td>\n",
       "    </tr>\n",
       "    <tr>\n",
       "      <th>freq</th>\n",
       "      <td>908</td>\n",
       "      <td>908</td>\n",
       "      <td>1</td>\n",
       "      <td>1</td>\n",
       "      <td>259</td>\n",
       "      <td>196</td>\n",
       "      <td>1</td>\n",
       "      <td>4</td>\n",
       "      <td>520</td>\n",
       "      <td>520</td>\n",
       "      <td>766</td>\n",
       "      <td>450</td>\n",
       "    </tr>\n",
       "  </tbody>\n",
       "</table>\n",
       "</div>"
      ],
      "text/plain": [
       "       country country_long               name   gppd_idnr primary_fuel  \\\n",
       "count      908          908                908         908          908   \n",
       "unique       1            1                908         908            8   \n",
       "top        IND        India  UPPER SINDH I& II  IND0000205         Coal   \n",
       "freq       908          908                  1           1          259   \n",
       "\n",
       "       other_fuel1 other_fuel2                          owner  \\\n",
       "count          199           1                            342   \n",
       "unique           3           1                            280   \n",
       "top            Oil         Oil  Sterling Agro Industries ltd.   \n",
       "freq           196           1                              4   \n",
       "\n",
       "                               source                     url  \\\n",
       "count                             908                     908   \n",
       "unique                            191                     304   \n",
       "top     Central Electricity Authority  http://www.cea.nic.in/   \n",
       "freq                              520                     520   \n",
       "\n",
       "       geolocation_source         generation_data_source  \n",
       "count                 889                            450  \n",
       "unique                  3                              1  \n",
       "top                   WRI  Central Electricity Authority  \n",
       "freq                  766                            450  "
      ]
     },
     "execution_count": 581,
     "metadata": {},
     "output_type": "execute_result"
    }
   ],
   "source": [
    "df.describe(include=[object]) "
   ]
  },
  {
   "cell_type": "markdown",
   "metadata": {},
   "source": [
    "*Observation :*<br>*In statistical summary of dataset count is not 908 in most of the columns so there is missing values*\n",
    "<br>*Std is greater than mean in capacity_mw,generation_gwh_2013-2014-2015-2016-2017 colmns*\n",
    "<br>*min value is 0 and max value is very large*\n",
    "<br>*in year_of_capacity_data column std is 0*\n",
    "<br>*estimated_generation_gwh,wepp_id,other_fuel3 show all quartiles nan values*\n",
    "<br>*so there are outlier and abnormalities in dataset*"
   ]
  },
  {
   "cell_type": "markdown",
   "metadata": {},
   "source": [
    "###### Check for Unique value in Columns"
   ]
  },
  {
   "cell_type": "code",
   "execution_count": 582,
   "metadata": {},
   "outputs": [
    {
     "data": {
      "text/plain": [
       "country                       1\n",
       "country_long                  1\n",
       "name                        908\n",
       "gppd_idnr                   908\n",
       "capacity_mw                 365\n",
       "latitude                    837\n",
       "longitude                   828\n",
       "primary_fuel                  8\n",
       "other_fuel1                   3\n",
       "other_fuel2                   1\n",
       "other_fuel3                   0\n",
       "commissioning_year           73\n",
       "owner                       280\n",
       "source                      191\n",
       "url                         304\n",
       "geolocation_source            3\n",
       "wepp_id                       0\n",
       "year_of_capacity_data         1\n",
       "generation_gwh_2013         364\n",
       "generation_gwh_2014         374\n",
       "generation_gwh_2015         398\n",
       "generation_gwh_2016         405\n",
       "generation_gwh_2017         410\n",
       "generation_data_source        1\n",
       "estimated_generation_gwh      0\n",
       "dtype: int64"
      ]
     },
     "execution_count": 582,
     "metadata": {},
     "output_type": "execute_result"
    }
   ],
   "source": [
    "df.nunique()"
   ]
  },
  {
   "cell_type": "markdown",
   "metadata": {},
   "source": [
    "*Observation :*<br>*all columns have coutinuous data except columns country,country_long,primary_fuel,*\n",
    "<br>*other_fuel1,other_fuel2,geolocation_source,year_of_capacity_datageneration_data_source*\n",
    "<br>*estimated_generation_gwh,wepp_id,other_fuel3 have 0 unique values it means there are empty*"
   ]
  },
  {
   "cell_type": "markdown",
   "metadata": {},
   "source": [
    "###### Ckeck for MIssing Values in Columns"
   ]
  },
  {
   "cell_type": "code",
   "execution_count": 583,
   "metadata": {},
   "outputs": [
    {
     "data": {
      "text/plain": [
       "country                       0\n",
       "country_long                  0\n",
       "name                          0\n",
       "gppd_idnr                     0\n",
       "capacity_mw                   0\n",
       "latitude                     46\n",
       "longitude                    46\n",
       "primary_fuel                  0\n",
       "other_fuel1                 709\n",
       "other_fuel2                 907\n",
       "other_fuel3                 908\n",
       "commissioning_year          380\n",
       "owner                       566\n",
       "source                        0\n",
       "url                           0\n",
       "geolocation_source           19\n",
       "wepp_id                     908\n",
       "year_of_capacity_data       388\n",
       "generation_gwh_2013         524\n",
       "generation_gwh_2014         507\n",
       "generation_gwh_2015         483\n",
       "generation_gwh_2016         471\n",
       "generation_gwh_2017         465\n",
       "generation_data_source      458\n",
       "estimated_generation_gwh    908\n",
       "dtype: int64"
      ]
     },
     "execution_count": 583,
     "metadata": {},
     "output_type": "execute_result"
    }
   ],
   "source": [
    "df.isnull().sum()"
   ]
  },
  {
   "cell_type": "code",
   "execution_count": 584,
   "metadata": {},
   "outputs": [
    {
     "name": "stdout",
     "output_type": "stream",
     "text": [
      "Total missing values : 8693\n"
     ]
    }
   ],
   "source": [
    "print(\"Total missing values :\",df.isnull().sum().sum())"
   ]
  },
  {
   "cell_type": "markdown",
   "metadata": {},
   "source": [
    "###### Total % missing values in Columns"
   ]
  },
  {
   "cell_type": "code",
   "execution_count": 585,
   "metadata": {},
   "outputs": [
    {
     "name": "stdout",
     "output_type": "stream",
     "text": [
      "Total % of MIssing Values in Columns :\n"
     ]
    },
    {
     "data": {
      "text/plain": [
       "country                       0.000000\n",
       "country_long                  0.000000\n",
       "name                          0.000000\n",
       "gppd_idnr                     0.000000\n",
       "capacity_mw                   0.000000\n",
       "latitude                      5.066079\n",
       "longitude                     5.066079\n",
       "primary_fuel                  0.000000\n",
       "other_fuel1                  78.083700\n",
       "other_fuel2                  99.889868\n",
       "other_fuel3                 100.000000\n",
       "commissioning_year           41.850220\n",
       "owner                        62.334802\n",
       "source                        0.000000\n",
       "url                           0.000000\n",
       "geolocation_source            2.092511\n",
       "wepp_id                     100.000000\n",
       "year_of_capacity_data        42.731278\n",
       "generation_gwh_2013          57.709251\n",
       "generation_gwh_2014          55.837004\n",
       "generation_gwh_2015          53.193833\n",
       "generation_gwh_2016          51.872247\n",
       "generation_gwh_2017          51.211454\n",
       "generation_data_source       50.440529\n",
       "estimated_generation_gwh    100.000000\n",
       "dtype: float64"
      ]
     },
     "execution_count": 585,
     "metadata": {},
     "output_type": "execute_result"
    }
   ],
   "source": [
    "print(\"Total % of MIssing Values in Columns :\")\n",
    "df.isnull().sum()/df.shape[0]*100 "
   ]
  },
  {
   "cell_type": "markdown",
   "metadata": {},
   "source": [
    "*Observation :*<br>*other_fuel1,commissioning_year,owner,year_of_capacity_data,generation_data_source,* \n",
    "<br>*generation_gwh_2013-2014-2015-2016-2017 columns have lost of missing values approx 50% or more missing values* <br>*wepp_id,estimated_generation_gwh,other_fuel3 100% missing values and other_fuel2 99% missing values*\n",
    "<br>*latitude,longitude,geolocation_source columns have very few missing values*  "
   ]
  },
  {
   "cell_type": "markdown",
   "metadata": {},
   "source": [
    "###### Duplicate Rows in Dataset"
   ]
  },
  {
   "cell_type": "code",
   "execution_count": 586,
   "metadata": {},
   "outputs": [
    {
     "data": {
      "text/plain": [
       "0"
      ]
     },
     "execution_count": 586,
     "metadata": {},
     "output_type": "execute_result"
    }
   ],
   "source": [
    "sum(df.duplicated())"
   ]
  },
  {
   "cell_type": "markdown",
   "metadata": {},
   "source": [
    "*Observation :*<br>*No Duplicate rows*"
   ]
  },
  {
   "cell_type": "markdown",
   "metadata": {},
   "source": [
    "###### Zeros as value in columns"
   ]
  },
  {
   "cell_type": "code",
   "execution_count": 587,
   "metadata": {},
   "outputs": [
    {
     "name": "stdout",
     "output_type": "stream",
     "text": [
      "country                      0\n",
      "country_long                 0\n",
      "name                         0\n",
      "gppd_idnr                    0\n",
      "capacity_mw                  1\n",
      "latitude                     0\n",
      "longitude                    0\n",
      "primary_fuel                 0\n",
      "other_fuel1                  0\n",
      "other_fuel2                  0\n",
      "other_fuel3                  0\n",
      "commissioning_year           0\n",
      "owner                        0\n",
      "source                       0\n",
      "url                          0\n",
      "geolocation_source           0\n",
      "wepp_id                      0\n",
      "year_of_capacity_data        0\n",
      "generation_gwh_2013         21\n",
      "generation_gwh_2014         28\n",
      "generation_gwh_2015         28\n",
      "generation_gwh_2016         31\n",
      "generation_gwh_2017         33\n",
      "generation_data_source       0\n",
      "estimated_generation_gwh     0\n",
      "dtype: int64\n",
      "Total zeros in Dataset: 142\n"
     ]
    }
   ],
   "source": [
    "print(df[df==0].count())\n",
    "print('Total zeros in Dataset:', df[df==0].count().sum())"
   ]
  },
  {
   "cell_type": "markdown",
   "metadata": {},
   "source": [
    "###### Total % of Zeros as value in Columns"
   ]
  },
  {
   "cell_type": "code",
   "execution_count": 588,
   "metadata": {},
   "outputs": [
    {
     "name": "stdout",
     "output_type": "stream",
     "text": [
      "Total % of Zeros as Value in Columns\n"
     ]
    },
    {
     "data": {
      "text/plain": [
       "country                     0.000000\n",
       "country_long                0.000000\n",
       "name                        0.000000\n",
       "gppd_idnr                   0.000000\n",
       "capacity_mw                 0.110132\n",
       "latitude                    0.000000\n",
       "longitude                   0.000000\n",
       "primary_fuel                0.000000\n",
       "other_fuel1                 0.000000\n",
       "other_fuel2                 0.000000\n",
       "other_fuel3                 0.000000\n",
       "commissioning_year          0.000000\n",
       "owner                       0.000000\n",
       "source                      0.000000\n",
       "url                         0.000000\n",
       "geolocation_source          0.000000\n",
       "wepp_id                     0.000000\n",
       "year_of_capacity_data       0.000000\n",
       "generation_gwh_2013         2.312775\n",
       "generation_gwh_2014         3.083700\n",
       "generation_gwh_2015         3.083700\n",
       "generation_gwh_2016         3.414097\n",
       "generation_gwh_2017         3.634361\n",
       "generation_data_source      0.000000\n",
       "estimated_generation_gwh    0.000000\n",
       "dtype: float64"
      ]
     },
     "execution_count": 588,
     "metadata": {},
     "output_type": "execute_result"
    }
   ],
   "source": [
    "print(\"Total % of Zeros as Value in Columns\")\n",
    "df[df==0].count()/df.shape[0]*100   "
   ]
  },
  {
   "cell_type": "markdown",
   "metadata": {},
   "source": [
    "*Observation :*<br>*generation_gwh_2013,-2014 -2015 2016 -2017 columns have 0 value data but it less than 4%*"
   ]
  },
  {
   "cell_type": "markdown",
   "metadata": {},
   "source": [
    "###### Identification of Variables"
   ]
  },
  {
   "cell_type": "markdown",
   "metadata": {},
   "source": [
    "###### Check for Numerical Variable"
   ]
  },
  {
   "cell_type": "code",
   "execution_count": 589,
   "metadata": {},
   "outputs": [
    {
     "name": "stdout",
     "output_type": "stream",
     "text": [
      "Number of numerical variables:  13\n"
     ]
    }
   ],
   "source": [
    "numerical_features = [feature for feature in df.columns if df[feature].dtypes != 'O']\n",
    "print('Number of numerical variables: ', len(numerical_features))"
   ]
  },
  {
   "cell_type": "code",
   "execution_count": 590,
   "metadata": {},
   "outputs": [
    {
     "name": "stdout",
     "output_type": "stream",
     "text": [
      "The feature is capacity_mw and number of numerical are 365\n",
      "The feature is latitude and number of numerical are 838\n",
      "The feature is longitude and number of numerical are 829\n",
      "The feature is other_fuel3 and number of numerical are 1\n",
      "The feature is commissioning_year and number of numerical are 74\n",
      "The feature is wepp_id and number of numerical are 1\n",
      "The feature is year_of_capacity_data and number of numerical are 2\n",
      "The feature is generation_gwh_2013 and number of numerical are 365\n",
      "The feature is generation_gwh_2014 and number of numerical are 375\n",
      "The feature is generation_gwh_2015 and number of numerical are 399\n",
      "The feature is generation_gwh_2016 and number of numerical are 406\n",
      "The feature is generation_gwh_2017 and number of numerical are 411\n",
      "The feature is estimated_generation_gwh and number of numerical are 1\n"
     ]
    }
   ],
   "source": [
    "for feature in numerical_features:\n",
    "    print('The feature is {} and number of numerical are {}'.format(feature,len(df[feature].unique())))"
   ]
  },
  {
   "cell_type": "code",
   "execution_count": 591,
   "metadata": {},
   "outputs": [
    {
     "data": {
      "text/html": [
       "<div>\n",
       "<style scoped>\n",
       "    .dataframe tbody tr th:only-of-type {\n",
       "        vertical-align: middle;\n",
       "    }\n",
       "\n",
       "    .dataframe tbody tr th {\n",
       "        vertical-align: top;\n",
       "    }\n",
       "\n",
       "    .dataframe thead th {\n",
       "        text-align: right;\n",
       "    }\n",
       "</style>\n",
       "<table border=\"1\" class=\"dataframe\">\n",
       "  <thead>\n",
       "    <tr style=\"text-align: right;\">\n",
       "      <th></th>\n",
       "      <th>capacity_mw</th>\n",
       "      <th>latitude</th>\n",
       "      <th>longitude</th>\n",
       "      <th>other_fuel3</th>\n",
       "      <th>commissioning_year</th>\n",
       "      <th>wepp_id</th>\n",
       "      <th>year_of_capacity_data</th>\n",
       "      <th>generation_gwh_2013</th>\n",
       "      <th>generation_gwh_2014</th>\n",
       "      <th>generation_gwh_2015</th>\n",
       "      <th>generation_gwh_2016</th>\n",
       "      <th>generation_gwh_2017</th>\n",
       "      <th>estimated_generation_gwh</th>\n",
       "    </tr>\n",
       "  </thead>\n",
       "  <tbody>\n",
       "    <tr>\n",
       "      <th>0</th>\n",
       "      <td>2.5</td>\n",
       "      <td>28.1839</td>\n",
       "      <td>73.2407</td>\n",
       "      <td>NaN</td>\n",
       "      <td>2011.0</td>\n",
       "      <td>NaN</td>\n",
       "      <td>NaN</td>\n",
       "      <td>NaN</td>\n",
       "      <td>NaN</td>\n",
       "      <td>NaN</td>\n",
       "      <td>NaN</td>\n",
       "      <td>NaN</td>\n",
       "      <td>NaN</td>\n",
       "    </tr>\n",
       "    <tr>\n",
       "      <th>1</th>\n",
       "      <td>98.0</td>\n",
       "      <td>24.7663</td>\n",
       "      <td>74.6090</td>\n",
       "      <td>NaN</td>\n",
       "      <td>NaN</td>\n",
       "      <td>NaN</td>\n",
       "      <td>NaN</td>\n",
       "      <td>NaN</td>\n",
       "      <td>NaN</td>\n",
       "      <td>NaN</td>\n",
       "      <td>NaN</td>\n",
       "      <td>NaN</td>\n",
       "      <td>NaN</td>\n",
       "    </tr>\n",
       "    <tr>\n",
       "      <th>2</th>\n",
       "      <td>39.2</td>\n",
       "      <td>21.9038</td>\n",
       "      <td>69.3732</td>\n",
       "      <td>NaN</td>\n",
       "      <td>NaN</td>\n",
       "      <td>NaN</td>\n",
       "      <td>NaN</td>\n",
       "      <td>NaN</td>\n",
       "      <td>NaN</td>\n",
       "      <td>NaN</td>\n",
       "      <td>NaN</td>\n",
       "      <td>NaN</td>\n",
       "      <td>NaN</td>\n",
       "    </tr>\n",
       "    <tr>\n",
       "      <th>3</th>\n",
       "      <td>135.0</td>\n",
       "      <td>23.8712</td>\n",
       "      <td>91.3602</td>\n",
       "      <td>NaN</td>\n",
       "      <td>2004.0</td>\n",
       "      <td>NaN</td>\n",
       "      <td>2018.0</td>\n",
       "      <td>631.777928</td>\n",
       "      <td>617.789264</td>\n",
       "      <td>843.747</td>\n",
       "      <td>886.004428</td>\n",
       "      <td>663.774500</td>\n",
       "      <td>NaN</td>\n",
       "    </tr>\n",
       "    <tr>\n",
       "      <th>4</th>\n",
       "      <td>1800.0</td>\n",
       "      <td>21.9603</td>\n",
       "      <td>82.4091</td>\n",
       "      <td>NaN</td>\n",
       "      <td>2015.0</td>\n",
       "      <td>NaN</td>\n",
       "      <td>2018.0</td>\n",
       "      <td>1668.290000</td>\n",
       "      <td>3035.550000</td>\n",
       "      <td>5916.370</td>\n",
       "      <td>6243.000000</td>\n",
       "      <td>5385.579736</td>\n",
       "      <td>NaN</td>\n",
       "    </tr>\n",
       "  </tbody>\n",
       "</table>\n",
       "</div>"
      ],
      "text/plain": [
       "   capacity_mw  latitude  longitude  other_fuel3  commissioning_year  wepp_id  \\\n",
       "0          2.5   28.1839    73.2407          NaN              2011.0      NaN   \n",
       "1         98.0   24.7663    74.6090          NaN                 NaN      NaN   \n",
       "2         39.2   21.9038    69.3732          NaN                 NaN      NaN   \n",
       "3        135.0   23.8712    91.3602          NaN              2004.0      NaN   \n",
       "4       1800.0   21.9603    82.4091          NaN              2015.0      NaN   \n",
       "\n",
       "   year_of_capacity_data  generation_gwh_2013  generation_gwh_2014  \\\n",
       "0                    NaN                  NaN                  NaN   \n",
       "1                    NaN                  NaN                  NaN   \n",
       "2                    NaN                  NaN                  NaN   \n",
       "3                 2018.0           631.777928           617.789264   \n",
       "4                 2018.0          1668.290000          3035.550000   \n",
       "\n",
       "   generation_gwh_2015  generation_gwh_2016  generation_gwh_2017  \\\n",
       "0                  NaN                  NaN                  NaN   \n",
       "1                  NaN                  NaN                  NaN   \n",
       "2                  NaN                  NaN                  NaN   \n",
       "3              843.747           886.004428           663.774500   \n",
       "4             5916.370          6243.000000          5385.579736   \n",
       "\n",
       "   estimated_generation_gwh  \n",
       "0                       NaN  \n",
       "1                       NaN  \n",
       "2                       NaN  \n",
       "3                       NaN  \n",
       "4                       NaN  "
      ]
     },
     "execution_count": 591,
     "metadata": {},
     "output_type": "execute_result"
    }
   ],
   "source": [
    "df[numerical_features].head()"
   ]
  },
  {
   "cell_type": "markdown",
   "metadata": {},
   "source": [
    "###### ---Check for Date type variable"
   ]
  },
  {
   "cell_type": "code",
   "execution_count": 592,
   "metadata": {},
   "outputs": [
    {
     "name": "stdout",
     "output_type": "stream",
     "text": [
      "Year Variables Count: 2 \n",
      "\n",
      "['commissioning_year', 'year_of_capacity_data'] \n",
      "\n",
      "The feature is commissioning_year and number of numerical are 74\n",
      "The feature is year_of_capacity_data and number of numerical are 2\n",
      "\n",
      " commissioning_year  :  [2011.   nan 2004. 2015. 2005. 1970. 2010. 2008. 2014. 1985. 1986. 1987.\n",
      " 2000. 1989. 2017. 1998. 1977. 1980. 2003. 1984. 1973. 1996. 1991. 2002.\n",
      " 2001. 2006. 2007. 1988. 2012. 1968. 1964. 2016. 2013. 1962. 1993. 1997.\n",
      " 1999. 1994. 1975. 1992. 1972. 1979. 1967. 1995. 1983. 1981. 1959. 1961.\n",
      " 1957. 1978. 1976. 1963. 1971. 1955. 2018. 2009. 1966. 1965. 1960. 1949.\n",
      " 1952. 1990. 1982. 1937. 1956. 1946. 1958. 1943. 1954. 1969. 1939. 1927.\n",
      " 1974. 1953.]\n",
      "\n",
      " year_of_capacity_data  :  [  nan 2018.]\n"
     ]
    }
   ],
   "source": [
    "year_feature = [feature for feature in numerical_features if 'year' in feature]\n",
    "print(\"Year Variables Count: {}\".format(len(year_feature)),\"\\n\")\n",
    "print(year_feature,\"\\n\")\n",
    "\n",
    "\n",
    "for feature in year_feature:\n",
    "    print('The feature is {} and number of numerical are {}'.format(feature,len(df[feature].unique())))\n",
    "\n",
    "for feature in year_feature:\n",
    "    print(\"\\n\",feature,\" : \", df[feature].unique())"
   ]
  },
  {
   "cell_type": "code",
   "execution_count": 593,
   "metadata": {},
   "outputs": [
    {
     "data": {
      "text/html": [
       "<div>\n",
       "<style scoped>\n",
       "    .dataframe tbody tr th:only-of-type {\n",
       "        vertical-align: middle;\n",
       "    }\n",
       "\n",
       "    .dataframe tbody tr th {\n",
       "        vertical-align: top;\n",
       "    }\n",
       "\n",
       "    .dataframe thead th {\n",
       "        text-align: right;\n",
       "    }\n",
       "</style>\n",
       "<table border=\"1\" class=\"dataframe\">\n",
       "  <thead>\n",
       "    <tr style=\"text-align: right;\">\n",
       "      <th></th>\n",
       "      <th>commissioning_year</th>\n",
       "      <th>year_of_capacity_data</th>\n",
       "    </tr>\n",
       "  </thead>\n",
       "  <tbody>\n",
       "    <tr>\n",
       "      <th>0</th>\n",
       "      <td>2011.0</td>\n",
       "      <td>NaN</td>\n",
       "    </tr>\n",
       "    <tr>\n",
       "      <th>1</th>\n",
       "      <td>NaN</td>\n",
       "      <td>NaN</td>\n",
       "    </tr>\n",
       "    <tr>\n",
       "      <th>2</th>\n",
       "      <td>NaN</td>\n",
       "      <td>NaN</td>\n",
       "    </tr>\n",
       "    <tr>\n",
       "      <th>3</th>\n",
       "      <td>2004.0</td>\n",
       "      <td>2018.0</td>\n",
       "    </tr>\n",
       "    <tr>\n",
       "      <th>4</th>\n",
       "      <td>2015.0</td>\n",
       "      <td>2018.0</td>\n",
       "    </tr>\n",
       "  </tbody>\n",
       "</table>\n",
       "</div>"
      ],
      "text/plain": [
       "   commissioning_year  year_of_capacity_data\n",
       "0              2011.0                    NaN\n",
       "1                 NaN                    NaN\n",
       "2                 NaN                    NaN\n",
       "3              2004.0                 2018.0\n",
       "4              2015.0                 2018.0"
      ]
     },
     "execution_count": 593,
     "metadata": {},
     "output_type": "execute_result"
    }
   ],
   "source": [
    "df[year_feature].head()\n"
   ]
  },
  {
   "cell_type": "markdown",
   "metadata": {},
   "source": [
    "###### ---Check for Descrete type variable"
   ]
  },
  {
   "cell_type": "code",
   "execution_count": 594,
   "metadata": {},
   "outputs": [
    {
     "name": "stdout",
     "output_type": "stream",
     "text": [
      "Descrete Variables Count: 3 \n",
      "\n",
      "The feature is other_fuel3 and number of numerical are 1\n",
      "The feature is wepp_id and number of numerical are 1\n",
      "The feature is estimated_generation_gwh and number of numerical are 1\n",
      "\n",
      " other_fuel3  :  [nan]\n",
      "\n",
      " wepp_id  :  [nan]\n",
      "\n",
      " estimated_generation_gwh  :  [nan]\n"
     ]
    }
   ],
   "source": [
    "descrete_feature=[feature for feature in numerical_features if len(df[feature].unique())<25 and feature not in year_feature]\n",
    "print(\"Descrete Variables Count: {}\".format(len(descrete_feature)),\"\\n\")\n",
    "\n",
    "for feature in descrete_feature:\n",
    "    print('The feature is {} and number of numerical are {}'.format(feature,len(df[feature].unique())))\n",
    "    \n",
    "    \n",
    "for feature in descrete_feature:\n",
    "    print(\"\\n\",feature,\" : \", df[feature].unique())"
   ]
  },
  {
   "cell_type": "code",
   "execution_count": 595,
   "metadata": {},
   "outputs": [
    {
     "data": {
      "text/html": [
       "<div>\n",
       "<style scoped>\n",
       "    .dataframe tbody tr th:only-of-type {\n",
       "        vertical-align: middle;\n",
       "    }\n",
       "\n",
       "    .dataframe tbody tr th {\n",
       "        vertical-align: top;\n",
       "    }\n",
       "\n",
       "    .dataframe thead th {\n",
       "        text-align: right;\n",
       "    }\n",
       "</style>\n",
       "<table border=\"1\" class=\"dataframe\">\n",
       "  <thead>\n",
       "    <tr style=\"text-align: right;\">\n",
       "      <th></th>\n",
       "      <th>other_fuel3</th>\n",
       "      <th>wepp_id</th>\n",
       "      <th>estimated_generation_gwh</th>\n",
       "    </tr>\n",
       "  </thead>\n",
       "  <tbody>\n",
       "    <tr>\n",
       "      <th>0</th>\n",
       "      <td>NaN</td>\n",
       "      <td>NaN</td>\n",
       "      <td>NaN</td>\n",
       "    </tr>\n",
       "    <tr>\n",
       "      <th>1</th>\n",
       "      <td>NaN</td>\n",
       "      <td>NaN</td>\n",
       "      <td>NaN</td>\n",
       "    </tr>\n",
       "    <tr>\n",
       "      <th>2</th>\n",
       "      <td>NaN</td>\n",
       "      <td>NaN</td>\n",
       "      <td>NaN</td>\n",
       "    </tr>\n",
       "    <tr>\n",
       "      <th>3</th>\n",
       "      <td>NaN</td>\n",
       "      <td>NaN</td>\n",
       "      <td>NaN</td>\n",
       "    </tr>\n",
       "    <tr>\n",
       "      <th>4</th>\n",
       "      <td>NaN</td>\n",
       "      <td>NaN</td>\n",
       "      <td>NaN</td>\n",
       "    </tr>\n",
       "  </tbody>\n",
       "</table>\n",
       "</div>"
      ],
      "text/plain": [
       "   other_fuel3  wepp_id  estimated_generation_gwh\n",
       "0          NaN      NaN                       NaN\n",
       "1          NaN      NaN                       NaN\n",
       "2          NaN      NaN                       NaN\n",
       "3          NaN      NaN                       NaN\n",
       "4          NaN      NaN                       NaN"
      ]
     },
     "execution_count": 595,
     "metadata": {},
     "output_type": "execute_result"
    }
   ],
   "source": [
    "df[descrete_feature].head()\n"
   ]
  },
  {
   "cell_type": "markdown",
   "metadata": {},
   "source": [
    "###### ---Check for Continuous type variable"
   ]
  },
  {
   "cell_type": "code",
   "execution_count": 596,
   "metadata": {},
   "outputs": [
    {
     "name": "stdout",
     "output_type": "stream",
     "text": [
      "Continuous Variables Count 8 \n",
      "\n",
      "The feature is:  capacity_mw     and number of numerical are:  365\n",
      "The feature is:  latitude     and number of numerical are:  838\n",
      "The feature is:  longitude     and number of numerical are:  829\n",
      "The feature is:  generation_gwh_2013     and number of numerical are:  365\n",
      "The feature is:  generation_gwh_2014     and number of numerical are:  375\n",
      "The feature is:  generation_gwh_2015     and number of numerical are:  399\n",
      "The feature is:  generation_gwh_2016     and number of numerical are:  406\n",
      "The feature is:  generation_gwh_2017     and number of numerical are:  411\n"
     ]
    }
   ],
   "source": [
    "continuous_feature=[feature for feature in numerical_features if feature not in descrete_feature + year_feature]\n",
    "print(\"Continuous Variables Count {}\".format(len(continuous_feature)),\"\\n\")\n",
    "\n",
    "for feature in continuous_feature:\n",
    "    print('The feature is:  {}     and number of numerical are:  {}'.format(feature,len(df[feature].unique())))"
   ]
  },
  {
   "cell_type": "code",
   "execution_count": 597,
   "metadata": {},
   "outputs": [
    {
     "data": {
      "text/html": [
       "<div>\n",
       "<style scoped>\n",
       "    .dataframe tbody tr th:only-of-type {\n",
       "        vertical-align: middle;\n",
       "    }\n",
       "\n",
       "    .dataframe tbody tr th {\n",
       "        vertical-align: top;\n",
       "    }\n",
       "\n",
       "    .dataframe thead th {\n",
       "        text-align: right;\n",
       "    }\n",
       "</style>\n",
       "<table border=\"1\" class=\"dataframe\">\n",
       "  <thead>\n",
       "    <tr style=\"text-align: right;\">\n",
       "      <th></th>\n",
       "      <th>capacity_mw</th>\n",
       "      <th>latitude</th>\n",
       "      <th>longitude</th>\n",
       "      <th>generation_gwh_2013</th>\n",
       "      <th>generation_gwh_2014</th>\n",
       "      <th>generation_gwh_2015</th>\n",
       "      <th>generation_gwh_2016</th>\n",
       "      <th>generation_gwh_2017</th>\n",
       "    </tr>\n",
       "  </thead>\n",
       "  <tbody>\n",
       "    <tr>\n",
       "      <th>0</th>\n",
       "      <td>2.5</td>\n",
       "      <td>28.1839</td>\n",
       "      <td>73.2407</td>\n",
       "      <td>NaN</td>\n",
       "      <td>NaN</td>\n",
       "      <td>NaN</td>\n",
       "      <td>NaN</td>\n",
       "      <td>NaN</td>\n",
       "    </tr>\n",
       "    <tr>\n",
       "      <th>1</th>\n",
       "      <td>98.0</td>\n",
       "      <td>24.7663</td>\n",
       "      <td>74.6090</td>\n",
       "      <td>NaN</td>\n",
       "      <td>NaN</td>\n",
       "      <td>NaN</td>\n",
       "      <td>NaN</td>\n",
       "      <td>NaN</td>\n",
       "    </tr>\n",
       "    <tr>\n",
       "      <th>2</th>\n",
       "      <td>39.2</td>\n",
       "      <td>21.9038</td>\n",
       "      <td>69.3732</td>\n",
       "      <td>NaN</td>\n",
       "      <td>NaN</td>\n",
       "      <td>NaN</td>\n",
       "      <td>NaN</td>\n",
       "      <td>NaN</td>\n",
       "    </tr>\n",
       "    <tr>\n",
       "      <th>3</th>\n",
       "      <td>135.0</td>\n",
       "      <td>23.8712</td>\n",
       "      <td>91.3602</td>\n",
       "      <td>631.777928</td>\n",
       "      <td>617.789264</td>\n",
       "      <td>843.747</td>\n",
       "      <td>886.004428</td>\n",
       "      <td>663.774500</td>\n",
       "    </tr>\n",
       "    <tr>\n",
       "      <th>4</th>\n",
       "      <td>1800.0</td>\n",
       "      <td>21.9603</td>\n",
       "      <td>82.4091</td>\n",
       "      <td>1668.290000</td>\n",
       "      <td>3035.550000</td>\n",
       "      <td>5916.370</td>\n",
       "      <td>6243.000000</td>\n",
       "      <td>5385.579736</td>\n",
       "    </tr>\n",
       "  </tbody>\n",
       "</table>\n",
       "</div>"
      ],
      "text/plain": [
       "   capacity_mw  latitude  longitude  generation_gwh_2013  generation_gwh_2014  \\\n",
       "0          2.5   28.1839    73.2407                  NaN                  NaN   \n",
       "1         98.0   24.7663    74.6090                  NaN                  NaN   \n",
       "2         39.2   21.9038    69.3732                  NaN                  NaN   \n",
       "3        135.0   23.8712    91.3602           631.777928           617.789264   \n",
       "4       1800.0   21.9603    82.4091          1668.290000          3035.550000   \n",
       "\n",
       "   generation_gwh_2015  generation_gwh_2016  generation_gwh_2017  \n",
       "0                  NaN                  NaN                  NaN  \n",
       "1                  NaN                  NaN                  NaN  \n",
       "2                  NaN                  NaN                  NaN  \n",
       "3              843.747           886.004428           663.774500  \n",
       "4             5916.370          6243.000000          5385.579736  "
      ]
     },
     "execution_count": 597,
     "metadata": {},
     "output_type": "execute_result"
    }
   ],
   "source": [
    "df[continuous_feature].head()\n"
   ]
  },
  {
   "cell_type": "markdown",
   "metadata": {},
   "source": [
    "###### Check for Categorical Variable"
   ]
  },
  {
   "cell_type": "code",
   "execution_count": 598,
   "metadata": {},
   "outputs": [
    {
     "name": "stdout",
     "output_type": "stream",
     "text": [
      "Number of Categorical variables:  12\n"
     ]
    }
   ],
   "source": [
    "categorical_features=[feature for feature in df.columns if df[feature].dtypes=='O']\n",
    "print('Number of Categorical variables: ', len(categorical_features))"
   ]
  },
  {
   "cell_type": "code",
   "execution_count": 599,
   "metadata": {},
   "outputs": [
    {
     "name": "stdout",
     "output_type": "stream",
     "text": [
      "The feature is country and number of categories are 1\n",
      "The feature is country_long and number of categories are 1\n",
      "The feature is name and number of categories are 908\n",
      "The feature is gppd_idnr and number of categories are 908\n",
      "The feature is primary_fuel and number of categories are 8\n",
      "The feature is other_fuel1 and number of categories are 4\n",
      "The feature is other_fuel2 and number of categories are 2\n",
      "The feature is owner and number of categories are 281\n",
      "The feature is source and number of categories are 191\n",
      "The feature is url and number of categories are 304\n",
      "The feature is geolocation_source and number of categories are 4\n",
      "The feature is generation_data_source and number of categories are 2\n"
     ]
    }
   ],
   "source": [
    "for feature in categorical_features:\n",
    "    print('The feature is {} and number of categories are {}'.format(feature,len(df[feature].unique())))"
   ]
  },
  {
   "cell_type": "code",
   "execution_count": 600,
   "metadata": {},
   "outputs": [
    {
     "data": {
      "text/html": [
       "<div>\n",
       "<style scoped>\n",
       "    .dataframe tbody tr th:only-of-type {\n",
       "        vertical-align: middle;\n",
       "    }\n",
       "\n",
       "    .dataframe tbody tr th {\n",
       "        vertical-align: top;\n",
       "    }\n",
       "\n",
       "    .dataframe thead th {\n",
       "        text-align: right;\n",
       "    }\n",
       "</style>\n",
       "<table border=\"1\" class=\"dataframe\">\n",
       "  <thead>\n",
       "    <tr style=\"text-align: right;\">\n",
       "      <th></th>\n",
       "      <th>country</th>\n",
       "      <th>country_long</th>\n",
       "      <th>name</th>\n",
       "      <th>gppd_idnr</th>\n",
       "      <th>primary_fuel</th>\n",
       "      <th>other_fuel1</th>\n",
       "      <th>other_fuel2</th>\n",
       "      <th>owner</th>\n",
       "      <th>source</th>\n",
       "      <th>url</th>\n",
       "      <th>geolocation_source</th>\n",
       "      <th>generation_data_source</th>\n",
       "    </tr>\n",
       "  </thead>\n",
       "  <tbody>\n",
       "    <tr>\n",
       "      <th>0</th>\n",
       "      <td>IND</td>\n",
       "      <td>India</td>\n",
       "      <td>ACME Solar Tower</td>\n",
       "      <td>WRI1020239</td>\n",
       "      <td>Solar</td>\n",
       "      <td>NaN</td>\n",
       "      <td>NaN</td>\n",
       "      <td>Solar Paces</td>\n",
       "      <td>National Renewable Energy Laboratory</td>\n",
       "      <td>http://www.nrel.gov/csp/solarpaces/project_det...</td>\n",
       "      <td>National Renewable Energy Laboratory</td>\n",
       "      <td>NaN</td>\n",
       "    </tr>\n",
       "    <tr>\n",
       "      <th>1</th>\n",
       "      <td>IND</td>\n",
       "      <td>India</td>\n",
       "      <td>ADITYA CEMENT WORKS</td>\n",
       "      <td>WRI1019881</td>\n",
       "      <td>Coal</td>\n",
       "      <td>NaN</td>\n",
       "      <td>NaN</td>\n",
       "      <td>Ultratech Cement ltd</td>\n",
       "      <td>Ultratech Cement ltd</td>\n",
       "      <td>http://www.ultratechcement.com/</td>\n",
       "      <td>WRI</td>\n",
       "      <td>NaN</td>\n",
       "    </tr>\n",
       "    <tr>\n",
       "      <th>2</th>\n",
       "      <td>IND</td>\n",
       "      <td>India</td>\n",
       "      <td>AES Saurashtra Windfarms</td>\n",
       "      <td>WRI1026669</td>\n",
       "      <td>Wind</td>\n",
       "      <td>NaN</td>\n",
       "      <td>NaN</td>\n",
       "      <td>AES</td>\n",
       "      <td>CDM</td>\n",
       "      <td>https://cdm.unfccc.int/Projects/DB/DNV-CUK1328...</td>\n",
       "      <td>WRI</td>\n",
       "      <td>NaN</td>\n",
       "    </tr>\n",
       "    <tr>\n",
       "      <th>3</th>\n",
       "      <td>IND</td>\n",
       "      <td>India</td>\n",
       "      <td>AGARTALA GT</td>\n",
       "      <td>IND0000001</td>\n",
       "      <td>Gas</td>\n",
       "      <td>NaN</td>\n",
       "      <td>NaN</td>\n",
       "      <td>NaN</td>\n",
       "      <td>Central Electricity Authority</td>\n",
       "      <td>http://www.cea.nic.in/</td>\n",
       "      <td>WRI</td>\n",
       "      <td>Central Electricity Authority</td>\n",
       "    </tr>\n",
       "    <tr>\n",
       "      <th>4</th>\n",
       "      <td>IND</td>\n",
       "      <td>India</td>\n",
       "      <td>AKALTARA TPP</td>\n",
       "      <td>IND0000002</td>\n",
       "      <td>Coal</td>\n",
       "      <td>Oil</td>\n",
       "      <td>NaN</td>\n",
       "      <td>NaN</td>\n",
       "      <td>Central Electricity Authority</td>\n",
       "      <td>http://www.cea.nic.in/</td>\n",
       "      <td>WRI</td>\n",
       "      <td>Central Electricity Authority</td>\n",
       "    </tr>\n",
       "  </tbody>\n",
       "</table>\n",
       "</div>"
      ],
      "text/plain": [
       "  country country_long                      name   gppd_idnr primary_fuel  \\\n",
       "0     IND        India          ACME Solar Tower  WRI1020239        Solar   \n",
       "1     IND        India       ADITYA CEMENT WORKS  WRI1019881         Coal   \n",
       "2     IND        India  AES Saurashtra Windfarms  WRI1026669         Wind   \n",
       "3     IND        India               AGARTALA GT  IND0000001          Gas   \n",
       "4     IND        India              AKALTARA TPP  IND0000002         Coal   \n",
       "\n",
       "  other_fuel1 other_fuel2                 owner  \\\n",
       "0         NaN         NaN           Solar Paces   \n",
       "1         NaN         NaN  Ultratech Cement ltd   \n",
       "2         NaN         NaN                   AES   \n",
       "3         NaN         NaN                   NaN   \n",
       "4         Oil         NaN                   NaN   \n",
       "\n",
       "                                 source  \\\n",
       "0  National Renewable Energy Laboratory   \n",
       "1                  Ultratech Cement ltd   \n",
       "2                                   CDM   \n",
       "3         Central Electricity Authority   \n",
       "4         Central Electricity Authority   \n",
       "\n",
       "                                                 url  \\\n",
       "0  http://www.nrel.gov/csp/solarpaces/project_det...   \n",
       "1                    http://www.ultratechcement.com/   \n",
       "2  https://cdm.unfccc.int/Projects/DB/DNV-CUK1328...   \n",
       "3                             http://www.cea.nic.in/   \n",
       "4                             http://www.cea.nic.in/   \n",
       "\n",
       "                     geolocation_source         generation_data_source  \n",
       "0  National Renewable Energy Laboratory                            NaN  \n",
       "1                                   WRI                            NaN  \n",
       "2                                   WRI                            NaN  \n",
       "3                                   WRI  Central Electricity Authority  \n",
       "4                                   WRI  Central Electricity Authority  "
      ]
     },
     "execution_count": 600,
     "metadata": {},
     "output_type": "execute_result"
    }
   ],
   "source": [
    "df[categorical_features].head()\n"
   ]
  },
  {
   "cell_type": "markdown",
   "metadata": {},
   "source": [
    "###### ---Check for Date type variable"
   ]
  },
  {
   "cell_type": "code",
   "execution_count": 601,
   "metadata": {},
   "outputs": [
    {
     "data": {
      "text/plain": [
       "[]"
      ]
     },
     "execution_count": 601,
     "metadata": {},
     "output_type": "execute_result"
    }
   ],
   "source": [
    "date_feature = [feature for feature in categorical_features if 'Date' in feature]\n",
    "date_feature"
   ]
  },
  {
   "cell_type": "markdown",
   "metadata": {},
   "source": [
    "###### ---Check for Binary type Variable"
   ]
  },
  {
   "cell_type": "code",
   "execution_count": 602,
   "metadata": {},
   "outputs": [
    {
     "name": "stdout",
     "output_type": "stream",
     "text": [
      "Binary Variables Count: 4\n"
     ]
    }
   ],
   "source": [
    "binary_feature=[feature for feature in categorical_features if len(df[feature].unique())==2 or len(df[feature].unique())<2 and feature not in date_feature]\n",
    "print(\"Binary Variables Count: {}\".format(len(binary_feature)))"
   ]
  },
  {
   "cell_type": "code",
   "execution_count": 603,
   "metadata": {},
   "outputs": [
    {
     "name": "stdout",
     "output_type": "stream",
     "text": [
      "country  :  ['IND']\n",
      "country_long  :  ['India']\n",
      "other_fuel2  :  [nan 'Oil']\n",
      "generation_data_source  :  [nan 'Central Electricity Authority']\n"
     ]
    }
   ],
   "source": [
    "for feature in binary_feature:\n",
    "    print(feature,\" : \", df[feature].unique())"
   ]
  },
  {
   "cell_type": "code",
   "execution_count": 604,
   "metadata": {},
   "outputs": [
    {
     "data": {
      "text/html": [
       "<div>\n",
       "<style scoped>\n",
       "    .dataframe tbody tr th:only-of-type {\n",
       "        vertical-align: middle;\n",
       "    }\n",
       "\n",
       "    .dataframe tbody tr th {\n",
       "        vertical-align: top;\n",
       "    }\n",
       "\n",
       "    .dataframe thead th {\n",
       "        text-align: right;\n",
       "    }\n",
       "</style>\n",
       "<table border=\"1\" class=\"dataframe\">\n",
       "  <thead>\n",
       "    <tr style=\"text-align: right;\">\n",
       "      <th></th>\n",
       "      <th>country</th>\n",
       "      <th>country_long</th>\n",
       "      <th>other_fuel2</th>\n",
       "      <th>generation_data_source</th>\n",
       "    </tr>\n",
       "  </thead>\n",
       "  <tbody>\n",
       "    <tr>\n",
       "      <th>0</th>\n",
       "      <td>IND</td>\n",
       "      <td>India</td>\n",
       "      <td>NaN</td>\n",
       "      <td>NaN</td>\n",
       "    </tr>\n",
       "    <tr>\n",
       "      <th>1</th>\n",
       "      <td>IND</td>\n",
       "      <td>India</td>\n",
       "      <td>NaN</td>\n",
       "      <td>NaN</td>\n",
       "    </tr>\n",
       "    <tr>\n",
       "      <th>2</th>\n",
       "      <td>IND</td>\n",
       "      <td>India</td>\n",
       "      <td>NaN</td>\n",
       "      <td>NaN</td>\n",
       "    </tr>\n",
       "    <tr>\n",
       "      <th>3</th>\n",
       "      <td>IND</td>\n",
       "      <td>India</td>\n",
       "      <td>NaN</td>\n",
       "      <td>Central Electricity Authority</td>\n",
       "    </tr>\n",
       "    <tr>\n",
       "      <th>4</th>\n",
       "      <td>IND</td>\n",
       "      <td>India</td>\n",
       "      <td>NaN</td>\n",
       "      <td>Central Electricity Authority</td>\n",
       "    </tr>\n",
       "  </tbody>\n",
       "</table>\n",
       "</div>"
      ],
      "text/plain": [
       "  country country_long other_fuel2         generation_data_source\n",
       "0     IND        India         NaN                            NaN\n",
       "1     IND        India         NaN                            NaN\n",
       "2     IND        India         NaN                            NaN\n",
       "3     IND        India         NaN  Central Electricity Authority\n",
       "4     IND        India         NaN  Central Electricity Authority"
      ]
     },
     "execution_count": 604,
     "metadata": {},
     "output_type": "execute_result"
    }
   ],
   "source": [
    "df[binary_feature].head()"
   ]
  },
  {
   "cell_type": "markdown",
   "metadata": {},
   "source": [
    "###### ---Check for Nominal type variable"
   ]
  },
  {
   "cell_type": "code",
   "execution_count": 605,
   "metadata": {},
   "outputs": [
    {
     "name": "stdout",
     "output_type": "stream",
     "text": [
      "Nominal feature Count 8\n"
     ]
    }
   ],
   "source": [
    "nominal_feature=[feature for feature in categorical_features if feature not in binary_feature + date_feature]\n",
    "print(\"Nominal feature Count {}\".format(len(nominal_feature)))"
   ]
  },
  {
   "cell_type": "code",
   "execution_count": 606,
   "metadata": {},
   "outputs": [
    {
     "name": "stdout",
     "output_type": "stream",
     "text": [
      "The feature is name and number of numerical are 908\n",
      "The feature is gppd_idnr and number of numerical are 908\n",
      "The feature is primary_fuel and number of numerical are 8\n",
      "The feature is other_fuel1 and number of numerical are 4\n",
      "The feature is owner and number of numerical are 281\n",
      "The feature is source and number of numerical are 191\n",
      "The feature is url and number of numerical are 304\n",
      "The feature is geolocation_source and number of numerical are 4\n"
     ]
    }
   ],
   "source": [
    "for feature in nominal_feature:\n",
    "    print('The feature is {} and number of numerical are {}'.format(feature,len(df[feature].unique())))"
   ]
  },
  {
   "cell_type": "code",
   "execution_count": 607,
   "metadata": {},
   "outputs": [
    {
     "data": {
      "text/html": [
       "<div>\n",
       "<style scoped>\n",
       "    .dataframe tbody tr th:only-of-type {\n",
       "        vertical-align: middle;\n",
       "    }\n",
       "\n",
       "    .dataframe tbody tr th {\n",
       "        vertical-align: top;\n",
       "    }\n",
       "\n",
       "    .dataframe thead th {\n",
       "        text-align: right;\n",
       "    }\n",
       "</style>\n",
       "<table border=\"1\" class=\"dataframe\">\n",
       "  <thead>\n",
       "    <tr style=\"text-align: right;\">\n",
       "      <th></th>\n",
       "      <th>name</th>\n",
       "      <th>gppd_idnr</th>\n",
       "      <th>primary_fuel</th>\n",
       "      <th>other_fuel1</th>\n",
       "      <th>owner</th>\n",
       "      <th>source</th>\n",
       "      <th>url</th>\n",
       "      <th>geolocation_source</th>\n",
       "    </tr>\n",
       "  </thead>\n",
       "  <tbody>\n",
       "    <tr>\n",
       "      <th>0</th>\n",
       "      <td>ACME Solar Tower</td>\n",
       "      <td>WRI1020239</td>\n",
       "      <td>Solar</td>\n",
       "      <td>NaN</td>\n",
       "      <td>Solar Paces</td>\n",
       "      <td>National Renewable Energy Laboratory</td>\n",
       "      <td>http://www.nrel.gov/csp/solarpaces/project_det...</td>\n",
       "      <td>National Renewable Energy Laboratory</td>\n",
       "    </tr>\n",
       "    <tr>\n",
       "      <th>1</th>\n",
       "      <td>ADITYA CEMENT WORKS</td>\n",
       "      <td>WRI1019881</td>\n",
       "      <td>Coal</td>\n",
       "      <td>NaN</td>\n",
       "      <td>Ultratech Cement ltd</td>\n",
       "      <td>Ultratech Cement ltd</td>\n",
       "      <td>http://www.ultratechcement.com/</td>\n",
       "      <td>WRI</td>\n",
       "    </tr>\n",
       "    <tr>\n",
       "      <th>2</th>\n",
       "      <td>AES Saurashtra Windfarms</td>\n",
       "      <td>WRI1026669</td>\n",
       "      <td>Wind</td>\n",
       "      <td>NaN</td>\n",
       "      <td>AES</td>\n",
       "      <td>CDM</td>\n",
       "      <td>https://cdm.unfccc.int/Projects/DB/DNV-CUK1328...</td>\n",
       "      <td>WRI</td>\n",
       "    </tr>\n",
       "    <tr>\n",
       "      <th>3</th>\n",
       "      <td>AGARTALA GT</td>\n",
       "      <td>IND0000001</td>\n",
       "      <td>Gas</td>\n",
       "      <td>NaN</td>\n",
       "      <td>NaN</td>\n",
       "      <td>Central Electricity Authority</td>\n",
       "      <td>http://www.cea.nic.in/</td>\n",
       "      <td>WRI</td>\n",
       "    </tr>\n",
       "    <tr>\n",
       "      <th>4</th>\n",
       "      <td>AKALTARA TPP</td>\n",
       "      <td>IND0000002</td>\n",
       "      <td>Coal</td>\n",
       "      <td>Oil</td>\n",
       "      <td>NaN</td>\n",
       "      <td>Central Electricity Authority</td>\n",
       "      <td>http://www.cea.nic.in/</td>\n",
       "      <td>WRI</td>\n",
       "    </tr>\n",
       "  </tbody>\n",
       "</table>\n",
       "</div>"
      ],
      "text/plain": [
       "                       name   gppd_idnr primary_fuel other_fuel1  \\\n",
       "0          ACME Solar Tower  WRI1020239        Solar         NaN   \n",
       "1       ADITYA CEMENT WORKS  WRI1019881         Coal         NaN   \n",
       "2  AES Saurashtra Windfarms  WRI1026669         Wind         NaN   \n",
       "3               AGARTALA GT  IND0000001          Gas         NaN   \n",
       "4              AKALTARA TPP  IND0000002         Coal         Oil   \n",
       "\n",
       "                  owner                                source  \\\n",
       "0           Solar Paces  National Renewable Energy Laboratory   \n",
       "1  Ultratech Cement ltd                  Ultratech Cement ltd   \n",
       "2                   AES                                   CDM   \n",
       "3                   NaN         Central Electricity Authority   \n",
       "4                   NaN         Central Electricity Authority   \n",
       "\n",
       "                                                 url  \\\n",
       "0  http://www.nrel.gov/csp/solarpaces/project_det...   \n",
       "1                    http://www.ultratechcement.com/   \n",
       "2  https://cdm.unfccc.int/Projects/DB/DNV-CUK1328...   \n",
       "3                             http://www.cea.nic.in/   \n",
       "4                             http://www.cea.nic.in/   \n",
       "\n",
       "                     geolocation_source  \n",
       "0  National Renewable Energy Laboratory  \n",
       "1                                   WRI  \n",
       "2                                   WRI  \n",
       "3                                   WRI  \n",
       "4                                   WRI  "
      ]
     },
     "execution_count": 607,
     "metadata": {},
     "output_type": "execute_result"
    }
   ],
   "source": [
    "df[nominal_feature].head()"
   ]
  },
  {
   "cell_type": "markdown",
   "metadata": {},
   "source": [
    "*Observation :*<br>*capacity_mw,latitude,longitude,other_fuel3,commissioning_year,wepp_id,year_of_capacity_data,*\n",
    "<br>*generation_gwh_2013,generation_gwh_2014,generation_gwh_2015,generation_gwh_2016,generation_gwh_2017,*\n",
    "<br>*estimated_generation_gwh columns are numerical variables*\n",
    "<br>*in this commissioning_year,year_of_capacity_data columns are year type*\n",
    "<br>*other_fuel3,wepp_id,estimated_generation_gwh columns are discrete type and rest are continuous  type*\n",
    "<br>*there are country,country_long,name,gppd_idnr,primary_fuel,other_fuel1,other_fuel2,owner,source,url,*\n",
    "<br>*geolocation_source,generation_data_source columns are categorical variables.*\n",
    "<br>*In country,country_long,other_fuel2,generation_data_source columns ther are 2 or 1 value that why they\n",
    "<br>*are binary type and rest are nominal"
   ]
  },
  {
   "cell_type": "markdown",
   "metadata": {},
   "source": [
    "###### Check for Cardinality"
   ]
  },
  {
   "cell_type": "markdown",
   "metadata": {},
   "source": [
    "###### ---In Categorical variable"
   ]
  },
  {
   "cell_type": "code",
   "execution_count": 608,
   "metadata": {},
   "outputs": [
    {
     "data": {
      "text/plain": [
       "Text(0.5, 1.0, 'Cardinality')"
      ]
     },
     "execution_count": 608,
     "metadata": {},
     "output_type": "execute_result"
    },
    {
     "data": {
      "image/png": "[encoded data removed]",
      "text/plain": [
       "<Figure size 864x288 with 1 Axes>"
      ]
     },
     "metadata": {
      "needs_background": "light"
     },
     "output_type": "display_data"
    }
   ],
   "source": [
    "df[categorical_features].nunique().plot.bar(figsize=(12,4),color='purple')\n",
    "plt.ylabel('Number of unique categories')\n",
    "plt.xlabel('Categorical Variables')\n",
    "plt.title('Cardinality')"
   ]
  },
  {
   "cell_type": "markdown",
   "metadata": {},
   "source": [
    "*Observation :*<br>*name,gppd_idnr,owner,source,url colmn have high cardinality*"
   ]
  },
  {
   "cell_type": "markdown",
   "metadata": {},
   "source": [
    "###### Check for Outliers"
   ]
  },
  {
   "cell_type": "markdown",
   "metadata": {},
   "source": [
    "###### ---Numerical variable"
   ]
  },
  {
   "cell_type": "code",
   "execution_count": 609,
   "metadata": {},
   "outputs": [
    {
     "data": {
      "image/png": "[encoded data removed]",
      "text/plain": [
       "<Figure size 1296x576 with 13 Axes>"
      ]
     },
     "metadata": {
      "needs_background": "light"
     },
     "output_type": "display_data"
    }
   ],
   "source": [
    "fig, pltcan=plt.subplots(nrows=1, ncols=len(numerical_features), figsize=(18,8))\n",
    "for predcol , i in zip(numerical_features, range(len(numerical_features))):\n",
    "    df.boxplot(column=predcol, figsize=(2,10), vert=True, ax=pltcan[i])   "
   ]
  },
  {
   "cell_type": "markdown",
   "metadata": {},
   "source": [
    "*Observation :*<br>*Outliers in Columns capacity_mw,longitude,commissioning_year,generation_gwh_2013,*\n",
    "<br>*generation_gwh_2014,generation_gwh_2015,generation_gwh_2016,generation_gwh_2017*\n",
    "<br>*wepp_id,year_of_capacity,estimate_generation_gwh column have no value*"
   ]
  },
  {
   "cell_type": "markdown",
   "metadata": {},
   "source": [
    "###### Check for Skewness"
   ]
  },
  {
   "cell_type": "code",
   "execution_count": 610,
   "metadata": {},
   "outputs": [
    {
     "name": "stdout",
     "output_type": "stream",
     "text": [
      "capacity_mw                 3.193257\n",
      "latitude                   -0.143622\n",
      "longitude                   1.100942\n",
      "other_fuel3                      NaN\n",
      "commissioning_year         -1.056132\n",
      "wepp_id                          NaN\n",
      "year_of_capacity_data       0.000000\n",
      "generation_gwh_2013         3.416338\n",
      "generation_gwh_2014         3.357683\n",
      "generation_gwh_2015         3.679016\n",
      "generation_gwh_2016         3.524785\n",
      "generation_gwh_2017         3.576849\n",
      "estimated_generation_gwh         NaN\n",
      "dtype: float64\n"
     ]
    },
    {
     "data": {
      "text/plain": [
       "<AxesSubplot:>"
      ]
     },
     "execution_count": 610,
     "metadata": {},
     "output_type": "execute_result"
    },
    {
     "data": {
      "image/png": "[encoded data removed]",
      "text/plain": [
       "<Figure size 432x288 with 1 Axes>"
      ]
     },
     "metadata": {
      "needs_background": "light"
     },
     "output_type": "display_data"
    }
   ],
   "source": [
    "print(df.skew())\n",
    "df.skew().plot(kind='barh',color='#8c564b')"
   ]
  },
  {
   "cell_type": "code",
   "execution_count": 611,
   "metadata": {},
   "outputs": [
    {
     "data": {
      "image/png": "[encoded data removed]",
      "text/plain": [
       "<Figure size 1584x3744 with 13 Axes>"
      ]
     },
     "metadata": {
      "needs_background": "light"
     },
     "output_type": "display_data"
    }
   ],
   "source": [
    "#Visualization of Skewness\n",
    "plt.figure(figsize=(22,52))\n",
    "plt.subplot(13,3,1)\n",
    "sns.kdeplot(df['capacity_mw'],color='crimson',shade=True)\n",
    "plt.subplot(13,3,2)\n",
    "sns.kdeplot(df['latitude'],color='green',shade=True)\n",
    "plt.subplot(13,3,3)\n",
    "sns.kdeplot(df['longitude'],color='crimson',shade=True)\n",
    "plt.subplot(13,3,4)\n",
    "sns.kdeplot(df['other_fuel3'],color='green',shade=True)\n",
    "plt.subplot(13,3,5)\n",
    "sns.kdeplot(df['commissioning_year'],color='green',shade=True)\n",
    "plt.subplot(13,3,6)\n",
    "sns.kdeplot(df['wepp_id'],color='green',shade=True)\n",
    "plt.subplot(13,3,7)\n",
    "sns.kdeplot(df['year_of_capacity_data'],color='green',shade=True)\n",
    "plt.subplot(13,3,8)\n",
    "sns.kdeplot(df['generation_gwh_2013'],color='crimson',shade=True)\n",
    "plt.subplot(13,3,9)\n",
    "sns.kdeplot(df['generation_gwh_2014'],color='crimson',shade=True)\n",
    "plt.subplot(13,3,10)\n",
    "sns.kdeplot(df['generation_gwh_2015'],color='crimson',shade=True)\n",
    "plt.subplot(13,3,11)\n",
    "sns.kdeplot(df['generation_gwh_2016'],color='crimson',shade=True)\n",
    "plt.subplot(13,3,12)\n",
    "sns.kdeplot(df['generation_gwh_2017'],color='crimson',shade=True)\n",
    "plt.subplot(13,3,13)\n",
    "sns.kdeplot(df['estimated_generation_gwh'],color='crimson',shade=True)\n",
    "plt.show()\n"
   ]
  },
  {
   "cell_type": "markdown",
   "metadata": {},
   "source": [
    "*Observation :*<br>*All column are right skewed except logitute and commissioning_year*\n",
    "<br>*other_fuel3,year_of_capacity_data,wepp_id,estimated_generation_gwh column have no data*"
   ]
  },
  {
   "cell_type": "markdown",
   "metadata": {},
   "source": [
    "###### Identify Target and Feature Variable"
   ]
  },
  {
   "cell_type": "markdown",
   "metadata": {},
   "source": [
    "*Predicte-*<br>*1. Fuel Type*<br>\n",
    "            *2.electrical generating capacity in megawatts*"
   ]
  },
  {
   "cell_type": "markdown",
   "metadata": {},
   "source": [
    "*Targe Variable (Depaendent Features)* <br>            *-1.capacity_mw*<br>\n",
    "*-2.primary_fuel,other_fuel1,other_fuel2,other_fuel3*\n",
    "               \n",
    "*Predictors (Independent Features)*<br>                 - All variables* "
   ]
  },
  {
   "cell_type": "markdown",
   "metadata": {},
   "source": [
    "###### Univariate Analysis"
   ]
  },
  {
   "cell_type": "markdown",
   "metadata": {},
   "source": [
    "###### 1.capacity_mw variable \n",
    "  (electrical generating capacity in megawatts)"
   ]
  },
  {
   "cell_type": "code",
   "execution_count": 612,
   "metadata": {},
   "outputs": [
    {
     "data": {
      "image/png": "[encoded data removed]",
      "text/plain": [
       "<Figure size 1152x360 with 1 Axes>"
      ]
     },
     "metadata": {
      "needs_background": "light"
     },
     "output_type": "display_data"
    }
   ],
   "source": [
    "#plt.subplot(111)\n",
    "#df['capacity_mw'].value_counts().plot(kind='bar', title='Primary Fuel', figsize=(25,4),color='navy')\n",
    "#sns.lineplot(df['capacity_mw'], height = df['primary_fuel'].unique(),data=df)\n",
    "#plt.xticks(rotation=90)\n",
    "#plt.show()\n",
    "\n",
    "plt.figure(figsize=(16,5))\n",
    "plt.hist(df['capacity_mw'], rwidth = 0.98,color='orange')\n",
    "plt.title('electrical generating capacity', fontsize=20)\n",
    "plt.xlabel('capacity_mw', fontsize=15)\n",
    "plt.ylabel('Count', fontsize=15)\n",
    "plt.grid(axis='y', alpha=0.75)"
   ]
  },
  {
   "cell_type": "markdown",
   "metadata": {},
   "source": [
    "*Observation :*<br>*Electrical generating capacity is is max in the range of 0 to 150*"
   ]
  },
  {
   "cell_type": "markdown",
   "metadata": {},
   "source": [
    "###### 2. Primary_fuel,Other_fuel1,Other_fuel2 Variables\n",
    "        (Fuel Type)"
   ]
  },
  {
   "cell_type": "code",
   "execution_count": 613,
   "metadata": {},
   "outputs": [
    {
     "name": "stdout",
     "output_type": "stream",
     "text": [
      "primary fuel unique values : 8\n",
      "other fuel1 unique values : 3\n",
      "other fuel2 unique values : 1\n"
     ]
    },
    {
     "data": {
      "image/png": "[encoded data removed]",
      "text/plain": [
       "<Figure size 1296x864 with 3 Axes>"
      ]
     },
     "metadata": {
      "needs_background": "light"
     },
     "output_type": "display_data"
    }
   ],
   "source": [
    "print(\"primary fuel unique values :\",df.primary_fuel.nunique())\n",
    "print(\"other fuel1 unique values :\",df.other_fuel1.nunique())\n",
    "print(\"other fuel2 unique values :\",df.other_fuel2.nunique())\n",
    "\n",
    "plt.subplot(231)\n",
    "df['primary_fuel'].value_counts().plot(kind='bar', title='Primary Fuel', figsize=(18,12),color='green')\n",
    "plt.xticks(rotation=0)\n",
    "plt.subplot(232)\n",
    "df['other_fuel1'].value_counts().plot(kind='bar', title='Other-Fuel1',figsize=(18,12),color='purple')\n",
    "plt.xticks(rotation=0)\n",
    "plt.subplot(233)\n",
    "df['other_fuel2'].value_counts().plot(kind='bar', title='Other-Fuel2',figsize=(18,12),color='pink')\n",
    "plt.xticks(rotation=0)\n",
    "plt.show()"
   ]
  },
  {
   "cell_type": "markdown",
   "metadata": {},
   "source": [
    "*Observation :*<br> *Column primary_fuel shows that the coal AND Hydro is used max and nuclear is used less*\n",
    "*column other_fuel1,other_fuel2 show that oil is used max other are used least or not used*\n",
    "*Because they all are fuel so they can be merge as one column Fuel Type.*"
   ]
  },
  {
   "cell_type": "markdown",
   "metadata": {},
   "source": [
    "###### 3.generation_gwh_2013,generation_gwh_2014,generation_gwh_2015,generation_gwh_2016,generation_gwh_2017 Variables\n",
    "(electricity generation in gigawatt-hours)"
   ]
  },
  {
   "cell_type": "code",
   "execution_count": 614,
   "metadata": {},
   "outputs": [
    {
     "data": {
      "image/png": "[encoded data removed]",
      "text/plain": [
       "<Figure size 1152x1800 with 5 Axes>"
      ]
     },
     "metadata": {
      "needs_background": "light"
     },
     "output_type": "display_data"
    }
   ],
   "source": [
    "plt.figure(figsize=(16,25))\n",
    "plt.subplot(5,2,1)\n",
    "plt.hist(df['generation_gwh_2013'], rwidth = 0.98,color='orange')\n",
    "plt.title('electrical generating capacity', fontsize=10)\n",
    "plt.xlabel('gwt/hr in 2013', fontsize=10)\n",
    "plt.subplot(5,2,2)\n",
    "plt.hist(df['generation_gwh_2014'], rwidth = 0.98,color='coral')\n",
    "plt.title('electrical generating capacity', fontsize=10)\n",
    "plt.xlabel('gwt/hr in 2014', fontsize=10)\n",
    "plt.subplot(5,2,3)\n",
    "plt.hist(df['generation_gwh_2015'], rwidth = 0.98,color='olive')\n",
    "plt.title('electrical generating capacity', fontsize=10)\n",
    "plt.xlabel('gwt/hr in 2015', fontsize=10)\n",
    "plt.subplot(5,2,4)\n",
    "plt.hist(df['generation_gwh_2016'], rwidth = 0.98,color='tan')\n",
    "plt.title('electrical generating capacity', fontsize=10)\n",
    "plt.xlabel('gwt/hr in 2016', fontsize=10)\n",
    "plt.subplot(5,2,5)\n",
    "plt.hist(df['generation_gwh_2017'], rwidth = 0.98,color='pink')\n",
    "plt.title('electrical generating capacity', fontsize=10)\n",
    "plt.xlabel('gwt/hr in 2017', fontsize=10)\n",
    "plt.ylabel('Count', fontsize=10)\n",
    "plt.grid(axis='y', alpha=0.75)\n"
   ]
  },
  {
   "cell_type": "markdown",
   "metadata": {},
   "source": [
    "*Observation :*<br>*In all year electrical generating capacity in gwt/hr is high in the range of 0 to 700*"
   ]
  },
  {
   "cell_type": "markdown",
   "metadata": {},
   "source": [
    "###### 4. latitude,longitude variable"
   ]
  },
  {
   "cell_type": "code",
   "execution_count": 615,
   "metadata": {},
   "outputs": [
    {
     "name": "stdout",
     "output_type": "stream",
     "text": [
      "Latitute unique values : 837\n",
      "Longitude unique values : 828\n"
     ]
    },
    {
     "data": {
      "image/png": "[encoded data removed]",
      "text/plain": [
       "<Figure size 1296x792 with 2 Axes>"
      ]
     },
     "metadata": {
      "needs_background": "light"
     },
     "output_type": "display_data"
    }
   ],
   "source": [
    "print(\"Latitute unique values :\",df.latitude.nunique())\n",
    "print(\"Longitude unique values :\",df.longitude.nunique())\n",
    "\n",
    "plt.figure(figsize=(18,11))\n",
    "plt.subplot(2,2,1)\n",
    "plt.hist(df['latitude'], rwidth = 0.98,color='Purple')\n",
    "plt.title('Geographical Location', fontsize=10)\n",
    "plt.xlabel('Latitude', fontsize=10)\n",
    "plt.subplot(2,2,2)\n",
    "plt.hist(df['longitude'], rwidth = 0.98,color='plum')\n",
    "plt.title('Geographical Location', fontsize=10)\n",
    "plt.xlabel('Longitude', fontsize=10)\n",
    "plt.ylabel('Count', fontsize=10)\n",
    "plt.grid(axis='y', alpha=0.75)\n"
   ]
  },
  {
   "cell_type": "markdown",
   "metadata": {},
   "source": [
    "*Observation :*<br>*Geographical Location Latitute is high between the range 16 to 29*<br>\n",
    "*Geographical Location Longitute is high between the range 72 to 77*"
   ]
  },
  {
   "cell_type": "markdown",
   "metadata": {},
   "source": [
    "###### 5.country,country_long,geolocation_source variable"
   ]
  },
  {
   "cell_type": "code",
   "execution_count": 616,
   "metadata": {},
   "outputs": [
    {
     "data": {
      "image/png": "[encoded data removed]",
      "text/plain": [
       "<Figure size 1296x720 with 3 Axes>"
      ]
     },
     "metadata": {
      "needs_background": "light"
     },
     "output_type": "display_data"
    }
   ],
   "source": [
    "plt.subplot(221)\n",
    "df['country'].value_counts().plot(kind='bar', title='Country Code', figsize=(18,10),color='pink')\n",
    "plt.xticks(rotation=0)\n",
    "plt.subplot(222)\n",
    "df['country_long'].value_counts().plot(kind='bar', title='Country Name',figsize=(18,10),color='aqua')\n",
    "plt.xticks(rotation=0)\n",
    "plt.subplot(223)\n",
    "df['geolocation_source'].value_counts().plot(kind='bar', title='Geographical Location Source',figsize=(18,10),color='navy')\n",
    "plt.xticks(rotation=0)\n",
    "plt.show()\n"
   ]
  },
  {
   "cell_type": "markdown",
   "metadata": {},
   "source": [
    "*Observation*<br>*column country and country_long show the same value by name and code*<br>\n",
    "*both have only one value,from them one can be dropedor both can be droped or they can be merge in the geolocation_source*<br>\n",
    "*column geolocation_source show the type of power plant and WRI have the high frequency but NREL have least*"
   ]
  },
  {
   "cell_type": "markdown",
   "metadata": {},
   "source": [
    "###### 6. commissioning_year,year_of_capacity_data variables"
   ]
  },
  {
   "cell_type": "code",
   "execution_count": 617,
   "metadata": {},
   "outputs": [
    {
     "data": {
      "image/png": "[encoded data removed]",
      "text/plain": [
       "<Figure size 1152x576 with 2 Axes>"
      ]
     },
     "metadata": {
      "needs_background": "light"
     },
     "output_type": "display_data"
    }
   ],
   "source": [
    "plt.figure(figsize=(16,8))\n",
    "plt.subplot(221)\n",
    "plt.hist(df['commissioning_year'], rwidth = 0.98,color='blue')\n",
    "plt.title('Plant Operation(year old)', fontsize=10)\n",
    "plt.xlabel('year', fontsize=10)\n",
    "plt.subplot(222)\n",
    "plt.hist(df['year_of_capacity_data'], rwidth = 0.98,color='green')\n",
    "plt.title('Capacity Information Report', fontsize=10)\n",
    "plt.xlabel('year', fontsize=10)\n",
    "\n",
    "plt.ylabel('Count', fontsize=10)\n",
    "plt.grid(axis='y', alpha=0.75)\n",
    "plt.xticks(rotation=90)\n",
    "plt.show()\n",
    "\n"
   ]
  },
  {
   "cell_type": "markdown",
   "metadata": {},
   "source": [
    "*Observation :*<br>*its shows that from 1990 2020 plant is more opertional*<br>*but in 2020 it is the maximum opertional*\n",
    "<br>*Capacity Information Report is of the year 2018 only*"
   ]
  },
  {
   "cell_type": "markdown",
   "metadata": {},
   "source": [
    "###### 7. source,generation_data_source,url variables"
   ]
  },
  {
   "cell_type": "code",
   "execution_count": 618,
   "metadata": {},
   "outputs": [
    {
     "data": {
      "image/png": "[encoded data removed]",
      "text/plain": [
       "<Figure size 1080x216 with 1 Axes>"
      ]
     },
     "metadata": {
      "needs_background": "light"
     },
     "output_type": "display_data"
    }
   ],
   "source": [
    "df['generation_data_source'].value_counts().plot(kind='barh', title='Source',figsize=(15,3),color='purple')\n",
    "plt.xticks(rotation=30)\n",
    "plt.yticks(rotation=90)\n",
    "plt.xlabel('generation_data_source',fontsize=12)\n",
    "plt.show()"
   ]
  },
  {
   "cell_type": "code",
   "execution_count": 619,
   "metadata": {},
   "outputs": [
    {
     "data": {
      "image/png": "[encoded data removed]",
      "text/plain": [
       "<Figure size 1080x360 with 1 Axes>"
      ]
     },
     "metadata": {
      "needs_background": "light"
     },
     "output_type": "display_data"
    }
   ],
   "source": [
    "df['source'].value_counts().plot(kind='line', title='Source',figsize=(15,5),color='purple')\n",
    "plt.xticks(rotation=9)\n",
    "plt.show()"
   ]
  },
  {
   "cell_type": "code",
   "execution_count": 620,
   "metadata": {},
   "outputs": [
    {
     "data": {
      "image/png": "[encoded data removed]",
      "text/plain": [
       "<Figure size 1080x360 with 1 Axes>"
      ]
     },
     "metadata": {
      "needs_background": "light"
     },
     "output_type": "display_data"
    }
   ],
   "source": [
    "df['url'].value_counts().plot(kind='line', title='Urls',figsize=(15,5),color='green')\n",
    "plt.xticks(rotation=5)\n",
    "plt.show()"
   ]
  },
  {
   "cell_type": "markdown",
   "metadata": {},
   "source": [
    "*Observation :*<br>*column generation_data_source shows that there is only one Electrical generation Information data source CEA*\n",
    "<br>*column source shows that CEA is the highest reporting authority*\n",
    "<br>*In column url CEA urls has highest value*"
   ]
  },
  {
   "cell_type": "markdown",
   "metadata": {},
   "source": [
    "###### 8. name,gppd_idnr,owner variables"
   ]
  },
  {
   "cell_type": "code",
   "execution_count": 621,
   "metadata": {},
   "outputs": [
    {
     "data": {
      "image/png": "[encoded data removed]",
      "text/plain": [
       "<Figure size 1800x360 with 1 Axes>"
      ]
     },
     "metadata": {
      "needs_background": "light"
     },
     "output_type": "display_data"
    }
   ],
   "source": [
    "plt.figure(figsize=(30,10))\n",
    "df['name'].value_counts().plot(kind='line', title='Power Plants', figsize=(25,5),color='green')\n",
    "plt.xticks(rotation=0)\n",
    "plt.xlabel('Plant Name', fontsize=10)\n",
    "plt.show()"
   ]
  },
  {
   "cell_type": "code",
   "execution_count": 622,
   "metadata": {},
   "outputs": [
    {
     "data": {
      "image/png": "[encoded data removed]",
      "text/plain": [
       "<Figure size 1656x360 with 1 Axes>"
      ]
     },
     "metadata": {
      "needs_background": "light"
     },
     "output_type": "display_data"
    }
   ],
   "source": [
    "df['gppd_idnr'].value_counts().plot(kind='line', title='Power Plant Identidication Number',figsize=(23,5),color='purple')\n",
    "plt.xticks(rotation=0)\n",
    "plt.xlabel('Plant ID', fontsize=10)\n",
    "plt.show()"
   ]
  },
  {
   "cell_type": "code",
   "execution_count": 623,
   "metadata": {},
   "outputs": [
    {
     "data": {
      "image/png": "[encoded data removed]",
      "text/plain": [
       "<Figure size 1296x360 with 1 Axes>"
      ]
     },
     "metadata": {
      "needs_background": "light"
     },
     "output_type": "display_data"
    }
   ],
   "source": [
    "df['owner'].value_counts().plot(kind='line', title='Power Plant Owner',figsize=(18,5),color='black')\n",
    "plt.xticks(rotation=90)\n",
    "plt.xlabel('Owner Name', fontsize=10)\n",
    "plt.show()"
   ]
  },
  {
   "cell_type": "markdown",
   "metadata": {},
   "source": [
    "*Observation :*<br>*column owner shows Major sharholder is JK cements.*<br>\n",
    "*column name,gppd_idnr are Power Plant Name and ID number they are just same Need to drop one*"
   ]
  },
  {
   "cell_type": "markdown",
   "metadata": {},
   "source": [
    "###### Handling unwanted columns"
   ]
  },
  {
   "cell_type": "code",
   "execution_count": 624,
   "metadata": {},
   "outputs": [],
   "source": [
    "df.drop(['other_fuel3','estimated_generation_gwh','year_of_capacity_data','wepp_id'],inplace=True,axis=1 )"
   ]
  },
  {
   "cell_type": "code",
   "execution_count": 625,
   "metadata": {},
   "outputs": [
    {
     "data": {
      "text/plain": [
       "(908, 21)"
      ]
     },
     "execution_count": 625,
     "metadata": {},
     "output_type": "execute_result"
    }
   ],
   "source": [
    "df.shape"
   ]
  },
  {
   "cell_type": "markdown",
   "metadata": {},
   "source": [
    "###### Handling Outliers"
   ]
  },
  {
   "cell_type": "markdown",
   "metadata": {},
   "source": [
    "###### Removing Outliers"
   ]
  },
  {
   "cell_type": "code",
   "execution_count": 626,
   "metadata": {},
   "outputs": [],
   "source": [
    "fout =['capacity_mw','longitude','commissioning_year','generation_gwh_2013','generation_gwh_2014','generation_gwh_2015','generation_gwh_2016','generation_gwh_2017']\n",
    "for f in fout:\n",
    "    q1 = df[f].quantile(0.25)\n",
    "    q3 = df[f].quantile(0.75)\n",
    "    IQR = q3-q1\n",
    "    lolimit = q1 - (IQR*1.5)\n",
    "    uplimit = q3 + (IQR*1.5)\n",
    "    df.loc[df[f]<lolimit,f] = lolimit\n",
    "    df.loc[df[f]>uplimit,f] = uplimit"
   ]
  },
  {
   "cell_type": "markdown",
   "metadata": {},
   "source": [
    "###### Recheck for Outiliers"
   ]
  },
  {
   "cell_type": "code",
   "execution_count": 627,
   "metadata": {},
   "outputs": [
    {
     "data": {
      "image/png": "[encoded data removed]",
      "text/plain": [
       "<Figure size 1296x576 with 8 Axes>"
      ]
     },
     "metadata": {
      "needs_background": "light"
     },
     "output_type": "display_data"
    }
   ],
   "source": [
    "fig, pltcan=plt.subplots(nrows=1, ncols=len(fout), figsize=(18,8))\n",
    "for predcol , i in zip(fout, range(len(fout))):\n",
    "    df.boxplot(column=predcol, figsize=(2,10), vert=True, ax=pltcan[i])   "
   ]
  },
  {
   "cell_type": "markdown",
   "metadata": {},
   "source": [
    "*Observation :*<br>*outliers removed*"
   ]
  },
  {
   "cell_type": "markdown",
   "metadata": {},
   "source": [
    "###### Removing Skewness"
   ]
  },
  {
   "cell_type": "code",
   "execution_count": 628,
   "metadata": {},
   "outputs": [
    {
     "data": {
      "text/plain": [
       "capacity_mw            1.306045\n",
       "latitude              -0.143622\n",
       "longitude              0.644550\n",
       "commissioning_year    -0.900658\n",
       "generation_gwh_2013    1.211203\n",
       "generation_gwh_2014    1.239892\n",
       "generation_gwh_2015    1.230406\n",
       "generation_gwh_2016    1.236953\n",
       "generation_gwh_2017    1.174575\n",
       "dtype: float64"
      ]
     },
     "execution_count": 628,
     "metadata": {},
     "output_type": "execute_result"
    }
   ],
   "source": [
    "df.skew()"
   ]
  },
  {
   "cell_type": "code",
   "execution_count": 629,
   "metadata": {},
   "outputs": [],
   "source": [
    "df[['capacity_mw']]= np.cbrt(df[['capacity_mw']])\n",
    "df[['latitude']]= np.cbrt(df[['latitude']])\n",
    "df[['longitude']]= np.cbrt(df[['longitude']])\n",
    "df[['commissioning_year']]= np.cbrt(df[['commissioning_year']])\n",
    "df[['generation_gwh_2013']]= np.cbrt(df[['generation_gwh_2013']])\n",
    "df[['generation_gwh_2014']]= np.cbrt(df[['generation_gwh_2014']])\n",
    "df[['generation_gwh_2015']]= np.cbrt(df[['generation_gwh_2015']])\n",
    "df[['generation_gwh_2016']]= np.cbrt(df[['generation_gwh_2016']])\n",
    "df[['generation_gwh_2017']]= np.cbrt(df[['generation_gwh_2017']])\n"
   ]
  },
  {
   "cell_type": "code",
   "execution_count": 630,
   "metadata": {},
   "outputs": [
    {
     "data": {
      "text/plain": [
       "capacity_mw            0.604750\n",
       "latitude              -0.570070\n",
       "longitude              0.556528\n",
       "commissioning_year    -0.910998\n",
       "generation_gwh_2013    0.097729\n",
       "generation_gwh_2014    0.081938\n",
       "generation_gwh_2015    0.130711\n",
       "generation_gwh_2016    0.136389\n",
       "generation_gwh_2017    0.103771\n",
       "dtype: float64"
      ]
     },
     "execution_count": 630,
     "metadata": {},
     "output_type": "execute_result"
    }
   ],
   "source": [
    "df.skew()"
   ]
  },
  {
   "cell_type": "markdown",
   "metadata": {},
   "source": [
    "###### Handling Zero values in Columns"
   ]
  },
  {
   "cell_type": "code",
   "execution_count": 632,
   "metadata": {},
   "outputs": [
    {
     "name": "stdout",
     "output_type": "stream",
     "text": [
      "Total zeros in Dataset: 142\n"
     ]
    }
   ],
   "source": [
    "print('Total zeros in Dataset:', df[df==0].count().sum())"
   ]
  },
  {
   "cell_type": "code",
   "execution_count": 633,
   "metadata": {},
   "outputs": [
    {
     "name": "stdout",
     "output_type": "stream",
     "text": [
      "capacity_mw median value   : 3.9148676411688634\n",
      "generation_gwh year 2013 median value : 9.271720698173405\n",
      "generation_gwh year 2014 median value : 9.305404035386694\n",
      "generation_gwh year 2015 median value : 8.88338122495253\n",
      "generation_gwh year 2016 median value : 8.949213334517498\n",
      "generation_gwh year 2017 median value : 9.312488329339907\n"
     ]
    }
   ],
   "source": [
    "print(\"capacity_mw median value   :\",df['capacity_mw'].median())\n",
    "print(\"generation_gwh year 2013 median value :\",df['generation_gwh_2013'].median())\n",
    "print(\"generation_gwh year 2014 median value :\",df['generation_gwh_2014'].median())\n",
    "print(\"generation_gwh year 2015 median value :\",df['generation_gwh_2015'].median())\n",
    "print(\"generation_gwh year 2016 median value :\",df['generation_gwh_2016'].median())\n",
    "print(\"generation_gwh year 2017 median value :\",df['generation_gwh_2017'].median())"
   ]
  },
  {
   "cell_type": "code",
   "execution_count": 634,
   "metadata": {},
   "outputs": [],
   "source": [
    "df['capacity_mw'].replace(0,60,inplace=True)\n",
    "df['generation_gwh_2013'].replace(0,797.06,inplace=True)\n",
    "df['generation_gwh_2014'].replace(0,805.76,inplace=True)\n",
    "df['generation_gwh_2015'].replace(0,701.03,inplace=True)\n",
    "df['generation_gwh_2016'].replace(0,716.73,inplace=True)\n",
    "df['generation_gwh_2017'].replace(0,807.60,inplace=True)\n",
    "df['capacity_mw'].replace(0,60,inplace=True)"
   ]
  },
  {
   "cell_type": "code",
   "execution_count": 635,
   "metadata": {},
   "outputs": [],
   "source": [
    "#recheck for zero values"
   ]
  },
  {
   "cell_type": "code",
   "execution_count": 636,
   "metadata": {},
   "outputs": [
    {
     "name": "stdout",
     "output_type": "stream",
     "text": [
      "Total zeros in Dataset: 0\n"
     ]
    }
   ],
   "source": [
    "print('Total zeros in Dataset:', df[df==0].count().sum())"
   ]
  },
  {
   "cell_type": "markdown",
   "metadata": {},
   "source": [
    "###### Handling Missing Values"
   ]
  },
  {
   "cell_type": "code",
   "execution_count": 638,
   "metadata": {},
   "outputs": [],
   "source": [
    "df['generation_gwh_2013'].fillna(df['generation_gwh_2013'].median(), inplace=True)\n",
    "df['generation_gwh_2014'].fillna(df['generation_gwh_2014'].median(), inplace=True)\n",
    "df['generation_gwh_2015'].fillna(df['generation_gwh_2015'].median(), inplace=True)\n",
    "df['generation_gwh_2016'].fillna(df['generation_gwh_2016'].median(), inplace=True)\n",
    "df['generation_gwh_2017'].fillna(df['generation_gwh_2017'].median(), inplace=True)"
   ]
  },
  {
   "cell_type": "code",
   "execution_count": 639,
   "metadata": {},
   "outputs": [],
   "source": [
    "df['gppd_id'] = df['gppd_idnr'].str.replace('([A-Z]+)', '')\n",
    "df['GLS'] = df['gppd_idnr'].str.extract('([A-Z]+)')\n",
    "df.drop(['geolocation_source','gppd_idnr'],inplace=True,axis=1)"
   ]
  },
  {
   "cell_type": "code",
   "execution_count": 640,
   "metadata": {},
   "outputs": [],
   "source": [
    "df.drop(['generation_data_source','other_fuel1','other_fuel2','owner'],inplace=True,axis=1 )"
   ]
  },
  {
   "cell_type": "code",
   "execution_count": 641,
   "metadata": {},
   "outputs": [],
   "source": [
    "df.drop(df[df['latitude'].isnull()].index,inplace=True,axis=0)"
   ]
  },
  {
   "cell_type": "code",
   "execution_count": 642,
   "metadata": {},
   "outputs": [],
   "source": [
    "df.drop(['commissioning_year'],inplace=True,axis=1 )\n"
   ]
  },
  {
   "cell_type": "code",
   "execution_count": 643,
   "metadata": {},
   "outputs": [
    {
     "data": {
      "text/plain": [
       "(862, 16)"
      ]
     },
     "execution_count": 643,
     "metadata": {},
     "output_type": "execute_result"
    }
   ],
   "source": [
    "df.shape"
   ]
  },
  {
   "cell_type": "code",
   "execution_count": 644,
   "metadata": {},
   "outputs": [
    {
     "name": "stdout",
     "output_type": "stream",
     "text": [
      "Total % of Missing Values in Columns :\n"
     ]
    },
    {
     "data": {
      "text/plain": [
       "country                0.0\n",
       "country_long           0.0\n",
       "name                   0.0\n",
       "capacity_mw            0.0\n",
       "latitude               0.0\n",
       "longitude              0.0\n",
       "primary_fuel           0.0\n",
       "source                 0.0\n",
       "url                    0.0\n",
       "generation_gwh_2013    0.0\n",
       "generation_gwh_2014    0.0\n",
       "generation_gwh_2015    0.0\n",
       "generation_gwh_2016    0.0\n",
       "generation_gwh_2017    0.0\n",
       "gppd_id                0.0\n",
       "GLS                    0.0\n",
       "dtype: float64"
      ]
     },
     "execution_count": 644,
     "metadata": {},
     "output_type": "execute_result"
    }
   ],
   "source": [
    "print(\"Total % of Missing Values in Columns :\")\n",
    "df.isnull().sum()/df.shape[0]*100 "
   ]
  },
  {
   "cell_type": "markdown",
   "metadata": {},
   "source": [
    "###### Encoding Categorical Variables"
   ]
  },
  {
   "cell_type": "code",
   "execution_count": 645,
   "metadata": {},
   "outputs": [],
   "source": [
    "le=LabelEncoder()\n",
    "df['country']=le.fit_transform(df['country'])\n",
    "df['primary_fuel']=le.fit_transform(df['primary_fuel'])\n",
    "df['GLS']=le.fit_transform(df['GLS'])\n",
    "df['gppd_id']=le.fit_transform(df['GLS'])\n",
    "df['source']=le.fit_transform(df['source'])\n",
    "df['url']=le.fit_transform(df['url'])\n",
    "df['name']=le.fit_transform(df['name'])\n",
    "\n",
    "#print(df['type'])"
   ]
  },
  {
   "cell_type": "code",
   "execution_count": 646,
   "metadata": {},
   "outputs": [],
   "source": [
    "df.drop('country_long',inplace=True,axis=1)"
   ]
  },
  {
   "cell_type": "code",
   "execution_count": 647,
   "metadata": {},
   "outputs": [
    {
     "data": {
      "text/html": [
       "<div>\n",
       "<style scoped>\n",
       "    .dataframe tbody tr th:only-of-type {\n",
       "        vertical-align: middle;\n",
       "    }\n",
       "\n",
       "    .dataframe tbody tr th {\n",
       "        vertical-align: top;\n",
       "    }\n",
       "\n",
       "    .dataframe thead th {\n",
       "        text-align: right;\n",
       "    }\n",
       "</style>\n",
       "<table border=\"1\" class=\"dataframe\">\n",
       "  <thead>\n",
       "    <tr style=\"text-align: right;\">\n",
       "      <th></th>\n",
       "      <th>country</th>\n",
       "      <th>name</th>\n",
       "      <th>capacity_mw</th>\n",
       "      <th>latitude</th>\n",
       "      <th>longitude</th>\n",
       "      <th>primary_fuel</th>\n",
       "      <th>source</th>\n",
       "      <th>url</th>\n",
       "      <th>generation_gwh_2013</th>\n",
       "      <th>generation_gwh_2014</th>\n",
       "      <th>generation_gwh_2015</th>\n",
       "      <th>generation_gwh_2016</th>\n",
       "      <th>generation_gwh_2017</th>\n",
       "      <th>gppd_id</th>\n",
       "      <th>GLS</th>\n",
       "    </tr>\n",
       "  </thead>\n",
       "  <tbody>\n",
       "    <tr>\n",
       "      <th>0</th>\n",
       "      <td>0</td>\n",
       "      <td>0</td>\n",
       "      <td>1.357209</td>\n",
       "      <td>3.043222</td>\n",
       "      <td>4.183928</td>\n",
       "      <td>6</td>\n",
       "      <td>109</td>\n",
       "      <td>126</td>\n",
       "      <td>10.148441</td>\n",
       "      <td>10.638731</td>\n",
       "      <td>10.458686</td>\n",
       "      <td>10.751350</td>\n",
       "      <td>10.997153</td>\n",
       "      <td>1</td>\n",
       "      <td>1</td>\n",
       "    </tr>\n",
       "    <tr>\n",
       "      <th>1</th>\n",
       "      <td>0</td>\n",
       "      <td>1</td>\n",
       "      <td>4.610436</td>\n",
       "      <td>2.914878</td>\n",
       "      <td>4.209822</td>\n",
       "      <td>1</td>\n",
       "      <td>174</td>\n",
       "      <td>169</td>\n",
       "      <td>10.148441</td>\n",
       "      <td>10.638731</td>\n",
       "      <td>10.458686</td>\n",
       "      <td>10.751350</td>\n",
       "      <td>10.997153</td>\n",
       "      <td>1</td>\n",
       "      <td>1</td>\n",
       "    </tr>\n",
       "    <tr>\n",
       "      <th>2</th>\n",
       "      <td>0</td>\n",
       "      <td>2</td>\n",
       "      <td>3.396999</td>\n",
       "      <td>2.797949</td>\n",
       "      <td>4.108947</td>\n",
       "      <td>7</td>\n",
       "      <td>21</td>\n",
       "      <td>196</td>\n",
       "      <td>10.148441</td>\n",
       "      <td>10.638731</td>\n",
       "      <td>10.458686</td>\n",
       "      <td>10.751350</td>\n",
       "      <td>10.997153</td>\n",
       "      <td>1</td>\n",
       "      <td>1</td>\n",
       "    </tr>\n",
       "    <tr>\n",
       "      <th>3</th>\n",
       "      <td>0</td>\n",
       "      <td>3</td>\n",
       "      <td>5.129928</td>\n",
       "      <td>2.879330</td>\n",
       "      <td>4.434699</td>\n",
       "      <td>2</td>\n",
       "      <td>22</td>\n",
       "      <td>58</td>\n",
       "      <td>8.580676</td>\n",
       "      <td>8.516872</td>\n",
       "      <td>9.449397</td>\n",
       "      <td>9.604586</td>\n",
       "      <td>8.723154</td>\n",
       "      <td>0</td>\n",
       "      <td>0</td>\n",
       "    </tr>\n",
       "    <tr>\n",
       "      <th>4</th>\n",
       "      <td>0</td>\n",
       "      <td>4</td>\n",
       "      <td>9.813394</td>\n",
       "      <td>2.800353</td>\n",
       "      <td>4.351694</td>\n",
       "      <td>1</td>\n",
       "      <td>22</td>\n",
       "      <td>58</td>\n",
       "      <td>11.860159</td>\n",
       "      <td>14.479241</td>\n",
       "      <td>18.086385</td>\n",
       "      <td>18.413278</td>\n",
       "      <td>17.528476</td>\n",
       "      <td>0</td>\n",
       "      <td>0</td>\n",
       "    </tr>\n",
       "  </tbody>\n",
       "</table>\n",
       "</div>"
      ],
      "text/plain": [
       "   country  name  capacity_mw  latitude  longitude  primary_fuel  source  url  \\\n",
       "0        0     0     1.357209  3.043222   4.183928             6     109  126   \n",
       "1        0     1     4.610436  2.914878   4.209822             1     174  169   \n",
       "2        0     2     3.396999  2.797949   4.108947             7      21  196   \n",
       "3        0     3     5.129928  2.879330   4.434699             2      22   58   \n",
       "4        0     4     9.813394  2.800353   4.351694             1      22   58   \n",
       "\n",
       "   generation_gwh_2013  generation_gwh_2014  generation_gwh_2015  \\\n",
       "0            10.148441            10.638731            10.458686   \n",
       "1            10.148441            10.638731            10.458686   \n",
       "2            10.148441            10.638731            10.458686   \n",
       "3             8.580676             8.516872             9.449397   \n",
       "4            11.860159            14.479241            18.086385   \n",
       "\n",
       "   generation_gwh_2016  generation_gwh_2017  gppd_id  GLS  \n",
       "0            10.751350            10.997153        1    1  \n",
       "1            10.751350            10.997153        1    1  \n",
       "2            10.751350            10.997153        1    1  \n",
       "3             9.604586             8.723154        0    0  \n",
       "4            18.413278            17.528476        0    0  "
      ]
     },
     "execution_count": 647,
     "metadata": {},
     "output_type": "execute_result"
    }
   ],
   "source": [
    "df.head()"
   ]
  },
  {
   "cell_type": "markdown",
   "metadata": {},
   "source": [
    "###### Feature Selection"
   ]
  },
  {
   "cell_type": "code",
   "execution_count": 648,
   "metadata": {},
   "outputs": [
    {
     "data": {
      "image/png": "[encoded data removed]",
      "text/plain": [
       "<Figure size 1440x360 with 2 Axes>"
      ]
     },
     "metadata": {
      "needs_background": "light"
     },
     "output_type": "display_data"
    }
   ],
   "source": [
    "# Variable Correlation\n",
    "pcorrel = df.corr(method='pearson').round(3)\n",
    "plt.figure(figsize=(20,5)) \n",
    "sns.heatmap(pcorrel,xticklabels=pcorrel.columns,yticklabels=pcorrel.columns,cmap=\"YlGnBu\",annot=True,linewidth=0.5)\n",
    "plt.title(\"Pearson Correlation Between Variables\")\n",
    "plt.xticks(fontsize=10)\n",
    "plt.yticks(fontsize=8)\n",
    "plt.show()        \n",
    "    "
   ]
  },
  {
   "cell_type": "code",
   "execution_count": 655,
   "metadata": {},
   "outputs": [
    {
     "name": "stdout",
     "output_type": "stream",
     "text": [
      "country ------not correlated-----: nan \n",
      "\n",
      "name ------not correlated-----: 0.7032546720803051 \n",
      "\n",
      "capacity_mw ------correlated------: 0.0 \n",
      "\n",
      "latitude ------correlated------: 3.779960721376309e-06 \n",
      "\n",
      "longitude ------correlated------: 6.245178225318219e-07 \n",
      "\n",
      "primary_fuel ------correlated------: 0.0 \n",
      "\n",
      "source ------correlated------: 1.527845041488733e-40 \n",
      "\n",
      "url ------correlated------: 4.498250200634588e-73 \n",
      "\n",
      "generation_gwh_2013 ------correlated------: 2.294302569499304e-16 \n",
      "\n",
      "generation_gwh_2014 ------correlated------: 4.882113887298754e-07 \n",
      "\n",
      "generation_gwh_2015 ------correlated------: 1.096811711648606e-16 \n",
      "\n",
      "generation_gwh_2016 ------correlated------: 1.2786244653603687e-47 \n",
      "\n",
      "generation_gwh_2017 ------correlated------: 1.2443385583275009e-43 \n",
      "\n",
      "gppd_id ------correlated------: 1.7528067745243456e-209 \n",
      "\n",
      "GLS ------correlated------: 1.7528067745243456e-209 \n",
      "\n"
     ]
    }
   ],
   "source": [
    "# Anova Test \n",
    "sp=[]\n",
    "for i in df.columns:\n",
    "    cg=df.groupby(['capacity_mw','primary_fuel'])[i].apply(list)\n",
    "    av=stats.f_oneway(*cg)\n",
    "    if av[1]<0.5:\n",
    "        print(i,'------correlated------:',av[1],'\\n')\n",
    "        sp.append(i)\n",
    "    else:\n",
    "        print(i,'------not correlated-----:',av[1],'\\n')\n"
   ]
  },
  {
   "cell_type": "code",
   "execution_count": 656,
   "metadata": {},
   "outputs": [],
   "source": [
    "df.drop(['country','name'],inplace=True,axis=1)"
   ]
  },
  {
   "cell_type": "markdown",
   "metadata": {},
   "source": [
    "###### split target and feature variables"
   ]
  },
  {
   "cell_type": "code",
   "execution_count": 658,
   "metadata": {},
   "outputs": [
    {
     "name": "stdout",
     "output_type": "stream",
     "text": [
      "y_train : (862, 2)\n",
      "X_train : (862, 11)\n"
     ]
    }
   ],
   "source": [
    "y_train=df[['capacity_mw','primary_fuel']]\n",
    "X_train=df.drop(['capacity_mw','primary_fuel'],axis=1)\n",
    "\n",
    "print(\"y_train :\",y_train.shape)\n",
    "print(\"X_train :\",X_train.shape)"
   ]
  },
  {
   "cell_type": "code",
   "execution_count": 659,
   "metadata": {},
   "outputs": [],
   "source": [
    "#selected features"
   ]
  },
  {
   "cell_type": "code",
   "execution_count": 660,
   "metadata": {},
   "outputs": [
    {
     "data": {
      "text/plain": [
       "Index(['latitude', 'longitude', 'source', 'url', 'generation_gwh_2013',\n",
       "       'generation_gwh_2014', 'generation_gwh_2015', 'generation_gwh_2016',\n",
       "       'generation_gwh_2017', 'gppd_id', 'GLS'],\n",
       "      dtype='object')"
      ]
     },
     "execution_count": 660,
     "metadata": {},
     "output_type": "execute_result"
    }
   ],
   "source": [
    "X_train.columns"
   ]
  },
  {
   "cell_type": "code",
   "execution_count": 661,
   "metadata": {},
   "outputs": [
    {
     "data": {
      "text/plain": [
       "Index(['capacity_mw', 'primary_fuel'], dtype='object')"
      ]
     },
     "execution_count": 661,
     "metadata": {},
     "output_type": "execute_result"
    }
   ],
   "source": [
    "y_train.columns"
   ]
  },
  {
   "cell_type": "markdown",
   "metadata": {},
   "source": [
    "###### Normilization of data"
   ]
  },
  {
   "cell_type": "code",
   "execution_count": 662,
   "metadata": {},
   "outputs": [
    {
     "data": {
      "text/plain": [
       "array([[ 1.12529088, -0.93785077,  1.55152241, ...,  0.06977445,\n",
       "         1.15587342,  1.15587342],\n",
       "       [ 0.56301327, -0.54506491,  2.00622411, ...,  0.06977445,\n",
       "         1.15587342,  1.15587342],\n",
       "       [ 0.09873253, -2.24976514, -0.48050736, ...,  0.06977445,\n",
       "         1.15587342,  1.15587342],\n",
       "       ...,\n",
       "       [-0.95179474, -0.28534602, -0.48050736, ...,  0.06977445,\n",
       "         1.15587342,  1.15587342],\n",
       "       [ 0.49510821, -0.78843068,  0.87647901, ...,  0.06977445,\n",
       "         1.15587342,  1.15587342],\n",
       "       [-1.77276836,  0.17944163, -0.48050736, ...,  0.06977445,\n",
       "         1.15587342,  1.15587342]])"
      ]
     },
     "execution_count": 662,
     "metadata": {},
     "output_type": "execute_result"
    }
   ],
   "source": [
    "from sklearn.preprocessing import power_transform\n",
    "X=power_transform(X_train,method='yeo-johnson')\n",
    "X"
   ]
  },
  {
   "cell_type": "markdown",
   "metadata": {},
   "source": [
    "###### Splitting Dataset into train and test set"
   ]
  },
  {
   "cell_type": "code",
   "execution_count": 664,
   "metadata": {},
   "outputs": [
    {
     "name": "stdout",
     "output_type": "stream",
     "text": [
      "(646, 11)\n",
      "(646, 2)\n",
      "(216, 11)\n",
      "(216, 2)\n"
     ]
    }
   ],
   "source": [
    "from sklearn.model_selection import train_test_split\n",
    "x_train, x_test, y_train, y_test = train_test_split(X, y_train, test_size = 0.25, random_state = 44)\n",
    "print(x_train.shape)\n",
    "print(y_train.shape)\n",
    "print(x_test.shape)\n",
    "print(y_test.shape)"
   ]
  },
  {
   "cell_type": "markdown",
   "metadata": {},
   "source": [
    "###### Sandardization of data"
   ]
  },
  {
   "cell_type": "code",
   "execution_count": 665,
   "metadata": {},
   "outputs": [
    {
     "name": "stdout",
     "output_type": "stream",
     "text": [
      "[[-0.50032311 -0.68496083 -0.39607375 ...  0.06409018 -0.8609529\n",
      "  -0.8609529 ]\n",
      " [ 2.16932282 -0.56595257 -0.39607375 ... -0.56749983 -0.8609529\n",
      "  -0.8609529 ]\n",
      " [ 1.92759821 -0.14740842 -0.39607375 ... -0.38085617 -0.8609529\n",
      "  -0.8609529 ]\n",
      " ...\n",
      " [ 0.86330295  1.87482757 -0.39607375 ... -1.49077051 -0.8609529\n",
      "  -0.8609529 ]\n",
      " [ 1.42629555 -0.33414179 -0.21982653 ...  0.06409018  1.16150373\n",
      "   1.16150373]\n",
      " [-0.33143598 -0.48073265 -0.46126491 ...  0.06409018  1.16150373\n",
      "   1.16150373]]\n",
      "[[-0.08479819  0.62049772  2.20279613 ...  0.08566725  1.139242\n",
      "   1.139242  ]\n",
      " [ 0.17768688  1.29023481 -0.47542177 ... -1.13949148 -0.87777662\n",
      "  -0.87777662]\n",
      " [-0.24995455 -0.70399192  1.91969174 ...  0.08566725  1.139242\n",
      "   1.139242  ]\n",
      " ...\n",
      " [ 0.30905108  2.03118315 -0.47542177 ... -0.31944964 -0.87777662\n",
      "  -0.87777662]\n",
      " [ 1.68458593  0.04539884 -0.47542177 ... -0.46439419 -0.87777662\n",
      "  -0.87777662]\n",
      " [-0.25560111 -1.14774835 -0.47542177 ...  0.8211549  -0.87777662\n",
      "  -0.87777662]]\n"
     ]
    }
   ],
   "source": [
    "sc = StandardScaler()\n",
    "x_train = sc.fit_transform(x_train)\n",
    "print(x_train)\n",
    "x_test = sc.fit_transform(x_test)\n",
    "print(x_test)"
   ]
  },
  {
   "cell_type": "markdown",
   "metadata": {},
   "source": [
    "###### Model Building"
   ]
  },
  {
   "cell_type": "code",
   "execution_count": 767,
   "metadata": {},
   "outputs": [],
   "source": [
    "#Linear Regression"
   ]
  },
  {
   "cell_type": "code",
   "execution_count": 768,
   "metadata": {},
   "outputs": [
    {
     "name": "stdout",
     "output_type": "stream",
     "text": [
      "[3.57002699 3.54090794]\n"
     ]
    }
   ],
   "source": [
    "LRregressor = LinearRegression()\n",
    "LRregressor.fit(x_train, y_train)\n",
    "LRy_pred = LRregressor.predict(x_test)\n",
    "print(LRy_pred[0])"
   ]
  },
  {
   "cell_type": "code",
   "execution_count": 769,
   "metadata": {},
   "outputs": [
    {
     "data": {
      "image/png": "[encoded data removed]",
      "text/plain": [
       "<Figure size 432x288 with 1 Axes>"
      ]
     },
     "metadata": {
      "needs_background": "light"
     },
     "output_type": "display_data"
    }
   ],
   "source": [
    "plt.scatter(y_test,LRy_pred)\n",
    "plt.xlabel('Actual Score')\n",
    "plt.ylabel('Predicted Score')\n",
    "plt.title('Linear Regression-Actual vs Predicted')\n",
    "plt.show()\n"
   ]
  },
  {
   "cell_type": "code",
   "execution_count": 770,
   "metadata": {},
   "outputs": [],
   "source": [
    "#Evaluation"
   ]
  },
  {
   "cell_type": "code",
   "execution_count": 771,
   "metadata": {},
   "outputs": [
    {
     "name": "stdout",
     "output_type": "stream",
     "text": [
      "\n",
      "r2 Score On Train Data: 0.3818656978856339\n",
      "\n",
      "r2 Score On Test Data: 0.46873826158104775\n",
      "\n",
      "\n",
      "Mean Absolute Error: 1.3518233725543802\n",
      "\n",
      "Mean Squared Error: 3.227497107991753\n",
      "\n",
      "Root Mean Squared Error: 1.796523617432221\n"
     ]
    }
   ],
   "source": [
    "# Calculating R2 Score\n",
    "LRr2_score_train =LRregressor.score(x_train, y_train)\n",
    "print('\\nr2 Score On Train Data:',LRr2_score_train)\n",
    "LRr2_score_test=LRregressor.score(x_test,y_test)\n",
    "print('\\nr2 Score On Test Data:',LRr2_score_test)\n",
    "\n",
    "print('\\n\\nMean Absolute Error:', metrics.mean_absolute_error(y_test, LRy_pred))\n",
    "print('\\nMean Squared Error:', metrics.mean_squared_error(y_test, LRy_pred))\n",
    "print('\\nRoot Mean Squared Error:', np.sqrt(metrics.mean_squared_error(y_test, LRy_pred)))\n"
   ]
  },
  {
   "cell_type": "code",
   "execution_count": 772,
   "metadata": {},
   "outputs": [],
   "source": [
    "#Validation"
   ]
  },
  {
   "cell_type": "code",
   "execution_count": 773,
   "metadata": {},
   "outputs": [
    {
     "name": "stdout",
     "output_type": "stream",
     "text": [
      "\n",
      "Cross Validation\n",
      "Linear Regression Score: [0.35055353 0.49960908 0.24686255 0.54373131 0.43946715]\n",
      "Average LinearRegression score: 0.416\n"
     ]
    }
   ],
   "source": [
    "LRscores = cross_val_score(LRregressor,x_train, y_train, cv=5)\n",
    "print('\\nCross Validation')\n",
    "print('Linear Regression Score:',LRscores)\n",
    "LRcross=round(LRscores.mean(),4)\n",
    "print('Average LinearRegression score:',LRcross)"
   ]
  },
  {
   "cell_type": "code",
   "execution_count": 774,
   "metadata": {},
   "outputs": [],
   "source": [
    "#Lasso Regressor"
   ]
  },
  {
   "cell_type": "code",
   "execution_count": 775,
   "metadata": {},
   "outputs": [
    {
     "name": "stdout",
     "output_type": "stream",
     "text": [
      "[4.16889223 3.38394885]\n"
     ]
    }
   ],
   "source": [
    "LSregressor = Lasso()\n",
    "LSregressor.fit(x_train, y_train)\n",
    "LSy_pred = LSregressor.predict(x_test)\n",
    "print(LSy_pred[0])"
   ]
  },
  {
   "cell_type": "code",
   "execution_count": 776,
   "metadata": {},
   "outputs": [
    {
     "data": {
      "image/png": "[encoded data removed]",
      "text/plain": [
       "<Figure size 432x288 with 1 Axes>"
      ]
     },
     "metadata": {
      "needs_background": "light"
     },
     "output_type": "display_data"
    }
   ],
   "source": [
    "plt.scatter(y_test,LSy_pred)\n",
    "plt.xlabel('Actual Score')\n",
    "plt.ylabel('Predicted Score')\n",
    "plt.title('Lasso Regression-Actual vs Predicted')\n",
    "plt.show()"
   ]
  },
  {
   "cell_type": "code",
   "execution_count": 777,
   "metadata": {},
   "outputs": [],
   "source": [
    "#Evaluation"
   ]
  },
  {
   "cell_type": "code",
   "execution_count": 778,
   "metadata": {},
   "outputs": [
    {
     "name": "stdout",
     "output_type": "stream",
     "text": [
      "\n",
      "r2 Score On Train Data: 0.12494319880253357\n",
      "\n",
      "r2 Score On Test Data: 0.16703992550951974\n",
      "\n",
      "\n",
      "Mean Absolute Error: 1.8731535930420002\n",
      "\n",
      "Mean Squared Error: 5.073137452582433\n",
      "\n",
      "Root Mean Squared Error: 2.2523626378943584\n"
     ]
    }
   ],
   "source": [
    "# Calculating R2 Score\n",
    "LSr2_score_train =LSregressor.score(x_train, y_train)\n",
    "print('\\nr2 Score On Train Data:',LSr2_score_train)\n",
    "LSr2_score_test=LSregressor.score(x_test,y_test)\n",
    "print('\\nr2 Score On Test Data:',LSr2_score_test)\n",
    "\n",
    "print('\\n\\nMean Absolute Error:', metrics.mean_absolute_error(y_test, LSy_pred))\n",
    "print('\\nMean Squared Error:', metrics.mean_squared_error(y_test, LSy_pred))\n",
    "print('\\nRoot Mean Squared Error:', np.sqrt(metrics.mean_squared_error(y_test, LSy_pred)))"
   ]
  },
  {
   "cell_type": "code",
   "execution_count": 779,
   "metadata": {},
   "outputs": [],
   "source": [
    "#validation"
   ]
  },
  {
   "cell_type": "code",
   "execution_count": 780,
   "metadata": {},
   "outputs": [
    {
     "name": "stdout",
     "output_type": "stream",
     "text": [
      "\n",
      "Cross Validation\n",
      "Lasso Regression Score: [0.15199997 0.17078544 0.05705136 0.15867689 0.1543998 ]\n",
      "Average Lasso Regression score: 0.1386\n"
     ]
    }
   ],
   "source": [
    "LSscores = cross_val_score(LSregressor,x_train, y_train, cv=5)\n",
    "print('\\nCross Validation')\n",
    "print('Lasso Regression Score:',LSscores)\n",
    "LScross=round(LSscores.mean(),4)\n",
    "print('Average Lasso Regression score:',LScross)"
   ]
  },
  {
   "cell_type": "code",
   "execution_count": 781,
   "metadata": {},
   "outputs": [],
   "source": [
    "# DecisionTree Regressor"
   ]
  },
  {
   "cell_type": "code",
   "execution_count": 782,
   "metadata": {},
   "outputs": [
    {
     "name": "stdout",
     "output_type": "stream",
     "text": [
      "[7.3700857  1.33333333]\n"
     ]
    }
   ],
   "source": [
    "DTregressor =  DecisionTreeRegressor(max_depth=6,criterion='mse')\n",
    "DTregressor.fit(x_train, y_train)\n",
    "DTy_pred = DTregressor.predict(x_test)\n",
    "print(DTy_pred[0])"
   ]
  },
  {
   "cell_type": "code",
   "execution_count": 783,
   "metadata": {},
   "outputs": [
    {
     "data": {
      "image/png": "[encoded data removed]",
      "text/plain": [
       "<Figure size 432x288 with 1 Axes>"
      ]
     },
     "metadata": {
      "needs_background": "light"
     },
     "output_type": "display_data"
    }
   ],
   "source": [
    "plt.scatter(y_test,DTy_pred)\n",
    "plt.xlabel('Actual Score')\n",
    "plt.ylabel('Predicted Score')\n",
    "plt.title('Decision Tree Regression-Actual vs Predicted')\n",
    "plt.show()"
   ]
  },
  {
   "cell_type": "code",
   "execution_count": 784,
   "metadata": {},
   "outputs": [],
   "source": [
    "#Evaluation"
   ]
  },
  {
   "cell_type": "code",
   "execution_count": 785,
   "metadata": {},
   "outputs": [
    {
     "name": "stdout",
     "output_type": "stream",
     "text": [
      "\n",
      "r2 Score On Train Data: 0.8249114651735142\n",
      "\n",
      "r2 Score On Test Data: -0.5784560685932751\n",
      "\n",
      "\n",
      "Mean Absolute Error: 2.2787306611348006\n",
      "\n",
      "Mean Squared Error: 9.853701733582906\n",
      "\n",
      "Root Mean Squared Error: 3.139060645094788\n"
     ]
    }
   ],
   "source": [
    "# Calculating R2 Score\n",
    "DTr2_score_train =DTregressor.score(x_train, y_train)\n",
    "print('\\nr2 Score On Train Data:',DTr2_score_train)\n",
    "DTr2_score_test=DTregressor.score(x_test,y_test)\n",
    "print('\\nr2 Score On Test Data:',DTr2_score_test)\n",
    "\n",
    "print('\\n\\nMean Absolute Error:', metrics.mean_absolute_error(y_test,DTy_pred))\n",
    "print('\\nMean Squared Error:', metrics.mean_squared_error(y_test,DTy_pred))\n",
    "print('\\nRoot Mean Squared Error:', np.sqrt(metrics.mean_squared_error(y_test,DTy_pred)))\n"
   ]
  },
  {
   "cell_type": "code",
   "execution_count": 786,
   "metadata": {},
   "outputs": [],
   "source": [
    "#Validation"
   ]
  },
  {
   "cell_type": "code",
   "execution_count": 787,
   "metadata": {},
   "outputs": [
    {
     "name": "stdout",
     "output_type": "stream",
     "text": [
      "\n",
      "Cross Validation\n",
      "Decision Tree Regression Score: [ 0.60251343 -2.328242    0.3842033   0.76794156  0.72131122]\n",
      "Average Decision Tree Regression score: 0.0295\n"
     ]
    }
   ],
   "source": [
    "DTscores = cross_val_score(DTregressor,x_train, y_train, cv=5)\n",
    "print('\\nCross Validation')\n",
    "print('Decision Tree Regression Score:',DTscores)\n",
    "\n",
    "DTcross=round(DTscores.mean(),4)\n",
    "print('Average Decision Tree Regression score:',DTcross)\n"
   ]
  },
  {
   "cell_type": "code",
   "execution_count": 788,
   "metadata": {},
   "outputs": [],
   "source": [
    "#RandomForest Regressor"
   ]
  },
  {
   "cell_type": "code",
   "execution_count": 789,
   "metadata": {},
   "outputs": [
    {
     "name": "stdout",
     "output_type": "stream",
     "text": [
      "[7.60948942 1.7       ]\n"
     ]
    }
   ],
   "source": [
    "RFregressor = RandomForestRegressor()\n",
    "RFregressor.fit(x_train, y_train)\n",
    "RFy_pred = RFregressor.predict(x_test)\n",
    "print(RFy_pred[0])"
   ]
  },
  {
   "cell_type": "code",
   "execution_count": 790,
   "metadata": {},
   "outputs": [
    {
     "data": {
      "image/png": "[encoded data removed]",
      "text/plain": [
       "<Figure size 432x288 with 1 Axes>"
      ]
     },
     "metadata": {
      "needs_background": "light"
     },
     "output_type": "display_data"
    }
   ],
   "source": [
    "plt.scatter(y_test,RFy_pred)\n",
    "plt.xlabel('Actual Score')\n",
    "plt.ylabel('Predicted Score')\n",
    "plt.title('RandomForest Regressor-Actual vs Predicted')\n",
    "plt.show()"
   ]
  },
  {
   "cell_type": "code",
   "execution_count": 791,
   "metadata": {},
   "outputs": [],
   "source": [
    "#Evaluation"
   ]
  },
  {
   "cell_type": "code",
   "execution_count": 792,
   "metadata": {},
   "outputs": [
    {
     "name": "stdout",
     "output_type": "stream",
     "text": [
      "\n",
      "r2 Score On Train Data: 0.9300906197874184\n",
      "\n",
      "r2 Score On Test Data: -0.4206274484222452\n",
      "\n",
      "\n",
      "Mean Absolute Error: 2.1718989826060318\n",
      "\n",
      "Mean Squared Error: 9.050120827208215\n",
      "\n",
      "Root Mean Squared Error: 3.0083418733927525\n"
     ]
    }
   ],
   "source": [
    "# Calculating R2 Score\n",
    "RFr2_score_train =RFregressor.score(x_train, y_train)\n",
    "print('\\nr2 Score On Train Data:',RFr2_score_train)\n",
    "RFr2_score_test=RFregressor.score(x_test,y_test)\n",
    "print('\\nr2 Score On Test Data:',RFr2_score_test)\n",
    "\n",
    "print('\\n\\nMean Absolute Error:', metrics.mean_absolute_error(y_test, RFy_pred))\n",
    "print('\\nMean Squared Error:', metrics.mean_squared_error(y_test, RFy_pred))\n",
    "print('\\nRoot Mean Squared Error:', np.sqrt(metrics.mean_squared_error(y_test, RFy_pred)))"
   ]
  },
  {
   "cell_type": "code",
   "execution_count": 793,
   "metadata": {},
   "outputs": [],
   "source": [
    "#validation"
   ]
  },
  {
   "cell_type": "code",
   "execution_count": 794,
   "metadata": {},
   "outputs": [
    {
     "name": "stdout",
     "output_type": "stream",
     "text": [
      "\n",
      "Cross Validation\n",
      "Random Forest Regression Score: [0.67042138 0.41770654 0.4337021  0.83327469 0.78944489]\n",
      "Average Random Forest Regression score: 0.1386\n"
     ]
    }
   ],
   "source": [
    "RFscores = cross_val_score(RFregressor,x_train, y_train, cv=5)\n",
    "print('\\nCross Validation')\n",
    "print('Random Forest Regression Score:',RFscores)\n",
    "\n",
    "RFcross=round(scores.mean(),4)\n",
    "print('Average Random Forest Regression score:',RFcross)"
   ]
  },
  {
   "cell_type": "code",
   "execution_count": 795,
   "metadata": {},
   "outputs": [],
   "source": [
    "#KNeighbors Regressor"
   ]
  },
  {
   "cell_type": "code",
   "execution_count": 796,
   "metadata": {},
   "outputs": [
    {
     "name": "stdout",
     "output_type": "stream",
     "text": [
      "[2.40907335 0.        ]\n"
     ]
    }
   ],
   "source": [
    "KNNregressor =  KNeighborsRegressor(n_neighbors=2)\n",
    "KNNregressor.fit(x_train, y_train)\n",
    "KNNy_pred = KNNregressor.predict(x_test)\n",
    "print(KNNy_pred[0])"
   ]
  },
  {
   "cell_type": "code",
   "execution_count": 797,
   "metadata": {},
   "outputs": [
    {
     "data": {
      "image/png": "[encoded data removed]",
      "text/plain": [
       "<Figure size 432x288 with 1 Axes>"
      ]
     },
     "metadata": {
      "needs_background": "light"
     },
     "output_type": "display_data"
    }
   ],
   "source": [
    "plt.scatter(y_test,KNNy_pred)\n",
    "plt.xlabel('Actual Score')\n",
    "plt.ylabel('Predicted Score')\n",
    "plt.title('KNN Regression-Actual vs Predicted')\n",
    "plt.show()"
   ]
  },
  {
   "cell_type": "code",
   "execution_count": 798,
   "metadata": {},
   "outputs": [],
   "source": [
    "#Evaluation"
   ]
  },
  {
   "cell_type": "code",
   "execution_count": 799,
   "metadata": {},
   "outputs": [
    {
     "name": "stdout",
     "output_type": "stream",
     "text": [
      "\n",
      "r2 Score On Train Data: 0.8069680399965311\n",
      "\n",
      "r2 Score On Test Data: 0.7062427974948939\n",
      "\n",
      "\n",
      "Mean Absolute Error: 0.7829861678478899\n",
      "\n",
      "Mean Squared Error: 1.819683230390292\n",
      "\n",
      "Root Mean Squared Error: 1.3489563485859326\n"
     ]
    }
   ],
   "source": [
    "# Calculating R2 Score\n",
    "KNNr2_score_train =KNNregressor.score(x_train, y_train)\n",
    "print('\\nr2 Score On Train Data:',KNNr2_score_train)\n",
    "KNNr2_score_test=KNNregressor.score(x_test,y_test)\n",
    "print('\\nr2 Score On Test Data:',KNNr2_score_test)\n",
    "\n",
    "print('\\n\\nMean Absolute Error:', metrics.mean_absolute_error(y_test, KNNy_pred))\n",
    "print('\\nMean Squared Error:', metrics.mean_squared_error(y_test, KNNy_pred))\n",
    "print('\\nRoot Mean Squared Error:', np.sqrt(metrics.mean_squared_error(y_test, KNNy_pred)))"
   ]
  },
  {
   "cell_type": "code",
   "execution_count": 800,
   "metadata": {},
   "outputs": [],
   "source": [
    "#Validation"
   ]
  },
  {
   "cell_type": "code",
   "execution_count": 801,
   "metadata": {},
   "outputs": [
    {
     "name": "stdout",
     "output_type": "stream",
     "text": [
      "\n",
      "Cross Validation\n",
      "KNN Regression Score: [0.55972244 0.24545203 0.2874309  0.69443339 0.5745933 ]\n",
      "Average KNN Regression score: 0.4723\n"
     ]
    }
   ],
   "source": [
    "KNNscores = cross_val_score(KNNregressor,x_train, y_train, cv=5)\n",
    "print('\\nCross Validation')\n",
    "print('KNN Regression Score:',KNNscores)\n",
    "KNNcross=round(KNNscores.mean(),4)\n",
    "print('Average KNN Regression score:',KNNcross)"
   ]
  },
  {
   "cell_type": "markdown",
   "metadata": {},
   "source": [
    "###### compare Models"
   ]
  },
  {
   "cell_type": "code",
   "execution_count": 802,
   "metadata": {},
   "outputs": [
    {
     "data": {
      "text/html": [
       "<div>\n",
       "<style scoped>\n",
       "    .dataframe tbody tr th:only-of-type {\n",
       "        vertical-align: middle;\n",
       "    }\n",
       "\n",
       "    .dataframe tbody tr th {\n",
       "        vertical-align: top;\n",
       "    }\n",
       "\n",
       "    .dataframe thead th {\n",
       "        text-align: right;\n",
       "    }\n",
       "</style>\n",
       "<table border=\"1\" class=\"dataframe\">\n",
       "  <thead>\n",
       "    <tr style=\"text-align: right;\">\n",
       "      <th></th>\n",
       "      <th>Train Score</th>\n",
       "      <th>Test Score</th>\n",
       "      <th>Validation</th>\n",
       "    </tr>\n",
       "  </thead>\n",
       "  <tbody>\n",
       "    <tr>\n",
       "      <th>Linear Regression</th>\n",
       "      <td>0.381866</td>\n",
       "      <td>0.468738</td>\n",
       "      <td>0.4160</td>\n",
       "    </tr>\n",
       "    <tr>\n",
       "      <th>Lasso</th>\n",
       "      <td>0.124943</td>\n",
       "      <td>0.167040</td>\n",
       "      <td>0.1386</td>\n",
       "    </tr>\n",
       "    <tr>\n",
       "      <th>Decision Tree</th>\n",
       "      <td>0.824911</td>\n",
       "      <td>-0.578456</td>\n",
       "      <td>0.0295</td>\n",
       "    </tr>\n",
       "    <tr>\n",
       "      <th>Random Forest</th>\n",
       "      <td>0.930091</td>\n",
       "      <td>-0.420627</td>\n",
       "      <td>0.1386</td>\n",
       "    </tr>\n",
       "    <tr>\n",
       "      <th>KNN</th>\n",
       "      <td>0.806968</td>\n",
       "      <td>0.706243</td>\n",
       "      <td>0.4723</td>\n",
       "    </tr>\n",
       "  </tbody>\n",
       "</table>\n",
       "</div>"
      ],
      "text/plain": [
       "                   Train Score  Test Score  Validation\n",
       "Linear Regression     0.381866    0.468738      0.4160\n",
       "Lasso                 0.124943    0.167040      0.1386\n",
       "Decision Tree         0.824911   -0.578456      0.0295\n",
       "Random Forest         0.930091   -0.420627      0.1386\n",
       "KNN                   0.806968    0.706243      0.4723"
      ]
     },
     "execution_count": 802,
     "metadata": {},
     "output_type": "execute_result"
    }
   ],
   "source": [
    "trainscore=[LRr2_score_train,LSr2_score_train,DTr2_score_train,RFr2_score_train,KNNr2_score_train]\n",
    "testscore=[LRr2_score_test,LSr2_score_test,DTr2_score_test,RFr2_score_test,KNNr2_score_test]\n",
    "VAlscore=[LRcross,LScross,DTcross,RFcross,KNNcross]\n",
    "col={'Train Score':trainscore,'Test Score':testscore,'Validation':VAlscore}\n",
    "models=['Linear Regression','Lasso','Decision Tree','Random Forest','KNN']\n",
    "dfp=pd.DataFrame(data=col,index=models)\n",
    "dfp"
   ]
  },
  {
   "cell_type": "code",
   "execution_count": 803,
   "metadata": {},
   "outputs": [
    {
     "data": {
      "text/plain": [
       "<AxesSubplot:>"
      ]
     },
     "execution_count": 803,
     "metadata": {},
     "output_type": "execute_result"
    },
    {
     "data": {
      "image/png": "[encoded data removed]",
      "text/plain": [
       "<Figure size 432x288 with 1 Axes>"
      ]
     },
     "metadata": {
      "needs_background": "light"
     },
     "output_type": "display_data"
    }
   ],
   "source": [
    "dfp.plot(kind='bar')"
   ]
  },
  {
   "cell_type": "markdown",
   "metadata": {},
   "source": [
    "###### Hyperparameter Tunining "
   ]
  },
  {
   "cell_type": "code",
   "execution_count": null,
   "metadata": {},
   "outputs": [],
   "source": [
    "#for Linear Regression"
   ]
  },
  {
   "cell_type": "code",
   "execution_count": 804,
   "metadata": {},
   "outputs": [
    {
     "name": "stdout",
     "output_type": "stream",
     "text": [
      "Fitting 5 folds for each of 96 candidates, totalling 480 fits\n",
      "Best Score:  0.41604472437028706\n",
      "Best Params:  {'positive': False, 'normalize': True, 'n_jobs': 1, 'fit_intercept': True, 'copy_X': True}\n"
     ]
    }
   ],
   "source": [
    "fit_intercept=[True,False]\n",
    "normalize=[True,False]\n",
    "copy_X=[True,False]\n",
    "positive=[True,False]\n",
    "n_jobs= [1,5,10, 100,200,500]\n",
    "param_distributions = dict(fit_intercept=fit_intercept,\n",
    "                           normalize=normalize,\n",
    "                           copy_X=copy_X,\n",
    "                           positive=positive,\n",
    "                           n_jobs= n_jobs)\n",
    "\n",
    "random = RandomizedSearchCV(estimator=LRregressor,\n",
    "                            param_distributions=param_distributions,\n",
    "                            verbose=1, n_jobs=-1,\n",
    "                            n_iter=1000)\n",
    "random_result = random.fit(x_train, y_train)\n",
    "\n",
    "print('Best Score: ', random_result.best_score_)\n",
    "print('Best Params: ', random_result.best_params_)"
   ]
  },
  {
   "cell_type": "code",
   "execution_count": null,
   "metadata": {},
   "outputs": [],
   "source": [
    "#for KNN"
   ]
  },
  {
   "cell_type": "code",
   "execution_count": 806,
   "metadata": {},
   "outputs": [
    {
     "name": "stdout",
     "output_type": "stream",
     "text": [
      "Fitting 5 folds for each of 1000 candidates, totalling 5000 fits\n",
      "Best Score:  nan\n",
      "Best Params:  {'weights': 'uniform', 'p': 2, 'n_neighbors': 10, 'n_jobs': 500, 'leaf_size': 2, 'algorithm': 'auto'}\n"
     ]
    }
   ],
   "source": [
    "n_neighbors= [1,5,4,10,30,15,20,100]\n",
    "weights=['uniform','distance']\n",
    "algorithm=['auto','ball_tree','kd_tree','brute']\n",
    "leaf_size=[1,2,4,6,12,10,25,50]\n",
    "p=[1,2,5,7,10,20,24]\n",
    "n_jobs= [1,5,10, 100,200,500]\n",
    "\n",
    "param_distributions = dict(n_neighbors=n_neighbors,\n",
    "                           weights=weights,\n",
    "                           algorithm=algorithm,\n",
    "                           leaf_size=leaf_size,\n",
    "                           p=p,\n",
    "                           n_jobs= n_jobs)\n",
    "\n",
    "random = RandomizedSearchCV(estimator=KNNregressor,\n",
    "                            param_distributions=param_distributions,\n",
    "                            scoring='roc_auc',\n",
    "                            verbose=1, n_jobs=-1,\n",
    "                            n_iter=1000)\n",
    "random_result = random.fit(x_train, y_train)\n",
    "\n",
    "print('Best Score: ', random_result.best_score_)\n",
    "print('Best Params: ', random_result.best_params_)"
   ]
  },
  {
   "cell_type": "markdown",
   "metadata": {},
   "source": [
    "###### Final MOdel"
   ]
  },
  {
   "cell_type": "markdown",
   "metadata": {},
   "source": [
    "*Choosing the Linear Regression as Final Model*\n",
    "<br>*Linear Regression Test Accuray,Train Accuracy and Final Accuracy Score is approx Equal *\n",
    "<br>*final Accuracy is also higher than other models*\n",
    "<br>*Best Score after Hyperparameter tuning is also same*"
   ]
  },
  {
   "cell_type": "markdown",
   "metadata": {},
   "source": [
    "###### REtraining MOdel"
   ]
  },
  {
   "cell_type": "code",
   "execution_count": 808,
   "metadata": {},
   "outputs": [],
   "source": [
    "y_train=df[['capacity_mw','primary_fuel']]\n",
    "X_train=df.drop(['capacity_mw','primary_fuel'],axis=1)"
   ]
  },
  {
   "cell_type": "code",
   "execution_count": 809,
   "metadata": {},
   "outputs": [
    {
     "name": "stdout",
     "output_type": "stream",
     "text": [
      "x_train : (862, 11)\n",
      "y_train : (862, 2)\n"
     ]
    }
   ],
   "source": [
    "PScaler=StandardScaler()\n",
    "PScalerFit=PScaler.fit(X_train)\n",
    "x_train=PScalerFit.transform(X_train)\n",
    "print(\"x_train :\",x_train.shape)\n",
    "print(\"y_train :\",y_train.shape)"
   ]
  },
  {
   "cell_type": "code",
   "execution_count": 811,
   "metadata": {},
   "outputs": [
    {
     "name": "stdout",
     "output_type": "stream",
     "text": [
      "Final Score: 0.35011236788459144\n"
     ]
    }
   ],
   "source": [
    "regressor =LinearRegression(positive=False,normalize=False, n_jobs=1, fit_intercept=True, copy_X=True)\n",
    "Final_Model=regressor.fit(x_train,y_train)\n",
    "\n",
    "# Calculating R2 Score\n",
    "r2_score =regressor.score(x_train, y_train)\n",
    "print('Final Score:',r2_score)\n"
   ]
  },
  {
   "cell_type": "markdown",
   "metadata": {},
   "source": [
    "###### Model Saving"
   ]
  },
  {
   "cell_type": "code",
   "execution_count": 812,
   "metadata": {},
   "outputs": [
    {
     "name": "stdout",
     "output_type": "stream",
     "text": [
      "Model Saved\n"
     ]
    }
   ],
   "source": [
    "import pickle\n",
    "filename='GlobalPowerplant.pk1'\n",
    "pickle.dump(regressor,open(filename,'wb'))\n",
    "print(\"Model Saved\")"
   ]
  },
  {
   "cell_type": "code",
   "execution_count": null,
   "metadata": {},
   "outputs": [],
   "source": []
  },
  {
   "cell_type": "code",
   "execution_count": null,
   "metadata": {},
   "outputs": [],
   "source": []
  },
  {
   "cell_type": "code",
   "execution_count": null,
   "metadata": {},
   "outputs": [],
   "source": []
  },
  {
   "cell_type": "code",
   "execution_count": null,
   "metadata": {},
   "outputs": [],
   "source": []
  },
  {
   "cell_type": "code",
   "execution_count": null,
   "metadata": {},
   "outputs": [],
   "source": []
  },
  {
   "cell_type": "code",
   "execution_count": null,
   "metadata": {},
   "outputs": [],
   "source": []
  },
  {
   "cell_type": "code",
   "execution_count": null,
   "metadata": {},
   "outputs": [],
   "source": []
  },
  {
   "cell_type": "code",
   "execution_count": null,
   "metadata": {},
   "outputs": [],
   "source": []
  },
  {
   "cell_type": "code",
   "execution_count": null,
   "metadata": {},
   "outputs": [],
   "source": []
  }
 ],
 "metadata": {
  "kernelspec": {
   "display_name": "Python 3",
   "language": "python",
   "name": "python3"
  },
  "language_info": {
   "codemirror_mode": {
    "name": "ipython",
    "version": 3
   },
   "file_extension": ".py",
   "mimetype": "text/x-python",
   "name": "python",
   "nbconvert_exporter": "python",
   "pygments_lexer": "ipython3",
   "version": "3.8.5"
  }
 },
 "nbformat": 4,
 "nbformat_minor": 4
}
