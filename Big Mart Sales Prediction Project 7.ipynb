{
 "cells": [
  {
   "cell_type": "markdown",
   "metadata": {},
   "source": [
    "## Big Mart Sales Prediction"
   ]
  },
  {
   "cell_type": "code",
   "execution_count": 514,
   "metadata": {},
   "outputs": [],
   "source": [
    "#collected 2013 sales data for 1559 products across 10 stores in different cities. \n",
    "#predict sale of particular product on particular store\n",
    "\n",
    "import numpy as np\n",
    "import pandas as pd\n",
    "import matplotlib.pyplot as plt\n",
    "import seaborn as sns\n",
    "from sklearn.preprocessing import LabelEncoder,StandardScaler, MinMaxScaler\n",
    "%matplotlib inline\n",
    "import scipy.stats as stat\n",
    "from sklearn.feature_selection import SelectKBest, chi2\n",
    "from sklearn.ensemble import ExtraTreesRegressor\n",
    "from numpy import set_printoptions\n",
    "from sklearn.model_selection import train_test_split\n",
    "import warnings\n",
    "warnings.filterwarnings('ignore')\n",
    "\n",
    "\n",
    "from sklearn.linear_model import LinearRegression\n",
    "from sklearn.tree import DecisionTreeRegressor\n",
    "from sklearn.ensemble import RandomForestRegressor,AdaBoostRegressor, GradientBoostingRegressor\n",
    "from sklearn.neighbors import KNeighborsRegressor \n",
    "from sklearn.metrics import mean_absolute_error, accuracy_score\n",
    "from xgboost import XGBRegressor \n",
    "from sklearn.linear_model import LinearRegression,Lasso,LassoCV,Ridge,RidgeCV\n",
    "from sklearn import metrics\n",
    "from sklearn.metrics import explained_variance_score\n",
    "from sklearn.model_selection import cross_val_score\n",
    "from scipy.stats import randint\n",
    "from sklearn.model_selection import GridSearchCV,  RandomizedSearchCV"
   ]
  },
  {
   "cell_type": "markdown",
   "metadata": {},
   "source": [
    "#### Load Data Set"
   ]
  },
  {
   "cell_type": "code",
   "execution_count": 515,
   "metadata": {},
   "outputs": [],
   "source": [
    "pd.pandas.set_option('display.max_columns',None)\n",
    "df_train=pd.read_csv(\"https://raw.githubusercontent.com/dsrscientist/bigdatamart_rep/master/bigdatamart_Train.csv\")\n",
    "df_test=pd.read_csv(\"https://raw.githubusercontent.com/dsrscientist/bigdatamart_rep/master/bigdatamart_Test.csv\")\n"
   ]
  },
  {
   "cell_type": "markdown",
   "metadata": {},
   "source": [
    "###### tain dataset"
   ]
  },
  {
   "cell_type": "code",
   "execution_count": 516,
   "metadata": {},
   "outputs": [
    {
     "data": {
      "text/html": [
       "<div>\n",
       "<style scoped>\n",
       "    .dataframe tbody tr th:only-of-type {\n",
       "        vertical-align: middle;\n",
       "    }\n",
       "\n",
       "    .dataframe tbody tr th {\n",
       "        vertical-align: top;\n",
       "    }\n",
       "\n",
       "    .dataframe thead th {\n",
       "        text-align: right;\n",
       "    }\n",
       "</style>\n",
       "<table border=\"1\" class=\"dataframe\">\n",
       "  <thead>\n",
       "    <tr style=\"text-align: right;\">\n",
       "      <th></th>\n",
       "      <th>Item_Identifier</th>\n",
       "      <th>Item_Weight</th>\n",
       "      <th>Item_Fat_Content</th>\n",
       "      <th>Item_Visibility</th>\n",
       "      <th>Item_Type</th>\n",
       "      <th>Item_MRP</th>\n",
       "      <th>Outlet_Identifier</th>\n",
       "      <th>Outlet_Establishment_Year</th>\n",
       "      <th>Outlet_Size</th>\n",
       "      <th>Outlet_Location_Type</th>\n",
       "      <th>Outlet_Type</th>\n",
       "      <th>Item_Outlet_Sales</th>\n",
       "    </tr>\n",
       "  </thead>\n",
       "  <tbody>\n",
       "    <tr>\n",
       "      <th>0</th>\n",
       "      <td>FDA15</td>\n",
       "      <td>9.30</td>\n",
       "      <td>Low Fat</td>\n",
       "      <td>0.016047</td>\n",
       "      <td>Dairy</td>\n",
       "      <td>249.8092</td>\n",
       "      <td>OUT049</td>\n",
       "      <td>1999</td>\n",
       "      <td>Medium</td>\n",
       "      <td>Tier 1</td>\n",
       "      <td>Supermarket Type1</td>\n",
       "      <td>3735.1380</td>\n",
       "    </tr>\n",
       "    <tr>\n",
       "      <th>1</th>\n",
       "      <td>DRC01</td>\n",
       "      <td>5.92</td>\n",
       "      <td>Regular</td>\n",
       "      <td>0.019278</td>\n",
       "      <td>Soft Drinks</td>\n",
       "      <td>48.2692</td>\n",
       "      <td>OUT018</td>\n",
       "      <td>2009</td>\n",
       "      <td>Medium</td>\n",
       "      <td>Tier 3</td>\n",
       "      <td>Supermarket Type2</td>\n",
       "      <td>443.4228</td>\n",
       "    </tr>\n",
       "    <tr>\n",
       "      <th>2</th>\n",
       "      <td>FDN15</td>\n",
       "      <td>17.50</td>\n",
       "      <td>Low Fat</td>\n",
       "      <td>0.016760</td>\n",
       "      <td>Meat</td>\n",
       "      <td>141.6180</td>\n",
       "      <td>OUT049</td>\n",
       "      <td>1999</td>\n",
       "      <td>Medium</td>\n",
       "      <td>Tier 1</td>\n",
       "      <td>Supermarket Type1</td>\n",
       "      <td>2097.2700</td>\n",
       "    </tr>\n",
       "    <tr>\n",
       "      <th>3</th>\n",
       "      <td>FDX07</td>\n",
       "      <td>19.20</td>\n",
       "      <td>Regular</td>\n",
       "      <td>0.000000</td>\n",
       "      <td>Fruits and Vegetables</td>\n",
       "      <td>182.0950</td>\n",
       "      <td>OUT010</td>\n",
       "      <td>1998</td>\n",
       "      <td>NaN</td>\n",
       "      <td>Tier 3</td>\n",
       "      <td>Grocery Store</td>\n",
       "      <td>732.3800</td>\n",
       "    </tr>\n",
       "    <tr>\n",
       "      <th>4</th>\n",
       "      <td>NCD19</td>\n",
       "      <td>8.93</td>\n",
       "      <td>Low Fat</td>\n",
       "      <td>0.000000</td>\n",
       "      <td>Household</td>\n",
       "      <td>53.8614</td>\n",
       "      <td>OUT013</td>\n",
       "      <td>1987</td>\n",
       "      <td>High</td>\n",
       "      <td>Tier 3</td>\n",
       "      <td>Supermarket Type1</td>\n",
       "      <td>994.7052</td>\n",
       "    </tr>\n",
       "  </tbody>\n",
       "</table>\n",
       "</div>"
      ],
      "text/plain": [
       "  Item_Identifier  Item_Weight Item_Fat_Content  Item_Visibility  \\\n",
       "0           FDA15         9.30          Low Fat         0.016047   \n",
       "1           DRC01         5.92          Regular         0.019278   \n",
       "2           FDN15        17.50          Low Fat         0.016760   \n",
       "3           FDX07        19.20          Regular         0.000000   \n",
       "4           NCD19         8.93          Low Fat         0.000000   \n",
       "\n",
       "               Item_Type  Item_MRP Outlet_Identifier  \\\n",
       "0                  Dairy  249.8092            OUT049   \n",
       "1            Soft Drinks   48.2692            OUT018   \n",
       "2                   Meat  141.6180            OUT049   \n",
       "3  Fruits and Vegetables  182.0950            OUT010   \n",
       "4              Household   53.8614            OUT013   \n",
       "\n",
       "   Outlet_Establishment_Year Outlet_Size Outlet_Location_Type  \\\n",
       "0                       1999      Medium               Tier 1   \n",
       "1                       2009      Medium               Tier 3   \n",
       "2                       1999      Medium               Tier 1   \n",
       "3                       1998         NaN               Tier 3   \n",
       "4                       1987        High               Tier 3   \n",
       "\n",
       "         Outlet_Type  Item_Outlet_Sales  \n",
       "0  Supermarket Type1          3735.1380  \n",
       "1  Supermarket Type2           443.4228  \n",
       "2  Supermarket Type1          2097.2700  \n",
       "3      Grocery Store           732.3800  \n",
       "4  Supermarket Type1           994.7052  "
      ]
     },
     "execution_count": 516,
     "metadata": {},
     "output_type": "execute_result"
    }
   ],
   "source": [
    "df_train.head()"
   ]
  },
  {
   "cell_type": "markdown",
   "metadata": {},
   "source": [
    "###### test dataset"
   ]
  },
  {
   "cell_type": "code",
   "execution_count": 517,
   "metadata": {},
   "outputs": [
    {
     "data": {
      "text/html": [
       "<div>\n",
       "<style scoped>\n",
       "    .dataframe tbody tr th:only-of-type {\n",
       "        vertical-align: middle;\n",
       "    }\n",
       "\n",
       "    .dataframe tbody tr th {\n",
       "        vertical-align: top;\n",
       "    }\n",
       "\n",
       "    .dataframe thead th {\n",
       "        text-align: right;\n",
       "    }\n",
       "</style>\n",
       "<table border=\"1\" class=\"dataframe\">\n",
       "  <thead>\n",
       "    <tr style=\"text-align: right;\">\n",
       "      <th></th>\n",
       "      <th>Item_Identifier</th>\n",
       "      <th>Item_Weight</th>\n",
       "      <th>Item_Fat_Content</th>\n",
       "      <th>Item_Visibility</th>\n",
       "      <th>Item_Type</th>\n",
       "      <th>Item_MRP</th>\n",
       "      <th>Outlet_Identifier</th>\n",
       "      <th>Outlet_Establishment_Year</th>\n",
       "      <th>Outlet_Size</th>\n",
       "      <th>Outlet_Location_Type</th>\n",
       "      <th>Outlet_Type</th>\n",
       "    </tr>\n",
       "  </thead>\n",
       "  <tbody>\n",
       "    <tr>\n",
       "      <th>0</th>\n",
       "      <td>FDW58</td>\n",
       "      <td>20.750</td>\n",
       "      <td>Low Fat</td>\n",
       "      <td>0.007565</td>\n",
       "      <td>Snack Foods</td>\n",
       "      <td>107.8622</td>\n",
       "      <td>OUT049</td>\n",
       "      <td>1999</td>\n",
       "      <td>Medium</td>\n",
       "      <td>Tier 1</td>\n",
       "      <td>Supermarket Type1</td>\n",
       "    </tr>\n",
       "    <tr>\n",
       "      <th>1</th>\n",
       "      <td>FDW14</td>\n",
       "      <td>8.300</td>\n",
       "      <td>reg</td>\n",
       "      <td>0.038428</td>\n",
       "      <td>Dairy</td>\n",
       "      <td>87.3198</td>\n",
       "      <td>OUT017</td>\n",
       "      <td>2007</td>\n",
       "      <td>NaN</td>\n",
       "      <td>Tier 2</td>\n",
       "      <td>Supermarket Type1</td>\n",
       "    </tr>\n",
       "    <tr>\n",
       "      <th>2</th>\n",
       "      <td>NCN55</td>\n",
       "      <td>14.600</td>\n",
       "      <td>Low Fat</td>\n",
       "      <td>0.099575</td>\n",
       "      <td>Others</td>\n",
       "      <td>241.7538</td>\n",
       "      <td>OUT010</td>\n",
       "      <td>1998</td>\n",
       "      <td>NaN</td>\n",
       "      <td>Tier 3</td>\n",
       "      <td>Grocery Store</td>\n",
       "    </tr>\n",
       "    <tr>\n",
       "      <th>3</th>\n",
       "      <td>FDQ58</td>\n",
       "      <td>7.315</td>\n",
       "      <td>Low Fat</td>\n",
       "      <td>0.015388</td>\n",
       "      <td>Snack Foods</td>\n",
       "      <td>155.0340</td>\n",
       "      <td>OUT017</td>\n",
       "      <td>2007</td>\n",
       "      <td>NaN</td>\n",
       "      <td>Tier 2</td>\n",
       "      <td>Supermarket Type1</td>\n",
       "    </tr>\n",
       "    <tr>\n",
       "      <th>4</th>\n",
       "      <td>FDY38</td>\n",
       "      <td>NaN</td>\n",
       "      <td>Regular</td>\n",
       "      <td>0.118599</td>\n",
       "      <td>Dairy</td>\n",
       "      <td>234.2300</td>\n",
       "      <td>OUT027</td>\n",
       "      <td>1985</td>\n",
       "      <td>Medium</td>\n",
       "      <td>Tier 3</td>\n",
       "      <td>Supermarket Type3</td>\n",
       "    </tr>\n",
       "  </tbody>\n",
       "</table>\n",
       "</div>"
      ],
      "text/plain": [
       "  Item_Identifier  Item_Weight Item_Fat_Content  Item_Visibility    Item_Type  \\\n",
       "0           FDW58       20.750          Low Fat         0.007565  Snack Foods   \n",
       "1           FDW14        8.300              reg         0.038428        Dairy   \n",
       "2           NCN55       14.600          Low Fat         0.099575       Others   \n",
       "3           FDQ58        7.315          Low Fat         0.015388  Snack Foods   \n",
       "4           FDY38          NaN          Regular         0.118599        Dairy   \n",
       "\n",
       "   Item_MRP Outlet_Identifier  Outlet_Establishment_Year Outlet_Size  \\\n",
       "0  107.8622            OUT049                       1999      Medium   \n",
       "1   87.3198            OUT017                       2007         NaN   \n",
       "2  241.7538            OUT010                       1998         NaN   \n",
       "3  155.0340            OUT017                       2007         NaN   \n",
       "4  234.2300            OUT027                       1985      Medium   \n",
       "\n",
       "  Outlet_Location_Type        Outlet_Type  \n",
       "0               Tier 1  Supermarket Type1  \n",
       "1               Tier 2  Supermarket Type1  \n",
       "2               Tier 3      Grocery Store  \n",
       "3               Tier 2  Supermarket Type1  \n",
       "4               Tier 3  Supermarket Type3  "
      ]
     },
     "execution_count": 517,
     "metadata": {},
     "output_type": "execute_result"
    }
   ],
   "source": [
    "df_test.head()"
   ]
  },
  {
   "cell_type": "markdown",
   "metadata": {},
   "source": [
    "###### Dataset Description:\n",
    "#Number of columns:12\n",
    "#Number of rows: 8523\n",
    "#Number of Independent Columns: 11\n",
    "#Number of Dependent Column: 1"
   ]
  },
  {
   "cell_type": "markdown",
   "metadata": {},
   "source": [
    "###### Checking the Dimensions of Dataset"
   ]
  },
  {
   "cell_type": "markdown",
   "metadata": {},
   "source": [
    "###### train dataset"
   ]
  },
  {
   "cell_type": "code",
   "execution_count": 518,
   "metadata": {},
   "outputs": [
    {
     "name": "stdout",
     "output_type": "stream",
     "text": [
      "(8523, 12)\n"
     ]
    }
   ],
   "source": [
    "print(df_train.shape)"
   ]
  },
  {
   "cell_type": "markdown",
   "metadata": {},
   "source": [
    "###### test dataset"
   ]
  },
  {
   "cell_type": "code",
   "execution_count": 519,
   "metadata": {},
   "outputs": [
    {
     "name": "stdout",
     "output_type": "stream",
     "text": [
      "(5681, 11)\n"
     ]
    }
   ],
   "source": [
    "print(df_test.shape)"
   ]
  },
  {
   "cell_type": "markdown",
   "metadata": {},
   "source": [
    "###### summary of a train Dataset"
   ]
  },
  {
   "cell_type": "code",
   "execution_count": 520,
   "metadata": {},
   "outputs": [
    {
     "name": "stdout",
     "output_type": "stream",
     "text": [
      "<class 'pandas.core.frame.DataFrame'>\n",
      "RangeIndex: 8523 entries, 0 to 8522\n",
      "Data columns (total 12 columns):\n",
      " #   Column                     Non-Null Count  Dtype  \n",
      "---  ------                     --------------  -----  \n",
      " 0   Item_Identifier            8523 non-null   object \n",
      " 1   Item_Weight                7060 non-null   float64\n",
      " 2   Item_Fat_Content           8523 non-null   object \n",
      " 3   Item_Visibility            8523 non-null   float64\n",
      " 4   Item_Type                  8523 non-null   object \n",
      " 5   Item_MRP                   8523 non-null   float64\n",
      " 6   Outlet_Identifier          8523 non-null   object \n",
      " 7   Outlet_Establishment_Year  8523 non-null   int64  \n",
      " 8   Outlet_Size                6113 non-null   object \n",
      " 9   Outlet_Location_Type       8523 non-null   object \n",
      " 10  Outlet_Type                8523 non-null   object \n",
      " 11  Item_Outlet_Sales          8523 non-null   float64\n",
      "dtypes: float64(4), int64(1), object(7)\n",
      "memory usage: 799.2+ KB\n",
      "Train Dataset:\n",
      " None\n"
     ]
    }
   ],
   "source": [
    "print('Train Dataset:\\n',df_train.info())"
   ]
  },
  {
   "cell_type": "markdown",
   "metadata": {},
   "source": [
    "###### summary of a test Dataset"
   ]
  },
  {
   "cell_type": "code",
   "execution_count": 521,
   "metadata": {},
   "outputs": [
    {
     "name": "stdout",
     "output_type": "stream",
     "text": [
      "<class 'pandas.core.frame.DataFrame'>\n",
      "RangeIndex: 5681 entries, 0 to 5680\n",
      "Data columns (total 11 columns):\n",
      " #   Column                     Non-Null Count  Dtype  \n",
      "---  ------                     --------------  -----  \n",
      " 0   Item_Identifier            5681 non-null   object \n",
      " 1   Item_Weight                4705 non-null   float64\n",
      " 2   Item_Fat_Content           5681 non-null   object \n",
      " 3   Item_Visibility            5681 non-null   float64\n",
      " 4   Item_Type                  5681 non-null   object \n",
      " 5   Item_MRP                   5681 non-null   float64\n",
      " 6   Outlet_Identifier          5681 non-null   object \n",
      " 7   Outlet_Establishment_Year  5681 non-null   int64  \n",
      " 8   Outlet_Size                4075 non-null   object \n",
      " 9   Outlet_Location_Type       5681 non-null   object \n",
      " 10  Outlet_Type                5681 non-null   object \n",
      "dtypes: float64(3), int64(1), object(7)\n",
      "memory usage: 488.3+ KB\n",
      "Test Dataset:\n",
      " None\n"
     ]
    }
   ],
   "source": [
    "print('Test Dataset:\\n',df_test.info())"
   ]
  },
  {
   "cell_type": "markdown",
   "metadata": {},
   "source": [
    "###### check for missing or null values per column in train dataset"
   ]
  },
  {
   "cell_type": "code",
   "execution_count": 522,
   "metadata": {},
   "outputs": [
    {
     "name": "stdout",
     "output_type": "stream",
     "text": [
      "\n",
      "Train Dataset:\n",
      " Item_Identifier                 0\n",
      "Item_Weight                  1463\n",
      "Item_Fat_Content                0\n",
      "Item_Visibility                 0\n",
      "Item_Type                       0\n",
      "Item_MRP                        0\n",
      "Outlet_Identifier               0\n",
      "Outlet_Establishment_Year       0\n",
      "Outlet_Size                  2410\n",
      "Outlet_Location_Type            0\n",
      "Outlet_Type                     0\n",
      "Item_Outlet_Sales               0\n",
      "dtype: int64\n"
     ]
    }
   ],
   "source": [
    "\n",
    "print('\\nTrain Dataset:\\n',df_train.isnull().sum(axis=0))\n"
   ]
  },
  {
   "cell_type": "markdown",
   "metadata": {},
   "source": [
    "#train Dataset has three data types: float64, int64, object .\n",
    "#Columns has no missing value except Item_Weight and Outlet_Size columns  has missing values.\n",
    "#Item_Weight=1463 and Outlet_Size =2410 missing values."
   ]
  },
  {
   "cell_type": "markdown",
   "metadata": {},
   "source": [
    "###### check for missing or null values per column in test dataset"
   ]
  },
  {
   "cell_type": "code",
   "execution_count": 523,
   "metadata": {},
   "outputs": [
    {
     "name": "stdout",
     "output_type": "stream",
     "text": [
      "\n",
      "Test Dataset\n",
      ": Item_Identifier                 0\n",
      "Item_Weight                   976\n",
      "Item_Fat_Content                0\n",
      "Item_Visibility                 0\n",
      "Item_Type                       0\n",
      "Item_MRP                        0\n",
      "Outlet_Identifier               0\n",
      "Outlet_Establishment_Year       0\n",
      "Outlet_Size                  1606\n",
      "Outlet_Location_Type            0\n",
      "Outlet_Type                     0\n",
      "dtype: int64\n"
     ]
    }
   ],
   "source": [
    "print('\\nTest Dataset\\n:',df_test.isnull().sum(axis=0))"
   ]
  },
  {
   "cell_type": "markdown",
   "metadata": {},
   "source": [
    "#testDataset has three data types: float64, int64, object .\n",
    "#Columns has no missing value except Item_Weight and Outlet_Size columns  has missing values.\n",
    "#Item_Weight=976 and Outlet_Size =1606 missing values."
   ]
  },
  {
   "cell_type": "markdown",
   "metadata": {},
   "source": [
    "###### Getting Each Attribute’s Data Type in train dataset"
   ]
  },
  {
   "cell_type": "code",
   "execution_count": 524,
   "metadata": {},
   "outputs": [
    {
     "name": "stdout",
     "output_type": "stream",
     "text": [
      "Train Dataset:\n",
      " Item_Identifier               object\n",
      "Item_Weight                  float64\n",
      "Item_Fat_Content              object\n",
      "Item_Visibility              float64\n",
      "Item_Type                     object\n",
      "Item_MRP                     float64\n",
      "Outlet_Identifier             object\n",
      "Outlet_Establishment_Year      int64\n",
      "Outlet_Size                   object\n",
      "Outlet_Location_Type          object\n",
      "Outlet_Type                   object\n",
      "Item_Outlet_Sales            float64\n",
      "dtype: object\n"
     ]
    }
   ],
   "source": [
    "print('Train Dataset:\\n',df_train.dtypes)"
   ]
  },
  {
   "cell_type": "markdown",
   "metadata": {},
   "source": [
    "#object Type : 7  (Item_Identifier,Item_Fat_Content,Item_Type,Outlet_Identifier,Outlet_Size,Outlet_Location_Type,Outlet_Type )\n",
    "#float Type  : 4  (Item_Weight,Item_Visibility,Item_MRP,Item_Outlet_Sales )\n",
    "#int Type    : 1  (Outlet_Establishment_Year)"
   ]
  },
  {
   "cell_type": "markdown",
   "metadata": {},
   "source": [
    "###### Getting Each Attribute’s Data Type in test dataset"
   ]
  },
  {
   "cell_type": "code",
   "execution_count": 525,
   "metadata": {},
   "outputs": [
    {
     "name": "stdout",
     "output_type": "stream",
     "text": [
      "\n",
      "Test Dataset:\n",
      " Item_Identifier               object\n",
      "Item_Weight                  float64\n",
      "Item_Fat_Content              object\n",
      "Item_Visibility              float64\n",
      "Item_Type                     object\n",
      "Item_MRP                     float64\n",
      "Outlet_Identifier             object\n",
      "Outlet_Establishment_Year      int64\n",
      "Outlet_Size                   object\n",
      "Outlet_Location_Type          object\n",
      "Outlet_Type                   object\n",
      "dtype: object\n"
     ]
    }
   ],
   "source": [
    "print('\\nTest Dataset:\\n',df_test.dtypes)"
   ]
  },
  {
   "cell_type": "markdown",
   "metadata": {},
   "source": [
    "#object Type : 7  (Item_Identifier,Item_Fat_Content,Item_Type,Outlet_Identifier,Outlet_Size,Outlet_Location_Type,Outlet_Type )\n",
    "#float Type  : 4  (Item_Weight,Item_Visibility,Item_MRP )\n",
    "#int Type    : 1  (Outlet_Establishment_Year)"
   ]
  },
  {
   "cell_type": "markdown",
   "metadata": {},
   "source": [
    "#### TO check which column Type"
   ]
  },
  {
   "cell_type": "markdown",
   "metadata": {},
   "source": [
    "###### Target Variable(Categorical)     : Item_Outlet_Sales\n",
    "#Predictors Variables (Continuous): All are Countinuous Except Item_Outlet_Sales,Item_MRP,\n",
    "                                    Item_Visibility,Item_Weight,Item_Identifier"
   ]
  },
  {
   "cell_type": "markdown",
   "metadata": {},
   "source": [
    "#train dataset"
   ]
  },
  {
   "cell_type": "code",
   "execution_count": 526,
   "metadata": {},
   "outputs": [
    {
     "name": "stdout",
     "output_type": "stream",
     "text": [
      "Train Dataset:\n",
      " Item_Identifier              1559\n",
      "Item_Weight                   415\n",
      "Item_Fat_Content                5\n",
      "Item_Visibility              7880\n",
      "Item_Type                      16\n",
      "Item_MRP                     5938\n",
      "Outlet_Identifier              10\n",
      "Outlet_Establishment_Year       9\n",
      "Outlet_Size                     3\n",
      "Outlet_Location_Type            3\n",
      "Outlet_Type                     4\n",
      "Item_Outlet_Sales            3493\n",
      "dtype: int64\n"
     ]
    }
   ],
   "source": [
    "print('Train Dataset:\\n',df_train.nunique())"
   ]
  },
  {
   "cell_type": "markdown",
   "metadata": {},
   "source": [
    "#test Dataset"
   ]
  },
  {
   "cell_type": "code",
   "execution_count": 527,
   "metadata": {},
   "outputs": [
    {
     "name": "stdout",
     "output_type": "stream",
     "text": [
      "\n",
      "Test Dataset:\n",
      " Item_Identifier              1543\n",
      "Item_Weight                   410\n",
      "Item_Fat_Content                5\n",
      "Item_Visibility              5277\n",
      "Item_Type                      16\n",
      "Item_MRP                     4402\n",
      "Outlet_Identifier              10\n",
      "Outlet_Establishment_Year       9\n",
      "Outlet_Size                     3\n",
      "Outlet_Location_Type            3\n",
      "Outlet_Type                     4\n",
      "dtype: int64\n"
     ]
    }
   ],
   "source": [
    "print('\\nTest Dataset:\\n',df_test.nunique())"
   ]
  },
  {
   "cell_type": "markdown",
   "metadata": {},
   "source": [
    "###### Categorical and Countinuous Features in train Dataset"
   ]
  },
  {
   "cell_type": "code",
   "execution_count": 528,
   "metadata": {},
   "outputs": [
    {
     "name": "stdout",
     "output_type": "stream",
     "text": [
      "Number of Continuous Features: 5\n",
      "Continuous Features:  ['Item_Weight', 'Item_Visibility', 'Item_MRP', 'Outlet_Establishment_Year', 'Item_Outlet_Sales']\n",
      "\n",
      "Number of Categorical Features: 7\n",
      "Categorical Features:  ['Item_Identifier', 'Item_Fat_Content', 'Item_Type', 'Outlet_Identifier', 'Outlet_Size', 'Outlet_Location_Type', 'Outlet_Type']\n"
     ]
    }
   ],
   "source": [
    "# Countinuous Features in Dataset\n",
    "numfeat = [cname for cname in df_train.columns if df_train[cname].dtype != 'O']\n",
    "print(\"Number of Continuous Features: {}\".format(len(numfeat)))\n",
    "print(\"Continuous Features: \",numfeat)\n",
    "\n",
    "# Categorical features in Dataset\n",
    "catfeat = [cname for cname in df_train.columns if df_train[cname].dtype == 'O']\n",
    "print(\"\\nNumber of Categorical Features: {}\".format(len(catfeat)))\n",
    "print(\"Categorical Features: \",catfeat)"
   ]
  },
  {
   "cell_type": "markdown",
   "metadata": {},
   "source": [
    "###### Categorical and Countinuous Features in test Dataset"
   ]
  },
  {
   "cell_type": "code",
   "execution_count": 529,
   "metadata": {},
   "outputs": [
    {
     "name": "stdout",
     "output_type": "stream",
     "text": [
      "Number of Numerical Features: 4\n",
      "Numerical Features:  ['Item_Weight', 'Item_Visibility', 'Item_MRP', 'Outlet_Establishment_Year']\n",
      "\n",
      "Number of Categorical Features: 7\n",
      "Categorical Features:  ['Item_Identifier', 'Item_Fat_Content', 'Item_Type', 'Outlet_Identifier', 'Outlet_Size', 'Outlet_Location_Type', 'Outlet_Type']\n"
     ]
    }
   ],
   "source": [
    "# Countinuous Features in Dataset\n",
    "numfeat = [cname for cname in df_test.columns if df_test[cname].dtype != 'O']\n",
    "print(\"Number of Numerical Features: {}\".format(len(numfeat)))\n",
    "print(\"Numerical Features: \",numfeat)\n",
    "\n",
    "# Categorical features in Dataset\n",
    "catfeat = [cname for cname in df_test.columns if df_test[cname].dtype == 'O']\n",
    "print(\"\\nNumber of Categorical Features: {}\".format(len(catfeat)))\n",
    "print(\"Categorical Features: \",catfeat)\n"
   ]
  },
  {
   "cell_type": "markdown",
   "metadata": {},
   "source": [
    "###### Statistical Description of TRain Dataset"
   ]
  },
  {
   "cell_type": "code",
   "execution_count": 530,
   "metadata": {
    "scrolled": true
   },
   "outputs": [
    {
     "data": {
      "text/html": [
       "<div>\n",
       "<style scoped>\n",
       "    .dataframe tbody tr th:only-of-type {\n",
       "        vertical-align: middle;\n",
       "    }\n",
       "\n",
       "    .dataframe tbody tr th {\n",
       "        vertical-align: top;\n",
       "    }\n",
       "\n",
       "    .dataframe thead th {\n",
       "        text-align: right;\n",
       "    }\n",
       "</style>\n",
       "<table border=\"1\" class=\"dataframe\">\n",
       "  <thead>\n",
       "    <tr style=\"text-align: right;\">\n",
       "      <th></th>\n",
       "      <th>Item_Weight</th>\n",
       "      <th>Item_Visibility</th>\n",
       "      <th>Item_MRP</th>\n",
       "      <th>Outlet_Establishment_Year</th>\n",
       "      <th>Item_Outlet_Sales</th>\n",
       "    </tr>\n",
       "  </thead>\n",
       "  <tbody>\n",
       "    <tr>\n",
       "      <th>count</th>\n",
       "      <td>7060.000000</td>\n",
       "      <td>8523.000000</td>\n",
       "      <td>8523.000000</td>\n",
       "      <td>8523.000000</td>\n",
       "      <td>8523.000000</td>\n",
       "    </tr>\n",
       "    <tr>\n",
       "      <th>mean</th>\n",
       "      <td>12.857645</td>\n",
       "      <td>0.066132</td>\n",
       "      <td>140.992782</td>\n",
       "      <td>1997.831867</td>\n",
       "      <td>2181.288914</td>\n",
       "    </tr>\n",
       "    <tr>\n",
       "      <th>std</th>\n",
       "      <td>4.643456</td>\n",
       "      <td>0.051598</td>\n",
       "      <td>62.275067</td>\n",
       "      <td>8.371760</td>\n",
       "      <td>1706.499616</td>\n",
       "    </tr>\n",
       "    <tr>\n",
       "      <th>min</th>\n",
       "      <td>4.555000</td>\n",
       "      <td>0.000000</td>\n",
       "      <td>31.290000</td>\n",
       "      <td>1985.000000</td>\n",
       "      <td>33.290000</td>\n",
       "    </tr>\n",
       "    <tr>\n",
       "      <th>25%</th>\n",
       "      <td>8.773750</td>\n",
       "      <td>0.026989</td>\n",
       "      <td>93.826500</td>\n",
       "      <td>1987.000000</td>\n",
       "      <td>834.247400</td>\n",
       "    </tr>\n",
       "    <tr>\n",
       "      <th>50%</th>\n",
       "      <td>12.600000</td>\n",
       "      <td>0.053931</td>\n",
       "      <td>143.012800</td>\n",
       "      <td>1999.000000</td>\n",
       "      <td>1794.331000</td>\n",
       "    </tr>\n",
       "    <tr>\n",
       "      <th>75%</th>\n",
       "      <td>16.850000</td>\n",
       "      <td>0.094585</td>\n",
       "      <td>185.643700</td>\n",
       "      <td>2004.000000</td>\n",
       "      <td>3101.296400</td>\n",
       "    </tr>\n",
       "    <tr>\n",
       "      <th>max</th>\n",
       "      <td>21.350000</td>\n",
       "      <td>0.328391</td>\n",
       "      <td>266.888400</td>\n",
       "      <td>2009.000000</td>\n",
       "      <td>13086.964800</td>\n",
       "    </tr>\n",
       "  </tbody>\n",
       "</table>\n",
       "</div>"
      ],
      "text/plain": [
       "       Item_Weight  Item_Visibility     Item_MRP  Outlet_Establishment_Year  \\\n",
       "count  7060.000000      8523.000000  8523.000000                8523.000000   \n",
       "mean     12.857645         0.066132   140.992782                1997.831867   \n",
       "std       4.643456         0.051598    62.275067                   8.371760   \n",
       "min       4.555000         0.000000    31.290000                1985.000000   \n",
       "25%       8.773750         0.026989    93.826500                1987.000000   \n",
       "50%      12.600000         0.053931   143.012800                1999.000000   \n",
       "75%      16.850000         0.094585   185.643700                2004.000000   \n",
       "max      21.350000         0.328391   266.888400                2009.000000   \n",
       "\n",
       "       Item_Outlet_Sales  \n",
       "count        8523.000000  \n",
       "mean         2181.288914  \n",
       "std          1706.499616  \n",
       "min            33.290000  \n",
       "25%           834.247400  \n",
       "50%          1794.331000  \n",
       "75%          3101.296400  \n",
       "max         13086.964800  "
      ]
     },
     "execution_count": 530,
     "metadata": {},
     "output_type": "execute_result"
    }
   ],
   "source": [
    "# Descriptive Continues features\n",
    "df_train.describe(exclude=[object])"
   ]
  },
  {
   "cell_type": "code",
   "execution_count": 531,
   "metadata": {},
   "outputs": [
    {
     "data": {
      "image/png": "[encoded data removed]",
      "text/plain": [
       "<Figure size 1080x504 with 2 Axes>"
      ]
     },
     "metadata": {
      "needs_background": "light"
     },
     "output_type": "display_data"
    }
   ],
   "source": [
    "# Visualization of Statistical distribution of Data\n",
    "plt.figure(figsize=(15,7)) \n",
    "sns.heatmap(round(df_train.describe()[1:].transpose(),2),vmin=.9, vmax=30, center=0,annot=True,fmt='.2f', linewidths=.1, )\n",
    "plt.xticks(fontsize=15)\n",
    "plt.yticks(fontsize=10)\n",
    "plt.title(\"Variable Statistical Summary\")\n",
    "plt.show()"
   ]
  },
  {
   "cell_type": "markdown",
   "metadata": {},
   "source": [
    "#Item_Visibility have min value=0 "
   ]
  },
  {
   "cell_type": "code",
   "execution_count": 533,
   "metadata": {},
   "outputs": [
    {
     "data": {
      "text/html": [
       "<div>\n",
       "<style scoped>\n",
       "    .dataframe tbody tr th:only-of-type {\n",
       "        vertical-align: middle;\n",
       "    }\n",
       "\n",
       "    .dataframe tbody tr th {\n",
       "        vertical-align: top;\n",
       "    }\n",
       "\n",
       "    .dataframe thead th {\n",
       "        text-align: right;\n",
       "    }\n",
       "</style>\n",
       "<table border=\"1\" class=\"dataframe\">\n",
       "  <thead>\n",
       "    <tr style=\"text-align: right;\">\n",
       "      <th></th>\n",
       "      <th>Item_Identifier</th>\n",
       "      <th>Item_Fat_Content</th>\n",
       "      <th>Item_Type</th>\n",
       "      <th>Outlet_Identifier</th>\n",
       "      <th>Outlet_Size</th>\n",
       "      <th>Outlet_Location_Type</th>\n",
       "      <th>Outlet_Type</th>\n",
       "    </tr>\n",
       "  </thead>\n",
       "  <tbody>\n",
       "    <tr>\n",
       "      <th>count</th>\n",
       "      <td>8523</td>\n",
       "      <td>8523</td>\n",
       "      <td>8523</td>\n",
       "      <td>8523</td>\n",
       "      <td>6113</td>\n",
       "      <td>8523</td>\n",
       "      <td>8523</td>\n",
       "    </tr>\n",
       "    <tr>\n",
       "      <th>unique</th>\n",
       "      <td>1559</td>\n",
       "      <td>5</td>\n",
       "      <td>16</td>\n",
       "      <td>10</td>\n",
       "      <td>3</td>\n",
       "      <td>3</td>\n",
       "      <td>4</td>\n",
       "    </tr>\n",
       "    <tr>\n",
       "      <th>top</th>\n",
       "      <td>FDG33</td>\n",
       "      <td>Low Fat</td>\n",
       "      <td>Fruits and Vegetables</td>\n",
       "      <td>OUT027</td>\n",
       "      <td>Medium</td>\n",
       "      <td>Tier 3</td>\n",
       "      <td>Supermarket Type1</td>\n",
       "    </tr>\n",
       "    <tr>\n",
       "      <th>freq</th>\n",
       "      <td>10</td>\n",
       "      <td>5089</td>\n",
       "      <td>1232</td>\n",
       "      <td>935</td>\n",
       "      <td>2793</td>\n",
       "      <td>3350</td>\n",
       "      <td>5577</td>\n",
       "    </tr>\n",
       "  </tbody>\n",
       "</table>\n",
       "</div>"
      ],
      "text/plain": [
       "       Item_Identifier Item_Fat_Content              Item_Type  \\\n",
       "count             8523             8523                   8523   \n",
       "unique            1559                5                     16   \n",
       "top              FDG33          Low Fat  Fruits and Vegetables   \n",
       "freq                10             5089                   1232   \n",
       "\n",
       "       Outlet_Identifier Outlet_Size Outlet_Location_Type        Outlet_Type  \n",
       "count               8523        6113                 8523               8523  \n",
       "unique                10           3                    3                  4  \n",
       "top               OUT027      Medium               Tier 3  Supermarket Type1  \n",
       "freq                 935        2793                 3350               5577  "
      ]
     },
     "execution_count": 533,
     "metadata": {},
     "output_type": "execute_result"
    }
   ],
   "source": [
    "# Descriptive Categorical features\n",
    "df_train.describe(include=[object])"
   ]
  },
  {
   "cell_type": "markdown",
   "metadata": {},
   "source": [
    "###### Statistical Description of TRain Dataset"
   ]
  },
  {
   "cell_type": "code",
   "execution_count": 534,
   "metadata": {},
   "outputs": [
    {
     "data": {
      "text/html": [
       "<div>\n",
       "<style scoped>\n",
       "    .dataframe tbody tr th:only-of-type {\n",
       "        vertical-align: middle;\n",
       "    }\n",
       "\n",
       "    .dataframe tbody tr th {\n",
       "        vertical-align: top;\n",
       "    }\n",
       "\n",
       "    .dataframe thead th {\n",
       "        text-align: right;\n",
       "    }\n",
       "</style>\n",
       "<table border=\"1\" class=\"dataframe\">\n",
       "  <thead>\n",
       "    <tr style=\"text-align: right;\">\n",
       "      <th></th>\n",
       "      <th>Item_Weight</th>\n",
       "      <th>Item_Visibility</th>\n",
       "      <th>Item_MRP</th>\n",
       "      <th>Outlet_Establishment_Year</th>\n",
       "    </tr>\n",
       "  </thead>\n",
       "  <tbody>\n",
       "    <tr>\n",
       "      <th>count</th>\n",
       "      <td>4705.000000</td>\n",
       "      <td>5681.000000</td>\n",
       "      <td>5681.000000</td>\n",
       "      <td>5681.000000</td>\n",
       "    </tr>\n",
       "    <tr>\n",
       "      <th>mean</th>\n",
       "      <td>12.695633</td>\n",
       "      <td>0.065684</td>\n",
       "      <td>141.023273</td>\n",
       "      <td>1997.828903</td>\n",
       "    </tr>\n",
       "    <tr>\n",
       "      <th>std</th>\n",
       "      <td>4.664849</td>\n",
       "      <td>0.051252</td>\n",
       "      <td>61.809091</td>\n",
       "      <td>8.372256</td>\n",
       "    </tr>\n",
       "    <tr>\n",
       "      <th>min</th>\n",
       "      <td>4.555000</td>\n",
       "      <td>0.000000</td>\n",
       "      <td>31.990000</td>\n",
       "      <td>1985.000000</td>\n",
       "    </tr>\n",
       "    <tr>\n",
       "      <th>25%</th>\n",
       "      <td>8.645000</td>\n",
       "      <td>0.027047</td>\n",
       "      <td>94.412000</td>\n",
       "      <td>1987.000000</td>\n",
       "    </tr>\n",
       "    <tr>\n",
       "      <th>50%</th>\n",
       "      <td>12.500000</td>\n",
       "      <td>0.054154</td>\n",
       "      <td>141.415400</td>\n",
       "      <td>1999.000000</td>\n",
       "    </tr>\n",
       "    <tr>\n",
       "      <th>75%</th>\n",
       "      <td>16.700000</td>\n",
       "      <td>0.093463</td>\n",
       "      <td>186.026600</td>\n",
       "      <td>2004.000000</td>\n",
       "    </tr>\n",
       "    <tr>\n",
       "      <th>max</th>\n",
       "      <td>21.350000</td>\n",
       "      <td>0.323637</td>\n",
       "      <td>266.588400</td>\n",
       "      <td>2009.000000</td>\n",
       "    </tr>\n",
       "  </tbody>\n",
       "</table>\n",
       "</div>"
      ],
      "text/plain": [
       "       Item_Weight  Item_Visibility     Item_MRP  Outlet_Establishment_Year\n",
       "count  4705.000000      5681.000000  5681.000000                5681.000000\n",
       "mean     12.695633         0.065684   141.023273                1997.828903\n",
       "std       4.664849         0.051252    61.809091                   8.372256\n",
       "min       4.555000         0.000000    31.990000                1985.000000\n",
       "25%       8.645000         0.027047    94.412000                1987.000000\n",
       "50%      12.500000         0.054154   141.415400                1999.000000\n",
       "75%      16.700000         0.093463   186.026600                2004.000000\n",
       "max      21.350000         0.323637   266.588400                2009.000000"
      ]
     },
     "execution_count": 534,
     "metadata": {},
     "output_type": "execute_result"
    }
   ],
   "source": [
    "# Descriptive Continues features\n",
    "df_test.describe(exclude=[object])"
   ]
  },
  {
   "cell_type": "code",
   "execution_count": 535,
   "metadata": {},
   "outputs": [
    {
     "data": {
      "image/png": "[encoded data removed]",
      "text/plain": [
       "<Figure size 1080x504 with 2 Axes>"
      ]
     },
     "metadata": {
      "needs_background": "light"
     },
     "output_type": "display_data"
    }
   ],
   "source": [
    "# Visualization of Statistical distribution of Data\n",
    "plt.figure(figsize=(15,7)) \n",
    "sns.heatmap(round(df_test.describe()[1:].transpose(),2),vmin=.9, vmax=30, center=0,annot=True,fmt='.2f', linewidths=.1, )\n",
    "plt.xticks(fontsize=15)\n",
    "plt.yticks(fontsize=10)\n",
    "plt.title(\"Variable Statistical Summary\")\n",
    "plt.show()"
   ]
  },
  {
   "cell_type": "code",
   "execution_count": 536,
   "metadata": {},
   "outputs": [
    {
     "data": {
      "text/html": [
       "<div>\n",
       "<style scoped>\n",
       "    .dataframe tbody tr th:only-of-type {\n",
       "        vertical-align: middle;\n",
       "    }\n",
       "\n",
       "    .dataframe tbody tr th {\n",
       "        vertical-align: top;\n",
       "    }\n",
       "\n",
       "    .dataframe thead th {\n",
       "        text-align: right;\n",
       "    }\n",
       "</style>\n",
       "<table border=\"1\" class=\"dataframe\">\n",
       "  <thead>\n",
       "    <tr style=\"text-align: right;\">\n",
       "      <th></th>\n",
       "      <th>Item_Identifier</th>\n",
       "      <th>Item_Fat_Content</th>\n",
       "      <th>Item_Type</th>\n",
       "      <th>Outlet_Identifier</th>\n",
       "      <th>Outlet_Size</th>\n",
       "      <th>Outlet_Location_Type</th>\n",
       "      <th>Outlet_Type</th>\n",
       "    </tr>\n",
       "  </thead>\n",
       "  <tbody>\n",
       "    <tr>\n",
       "      <th>count</th>\n",
       "      <td>5681</td>\n",
       "      <td>5681</td>\n",
       "      <td>5681</td>\n",
       "      <td>5681</td>\n",
       "      <td>4075</td>\n",
       "      <td>5681</td>\n",
       "      <td>5681</td>\n",
       "    </tr>\n",
       "    <tr>\n",
       "      <th>unique</th>\n",
       "      <td>1543</td>\n",
       "      <td>5</td>\n",
       "      <td>16</td>\n",
       "      <td>10</td>\n",
       "      <td>3</td>\n",
       "      <td>3</td>\n",
       "      <td>4</td>\n",
       "    </tr>\n",
       "    <tr>\n",
       "      <th>top</th>\n",
       "      <td>FDW10</td>\n",
       "      <td>Low Fat</td>\n",
       "      <td>Snack Foods</td>\n",
       "      <td>OUT027</td>\n",
       "      <td>Medium</td>\n",
       "      <td>Tier 3</td>\n",
       "      <td>Supermarket Type1</td>\n",
       "    </tr>\n",
       "    <tr>\n",
       "      <th>freq</th>\n",
       "      <td>8</td>\n",
       "      <td>3396</td>\n",
       "      <td>789</td>\n",
       "      <td>624</td>\n",
       "      <td>1862</td>\n",
       "      <td>2233</td>\n",
       "      <td>3717</td>\n",
       "    </tr>\n",
       "  </tbody>\n",
       "</table>\n",
       "</div>"
      ],
      "text/plain": [
       "       Item_Identifier Item_Fat_Content    Item_Type Outlet_Identifier  \\\n",
       "count             5681             5681         5681              5681   \n",
       "unique            1543                5           16                10   \n",
       "top              FDW10          Low Fat  Snack Foods            OUT027   \n",
       "freq                 8             3396          789               624   \n",
       "\n",
       "       Outlet_Size Outlet_Location_Type        Outlet_Type  \n",
       "count         4075                 5681               5681  \n",
       "unique           3                    3                  4  \n",
       "top         Medium               Tier 3  Supermarket Type1  \n",
       "freq          1862                 2233               3717  "
      ]
     },
     "execution_count": 536,
     "metadata": {},
     "output_type": "execute_result"
    }
   ],
   "source": [
    "# Descriptive Categorical features\n",
    "df_test.describe(include=[object])"
   ]
  },
  {
   "cell_type": "markdown",
   "metadata": {},
   "source": [
    "###### Visualization of Cardinality of All Features and Target in train Dataset"
   ]
  },
  {
   "cell_type": "code",
   "execution_count": 537,
   "metadata": {},
   "outputs": [
    {
     "data": {
      "text/plain": [
       "Text(0.5, 1.0, 'Cardinality')"
      ]
     },
     "execution_count": 537,
     "metadata": {},
     "output_type": "execute_result"
    },
    {
     "data": {
      "image/png": "[encoded data removed]",
      "text/plain": [
       "<Figure size 864x288 with 1 Axes>"
      ]
     },
     "metadata": {
      "needs_background": "light"
     },
     "output_type": "display_data"
    }
   ],
   "source": [
    "df_train.nunique().plot.bar(figsize=(12,4))\n",
    "plt.ylabel('Number of unique categories')\n",
    "plt.xlabel('Variables')\n",
    "plt.title('Cardinality')"
   ]
  },
  {
   "cell_type": "code",
   "execution_count": 538,
   "metadata": {},
   "outputs": [
    {
     "name": "stdout",
     "output_type": "stream",
     "text": [
      "Cardinality of Item_Weight are     : 416\n",
      "Cardinality of Item_Visibility are     : 7880\n",
      "Cardinality of Item_MRP are     : 5938\n",
      "Cardinality of Outlet_Establishment_Year are     : 9\n"
     ]
    }
   ],
   "source": [
    "#cardinality check for Countinuous features\n",
    "\n",
    "#low cardinality Countinuous features:Outlet_Establishment_Year\n",
    "#high cardinality Countinuous features:Item_Weight,Item_Visibility,Item_MRP\n",
    "#high cardinality Target: Item_Outlet_Sale\n",
    "\n",
    "for i in numfeat:\n",
    "    uval = len(df_train[i].unique())\n",
    "    print(\"Cardinality of {} are     : {}\".format(i, uval))"
   ]
  },
  {
   "cell_type": "code",
   "execution_count": 539,
   "metadata": {},
   "outputs": [
    {
     "name": "stdout",
     "output_type": "stream",
     "text": [
      "Cardinality of Item_Identifier are     : 1559\n",
      "Cardinality of Item_Fat_Content are     : 5\n",
      "Cardinality of Item_Type are     : 16\n",
      "Cardinality of Outlet_Identifier are     : 10\n",
      "Cardinality of Outlet_Size are     : 4\n",
      "Cardinality of Outlet_Location_Type are     : 3\n",
      "Cardinality of Outlet_Type are     : 4\n"
     ]
    }
   ],
   "source": [
    "#cardinality check for Categorical features:\n",
    "#low cardinality Categorical features:Item_Fat_Content,Item_Type,Outlet_Identifier,Outlet_Size,Outlet_Location_Type,Outlet_Type\n",
    "#high cardinality Categorical features:Item_identifier \n",
    "\n",
    "for i in catfeat:\n",
    "    uval = len(df_train[i].unique())\n",
    "    print(\"Cardinality of {} are     : {}\".format(i, uval))"
   ]
  },
  {
   "cell_type": "markdown",
   "metadata": {},
   "source": [
    "###### Visualization of Cardinality of All Features and Target in train Dataset"
   ]
  },
  {
   "cell_type": "code",
   "execution_count": 540,
   "metadata": {},
   "outputs": [
    {
     "data": {
      "text/plain": [
       "Text(0.5, 1.0, 'Cardinality')"
      ]
     },
     "execution_count": 540,
     "metadata": {},
     "output_type": "execute_result"
    },
    {
     "data": {
      "image/png": "[encoded data removed]",
      "text/plain": [
       "<Figure size 792x288 with 1 Axes>"
      ]
     },
     "metadata": {
      "needs_background": "light"
     },
     "output_type": "display_data"
    }
   ],
   "source": [
    "# Visualization of Cardinality of All Features and Target in Dataset\n",
    "df_test.nunique().plot.bar(figsize=(11,4))\n",
    "plt.ylabel('Number of unique categories')\n",
    "plt.xlabel('Variables')\n",
    "plt.title('Cardinality')"
   ]
  },
  {
   "cell_type": "code",
   "execution_count": 541,
   "metadata": {},
   "outputs": [
    {
     "name": "stdout",
     "output_type": "stream",
     "text": [
      "Cardinality of Item_Weight are     : 411\n",
      "Cardinality of Item_Visibility are     : 5277\n",
      "Cardinality of Item_MRP are     : 4402\n",
      "Cardinality of Outlet_Establishment_Year are     : 9\n"
     ]
    }
   ],
   "source": [
    "#cardinality check for Countinuous features\n",
    "\n",
    "#low cardinality Countinuous features:Outlet_Establishment_Year\n",
    "#high cardinality Countinuous features:Item_Weight,Item_Visibility,Item_MRP\n",
    "#high cardinality Target: Item_Outlet_Sale\n",
    "\n",
    "for i in numfeat:\n",
    "    uval = len(df_test[i].unique())\n",
    "    print(\"Cardinality of {} are     : {}\".format(i, uval))"
   ]
  },
  {
   "cell_type": "code",
   "execution_count": 542,
   "metadata": {},
   "outputs": [
    {
     "name": "stdout",
     "output_type": "stream",
     "text": [
      "Cardinality of Item_Identifier are     : 1543\n",
      "Cardinality of Item_Fat_Content are     : 5\n",
      "Cardinality of Item_Type are     : 16\n",
      "Cardinality of Outlet_Identifier are     : 10\n",
      "Cardinality of Outlet_Size are     : 4\n",
      "Cardinality of Outlet_Location_Type are     : 3\n",
      "Cardinality of Outlet_Type are     : 4\n"
     ]
    }
   ],
   "source": [
    "#cardinality check for Categorical features:\n",
    "#low cardinality Categorical features:Item_Fat_Content,Item_Type,Outlet_Identifier,Outlet_Size,Outlet_Location_Type,Outlet_Type\n",
    "#high cardinality Categorical features:Item_identifier \n",
    "\n",
    "for i in catfeat:\n",
    "    uval = len(df_test[i].unique())\n",
    "    print(\"Cardinality of {} are     : {}\".format(i, uval))"
   ]
  },
  {
   "cell_type": "markdown",
   "metadata": {},
   "source": [
    "###### check for duplicate rows"
   ]
  },
  {
   "cell_type": "code",
   "execution_count": 543,
   "metadata": {},
   "outputs": [
    {
     "data": {
      "text/plain": [
       "0"
      ]
     },
     "execution_count": 543,
     "metadata": {},
     "output_type": "execute_result"
    }
   ],
   "source": [
    "# check for duplicate rows in train dataset\n",
    "sum(df_train.duplicated())"
   ]
  },
  {
   "cell_type": "code",
   "execution_count": 544,
   "metadata": {},
   "outputs": [
    {
     "data": {
      "text/plain": [
       "0"
      ]
     },
     "execution_count": 544,
     "metadata": {},
     "output_type": "execute_result"
    }
   ],
   "source": [
    "# check for duplicate rows in test dataset\n",
    "sum(df_test.duplicated())"
   ]
  },
  {
   "cell_type": "markdown",
   "metadata": {},
   "source": [
    "#### HAndling MIssing values"
   ]
  },
  {
   "cell_type": "markdown",
   "metadata": {},
   "source": [
    "###### Handling Missing values in Categorical and continuous Features in train dataset"
   ]
  },
  {
   "cell_type": "code",
   "execution_count": 545,
   "metadata": {},
   "outputs": [
    {
     "name": "stdout",
     "output_type": "stream",
     "text": [
      "Missing values in Categorical Features:\n",
      "Item_Identifier            0\n",
      "Item_Fat_Content           0\n",
      "Item_Type                  0\n",
      "Outlet_Identifier          0\n",
      "Outlet_Size             2410\n",
      "Outlet_Location_Type       0\n",
      "Outlet_Type                0\n",
      "dtype: int64\n"
     ]
    },
    {
     "data": {
      "text/plain": [
       "Item_Identifier         0\n",
       "Item_Fat_Content        0\n",
       "Item_Type               0\n",
       "Outlet_Identifier       0\n",
       "Outlet_Size             0\n",
       "Outlet_Location_Type    0\n",
       "Outlet_Type             0\n",
       "dtype: int64"
      ]
     },
     "execution_count": 545,
     "metadata": {},
     "output_type": "execute_result"
    }
   ],
   "source": [
    "#Handling Missing values in Categorical Features:\n",
    "print('Missing values in Categorical Features:')  \n",
    "print(df_train[catfeat].isnull().sum(axis=0))\n",
    "#df[catfeat].isnull().sum(axis=0).plot(kind='barh')\n",
    "\n",
    "# In Outlet_Size categorical features filling missing values by mode\n",
    "df_train['Outlet_Size'].fillna(df_train['Outlet_Size'].mode()[0], inplace=True)\n",
    "df_train[catfeat].isnull().sum(axis=0)"
   ]
  },
  {
   "cell_type": "markdown",
   "metadata": {},
   "source": [
    "###### Handling Missing values in Categorical and continuous Features in train dataset"
   ]
  },
  {
   "cell_type": "code",
   "execution_count": 546,
   "metadata": {},
   "outputs": [
    {
     "name": "stdout",
     "output_type": "stream",
     "text": [
      "Missing values in Categorical Features:\n",
      "Item_Identifier            0\n",
      "Item_Fat_Content           0\n",
      "Item_Type                  0\n",
      "Outlet_Identifier          0\n",
      "Outlet_Size             1606\n",
      "Outlet_Location_Type       0\n",
      "Outlet_Type                0\n",
      "dtype: int64\n"
     ]
    },
    {
     "data": {
      "text/plain": [
       "Item_Identifier         0\n",
       "Item_Fat_Content        0\n",
       "Item_Type               0\n",
       "Outlet_Identifier       0\n",
       "Outlet_Size             0\n",
       "Outlet_Location_Type    0\n",
       "Outlet_Type             0\n",
       "dtype: int64"
      ]
     },
     "execution_count": 546,
     "metadata": {},
     "output_type": "execute_result"
    }
   ],
   "source": [
    "#Handling Missing values in Categorical Features:\n",
    "print('Missing values in Categorical Features:')  \n",
    "print(df_test[catfeat].isnull().sum(axis=0))\n",
    "#df[catfeat].isnull().sum(axis=0).plot(kind='barh')\n",
    "\n",
    "# In Outlet_Size categorical features filling missing values by mode\n",
    "df_test['Outlet_Size'].fillna(df_test['Outlet_Size'].mode()[0], inplace=True)\n",
    "df_test[catfeat].isnull().sum(axis=0)"
   ]
  },
  {
   "cell_type": "code",
   "execution_count": 547,
   "metadata": {},
   "outputs": [],
   "source": [
    "#high cardinality Countinuous features\n",
    "# Feature Engineering of Item_Visibility,Item_MRP and Item_Outlet_Sales column to decrease high cardinality\n",
    "df_train[\"Item_Visibility\"]=df_train[\"Item_Visibility\"].round(2)\n",
    "\n",
    "df_train[\"Item_MRP\"] = df_train[\"Item_MRP\"].round(0)\n",
    "df_train[\"Item_MRP\"] = df_train[\"Item_MRP\"].astype(float).astype(int)\n",
    "\n",
    "\n",
    "df_train[\"Item_Outlet_Sales\"]=df_train[\"Item_Outlet_Sales\"].round(0)\n",
    "df_train[\"Item_Outlet_Sales\"] = df_train[\"Item_Outlet_Sales\"].astype(float).astype(int)"
   ]
  },
  {
   "cell_type": "code",
   "execution_count": 548,
   "metadata": {},
   "outputs": [],
   "source": [
    "#high cardinality Countinuous features\n",
    "# Feature Engineering of Item_Visibility,Item_MRP and Item_Outlet_Sales column to decrease high cardinality\n",
    "df_test[\"Item_Visibility\"]=df_test[\"Item_Visibility\"].round(2)\n",
    "\n",
    "df_test[\"Item_MRP\"] = df_test[\"Item_MRP\"].round(0)\n",
    "df_test[\"Item_MRP\"] = df_test[\"Item_MRP\"].astype(float).astype(int)\n"
   ]
  },
  {
   "cell_type": "markdown",
   "metadata": {},
   "source": [
    "###### Encoding "
   ]
  },
  {
   "cell_type": "markdown",
   "metadata": {},
   "source": [
    "#train dataset"
   ]
  },
  {
   "cell_type": "code",
   "execution_count": 549,
   "metadata": {},
   "outputs": [
    {
     "name": "stdout",
     "output_type": "stream",
     "text": [
      "\n",
      "Train Dataset:\n",
      "\n",
      "[0 1]\n",
      "[1 2 0]\n",
      "[0 2 1]\n",
      "[1 2 0 3]\n"
     ]
    }
   ],
   "source": [
    "# Encoding Categorical feature\n",
    "print('\\nTrain Dataset:\\n')\n",
    "#Item_Fat_Content replace value\n",
    "df_train['Item_Fat_Content'].replace({'LF':0, 'Low Fat': 0,'low fat': 0,'Regular': 1,'reg':1}, inplace = True)\n",
    "print(df_train['Item_Fat_Content'].unique())\n",
    "\n",
    "#Outlet_Size replace value\n",
    "df_train['Outlet_Size'].replace({'High':2, 'Medium': 1,'Small': 0}, inplace = True)\n",
    "print(df_train['Outlet_Size'].unique())\n",
    "\n",
    "#Outlet_Location_Type replace value\n",
    "df_train['Outlet_Location_Type'].replace({'Tier 1':0, 'Tier 2': 1,'Tier 3': 2}, inplace = True)\n",
    "print(df_train['Outlet_Location_Type'].unique())\n",
    "\n",
    "#Outlet_Type replace value\n",
    "df_train['Outlet_Type'].replace({'Grocery Store':0, 'Supermarket Type1': 1,'Supermarket Type2': 2,'Supermarket Type3': 3}, inplace = True)\n",
    "print(df_train['Outlet_Type'].unique())\n",
    "\n",
    "#Outlet_Identifier,Item_Type and Item_Identifier Encoding\n",
    "df_train[[\"Outlet_Identifier\"]]=df_train[[\"Outlet_Identifier\"]].apply(LabelEncoder().fit_transform)\n",
    "df_train[[\"Item_Type\"]]=df_train[[\"Item_Type\"]].apply(LabelEncoder().fit_transform)\n",
    "df_train[[\"Item_Identifier\"]]=df_train[[\"Item_Identifier\"]].apply(LabelEncoder().fit_transform)\n",
    "\n"
   ]
  },
  {
   "cell_type": "markdown",
   "metadata": {},
   "source": [
    "#test dataset"
   ]
  },
  {
   "cell_type": "code",
   "execution_count": 550,
   "metadata": {},
   "outputs": [
    {
     "name": "stdout",
     "output_type": "stream",
     "text": [
      "\n",
      "Test Dataset:\n",
      "\n",
      "[0 1]\n",
      "[1 0 2]\n",
      "[0 1 2]\n",
      "[1 0 3 2]\n"
     ]
    }
   ],
   "source": [
    "\n",
    "# Encoding Categorical feature\n",
    "print('\\nTest Dataset:\\n')\n",
    "#Item_Fat_Content replace value\n",
    "df_test['Item_Fat_Content'].replace({'LF':0, 'Low Fat': 0,'low fat': 0,'Regular': 1,'reg':1}, inplace = True)\n",
    "print(df_test['Item_Fat_Content'].unique())\n",
    "\n",
    "#Outlet_Size replace value\n",
    "df_test['Outlet_Size'].replace({'High':2, 'Medium': 1,'Small': 0}, inplace = True)\n",
    "print(df_test['Outlet_Size'].unique())\n",
    "\n",
    "#Outlet_Location_Type replace value\n",
    "df_test['Outlet_Location_Type'].replace({'Tier 1':0, 'Tier 2': 1,'Tier 3': 2}, inplace = True)\n",
    "print(df_test['Outlet_Location_Type'].unique())\n",
    "\n",
    "#Outlet_Type replace value\n",
    "df_test['Outlet_Type'].replace({'Grocery Store':0, 'Supermarket Type1': 1,'Supermarket Type2': 2,'Supermarket Type3': 3}, inplace = True)\n",
    "print(df_test['Outlet_Type'].unique())\n",
    "\n",
    "#Outlet_Identifier,Item_Type and Item_Identifier Encoding\n",
    "df_test[[\"Outlet_Identifier\"]]=df_test[[\"Outlet_Identifier\"]].apply(LabelEncoder().fit_transform)\n",
    "df_test[[\"Item_Type\"]]=df_test[[\"Item_Type\"]].apply(LabelEncoder().fit_transform)\n",
    "df_test[[\"Item_Identifier\"]]=df_test[[\"Item_Identifier\"]].apply(LabelEncoder().fit_transform)\n",
    "\n",
    "\n",
    "\n"
   ]
  },
  {
   "cell_type": "markdown",
   "metadata": {},
   "source": [
    "##### check for Outliers"
   ]
  },
  {
   "cell_type": "markdown",
   "metadata": {},
   "source": [
    "###### check for Outliers in train dataset"
   ]
  },
  {
   "cell_type": "code",
   "execution_count": 551,
   "metadata": {},
   "outputs": [
    {
     "data": {
      "image/png": "[encoded data removed]",
      "text/plain": [
       "<Figure size 1296x360 with 5 Axes>"
      ]
     },
     "metadata": {
      "needs_background": "light"
     },
     "output_type": "display_data"
    }
   ],
   "source": [
    "# check for Outliers for Continuous features\n",
    "colslst1=['Item_Weight', 'Item_Visibility', 'Item_MRP', 'Outlet_Establishment_Year', 'Item_Outlet_Sales']\n",
    "fig, pltcan=plt.subplots(nrows=1, ncols=len(colslst1), figsize=(18,5))\n",
    "for predcol , i in zip(colslst1, range(len(colslst1))):\n",
    "    df_train.boxplot(column=predcol, figsize=(2,10), vert=True, ax=pltcan[i])"
   ]
  },
  {
   "cell_type": "markdown",
   "metadata": {},
   "source": [
    "#there is outlier in Item_visibility and Item_Outlet_Sales"
   ]
  },
  {
   "cell_type": "code",
   "execution_count": 552,
   "metadata": {},
   "outputs": [
    {
     "data": {
      "image/png": "[encoded data removed]",
      "text/plain": [
       "<Figure size 1296x360 with 7 Axes>"
      ]
     },
     "metadata": {
      "needs_background": "light"
     },
     "output_type": "display_data"
    }
   ],
   "source": [
    "# check for Outliers for Categorical features\n",
    "colslst1=['Item_Identifier','Item_Fat_Content','Item_Type','Outlet_Identifier','Outlet_Size','Outlet_Location_Type','Outlet_Type']\n",
    "fig, pltcan=plt.subplots(nrows=1, ncols=len(colslst1), figsize=(18,5))\n",
    "for predcol , i in zip(colslst1, range(len(colslst1))):\n",
    "     df_train.boxplot(column=predcol, figsize=(2,10), vert=True, ax=pltcan[i])"
   ]
  },
  {
   "cell_type": "markdown",
   "metadata": {},
   "source": [
    "###### check for Outliers in test dataset"
   ]
  },
  {
   "cell_type": "code",
   "execution_count": 553,
   "metadata": {},
   "outputs": [
    {
     "data": {
      "image/png": "[encoded data removed]",
      "text/plain": [
       "<Figure size 1296x360 with 4 Axes>"
      ]
     },
     "metadata": {
      "needs_background": "light"
     },
     "output_type": "display_data"
    }
   ],
   "source": [
    "# check for Outliers for Continuous features\n",
    "colslst1=['Item_Weight', 'Item_Visibility', 'Item_MRP', 'Outlet_Establishment_Year']\n",
    "fig, pltcan=plt.subplots(nrows=1, ncols=len(colslst1), figsize=(18,5))\n",
    "for predcol , i in zip(colslst1, range(len(colslst1))):\n",
    "    df_test.boxplot(column=predcol, figsize=(2,10), vert=True, ax=pltcan[i])"
   ]
  },
  {
   "cell_type": "markdown",
   "metadata": {},
   "source": [
    "#there is outlier in Item_visibility and Item_Outlet_Sales"
   ]
  },
  {
   "cell_type": "code",
   "execution_count": 554,
   "metadata": {},
   "outputs": [
    {
     "data": {
      "image/png": "[encoded data removed]",
      "text/plain": [
       "<Figure size 1296x360 with 7 Axes>"
      ]
     },
     "metadata": {
      "needs_background": "light"
     },
     "output_type": "display_data"
    }
   ],
   "source": [
    "# check for Outliers for Categorical features\n",
    "colslst1=['Item_Identifier','Item_Fat_Content','Item_Type','Outlet_Identifier','Outlet_Size','Outlet_Location_Type','Outlet_Type']\n",
    "fig, pltcan=plt.subplots(nrows=1, ncols=len(colslst1), figsize=(18,5))\n",
    "for predcol , i in zip(colslst1, range(len(colslst1))):\n",
    "     df_test.boxplot(column=predcol, figsize=(2,10), vert=True, ax=pltcan[i])"
   ]
  },
  {
   "cell_type": "markdown",
   "metadata": {},
   "source": [
    "#living Outlet_type as it is."
   ]
  },
  {
   "cell_type": "markdown",
   "metadata": {},
   "source": [
    "###### removing outliers"
   ]
  },
  {
   "cell_type": "markdown",
   "metadata": {},
   "source": [
    "#removing outliers from train dataset"
   ]
  },
  {
   "cell_type": "code",
   "execution_count": 555,
   "metadata": {},
   "outputs": [],
   "source": [
    "\n",
    "fout = ['Item_Visibility','Item_Outlet_Sales']\n",
    "for f in fout:\n",
    "    q1 = df_train[f].quantile(0.25)\n",
    "    q3 = df_train[f].quantile(0.75)\n",
    "    IQR = q3-q1\n",
    "    lolimit = q1 - (IQR*1.5)\n",
    "    uplimit = q3 + (IQR*1.5)\n",
    "    df_train.loc[df_train[f]<lolimit,f] = lolimit\n",
    "    df_train.loc[df_train[f]>uplimit,f] = uplimit\n"
   ]
  },
  {
   "cell_type": "markdown",
   "metadata": {},
   "source": [
    "#removing outliers from test dataset"
   ]
  },
  {
   "cell_type": "code",
   "execution_count": 556,
   "metadata": {},
   "outputs": [],
   "source": [
    "  \n",
    "fout = ['Item_Visibility']\n",
    "for f in fout:\n",
    "    q1 = df_test[f].quantile(0.25)\n",
    "    q3 = df_test[f].quantile(0.75)\n",
    "    IQR = q3-q1\n",
    "    lolimit = q1 - (IQR*1.5)\n",
    "    uplimit = q3 + (IQR*1.5)\n",
    "    df_test.loc[df_test[f]<lolimit,f] = lolimit\n",
    "    df_test.loc[df_test[f]>uplimit,f] = uplimit"
   ]
  },
  {
   "cell_type": "markdown",
   "metadata": {},
   "source": [
    "###### Handling Missing values"
   ]
  },
  {
   "cell_type": "code",
   "execution_count": 557,
   "metadata": {},
   "outputs": [],
   "source": [
    "#train dataset"
   ]
  },
  {
   "cell_type": "code",
   "execution_count": 558,
   "metadata": {},
   "outputs": [
    {
     "name": "stdout",
     "output_type": "stream",
     "text": [
      "\n",
      "Train Dataset:\n",
      " Item_Weight                  1463\n",
      "Item_Visibility                 0\n",
      "Item_MRP                        0\n",
      "Outlet_Establishment_Year       0\n",
      "dtype: int64\n"
     ]
    },
    {
     "data": {
      "text/plain": [
       "False    8523\n",
       "Name: Item_Visibility, dtype: int64"
      ]
     },
     "execution_count": 558,
     "metadata": {},
     "output_type": "execute_result"
    }
   ],
   "source": [
    "#Handling Missing values in Countinuous Features:\n",
    "print('\\nTrain Dataset:\\n',df_train[numfeat].isnull().sum(axis=0))\n",
    "#df[numfeat].isnull().sum(axis=0).plot(kind='barh')\n",
    "\n",
    "# In Item_Weight Continues features filling missing values by mean\n",
    "df_train['Item_Weight'].fillna(df_train['Item_Weight'].mean(), inplace=True)\n",
    "df_train[numfeat].isnull().sum(axis=0)\n",
    "\n",
    "# In Item_Visibility Continues features filling zero values by mean\n",
    "df_train['Item_Visibility'] = df_train['Item_Visibility'].replace([0],df_train['Item_Visibility'].mean())\n",
    "(df_train['Item_Visibility']==0).value_counts() \n",
    "\n"
   ]
  },
  {
   "cell_type": "code",
   "execution_count": 559,
   "metadata": {},
   "outputs": [],
   "source": [
    "#test Dataset"
   ]
  },
  {
   "cell_type": "code",
   "execution_count": 560,
   "metadata": {},
   "outputs": [
    {
     "name": "stdout",
     "output_type": "stream",
     "text": [
      "\n",
      "Test Dataset:\n",
      " Item_Weight                  976\n",
      "Item_Visibility                0\n",
      "Item_MRP                       0\n",
      "Outlet_Establishment_Year      0\n",
      "dtype: int64\n"
     ]
    },
    {
     "data": {
      "text/plain": [
       "False    5681\n",
       "Name: Item_Visibility, dtype: int64"
      ]
     },
     "execution_count": 560,
     "metadata": {},
     "output_type": "execute_result"
    }
   ],
   "source": [
    "#Handling Missing values in Countinuous Features:\n",
    "print('\\nTest Dataset:\\n',df_test[numfeat].isnull().sum(axis=0))\n",
    "#df[numfeat].isnull().sum(axis=0).plot(kind='barh')\n",
    "\n",
    "# In Item_Weight Continues features filling missing values by mean\n",
    "df_test['Item_Weight'].fillna(df_test['Item_Weight'].mean(), inplace=True)\n",
    "df_test[numfeat].isnull().sum(axis=0)\n",
    "\n",
    "# In Item_Visibility Continues features filling zero values by mean\n",
    "df_test['Item_Visibility'] = df_test['Item_Visibility'].replace([0],df_test['Item_Visibility'].mean())\n",
    "(df_test['Item_Visibility']==0).value_counts() "
   ]
  },
  {
   "cell_type": "markdown",
   "metadata": {},
   "source": [
    "###### reducing Cardiniality"
   ]
  },
  {
   "cell_type": "code",
   "execution_count": 561,
   "metadata": {},
   "outputs": [],
   "source": [
    "#high cardinality Countinuous features in train dataset\n",
    "# Feature Engineering of Item_Weight column to decrease high cardinality\n",
    "df_train[\"Item_Weight\"] = df_train[\"Item_Weight\"].round(0)\n",
    "df_train[\"Item_Weight\"] = df_train[\"Item_Weight\"].astype(float).astype(int)\n",
    "\n",
    "\n",
    "#high cardinality Countinuous features in test dataset\n",
    "# Feature Engineering of Item_Weight column to decrease high cardinality\n",
    "df_test[\"Item_Weight\"] = df_test[\"Item_Weight\"].round(0)\n",
    "df_test[\"Item_Weight\"] = df_test[\"Item_Weight\"].astype(float).astype(int)"
   ]
  },
  {
   "cell_type": "markdown",
   "metadata": {},
   "source": [
    "###### checking outlier after removing "
   ]
  },
  {
   "cell_type": "code",
   "execution_count": 562,
   "metadata": {},
   "outputs": [
    {
     "data": {
      "image/png": "[encoded data removed]",
      "text/plain": [
       "<Figure size 1296x360 with 5 Axes>"
      ]
     },
     "metadata": {
      "needs_background": "light"
     },
     "output_type": "display_data"
    }
   ],
   "source": [
    "# check for Outliers After Removel in train dataset\n",
    "colslst1=['Item_Weight', 'Item_Visibility', 'Item_MRP', 'Outlet_Establishment_Year', 'Item_Outlet_Sales']\n",
    "fig, pltcan=plt.subplots(nrows=1, ncols=len(colslst1), figsize=(18,5))\n",
    "for predcol , i in zip(colslst1, range(len(colslst1))):\n",
    "    df_train.boxplot(column=predcol, figsize=(2,10), vert=True, ax=pltcan[i])"
   ]
  },
  {
   "cell_type": "code",
   "execution_count": null,
   "metadata": {},
   "outputs": [],
   "source": []
  },
  {
   "cell_type": "code",
   "execution_count": 563,
   "metadata": {},
   "outputs": [
    {
     "data": {
      "image/png": "[encoded data removed]",
      "text/plain": [
       "<Figure size 1296x360 with 4 Axes>"
      ]
     },
     "metadata": {
      "needs_background": "light"
     },
     "output_type": "display_data"
    }
   ],
   "source": [
    "# check for Outliers After Removel in test dataset\n",
    "colslst1=['Item_Weight', 'Item_Visibility', 'Item_MRP', 'Outlet_Establishment_Year']\n",
    "fig, pltcan=plt.subplots(nrows=1, ncols=len(colslst1), figsize=(18,5))\n",
    "for predcol , i in zip(colslst1, range(len(colslst1))):\n",
    "    df_test.boxplot(column=predcol, figsize=(2,10), vert=True, ax=pltcan[i])"
   ]
  },
  {
   "cell_type": "markdown",
   "metadata": {},
   "source": [
    "###### Check for Skweness"
   ]
  },
  {
   "cell_type": "code",
   "execution_count": 564,
   "metadata": {},
   "outputs": [
    {
     "name": "stdout",
     "output_type": "stream",
     "text": [
      "Train Dataset Skewness:\n",
      " Item_Identifier             -0.008877\n",
      "Item_Weight                  0.072802\n",
      "Item_Fat_Content             0.616705\n",
      "Item_Visibility              0.813162\n",
      "Item_Type                    0.101655\n",
      "Item_MRP                     0.127214\n",
      "Outlet_Identifier           -0.059861\n",
      "Outlet_Establishment_Year   -0.396641\n",
      "Outlet_Size                  0.087072\n",
      "Outlet_Location_Type        -0.209093\n",
      "Outlet_Type                  0.927438\n",
      "Item_Outlet_Sales            0.874437\n",
      "dtype: float64\n"
     ]
    }
   ],
   "source": [
    "#Check for Skweness in train dataset\n",
    "print('Train Dataset Skewness:\\n',df_train.skew())"
   ]
  },
  {
   "cell_type": "code",
   "execution_count": 565,
   "metadata": {},
   "outputs": [
    {
     "name": "stdout",
     "output_type": "stream",
     "text": [
      "\n",
      "Test Dataset Skewness:\n",
      " Item_Identifier             -0.000020\n",
      "Item_Weight                  0.100191\n",
      "Item_Fat_Content             0.609223\n",
      "Item_Visibility              0.837822\n",
      "Item_Type                    0.096486\n",
      "Item_MRP                     0.135900\n",
      "Outlet_Identifier           -0.060209\n",
      "Outlet_Establishment_Year   -0.396306\n",
      "Outlet_Size                  0.087108\n",
      "Outlet_Location_Type        -0.209049\n",
      "Outlet_Type                  0.927446\n",
      "dtype: float64\n"
     ]
    }
   ],
   "source": [
    "#Check for Skweness in test dataset\n",
    "print('\\nTest Dataset Skewness:\\n',df_test.skew())"
   ]
  },
  {
   "cell_type": "markdown",
   "metadata": {},
   "source": [
    "###### train dataset"
   ]
  },
  {
   "cell_type": "markdown",
   "metadata": {},
   "source": [
    "###### #a) Exploring target variable:                                                        #Univariate Analysis:\n",
    "#Shows Slightly Right skewed distribution "
   ]
  },
  {
   "cell_type": "code",
   "execution_count": 566,
   "metadata": {},
   "outputs": [
    {
     "data": {
      "image/png": "[encoded data removed]",
      "text/plain": [
       "<Figure size 360x216 with 1 Axes>"
      ]
     },
     "metadata": {
      "needs_background": "light"
     },
     "output_type": "display_data"
    }
   ],
   "source": [
    "df_train['Item_Outlet_Sales'].hist(figsize=(5,3))\n",
    "plt.show()"
   ]
  },
  {
   "cell_type": "markdown",
   "metadata": {},
   "source": [
    "###### Creating Graph for--------- Continuous(Predictor) variable          # Univariate Plot \n",
    "#Shows Slightly Right skewed distribution in Item_Visibility"
   ]
  },
  {
   "cell_type": "code",
   "execution_count": 567,
   "metadata": {},
   "outputs": [
    {
     "data": {
      "text/plain": [
       "array([[<AxesSubplot:title={'center':'Item_Weight'}>,\n",
       "        <AxesSubplot:title={'center':'Item_Visibility'}>],\n",
       "       [<AxesSubplot:title={'center':'Item_MRP'}>,\n",
       "        <AxesSubplot:title={'center':'Outlet_Establishment_Year'}>]],\n",
       "      dtype=object)"
      ]
     },
     "execution_count": 567,
     "metadata": {},
     "output_type": "execute_result"
    },
    {
     "data": {
      "image/png": "[encoded data removed]",
      "text/plain": [
       "<Figure size 720x360 with 4 Axes>"
      ]
     },
     "metadata": {
      "needs_background": "light"
     },
     "output_type": "display_data"
    }
   ],
   "source": [
    "df_train[['Item_Weight', 'Item_Visibility', 'Item_MRP', 'Outlet_Establishment_Year']].hist(figsize=(10,5))\n"
   ]
  },
  {
   "cell_type": "markdown",
   "metadata": {},
   "source": [
    "###### Creating Graph for------------ Categorical(Predictor) variable          # Univariate Plot "
   ]
  },
  {
   "cell_type": "code",
   "execution_count": 568,
   "metadata": {},
   "outputs": [
    {
     "data": {
      "text/plain": [
       "array([[<AxesSubplot:title={'center':'Item_Identifier'}>,\n",
       "        <AxesSubplot:title={'center':'Item_Fat_Content'}>,\n",
       "        <AxesSubplot:title={'center':'Item_Type'}>],\n",
       "       [<AxesSubplot:title={'center':'Outlet_Identifier'}>,\n",
       "        <AxesSubplot:title={'center':'Outlet_Size'}>,\n",
       "        <AxesSubplot:title={'center':'Outlet_Location_Type'}>],\n",
       "       [<AxesSubplot:title={'center':'Outlet_Type'}>, <AxesSubplot:>,\n",
       "        <AxesSubplot:>]], dtype=object)"
      ]
     },
     "execution_count": 568,
     "metadata": {},
     "output_type": "execute_result"
    },
    {
     "data": {
      "image/png": "[encoded data removed]",
      "text/plain": [
       "<Figure size 1080x720 with 9 Axes>"
      ]
     },
     "metadata": {
      "needs_background": "light"
     },
     "output_type": "display_data"
    }
   ],
   "source": [
    "df_train[['Item_Identifier','Item_Fat_Content','Item_Type','Outlet_Identifier','Outlet_Size','Outlet_Location_Type','Outlet_Type']].hist(figsize=(15,10))"
   ]
  },
  {
   "cell_type": "markdown",
   "metadata": {},
   "source": [
    "###### removing Skweness from columns Item_Visibility,Item_Outlet_Sales"
   ]
  },
  {
   "cell_type": "code",
   "execution_count": 569,
   "metadata": {},
   "outputs": [
    {
     "data": {
      "text/plain": [
       "<AxesSubplot:>"
      ]
     },
     "execution_count": 569,
     "metadata": {},
     "output_type": "execute_result"
    },
    {
     "data": {
      "image/png": "[encoded data removed]",
      "text/plain": [
       "<Figure size 504x216 with 1 Axes>"
      ]
     },
     "metadata": {
      "needs_background": "light"
     },
     "output_type": "display_data"
    }
   ],
   "source": [
    "df_train['Item_Visibility']= np.sqrt(df_train['Item_Visibility'])\n",
    "df_train['Item_Visibility'].hist(figsize=(7,3))"
   ]
  },
  {
   "cell_type": "code",
   "execution_count": 570,
   "metadata": {},
   "outputs": [
    {
     "data": {
      "text/plain": [
       "<AxesSubplot:>"
      ]
     },
     "execution_count": 570,
     "metadata": {},
     "output_type": "execute_result"
    },
    {
     "data": {
      "image/png": "[encoded data removed]",
      "text/plain": [
       "<Figure size 504x216 with 1 Axes>"
      ]
     },
     "metadata": {
      "needs_background": "light"
     },
     "output_type": "display_data"
    }
   ],
   "source": [
    "df_train['Item_Outlet_Sales']=np.sqrt(df_train['Item_Outlet_Sales'])\n",
    "df_train['Item_Outlet_Sales'].hist(figsize=(7,3))\n",
    "#df.head()"
   ]
  },
  {
   "cell_type": "markdown",
   "metadata": {},
   "source": [
    "###### test Dataset\n",
    "###### Creating Graph for------------ Categorical(Predictor) variable          # Univariate Plot "
   ]
  },
  {
   "cell_type": "code",
   "execution_count": 571,
   "metadata": {},
   "outputs": [
    {
     "data": {
      "text/plain": [
       "array([[<AxesSubplot:title={'center':'Item_Weight'}>,\n",
       "        <AxesSubplot:title={'center':'Item_Visibility'}>,\n",
       "        <AxesSubplot:title={'center':'Item_MRP'}>],\n",
       "       [<AxesSubplot:title={'center':'Outlet_Establishment_Year'}>,\n",
       "        <AxesSubplot:title={'center':'Item_Identifier'}>,\n",
       "        <AxesSubplot:title={'center':'Item_Fat_Content'}>],\n",
       "       [<AxesSubplot:title={'center':'Item_Type'}>,\n",
       "        <AxesSubplot:title={'center':'Outlet_Identifier'}>,\n",
       "        <AxesSubplot:title={'center':'Outlet_Size'}>],\n",
       "       [<AxesSubplot:title={'center':'Outlet_Location_Type'}>,\n",
       "        <AxesSubplot:title={'center':'Outlet_Type'}>, <AxesSubplot:>]],\n",
       "      dtype=object)"
      ]
     },
     "execution_count": 571,
     "metadata": {},
     "output_type": "execute_result"
    },
    {
     "data": {
      "image/png": "[encoded data removed]",
      "text/plain": [
       "<Figure size 1080x720 with 12 Axes>"
      ]
     },
     "metadata": {
      "needs_background": "light"
     },
     "output_type": "display_data"
    }
   ],
   "source": [
    "df_test[['Item_Weight', 'Item_Visibility', 'Item_MRP', 'Outlet_Establishment_Year','Item_Identifier','Item_Fat_Content','Item_Type','Outlet_Identifier','Outlet_Size','Outlet_Location_Type','Outlet_Type']].hist(figsize=(15,10))"
   ]
  },
  {
   "cell_type": "markdown",
   "metadata": {},
   "source": [
    "###### removing Skweness from columns Item_Visibility,Item_Outlet_Sales"
   ]
  },
  {
   "cell_type": "code",
   "execution_count": 572,
   "metadata": {},
   "outputs": [
    {
     "data": {
      "text/plain": [
       "<AxesSubplot:>"
      ]
     },
     "execution_count": 572,
     "metadata": {},
     "output_type": "execute_result"
    },
    {
     "data": {
      "image/png": "[encoded data removed]",
      "text/plain": [
       "<Figure size 504x216 with 1 Axes>"
      ]
     },
     "metadata": {
      "needs_background": "light"
     },
     "output_type": "display_data"
    }
   ],
   "source": [
    "df_test['Item_Visibility']= np.sqrt(df_test['Item_Visibility'])\n",
    "df_test['Item_Visibility'].hist(figsize=(7,3))"
   ]
  },
  {
   "cell_type": "code",
   "execution_count": null,
   "metadata": {},
   "outputs": [],
   "source": [
    "#sns.pairplot(df_train, hue=\"Item_Outlet_Sales\")"
   ]
  },
  {
   "cell_type": "markdown",
   "metadata": {},
   "source": [
    "###### Anova Test "
   ]
  },
  {
   "cell_type": "code",
   "execution_count": 446,
   "metadata": {},
   "outputs": [
    {
     "name": "stdout",
     "output_type": "stream",
     "text": [
      "Item_Identifier ------correlated------: 6.906912820411217e-05 \n",
      "\n",
      "Item_Weight ------correlated------: 0.0016922038125709135 \n",
      "\n",
      "Item_Fat_Content ------correlated------: 1.0885209301724345e-05 \n",
      "\n",
      "Item_Visibility ------correlated------: 3.0915804357863226e-10 \n",
      "\n",
      "Item_Type ------correlated------: 2.4027943235470765e-06 \n",
      "\n",
      "Item_MRP ------correlated------: 0.0 \n",
      "\n",
      "Outlet_Identifier ------correlated------: 5.113431218498336e-17 \n",
      "\n",
      "Outlet_Establishment_Year ------correlated------: 6.232267910744529e-12 \n",
      "\n",
      "Outlet_Size ------correlated------: 0.1679974690014993 \n",
      "\n",
      "Outlet_Location_Type ------correlated------: 0.07374168958871917 \n",
      "\n",
      "Outlet_Type ------correlated------: 6.828827348119084e-143 \n",
      "\n",
      "Item_Outlet_Sales ------correlated------: 0.0 \n",
      "\n"
     ]
    }
   ],
   "source": [
    "\n",
    "from scipy.stats import f_oneway\n",
    "cp=df_train.iloc[:,[0,1,2,3,4,5,6,7,8,9,10,11]]\n",
    "sp=[]\n",
    "for i in cp:\n",
    "    cg=df_train.groupby('Item_Outlet_Sales')[i].apply(list)\n",
    "    av=stat.f_oneway(*cg)\n",
    "    if av[1]<0.5:\n",
    "        print(i,'------correlated------:',av[1],'\\n')\n",
    "        sp.append(i)\n",
    "    else:\n",
    "        print(i,'------not correlated-----:',av[1],'\\n')"
   ]
  },
  {
   "cell_type": "markdown",
   "metadata": {},
   "source": [
    "###### Multivariate Analysis: Check for Correlation Among Multiple Variables   in train dataset"
   ]
  },
  {
   "cell_type": "code",
   "execution_count": 343,
   "metadata": {},
   "outputs": [
    {
     "data": {
      "image/png": "[encoded data removed]",
      "text/plain": [
       "<Figure size 720x504 with 2 Axes>"
      ]
     },
     "metadata": {
      "needs_background": "light"
     },
     "output_type": "display_data"
    }
   ],
   "source": [
    "pcorrel = df_train.corr(method='pearson').round(3)\n",
    "plt.figure(figsize=(10,7)) \n",
    "sns.heatmap(pcorrel,xticklabels=pcorrel.columns,yticklabels=pcorrel.columns,cmap=\"YlGnBu\",annot=True,linewidth=0.5)\n",
    "plt.title(\"Pearson Correlation Between Variables\")\n",
    "plt.xticks(fontsize=10)\n",
    "plt.yticks(fontsize=8)\n",
    "plt.show()"
   ]
  },
  {
   "cell_type": "markdown",
   "metadata": {},
   "source": [
    "###### Multivariate Analysis: Check for Correlation Among Multiple Variables      in test dataset"
   ]
  },
  {
   "cell_type": "code",
   "execution_count": 344,
   "metadata": {},
   "outputs": [
    {
     "data": {
      "image/png": "[encoded data removed]",
      "text/plain": [
       "<Figure size 720x504 with 2 Axes>"
      ]
     },
     "metadata": {
      "needs_background": "light"
     },
     "output_type": "display_data"
    }
   ],
   "source": [
    "pcorrel = df_test.corr(method='pearson').round(3)\n",
    "plt.figure(figsize=(10,7)) \n",
    "sns.heatmap(pcorrel,xticklabels=pcorrel.columns,yticklabels=pcorrel.columns,cmap=\"YlGnBu\",annot=True,linewidth=0.5)\n",
    "plt.title(\"Pearson Correlation Between Variables\")\n",
    "plt.xticks(fontsize=10)\n",
    "plt.yticks(fontsize=8)\n",
    "plt.show()"
   ]
  },
  {
   "cell_type": "markdown",
   "metadata": {},
   "source": [
    "###### Reviewing Correlation between Attributes"
   ]
  },
  {
   "cell_type": "code",
   "execution_count": 345,
   "metadata": {},
   "outputs": [
    {
     "name": "stdout",
     "output_type": "stream",
     "text": [
      "Strongly Related:\n",
      "\n",
      " Item_MRP             0.563141\n",
      "Outlet_Identifier    0.215772\n",
      "Outlet_Type          0.442270\n",
      "Item_Outlet_Sales    1.000000\n",
      "Name: Item_Outlet_Sales, dtype: float64 \n",
      "\n",
      "Weak Relates:\n",
      "\n",
      " Item_Identifier              0.003830\n",
      "Item_Weight                  0.011221\n",
      "Item_Fat_Content             0.017727\n",
      "Item_Visibility              0.132701\n",
      "Item_Type                    0.019539\n",
      "Outlet_Establishment_Year    0.015099\n",
      "Outlet_Size                  0.105278\n",
      "Outlet_Location_Type         0.073426\n",
      "Name: Item_Outlet_Sales, dtype: float64\n"
     ]
    }
   ],
   "source": [
    "# Check Strongly Related Features  in train dataset\n",
    "cor = df_train.corr()\n",
    "cor_target = abs(cor[\"Item_Outlet_Sales\"])\n",
    "strong_related = cor_target[cor_target>0.2]\n",
    "print(\"Strongly Related:\\n\\n\",strong_related,\"\\n\")\n",
    "\n",
    "weak_related = cor_target[cor_target<0.2]\n",
    "print(\"Weak Relates:\\n\\n\",weak_related)"
   ]
  },
  {
   "cell_type": "markdown",
   "metadata": {},
   "source": [
    "###### join Test and TRain Dataset"
   ]
  },
  {
   "cell_type": "code",
   "execution_count": 204,
   "metadata": {},
   "outputs": [
    {
     "data": {
      "text/plain": [
       "(8523,)"
      ]
     },
     "execution_count": 204,
     "metadata": {},
     "output_type": "execute_result"
    }
   ],
   "source": [
    "#df_all = pd.concat([df_train[df_train.columns[:-1]], df_test])\n",
    "#y = df_train['Item_Outlet_Sales']\n",
    "\n",
    "ndf_train = df_train.iloc[:,:11]\n",
    "y = df_train.iloc[:,-1]\n",
    "df_all=pd.concat([ndf_train,df_test])\n",
    "df_all.shape\n",
    "y.shape"
   ]
  },
  {
   "cell_type": "markdown",
   "metadata": {},
   "source": [
    "###### Splitting data into test and train dataset"
   ]
  },
  {
   "cell_type": "code",
   "execution_count": 346,
   "metadata": {},
   "outputs": [
    {
     "name": "stdout",
     "output_type": "stream",
     "text": [
      "(8523, 11)\n",
      "(5681, 11)\n"
     ]
    }
   ],
   "source": [
    "df_train = df_all[:len(df_train)]\n",
    "df_test = df_all[len(df_train):]\n",
    "\n",
    "print(df_train.shape)\n",
    "print(df_test.shape)\n"
   ]
  },
  {
   "cell_type": "markdown",
   "metadata": {},
   "source": [
    "###### Splitting data into Independent Features and Dependent Features"
   ]
  },
  {
   "cell_type": "code",
   "execution_count": 347,
   "metadata": {},
   "outputs": [
    {
     "name": "stdout",
     "output_type": "stream",
     "text": [
      "(8523,)\n",
      "(8523, 11)\n"
     ]
    }
   ],
   "source": [
    "print(y.shape)\n",
    "print(df_train.shape)"
   ]
  },
  {
   "cell_type": "markdown",
   "metadata": {},
   "source": [
    "###### Importance of Data Feature Selection"
   ]
  },
  {
   "cell_type": "code",
   "execution_count": 348,
   "metadata": {},
   "outputs": [
    {
     "name": "stdout",
     "output_type": "stream",
     "text": [
      "[8.70e+00 1.31e+00 6.98e-02 8.02e-01 9.67e-01 2.78e+01 4.06e+03 6.91e+01\n",
      " 3.70e+03 1.92e+03 6.15e+02]\n",
      "\n",
      "Featured data:\n",
      " [[9. 1. 0. 1.]\n",
      " [3. 1. 2. 2.]\n",
      " [9. 1. 0. 1.]\n",
      " [0. 1. 2. 0.]]\n"
     ]
    }
   ],
   "source": [
    "# Feature Selection Techniques\n",
    "array = df_train.values\n",
    "x = array[:,0:11]\n",
    "y = array[:,8]\n",
    "\n",
    "test = SelectKBest(score_func=chi2, k=4)\n",
    "fit = test.fit(x,y)\n",
    "\n",
    "set_printoptions(precision=2)\n",
    "print(fit.scores_)\n",
    "featured_data = fit.transform(x)\n",
    "print (\"\\nFeatured data:\\n\", featured_data[0:4])"
   ]
  },
  {
   "cell_type": "code",
   "execution_count": 349,
   "metadata": {},
   "outputs": [
    {
     "data": {
      "text/plain": [
       "array([0., 0., 0., 0., 0., 0., 0., 0., 1., 0., 0.])"
      ]
     },
     "execution_count": 349,
     "metadata": {},
     "output_type": "execute_result"
    }
   ],
   "source": [
    "#Feature Importance\n",
    "etr_model = ExtraTreesRegressor()\n",
    "etr_model.fit(df_train,y)\n",
    "etr_model.feature_importances_\n",
    "\n",
    "#feature_imp = pd.Series(etr_model.feature_importances_,index=x.columns)\n",
    "#feature_imp.nlargest(10).plot(kind='barh')"
   ]
  },
  {
   "cell_type": "markdown",
   "metadata": {},
   "source": [
    "###### removing less correlated feature"
   ]
  },
  {
   "cell_type": "code",
   "execution_count": 351,
   "metadata": {},
   "outputs": [
    {
     "name": "stdout",
     "output_type": "stream",
     "text": [
      "(8523, 8)\n",
      "(5681, 8)\n"
     ]
    }
   ],
   "source": [
    "newdf_train=df_train.drop([\"Item_Identifier\",\"Item_Weight\",\"Item_Fat_Content\"],axis=1)\n",
    "print(newdf_train.shape)\n",
    "newdf_test=df_test.drop([\"Item_Identifier\",\"Item_Weight\",\"Item_Fat_Content\"],axis=1)\n",
    "print(newdf_test.shape)"
   ]
  },
  {
   "cell_type": "markdown",
   "metadata": {},
   "source": [
    "###### Splitting Data into training and testing set"
   ]
  },
  {
   "cell_type": "code",
   "execution_count": 352,
   "metadata": {},
   "outputs": [
    {
     "name": "stdout",
     "output_type": "stream",
     "text": [
      "(6818, 8)\n",
      "(6818,)\n",
      "(1705, 8)\n",
      "(1705,)\n"
     ]
    }
   ],
   "source": [
    "x_train, x_test, y_train, y_test = train_test_split(newdf_train,y, test_size = 0.2, random_state = 45)\n",
    "\n",
    "print(x_train.shape)\n",
    "print(y_train.shape)\n",
    "print(x_test.shape)\n",
    "print(y_test.shape)"
   ]
  },
  {
   "cell_type": "markdown",
   "metadata": {},
   "source": [
    "###### Normalization"
   ]
  },
  {
   "cell_type": "code",
   "execution_count": 353,
   "metadata": {},
   "outputs": [
    {
     "name": "stdout",
     "output_type": "stream",
     "text": [
      "x_train:\n",
      " [[-1.28  1.7   1.5  ...  0.32 -0.13 -0.11]\n",
      " [-1.85 -0.46 -0.59 ... -1.41 -0.13 -0.11]\n",
      " [-1.85 -0.46 -0.78 ... -1.41 -1.38 -0.11]\n",
      " ...\n",
      " [ 1.89  1.7   0.54 ...  0.32  1.09 -1.92]\n",
      " [-0.24 -0.22 -1.56 ...  0.32 -0.13 -0.11]\n",
      " [ 1.89  0.25 -1.25 ...  0.32  1.09 -1.92]]\n",
      "\n",
      "x_test:\n",
      " [[ 0.24  1.69  1.75 ...  0.32  1.08  1.  ]\n",
      " [-0.88  0.68 -0.79 ...  1.91  1.08 -0.16]\n",
      " [ 1.94  0.25  1.27 ... -1.43 -1.35 -1.92]\n",
      " ...\n",
      " [ 1.83  0.47  0.6  ...  0.32  1.08  1.  ]\n",
      " [-0.88 -0.45 -0.38 ... -1.43 -1.35 -0.16]\n",
      " [ 1.44  1.69  0.54 ...  0.32 -1.35 -0.16]]\n"
     ]
    }
   ],
   "source": [
    "from sklearn.preprocessing import power_transform\n",
    "x_train=power_transform(x_train,method='yeo-johnson')\n",
    "print('x_train:\\n',x_train)\n",
    "x_test=power_transform(x_test,method='yeo-johnson')\n",
    "print('\\nx_test:\\n',x_test)"
   ]
  },
  {
   "cell_type": "markdown",
   "metadata": {},
   "source": [
    "###### Sandardization of data"
   ]
  },
  {
   "cell_type": "code",
   "execution_count": 354,
   "metadata": {},
   "outputs": [
    {
     "name": "stdout",
     "output_type": "stream",
     "text": [
      "x_train:\n",
      " [[0.15 1.   0.91 ... 0.53 0.5  0.47]\n",
      " [0.   0.4  0.37 ... 0.   0.5  0.47]\n",
      " [0.   0.4  0.32 ... 0.   0.   0.47]\n",
      " ...\n",
      " [1.   1.   0.66 ... 0.53 1.   0.  ]\n",
      " [0.43 0.47 0.11 ... 0.53 0.5  0.47]\n",
      " [1.   0.6  0.19 ... 0.53 1.   0.  ]]\n",
      "\n",
      "x_test:\n",
      " [[0.55 1.   0.98 ... 0.52 1.   0.77]\n",
      " [0.26 0.72 0.31 ... 1.   1.   0.46]\n",
      " [1.   0.6  0.85 ... 0.   0.   0.  ]\n",
      " ...\n",
      " [0.97 0.66 0.68 ... 0.52 1.   0.77]\n",
      " [0.26 0.4  0.42 ... 0.   0.   0.46]\n",
      " [0.87 1.   0.66 ... 0.52 0.   0.46]]\n"
     ]
    }
   ],
   "source": [
    "#sc = StandardScaler()\n",
    "sc=MinMaxScaler()\n",
    "x_train = sc.fit_transform(x_train)\n",
    "print('x_train:\\n',x_train)\n",
    "x_test = sc.fit_transform(x_test)\n",
    "print('\\nx_test:\\n',x_test)"
   ]
  },
  {
   "cell_type": "markdown",
   "metadata": {},
   "source": [
    "### Model BUilding"
   ]
  },
  {
   "cell_type": "markdown",
   "metadata": {},
   "source": [
    "#### MOdel Building using Linear Regression"
   ]
  },
  {
   "cell_type": "code",
   "execution_count": 355,
   "metadata": {},
   "outputs": [
    {
     "data": {
      "image/png": "[encoded data removed]",
      "text/plain": [
       "<Figure size 432x288 with 1 Axes>"
      ]
     },
     "metadata": {
      "needs_background": "light"
     },
     "output_type": "display_data"
    },
    {
     "name": "stdout",
     "output_type": "stream",
     "text": [
      "\n",
      "r2 Score On Train Data: 0.9985699282852628\n",
      "\n",
      "r2 Score On Test Data: 0.9989029077273344\n",
      "\n",
      "\n",
      "Mean Absolute Error: 0.015522391455622824\n",
      "\n",
      "Mean Squared Error: 0.00038260679055742374\n",
      "\n",
      "Root Mean Squared Error: 0.019560337179032057\n",
      "\n",
      "Explained Variance Score: 0.9990531390477863\n",
      "\n",
      "Cross Validation\n",
      "Linear Regression Score: [1. 1. 1. 1. 1.]\n",
      "Average LinearRegression score: 1.0\n"
     ]
    }
   ],
   "source": [
    "regressor = LinearRegression()\n",
    "regressor.fit(x_train, y_train)\n",
    "y_pred = regressor.predict(x_test)\n",
    "y_pred = pd.DataFrame(y_pred, columns=['Predictions'])\n",
    "\n",
    "# Plot outputs\n",
    "plt.plot(y_test, y_pred, color='blue',linewidth=3)\n",
    "#plt.scatter(y_test,y_pred)\n",
    "plt.xlabel('Actual Score')\n",
    "plt.ylabel('Predicted Score')\n",
    "plt.title('Linear Regression-Actual vs Predicted')\n",
    "plt.show()\n",
    "\n",
    "\n",
    "# Calculating R2 Score\n",
    "r2_score_train =regressor.score(x_train, y_train)\n",
    "print('\\nr2 Score On Train Data:',r2_score_train)\n",
    "r2_score_test=regressor.score(x_test,y_test)\n",
    "print('\\nr2 Score On Test Data:',r2_score_test)\n",
    "\n",
    "print('\\n\\nMean Absolute Error:', metrics.mean_absolute_error(y_test, y_pred))\n",
    "print('\\nMean Squared Error:', metrics.mean_squared_error(y_test, y_pred))\n",
    "print('\\nRoot Mean Squared Error:', np.sqrt(metrics.mean_squared_error(y_test, y_pred)))\n",
    "print('\\nExplained Variance Score:',explained_variance_score(y_test, y_pred))\n",
    "\n",
    "scores = cross_val_score(regressor,df_train, y, cv=5)\n",
    "print('\\nCross Validation')\n",
    "print('Linear Regression Score:',scores)\n",
    "print('Average LinearRegression score:',round(scores.mean(),4))"
   ]
  },
  {
   "cell_type": "code",
   "execution_count": 356,
   "metadata": {},
   "outputs": [
    {
     "name": "stdout",
     "output_type": "stream",
     "text": [
      "Fitting 5 folds for each of 96 candidates, totalling 480 fits\n",
      "Best Score:  0.998565695794879\n",
      "Best Params:  {'positive': False, 'normalize': True, 'n_jobs': 1, 'fit_intercept': True, 'copy_X': True}\n"
     ]
    }
   ],
   "source": [
    "fit_intercept=[True,False]\n",
    "normalize=[True,False]\n",
    "copy_X=[True,False]\n",
    "positive=[True,False]\n",
    "n_jobs= [1,5,10, 100,200,500]\n",
    "param_distributions = dict(fit_intercept=fit_intercept,\n",
    "                           normalize=normalize,\n",
    "                           copy_X=copy_X,\n",
    "                           positive=positive,\n",
    "                           n_jobs= n_jobs)\n",
    "\n",
    "random = RandomizedSearchCV(estimator=regressor,\n",
    "                            param_distributions=param_distributions,\n",
    "                            verbose=1, n_jobs=-1,\n",
    "                            n_iter=1000)\n",
    "random_result = random.fit(x_train, y_train)\n",
    "\n",
    "print('Best Score: ', random_result.best_score_)\n",
    "print('Best Params: ', random_result.best_params_)"
   ]
  },
  {
   "cell_type": "markdown",
   "metadata": {},
   "source": [
    "#### MOdel building using Lasso"
   ]
  },
  {
   "cell_type": "code",
   "execution_count": 357,
   "metadata": {},
   "outputs": [
    {
     "data": {
      "image/png": "[encoded data removed]",
      "text/plain": [
       "<Figure size 432x288 with 1 Axes>"
      ]
     },
     "metadata": {
      "needs_background": "light"
     },
     "output_type": "display_data"
    },
    {
     "name": "stdout",
     "output_type": "stream",
     "text": [
      "\n",
      "r2 Score On Train Data: 0.0\n",
      "\n",
      "r2 Score On Test Data: -3.450969260820891e-05\n",
      "\n",
      "\n",
      "Mean Absolute Error: 0.4550235748222103\n",
      "\n",
      "Mean Squared Error: 0.3487582619377204\n",
      "\n",
      "Root Mean Squared Error: 0.5905575856237226\n",
      "\n",
      "Explained Variance Score: 0.0\n",
      "\n",
      "Cross Validation\n",
      "Lasso Regression Score: [-0. -0. -0. -0.  0.]\n",
      "Average Lasso Regression score: -0.0007\n"
     ]
    }
   ],
   "source": [
    "regressor = Lasso()\n",
    "regressor.fit(x_train, y_train)\n",
    "y_pred = regressor.predict(x_test)\n",
    "y_pred = pd.DataFrame(y_pred, columns=['Predictions'])\n",
    "\n",
    "\n",
    "# Plot outputs\n",
    "plt.plot(y_test, y_pred, color='blue',linewidth=3)\n",
    "#plt.scatter(y_test,y_pred)\n",
    "plt.xlabel('Actual Score')\n",
    "plt.ylabel('Predicted Score')\n",
    "plt.title('Lasso Regression-Actual vs Predicted')\n",
    "plt.show()\n",
    "\n",
    "\n",
    "# Calculating R2 Score\n",
    "r2_score_train =regressor.score(x_train, y_train)\n",
    "print('\\nr2 Score On Train Data:',r2_score_train)\n",
    "r2_score_test=regressor.score(x_test,y_test)\n",
    "print('\\nr2 Score On Test Data:',r2_score_test)\n",
    "\n",
    "print('\\n\\nMean Absolute Error:', metrics.mean_absolute_error(y_test, y_pred))\n",
    "print('\\nMean Squared Error:', metrics.mean_squared_error(y_test, y_pred))\n",
    "print('\\nRoot Mean Squared Error:', np.sqrt(metrics.mean_squared_error(y_test, y_pred)))\n",
    "print('\\nExplained Variance Score:',explained_variance_score(y_test, y_pred))\n",
    "\n",
    "\n",
    "scores = cross_val_score(regressor,df_train, y, cv=5)\n",
    "print('\\nCross Validation')\n",
    "print('Lasso Regression Score:',scores)\n",
    "print('Average Lasso Regression score:',round(scores.mean(),4))"
   ]
  },
  {
   "cell_type": "code",
   "execution_count": 358,
   "metadata": {},
   "outputs": [
    {
     "name": "stdout",
     "output_type": "stream",
     "text": [
      "Fitting 5 folds for each of 1000 candidates, totalling 5000 fits\n",
      "Best Score:  0.9985641217244469\n",
      "Best Params:  {'selection': 'random', 'random_state': 1, 'precompute': False, 'positive': False, 'normalize': False, 'max_iter': 500, 'fit_intercept': True, 'copy_X': True, 'alpha': 0.0001}\n"
     ]
    }
   ],
   "source": [
    "alpha=[0.0001, 0.001, 0.01, 0.1, 1.009, 10.006, 2.00, 5000.09]\n",
    "fit_intercept=[True,False]\n",
    "normalize=[True,False]\n",
    "precompute=[True,False]\n",
    "copy_X=[True,False]\n",
    "max_iter=[10, 50,5,90, 200, 110, 500, 1000]\n",
    "positive=[True,False]\n",
    "random_state=[1,5,10, 100,200,500]\n",
    "selection=['cyclic','random']\n",
    "\n",
    "param_distributions = dict(alpha=alpha,\n",
    "                           fit_intercept=fit_intercept,\n",
    "                           normalize=normalize,\n",
    "                           precompute=precompute,\n",
    "                           copy_X=copy_X,\n",
    "                           max_iter=max_iter,\n",
    "                           positive=positive,\n",
    "                           random_state=random_state,\n",
    "                           selection=selection)\n",
    "\n",
    "random = RandomizedSearchCV(estimator=regressor,\n",
    "                            param_distributions=param_distributions,\n",
    "                            verbose=1, n_jobs=-1,\n",
    "                            n_iter=1000)\n",
    "random_result = random.fit(x_train, y_train)\n",
    "\n",
    "print('Best Score: ', random_result.best_score_)\n",
    "print('Best Params: ', random_result.best_params_)"
   ]
  },
  {
   "cell_type": "markdown",
   "metadata": {},
   "source": [
    "#### MOdel Building using LassoCV"
   ]
  },
  {
   "cell_type": "code",
   "execution_count": 359,
   "metadata": {},
   "outputs": [
    {
     "data": {
      "image/png": "[encoded data removed]",
      "text/plain": [
       "<Figure size 432x288 with 1 Axes>"
      ]
     },
     "metadata": {
      "needs_background": "light"
     },
     "output_type": "display_data"
    },
    {
     "name": "stdout",
     "output_type": "stream",
     "text": [
      "\n",
      "r2 Score On Train Data: 0.9985598524797531\n",
      "\n",
      "r2 Score On Test Data: 0.9989071950724548\n",
      "\n",
      "\n",
      "Mean Absolute Error: 0.01509836706993444\n",
      "\n",
      "Mean Squared Error: 0.0003811115951236412\n",
      "\n",
      "Root Mean Squared Error: 0.01952207968234023\n",
      "\n",
      "Explained Variance Score: 0.9990560144932444\n",
      "\n",
      "Cross Validation\n",
      "LassoCV Regression Score: [1. 1. 1. 1. 1.]\n",
      "Average LassoCV Regression score: 0.9999\n"
     ]
    }
   ],
   "source": [
    "regressor = LassoCV()\n",
    "regressor.fit(x_train, y_train)\n",
    "y_pred = regressor.predict(x_test)\n",
    "y_pred = pd.DataFrame(y_pred, columns=['Predictions'])\n",
    "\n",
    "# Plot outputs\n",
    "plt.plot(y_test, y_pred, color='blue',linewidth=3)\n",
    "#plt.scatter(y_test,y_pred)\n",
    "plt.xlabel('Actual Score')\n",
    "plt.ylabel('Predicted Score')\n",
    "plt.title('LassoCV Regression-Actual vs Predicted')\n",
    "plt.show()\n",
    "\n",
    "\n",
    "# Calculating R2 Score\n",
    "r2_score_train =regressor.score(x_train, y_train)\n",
    "print('\\nr2 Score On Train Data:',r2_score_train)\n",
    "r2_score_test=regressor.score(x_test,y_test)\n",
    "print('\\nr2 Score On Test Data:',r2_score_test)\n",
    "\n",
    "print('\\n\\nMean Absolute Error:', metrics.mean_absolute_error(y_test, y_pred))\n",
    "print('\\nMean Squared Error:', metrics.mean_squared_error(y_test, y_pred))\n",
    "print('\\nRoot Mean Squared Error:', np.sqrt(metrics.mean_squared_error(y_test, y_pred)))\n",
    "print('\\nExplained Variance Score:',explained_variance_score(y_test, y_pred))\n",
    "\n",
    "scores = cross_val_score(regressor,df_train, y, cv=5)\n",
    "print('\\nCross Validation')\n",
    "print('LassoCV Regression Score:',scores)\n",
    "print('Average LassoCV Regression score:',round(scores.mean(),4))\n"
   ]
  },
  {
   "cell_type": "code",
   "execution_count": 360,
   "metadata": {},
   "outputs": [
    {
     "name": "stdout",
     "output_type": "stream",
     "text": [
      "Fitting 5 folds for each of 100 candidates, totalling 500 fits\n",
      "Best Score:  0.9983041000536895\n",
      "Best Params:  {'positive': False, 'n_jobs': 3, 'max_iter': 10, 'eps': 0.01, 'cv': 7}\n"
     ]
    }
   ],
   "source": [
    "#alpha = [0.0001, 0.001, 0.01, 0.1, 1, 10]\n",
    "max_iter = [2,5,10]\n",
    "eps=[.0001,.01]\n",
    "cv=[2,5,7]\n",
    "positive=[True,False]\n",
    "n_jobs=[1,3,5,9,10]\n",
    "\n",
    "param_distributions = dict(eps=eps,\n",
    "                           max_iter=max_iter,\n",
    "                           cv=cv,\n",
    "                           n_jobs=n_jobs,\n",
    "                           positive=positive)\n",
    "\n",
    "random = RandomizedSearchCV(estimator=regressor,\n",
    "                            param_distributions=param_distributions,\n",
    "                            n_jobs=-1,verbose=1,\n",
    "                            n_iter=100)\n",
    "random_result = random.fit(x_train, y_train)\n",
    "\n",
    "print('Best Score: ', random_result.best_score_)\n",
    "print('Best Params: ', random_result.best_params_)\n"
   ]
  },
  {
   "cell_type": "markdown",
   "metadata": {},
   "source": [
    "#### MOdel Building using Ridge"
   ]
  },
  {
   "cell_type": "code",
   "execution_count": 361,
   "metadata": {},
   "outputs": [
    {
     "data": {
      "image/png": "[encoded data removed]",
      "text/plain": [
       "<Figure size 432x288 with 1 Axes>"
      ]
     },
     "metadata": {
      "needs_background": "light"
     },
     "output_type": "display_data"
    },
    {
     "name": "stdout",
     "output_type": "stream",
     "text": [
      "\n",
      "r2 Score On Train Data: 0.9985658221142248\n",
      "\n",
      "r2 Score On Test Data: 0.9988844364597227\n",
      "\n",
      "\n",
      "Mean Absolute Error: 0.015731785275566474\n",
      "\n",
      "Mean Squared Error: 0.00038904857544146566\n",
      "\n",
      "Root Mean Squared Error: 0.019724314321199244\n",
      "\n",
      "Explained Variance Score: 0.9990336882752088\n",
      "\n",
      "Cross Validation\n",
      "Ridge Regression Score: [1. 1. 1. 1. 1.]\n",
      "Average Ridge Regression score: 1.0\n"
     ]
    }
   ],
   "source": [
    "regressor = Ridge()\n",
    "regressor.fit(x_train, y_train)\n",
    "y_pred = regressor.predict(x_test)\n",
    "y_pred = pd.DataFrame(y_pred, columns=['Predictions'])\n",
    "\n",
    "# Plot outputs\n",
    "plt.plot(y_test, y_pred, color='blue',linewidth=3)\n",
    "#plt.scatter(y_test,y_pred)\n",
    "plt.xlabel('Actual Score')\n",
    "plt.ylabel('Predicted Score')\n",
    "plt.title('Ridge Regression-Actual vs Predicted')\n",
    "plt.show()\n",
    "\n",
    "\n",
    "# Calculating R2 Score\n",
    "r2_score_train =regressor.score(x_train, y_train)\n",
    "print('\\nr2 Score On Train Data:',r2_score_train)\n",
    "r2_score_test=regressor.score(x_test,y_test)\n",
    "print('\\nr2 Score On Test Data:',r2_score_test)\n",
    "\n",
    "print('\\n\\nMean Absolute Error:', metrics.mean_absolute_error(y_test, y_pred))\n",
    "print('\\nMean Squared Error:', metrics.mean_squared_error(y_test, y_pred))\n",
    "print('\\nRoot Mean Squared Error:', np.sqrt(metrics.mean_squared_error(y_test, y_pred)))\n",
    "print('\\nExplained Variance Score:',explained_variance_score(y_test, y_pred))\n",
    "\n",
    "scores = cross_val_score(regressor,df_train, y, cv=5)\n",
    "print('\\nCross Validation')\n",
    "print('Ridge Regression Score:',scores)\n",
    "print('Average Ridge Regression score:',round(scores.mean(),4))\n"
   ]
  },
  {
   "cell_type": "code",
   "execution_count": 362,
   "metadata": {},
   "outputs": [
    {
     "name": "stdout",
     "output_type": "stream",
     "text": [
      "Fitting 5 folds for each of 1000 candidates, totalling 5000 fits\n",
      "Best Score:  0.9985572808321501\n",
      "Best Params:  {'solver': 'saga', 'random_state': 100, 'normalize': False, 'max_iter': 110, 'fit_intercept': True, 'copy_X': True, 'alpha': 1.2}\n"
     ]
    }
   ],
   "source": [
    "alpha=[1.2,2.3]\n",
    "fit_intercept=[True,False]\n",
    "normalize=[True,False]\n",
    "copy_X=[True,False]\n",
    "max_iter=[10, 50,5,90, 200, 110, 500, 1000]\n",
    "solver=['auto','svd','cholesky','lsqr','sparse_cg','sag','saga']\n",
    "random_state=[1,5,10, 100,200,500]\n",
    "\n",
    "param_distributions = dict(alpha=alpha,\n",
    "                           fit_intercept=fit_intercept,\n",
    "                           normalize=normalize,\n",
    "                           copy_X=copy_X,\n",
    "                           max_iter=max_iter,\n",
    "                           solver=solver,\n",
    "                           random_state=random_state)\n",
    "\n",
    "random = RandomizedSearchCV(estimator=regressor,\n",
    "                            param_distributions=param_distributions,\n",
    "                            verbose=1, n_jobs=-1,\n",
    "                            n_iter=1000)\n",
    "random_result = random.fit(x_train, y_train)\n",
    "\n",
    "print('Best Score: ', random_result.best_score_)\n",
    "print('Best Params: ', random_result.best_params_)\n"
   ]
  },
  {
   "cell_type": "markdown",
   "metadata": {},
   "source": [
    "#### MOdel BUilding using Random Forest"
   ]
  },
  {
   "cell_type": "code",
   "execution_count": 363,
   "metadata": {},
   "outputs": [
    {
     "data": {
      "image/png": "[encoded data removed]",
      "text/plain": [
       "<Figure size 432x288 with 1 Axes>"
      ]
     },
     "metadata": {
      "needs_background": "light"
     },
     "output_type": "display_data"
    },
    {
     "name": "stdout",
     "output_type": "stream",
     "text": [
      "\n",
      "r2 Score On Train Data: 1.0\n",
      "\n",
      "r2 Score On Test Data: 1.0\n",
      "\n",
      "\n",
      "Mean Absolute Error: 0.0\n",
      "\n",
      "Mean Squared Error: 0.0\n",
      "\n",
      "Root Mean Squared Error: 0.0\n",
      "\n",
      "Explained Variance Score: 1.0\n",
      "\n",
      "Cross Validation\n",
      "Random Forest Regression Score: [1. 1. 1. 1. 1.]\n",
      "Average Random Forest Regression score: 1.0\n"
     ]
    }
   ],
   "source": [
    "regressor = RandomForestRegressor(max_depth=5, n_estimators=100,criterion='mse')\n",
    "regressor.fit(x_train, y_train)\n",
    "y_pred = regressor.predict(x_test)\n",
    "y_pred = pd.DataFrame(y_pred, columns=['Predictions'])\n",
    "\n",
    "# Plot outputs\n",
    "plt.plot(y_test, y_pred, color='blue',linewidth=3)\n",
    "#plt.scatter(y_test,y_pred)\n",
    "plt.xlabel('Actual Score')\n",
    "plt.ylabel('Predicted Score')\n",
    "plt.title('Random Forest Regression-Actual vs Predicted')\n",
    "plt.show()\n",
    "\n",
    "\n",
    "# Calculating R2 Score\n",
    "r2_score_train =regressor.score(x_train, y_train)\n",
    "print('\\nr2 Score On Train Data:',r2_score_train)\n",
    "r2_score_test=regressor.score(x_test,y_test)\n",
    "print('\\nr2 Score On Test Data:',r2_score_test)\n",
    "\n",
    "print('\\n\\nMean Absolute Error:', metrics.mean_absolute_error(y_test, y_pred))\n",
    "print('\\nMean Squared Error:', metrics.mean_squared_error(y_test, y_pred))\n",
    "print('\\nRoot Mean Squared Error:', np.sqrt(metrics.mean_squared_error(y_test, y_pred)))\n",
    "print('\\nExplained Variance Score:',explained_variance_score(y_test, y_pred))\n",
    "\n",
    "scores = cross_val_score(regressor,df_train, y, cv=5)\n",
    "print('\\nCross Validation')\n",
    "print('Random Forest Regression Score:',scores)\n",
    "print('Average Random Forest Regression score:',round(scores.mean(),4))\n"
   ]
  },
  {
   "cell_type": "code",
   "execution_count": 364,
   "metadata": {},
   "outputs": [
    {
     "name": "stdout",
     "output_type": "stream",
     "text": [
      "Fitting 5 folds for each of 100 candidates, totalling 500 fits\n"
     ]
    },
    {
     "name": "stderr",
     "output_type": "stream",
     "text": [
      "[Parallel(n_jobs=1)]: Using backend SequentialBackend with 1 concurrent workers.\n"
     ]
    },
    {
     "name": "stdout",
     "output_type": "stream",
     "text": [
      "Best Score:  -0.00033540084454739547\n",
      "Best Params:  {'verbose': 1, 'random_state': 1, 'n_jobs': 1, 'n_estimators': 200, 'min_weight_fraction_leaf': 0.5, 'min_samples_split': 3, 'min_samples_leaf': 3, 'max_leaf_nodes': 10, 'max_features': 'sqrt', 'max_depth': 2, 'criterion': 'mse'}\n"
     ]
    },
    {
     "name": "stderr",
     "output_type": "stream",
     "text": [
      "[Parallel(n_jobs=1)]: Done 200 out of 200 | elapsed:    0.3s finished\n"
     ]
    }
   ],
   "source": [
    "n_estimators=[10, 50,5,90, 200, 110, 500]\n",
    "criterion = ['mse','mae']\n",
    "max_depth = [2,4,6,8,10]\n",
    "min_samples_split=[1,5,3,1.5,3.9,10]\n",
    "min_samples_leaf=[1.4,3,2.6,9.3,1.5]\n",
    "min_weight_fraction_leaf=[1.4,3.5,1.2,0.5]\n",
    "max_features=['auto','sqrt','log2']\n",
    "max_leaf_nodes=[4,6,12,10,25,50]\n",
    "verbose = [1,5,4,10,15]\n",
    "random_state= [1,5,10, 100,200,500]\n",
    "n_jobs= [1,5,10, 100,200]\n",
    "\n",
    "param_distributions = dict(n_estimators=n_estimators,\n",
    "                           criterion = criterion,\n",
    "                           max_depth = max_depth,\n",
    "                           min_samples_split=min_samples_split,\n",
    "                           min_samples_leaf=min_samples_leaf,\n",
    "                           min_weight_fraction_leaf=min_weight_fraction_leaf,\n",
    "                           max_features=max_features,\n",
    "                           max_leaf_nodes=max_leaf_nodes,\n",
    "                           verbose = verbose,\n",
    "                           random_state= random_state,\n",
    "                           n_jobs= n_jobs)\n",
    "\n",
    "random = RandomizedSearchCV(estimator=regressor,\n",
    "                            param_distributions=param_distributions,\n",
    "                            verbose=1, n_jobs=-1,\n",
    "                            n_iter=100)\n",
    "random_result = random.fit(x_train, y_train)\n",
    "\n",
    "print('Best Score: ', random_result.best_score_)\n",
    "print('Best Params: ', random_result.best_params_)"
   ]
  },
  {
   "cell_type": "markdown",
   "metadata": {},
   "source": [
    "#### Model Building using Decision Tree"
   ]
  },
  {
   "cell_type": "code",
   "execution_count": 365,
   "metadata": {},
   "outputs": [
    {
     "data": {
      "image/png": "[encoded data removed]",
      "text/plain": [
       "<Figure size 432x288 with 1 Axes>"
      ]
     },
     "metadata": {
      "needs_background": "light"
     },
     "output_type": "display_data"
    },
    {
     "name": "stdout",
     "output_type": "stream",
     "text": [
      "\n",
      "r2 Score On Train Data: 1.0\n",
      "\n",
      "r2 Score On Test Data: 1.0\n",
      "\n",
      "\n",
      "Mean Absolute Error: 0.0\n",
      "\n",
      "Mean Squared Error: 0.0\n",
      "\n",
      "Root Mean Squared Error: 0.0\n",
      "\n",
      "Explained Variance Score: 1.0\n",
      "\n",
      "Cross Validation\n",
      "Decision Tree Regression Score: [1. 1. 1. 1. 1.]\n",
      "Average Decision Tree Regression score: 1.0\n"
     ]
    }
   ],
   "source": [
    "regressor =  DecisionTreeRegressor(max_depth=6,criterion='mse')\n",
    "regressor.fit(x_train, y_train)\n",
    "y_pred = regressor.predict(x_test)\n",
    "y_pred = pd.DataFrame(y_pred, columns=['Predictions'])\n",
    "\n",
    "# Plot outputs\n",
    "plt.plot(y_test, y_pred, color='blue',linewidth=3)\n",
    "#plt.scatter(y_test,y_pred)\n",
    "plt.xlabel('Actual Score')\n",
    "plt.ylabel('Predicted Score')\n",
    "plt.title('Decision Tree Regression-Actual vs Predicted')\n",
    "plt.show()\n",
    "\n",
    "\n",
    "# Calculating R2 Score\n",
    "r2_score_train =regressor.score(x_train, y_train)\n",
    "print('\\nr2 Score On Train Data:',r2_score_train)\n",
    "r2_score_test=regressor.score(x_test,y_test)\n",
    "print('\\nr2 Score On Test Data:',r2_score_test)\n",
    "\n",
    "print('\\n\\nMean Absolute Error:', metrics.mean_absolute_error(y_test, y_pred))\n",
    "print('\\nMean Squared Error:', metrics.mean_squared_error(y_test, y_pred))\n",
    "print('\\nRoot Mean Squared Error:', np.sqrt(metrics.mean_squared_error(y_test, y_pred)))\n",
    "print('\\nExplained Variance Score:',explained_variance_score(y_test, y_pred))\n",
    "\n",
    "scores = cross_val_score(regressor,df_train, y, cv=5)\n",
    "print('\\nCross Validation')\n",
    "print('Decision Tree Regression Score:',scores)\n",
    "print('Average Decision Tree Regression score:',round(scores.mean(),4))\n"
   ]
  },
  {
   "cell_type": "code",
   "execution_count": 366,
   "metadata": {},
   "outputs": [
    {
     "name": "stdout",
     "output_type": "stream",
     "text": [
      "Fitting 5 folds for each of 1000 candidates, totalling 5000 fits\n",
      "Best Score:  1.0\n",
      "Best Params:  {'splitter': 'best', 'min_weight_fraction_leaf': 0.03, 'min_samples_split': 15, 'min_samples_leaf': 1, 'max_leaf_nodes': 25, 'max_features': 'log2', 'max_depth': 12, 'criterion': 'friedman_mse', 'ccp_alpha': 0.001}\n"
     ]
    }
   ],
   "source": [
    "criterion = ['mse','friedman_mse','mae','poisson']\n",
    "splitter=['best','random']\n",
    "max_depth = [2,4,6,8,10,12]\n",
    "min_samples_split=[1,5,3,1.5,3.9,10,15]\n",
    "min_samples_leaf=[1,0.5]\n",
    "min_weight_fraction_leaf=[0.45,0.46,0.0001,0.03,0.005,0.5]\n",
    "max_features=['auto','sqrt','log2']\n",
    "ccp_alpha = [0.0001, 0.001, 0.01, 0.1, 1, 10, 100, 1000]\n",
    "max_leaf_nodes=[4,6,12,10,25,50]\n",
    "\n",
    "\n",
    "\n",
    "param_distributions = dict(criterion = criterion,\n",
    "                           splitter=splitter,\n",
    "                           max_depth=max_depth,\n",
    "                           min_samples_split=min_samples_split,\n",
    "                           min_samples_leaf=min_samples_leaf,\n",
    "                           min_weight_fraction_leaf=min_weight_fraction_leaf,\n",
    "                           max_features=max_features,\n",
    "                           ccp_alpha=ccp_alpha,\n",
    "                           max_leaf_nodes=max_leaf_nodes)                      \n",
    "\n",
    "random = RandomizedSearchCV(estimator=regressor,\n",
    "                            param_distributions=param_distributions,\n",
    "                            verbose=1, n_jobs=-1,\n",
    "                            n_iter=1000)\n",
    "random_result = random.fit(x_train, y_train)\n",
    "\n",
    "print('Best Score: ', random_result.best_score_)\n",
    "print('Best Params: ', random_result.best_params_)"
   ]
  },
  {
   "cell_type": "markdown",
   "metadata": {},
   "source": [
    "#### Model building using Adaboost"
   ]
  },
  {
   "cell_type": "code",
   "execution_count": 367,
   "metadata": {},
   "outputs": [
    {
     "data": {
      "image/png": "[encoded data removed]",
      "text/plain": [
       "<Figure size 432x288 with 1 Axes>"
      ]
     },
     "metadata": {
      "needs_background": "light"
     },
     "output_type": "display_data"
    },
    {
     "name": "stdout",
     "output_type": "stream",
     "text": [
      "\n",
      "r2 Score On Train Data: 1.0\n",
      "\n",
      "r2 Score On Test Data: 1.0\n",
      "\n",
      "\n",
      "Mean Absolute Error: 0.0\n",
      "\n",
      "Mean Squared Error: 0.0\n",
      "\n",
      "Root Mean Squared Error: 0.0\n",
      "\n",
      "Explained Variance Score: 1.0\n",
      "\n",
      "Cross Validation\n",
      "Adaboost Regression Score: [1. 1. 1. 1. 1.]\n",
      "Average Adaboost Regression score: 1.0\n"
     ]
    }
   ],
   "source": [
    "DTR=DecisionTreeRegressor(max_depth=10)\n",
    "regressor =  AdaBoostRegressor(n_estimators=100, base_estimator=DTR ,learning_rate=0.04)\n",
    "regressor.fit(x_train, y_train)\n",
    "y_pred = regressor.predict(x_test)\n",
    "y_pred = pd.DataFrame(y_pred, columns=['Predictions'])\n",
    "\n",
    "# Plot outputs\n",
    "plt.plot(y_test, y_pred, color='blue',linewidth=3)\n",
    "#plt.scatter(y_test,y_pred)\n",
    "plt.xlabel('Actual Score')\n",
    "plt.ylabel('Predicted Score')\n",
    "plt.title('Adaboost Regression-Actual vs Predicted')\n",
    "plt.show()\n",
    "\n",
    "\n",
    "# Calculating R2 Score\n",
    "r2_score_train =regressor.score(x_train, y_train)\n",
    "print('\\nr2 Score On Train Data:',r2_score_train)\n",
    "r2_score_test=regressor.score(x_test,y_test)\n",
    "print('\\nr2 Score On Test Data:',r2_score_test)\n",
    "\n",
    "print('\\n\\nMean Absolute Error:', metrics.mean_absolute_error(y_test, y_pred))\n",
    "print('\\nMean Squared Error:', metrics.mean_squared_error(y_test, y_pred))\n",
    "print('\\nRoot Mean Squared Error:', np.sqrt(metrics.mean_squared_error(y_test, y_pred)))\n",
    "print('\\nExplained Variance Score:',explained_variance_score(y_test, y_pred))\n",
    "\n",
    "\n",
    "scores = cross_val_score(regressor,df_train, y, cv=5)\n",
    "print('\\nCross Validation')\n",
    "print('Adaboost Regression Score:',scores)\n",
    "print('Average Adaboost Regression score:',round(scores.mean(),4))"
   ]
  },
  {
   "cell_type": "code",
   "execution_count": 368,
   "metadata": {},
   "outputs": [
    {
     "name": "stdout",
     "output_type": "stream",
     "text": [
      "Fitting 5 folds for each of 540 candidates, totalling 2700 fits\n",
      "Best Score:  1.0\n",
      "Best Params:  {'random_state': 1, 'n_estimators': 2, 'loss': 'linear', 'learning_rate': 1.5}\n"
     ]
    }
   ],
   "source": [
    "n_estimators=[2,4,6,8,10,12]\n",
    "learning_rate=[1.5,3.4,5.6,9.2,10.2]\n",
    "random_state=[1,5,10, 100,200,500]\n",
    "loss=['linear','square','exponential']\n",
    "\n",
    "param_distributions = dict(n_estimators=n_estimators,\n",
    "                           learning_rate=learning_rate,\n",
    "                           random_state=random_state,\n",
    "                           loss=loss)\n",
    "\n",
    "random = RandomizedSearchCV(estimator=regressor,\n",
    "                            param_distributions=param_distributions,\n",
    "                            verbose=1, n_jobs=-1,\n",
    "                            n_iter=1000)\n",
    "random_result = random.fit(x_train, y_train)\n",
    "\n",
    "print('Best Score: ', random_result.best_score_)\n",
    "print('Best Params: ', random_result.best_params_)"
   ]
  },
  {
   "cell_type": "markdown",
   "metadata": {},
   "source": [
    "#### Model BUilding using GradientBoosting"
   ]
  },
  {
   "cell_type": "code",
   "execution_count": 369,
   "metadata": {},
   "outputs": [
    {
     "data": {
      "image/png": "[encoded data removed]",
      "text/plain": [
       "<Figure size 432x288 with 1 Axes>"
      ]
     },
     "metadata": {
      "needs_background": "light"
     },
     "output_type": "display_data"
    },
    {
     "name": "stdout",
     "output_type": "stream",
     "text": [
      "\n",
      "r2 Score On Train Data: 0.9999999992944921\n",
      "\n",
      "r2 Score On Test Data: 0.9999999992944677\n",
      "\n",
      "\n",
      "Mean Absolute Error: 1.208606267413895e-05\n",
      "\n",
      "Mean Squared Error: 2.460517127776519e-10\n",
      "\n",
      "Root Mean Squared Error: 1.5686035597870224e-05\n",
      "\n",
      "Explained Variance Score: 0.9999999992944921\n",
      "\n",
      "Cross Validation\n",
      "Gradient Boosting Regression Score: [1. 1. 1. 1. 1.]\n",
      "Average Gradient Boosting Regression score: 1.0\n"
     ]
    }
   ],
   "source": [
    "regressor = GradientBoostingRegressor()\n",
    "regressor.fit(x_train, y_train)\n",
    "y_pred = regressor.predict(x_test)\n",
    "y_pred = pd.DataFrame(y_pred, columns=['Predictions'])\n",
    "\n",
    "# Plot outputs\n",
    "plt.plot(y_test, y_pred, color='blue',linewidth=3)\n",
    "#plt.scatter(y_test,y_pred)\n",
    "plt.xlabel('Actual Score')\n",
    "plt.ylabel('Predicted Score')\n",
    "plt.title('GradientBoosting Regression-Actual vs Predicted')\n",
    "plt.show()\n",
    "\n",
    "\n",
    "# Calculating R2 Score\n",
    "r2_score_train =regressor.score(x_train, y_train)\n",
    "print('\\nr2 Score On Train Data:',r2_score_train)\n",
    "r2_score_test=regressor.score(x_test,y_test)\n",
    "print('\\nr2 Score On Test Data:',r2_score_test)\n",
    "\n",
    "print('\\n\\nMean Absolute Error:', metrics.mean_absolute_error(y_test, y_pred))\n",
    "print('\\nMean Squared Error:', metrics.mean_squared_error(y_test, y_pred))\n",
    "print('\\nRoot Mean Squared Error:', np.sqrt(metrics.mean_squared_error(y_test, y_pred)))\n",
    "print('\\nExplained Variance Score:',explained_variance_score(y_test, y_pred))\n",
    "\n",
    "scores = cross_val_score(regressor,df_train, y, cv=5)\n",
    "print('\\nCross Validation')\n",
    "print('Gradient Boosting Regression Score:',scores)\n",
    "print('Average Gradient Boosting Regression score:',round(scores.mean(),4))\n"
   ]
  },
  {
   "cell_type": "code",
   "execution_count": 370,
   "metadata": {},
   "outputs": [
    {
     "name": "stdout",
     "output_type": "stream",
     "text": [
      "Fitting 5 folds for each of 1000 candidates, totalling 5000 fits\n",
      "      Iter       Train Loss   Remaining Time \n",
      "         1           0.1848           23.15s\n",
      "         2           0.1824           21.72s\n",
      "         3           0.1818           20.94s\n",
      "         4           0.1817           20.28s\n",
      "         5           0.1816           19.70s\n",
      "         6           0.1816           19.25s\n",
      "         7           0.1816           18.70s\n",
      "         8           0.1816           18.23s\n",
      "         9           0.1816           17.70s\n",
      "        10           0.1816           17.24s\n",
      "        11           0.1816           16.68s\n",
      "        12           0.1816           16.21s\n",
      "        13           0.1816           15.74s\n",
      "        14           0.1816           15.23s\n",
      "        15           0.1816           14.74s\n",
      "        16           0.1816           14.24s\n",
      "        17           0.1816           13.74s\n",
      "        18           0.1816           13.26s\n",
      "        19           0.1816           12.76s\n",
      "        20           0.1816           12.26s\n",
      "        21           0.1816           11.76s\n",
      "        22           0.1816           11.27s\n",
      "        23           0.1816           10.77s\n",
      "        24           0.1816           10.28s\n",
      "        25           0.1816            9.78s\n",
      "        26           0.1816            9.29s\n",
      "        27           0.1816            8.80s\n",
      "        28           0.1816            8.29s\n",
      "        29           0.1816            7.81s\n",
      "        30           0.1816            7.32s\n",
      "        31           0.1816            6.84s\n",
      "        32           0.1816            6.39s\n",
      "        33           0.1816            5.91s\n",
      "        34           0.1816            5.43s\n",
      "        35           0.1816            4.98s\n",
      "        36           0.1816            4.50s\n",
      "        37           0.1816            4.00s\n",
      "        38           0.1816            3.50s\n",
      "        39           0.1816            3.00s\n",
      "        40           0.1816            2.50s\n",
      "        41           0.1816            2.00s\n",
      "        42           0.1816            1.50s\n",
      "        43           0.1816            1.00s\n",
      "        44           0.1816            0.50s\n",
      "        45           0.1816            0.00s\n",
      "Best Score:  -0.0003381349981777415\n",
      "Best Params:  {'verbose': 15, 'subsample': 1, 'random_state': 1, 'n_estimators': 45, 'min_weight_fraction_leaf': 0.5, 'min_samples_split': 0.4, 'min_samples_leaf': 1, 'max_features': 'auto', 'loss': 'huber', 'learning_rate': 0.5, 'criterion': 'mae'}\n"
     ]
    }
   ],
   "source": [
    "loss=['ls','lad','huber','quantile']\n",
    "learning_rate=[.001,.04,.05,0.6,1,1.2,0.5]\n",
    "n_estimators=[23,45,60,69,98]\n",
    "subsample=[0,1]\n",
    "criterion=['friedman_mse','mse','mae']\n",
    "min_samples_split=[3,5,1.5,0.4]\n",
    "min_samples_leaf=[1,5,3,1.5,3.9,10,15]\n",
    "min_weight_fraction_leaf=[1.4,3.5,2.6,9.3,1.2,0.5]\n",
    "random_state=[1,5,10, 100,200,500]\n",
    "max_features=['auto','sqrt','log2']\n",
    "verbose = [1,5,4,10,30,15,20,100]\n",
    "\n",
    "param_distributions = dict(loss=loss,\n",
    "                           learning_rate=learning_rate,\n",
    "                           n_estimators=n_estimators,\n",
    "                           subsample=subsample,\n",
    "                           criterion=criterion,\n",
    "                           min_samples_split=min_samples_split,\n",
    "                           min_samples_leaf=min_samples_leaf,\n",
    "                           min_weight_fraction_leaf=min_weight_fraction_leaf,\n",
    "                           random_state=random_state,\n",
    "                           max_features=max_features,\n",
    "                           verbose = verbose)\n",
    "\n",
    "random = RandomizedSearchCV(estimator=regressor,\n",
    "                            param_distributions=param_distributions,\n",
    "                            verbose=1, n_jobs=-1,\n",
    "                            n_iter=1000)\n",
    "random_result = random.fit(x_train, y_train)\n",
    "\n",
    "print('Best Score: ', random_result.best_score_)\n",
    "print('Best Params: ', random_result.best_params_)\n",
    "\n"
   ]
  },
  {
   "cell_type": "markdown",
   "metadata": {},
   "source": [
    "#### Model BUilding using XGB (Extreme Gradient Boosting)"
   ]
  },
  {
   "cell_type": "code",
   "execution_count": 371,
   "metadata": {},
   "outputs": [
    {
     "data": {
      "image/png": "[encoded data removed]",
      "text/plain": [
       "<Figure size 432x288 with 1 Axes>"
      ]
     },
     "metadata": {
      "needs_background": "light"
     },
     "output_type": "display_data"
    },
    {
     "name": "stdout",
     "output_type": "stream",
     "text": [
      "\n",
      "r2 Score On Train Data: 0.9999999995445901\n",
      "\n",
      "r2 Score On Test Data: 0.9999999995443802\n",
      "\n",
      "\n",
      "Mean Absolute Error: 9.751399943191638e-06\n",
      "\n",
      "Mean Squared Error: 1.5889567079849028e-10\n",
      "\n",
      "Root Mean Squared Error: 1.2605382612141936e-05\n",
      "\n",
      "Explained Variance Score: 0.9999999995443946\n",
      "\n",
      "Cross Validation\n",
      "XGB Regression Score: [1. 1. 1. 1. 1.]\n",
      "Average XGB Regression score: 1.0\n"
     ]
    }
   ],
   "source": [
    "regressor = XGBRegressor()\n",
    "regressor.fit(x_train, y_train)\n",
    "y_pred = regressor.predict(x_test)\n",
    "y_pred = pd.DataFrame(y_pred, columns=['Predictions'])\n",
    "\n",
    "# Plot outputs\n",
    "plt.plot(y_test, y_pred, color='blue',linewidth=3)\n",
    "#plt.scatter(y_test,y_pred)\n",
    "plt.xlabel('Actual Score')\n",
    "plt.ylabel('Predicted Score')\n",
    "plt.title('XGB Regression-Actual vs Predicted')\n",
    "plt.show()\n",
    "\n",
    "\n",
    "# Calculating R2 Score\n",
    "r2_score_train =regressor.score(x_train, y_train)\n",
    "print('\\nr2 Score On Train Data:',r2_score_train)\n",
    "r2_score_test=regressor.score(x_test,y_test)\n",
    "print('\\nr2 Score On Test Data:',r2_score_test)\n",
    "\n",
    "print('\\n\\nMean Absolute Error:', metrics.mean_absolute_error(y_test, y_pred))\n",
    "print('\\nMean Squared Error:', metrics.mean_squared_error(y_test, y_pred))\n",
    "print('\\nRoot Mean Squared Error:', np.sqrt(metrics.mean_squared_error(y_test, y_pred)))\n",
    "print('\\nExplained Variance Score:',explained_variance_score(y_test, y_pred))\n",
    "\n",
    "scores = cross_val_score(regressor,df_train, y, cv=5)\n",
    "print('\\nCross Validation')\n",
    "print('XGB Regression Score:',scores)\n",
    "print('Average XGB Regression score:',round(scores.mean(),4))"
   ]
  },
  {
   "cell_type": "code",
   "execution_count": 372,
   "metadata": {},
   "outputs": [
    {
     "name": "stdout",
     "output_type": "stream",
     "text": [
      "Fitting 5 folds for each of 360 candidates, totalling 1800 fits\n",
      "Best Score:  0.9999931440700582\n",
      "Best Params:  {'subsample': 0.1, 'n_estimators': 200, 'max_depth': 25, 'eta': 0.0001, 'colsample_bytree': 0.1}\n"
     ]
    }
   ],
   "source": [
    "colsample_bytree=[0.1, 1.1, 0.1]\n",
    "#np.linspace(0.5, 0.9, 5)\n",
    "n_estimators=[100, 200]\n",
    "max_depth=[10, 15, 20, 25]\n",
    "eta=[0.0001, 0.001, 0.01, 0.1, 1.0]\n",
    "subsample=[0.1, 1.1, 0.1]\n",
    "\n",
    "param_distributions = dict(colsample_bytree=colsample_bytree,\n",
    "                           n_estimators=n_estimators,\n",
    "                           max_depth=max_depth,\n",
    "                           eta=eta,\n",
    "                           subsample=subsample)\n",
    "\n",
    "random = RandomizedSearchCV(estimator=regressor,\n",
    "                            param_distributions=param_distributions,\n",
    "                            verbose=1, n_jobs=-1,\n",
    "                            n_iter=1000)\n",
    "random_result = random.fit(x_train, y_train)\n",
    "\n",
    "print('Best Score: ', random_result.best_score_)\n",
    "print('Best Params: ', random_result.best_params_)\n"
   ]
  },
  {
   "cell_type": "markdown",
   "metadata": {},
   "source": [
    "### AdaBoost as the final model "
   ]
  },
  {
   "cell_type": "markdown",
   "metadata": {},
   "source": [
    "#### Full data set and # Separate Target Variable and Predictor Variables"
   ]
  },
  {
   "cell_type": "code",
   "execution_count": 377,
   "metadata": {},
   "outputs": [
    {
     "name": "stdout",
     "output_type": "stream",
     "text": [
      "(8523, 11)\n",
      "(8523,)\n"
     ]
    }
   ],
   "source": [
    "PScaler=MinMaxScaler()\n",
    "PScalerFit=PScaler.fit(df_train)\n",
    "\n",
    "X=PScalerFit.transform(df_train)\n",
    "\n",
    "print(X.shape)\n",
    "print(y.shape)"
   ]
  },
  {
   "cell_type": "markdown",
   "metadata": {},
   "source": [
    "#### Retraining the Model "
   ]
  },
  {
   "cell_type": "code",
   "execution_count": 379,
   "metadata": {},
   "outputs": [
    {
     "name": "stdout",
     "output_type": "stream",
     "text": [
      "Final Score: 1.0\n"
     ]
    }
   ],
   "source": [
    "regressor = AdaBoostRegressor(n_estimators=100, base_estimator=DTR ,learning_rate=1.5,random_state=10,loss='square')\n",
    "Final_Model=regressor.fit(X,y)\n",
    "\n",
    "# Calculating R2 Score\n",
    "r2_score =regressor.score(X, y)\n",
    "print('Final Score:',r2_score)\n"
   ]
  },
  {
   "cell_type": "markdown",
   "metadata": {},
   "source": [
    "#### Model Saving"
   ]
  },
  {
   "cell_type": "code",
   "execution_count": 380,
   "metadata": {},
   "outputs": [
    {
     "name": "stdout",
     "output_type": "stream",
     "text": [
      "Model Saved\n"
     ]
    }
   ],
   "source": [
    "import pickle\n",
    "filename='BigMartSale.pk1'\n",
    "pickle.dump(regressor,open(filename,'wb'))\n",
    "print(\"Model Saved\")"
   ]
  },
  {
   "cell_type": "code",
   "execution_count": null,
   "metadata": {},
   "outputs": [],
   "source": []
  },
  {
   "cell_type": "code",
   "execution_count": null,
   "metadata": {},
   "outputs": [],
   "source": []
  },
  {
   "cell_type": "code",
   "execution_count": null,
   "metadata": {},
   "outputs": [],
   "source": []
  },
  {
   "cell_type": "code",
   "execution_count": null,
   "metadata": {},
   "outputs": [],
   "source": []
  },
  {
   "cell_type": "code",
   "execution_count": null,
   "metadata": {},
   "outputs": [],
   "source": []
  },
  {
   "cell_type": "code",
   "execution_count": null,
   "metadata": {},
   "outputs": [],
   "source": []
  }
 ],
 "metadata": {
  "kernelspec": {
   "display_name": "Python 3",
   "language": "python",
   "name": "python3"
  },
  "language_info": {
   "codemirror_mode": {
    "name": "ipython",
    "version": 3
   },
   "file_extension": ".py",
   "mimetype": "text/x-python",
   "name": "python",
   "nbconvert_exporter": "python",
   "pygments_lexer": "ipython3",
   "version": "3.8.5"
  }
 },
 "nbformat": 4,
 "nbformat_minor": 4
}
