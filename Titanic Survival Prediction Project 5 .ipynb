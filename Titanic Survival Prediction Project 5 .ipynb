{
 "cells": [
  {
   "cell_type": "markdown",
   "metadata": {},
   "source": [
    "### Titanic--Survival Prediction"
   ]
  },
  {
   "cell_type": "code",
   "execution_count": 166,
   "metadata": {},
   "outputs": [],
   "source": [
    "import numpy as np\n",
    "import pandas as pd\n",
    "import matplotlib.pyplot as plt\n",
    "import seaborn as sns\n",
    "%matplotlib inline\n",
    "from sklearn.preprocessing import LabelEncoder,StandardScaler, MinMaxScaler\n",
    "from numpy import set_printoptions\n",
    "import scipy.stats as stat\n",
    "from sklearn.preprocessing import StandardScaler\n",
    "from sklearn.preprocessing import power_transform\n",
    "from sklearn.feature_selection import SelectKBest, chi2\n",
    "#from sklearn.ensemble import ExtraTreesRegressor\n",
    "from sklearn.ensemble import ExtraTreesClassifier\n",
    "\n",
    "from sklearn.model_selection import train_test_split\n",
    "import warnings\n",
    "warnings.filterwarnings('ignore')\n",
    "\n",
    "from sklearn import metrics, tree ,svm\n",
    "from sklearn.ensemble import ExtraTreesClassifier,RandomForestClassifier,AdaBoostClassifier\n",
    "from sklearn.linear_model import LogisticRegression\n",
    "from sklearn.metrics import classification_report, confusion_matrix,accuracy_score,roc_curve,auc, roc_auc_score\n",
    "from sklearn.model_selection import GridSearchCV, cross_val_score, RandomizedSearchCV\n",
    "from sklearn.tree import DecisionTreeClassifier\n",
    "from sklearn.naive_bayes import GaussianNB\n",
    "from sklearn.neighbors import KNeighborsClassifier\n"
   ]
  },
  {
   "cell_type": "markdown",
   "metadata": {},
   "source": [
    "###### Data Loading"
   ]
  },
  {
   "cell_type": "code",
   "execution_count": 167,
   "metadata": {},
   "outputs": [
    {
     "data": {
      "text/html": [
       "<div>\n",
       "<style scoped>\n",
       "    .dataframe tbody tr th:only-of-type {\n",
       "        vertical-align: middle;\n",
       "    }\n",
       "\n",
       "    .dataframe tbody tr th {\n",
       "        vertical-align: top;\n",
       "    }\n",
       "\n",
       "    .dataframe thead th {\n",
       "        text-align: right;\n",
       "    }\n",
       "</style>\n",
       "<table border=\"1\" class=\"dataframe\">\n",
       "  <thead>\n",
       "    <tr style=\"text-align: right;\">\n",
       "      <th></th>\n",
       "      <th>PassengerId</th>\n",
       "      <th>Survived</th>\n",
       "      <th>Pclass</th>\n",
       "      <th>Name</th>\n",
       "      <th>Sex</th>\n",
       "      <th>Age</th>\n",
       "      <th>SibSp</th>\n",
       "      <th>Parch</th>\n",
       "      <th>Ticket</th>\n",
       "      <th>Fare</th>\n",
       "      <th>Cabin</th>\n",
       "      <th>Embarked</th>\n",
       "    </tr>\n",
       "  </thead>\n",
       "  <tbody>\n",
       "    <tr>\n",
       "      <th>0</th>\n",
       "      <td>1</td>\n",
       "      <td>0</td>\n",
       "      <td>3</td>\n",
       "      <td>Braund, Mr. Owen Harris</td>\n",
       "      <td>male</td>\n",
       "      <td>22.0</td>\n",
       "      <td>1</td>\n",
       "      <td>0</td>\n",
       "      <td>A/5 21171</td>\n",
       "      <td>7.2500</td>\n",
       "      <td>NaN</td>\n",
       "      <td>S</td>\n",
       "    </tr>\n",
       "    <tr>\n",
       "      <th>1</th>\n",
       "      <td>2</td>\n",
       "      <td>1</td>\n",
       "      <td>1</td>\n",
       "      <td>Cumings, Mrs. John Bradley (Florence Briggs Th...</td>\n",
       "      <td>female</td>\n",
       "      <td>38.0</td>\n",
       "      <td>1</td>\n",
       "      <td>0</td>\n",
       "      <td>PC 17599</td>\n",
       "      <td>71.2833</td>\n",
       "      <td>C85</td>\n",
       "      <td>C</td>\n",
       "    </tr>\n",
       "    <tr>\n",
       "      <th>2</th>\n",
       "      <td>3</td>\n",
       "      <td>1</td>\n",
       "      <td>3</td>\n",
       "      <td>Heikkinen, Miss. Laina</td>\n",
       "      <td>female</td>\n",
       "      <td>26.0</td>\n",
       "      <td>0</td>\n",
       "      <td>0</td>\n",
       "      <td>STON/O2. 3101282</td>\n",
       "      <td>7.9250</td>\n",
       "      <td>NaN</td>\n",
       "      <td>S</td>\n",
       "    </tr>\n",
       "    <tr>\n",
       "      <th>3</th>\n",
       "      <td>4</td>\n",
       "      <td>1</td>\n",
       "      <td>1</td>\n",
       "      <td>Futrelle, Mrs. Jacques Heath (Lily May Peel)</td>\n",
       "      <td>female</td>\n",
       "      <td>35.0</td>\n",
       "      <td>1</td>\n",
       "      <td>0</td>\n",
       "      <td>113803</td>\n",
       "      <td>53.1000</td>\n",
       "      <td>C123</td>\n",
       "      <td>S</td>\n",
       "    </tr>\n",
       "    <tr>\n",
       "      <th>4</th>\n",
       "      <td>5</td>\n",
       "      <td>0</td>\n",
       "      <td>3</td>\n",
       "      <td>Allen, Mr. William Henry</td>\n",
       "      <td>male</td>\n",
       "      <td>35.0</td>\n",
       "      <td>0</td>\n",
       "      <td>0</td>\n",
       "      <td>373450</td>\n",
       "      <td>8.0500</td>\n",
       "      <td>NaN</td>\n",
       "      <td>S</td>\n",
       "    </tr>\n",
       "  </tbody>\n",
       "</table>\n",
       "</div>"
      ],
      "text/plain": [
       "   PassengerId  Survived  Pclass  \\\n",
       "0            1         0       3   \n",
       "1            2         1       1   \n",
       "2            3         1       3   \n",
       "3            4         1       1   \n",
       "4            5         0       3   \n",
       "\n",
       "                                                Name     Sex   Age  SibSp  \\\n",
       "0                            Braund, Mr. Owen Harris    male  22.0      1   \n",
       "1  Cumings, Mrs. John Bradley (Florence Briggs Th...  female  38.0      1   \n",
       "2                             Heikkinen, Miss. Laina  female  26.0      0   \n",
       "3       Futrelle, Mrs. Jacques Heath (Lily May Peel)  female  35.0      1   \n",
       "4                           Allen, Mr. William Henry    male  35.0      0   \n",
       "\n",
       "   Parch            Ticket     Fare Cabin Embarked  \n",
       "0      0         A/5 21171   7.2500   NaN        S  \n",
       "1      0          PC 17599  71.2833   C85        C  \n",
       "2      0  STON/O2. 3101282   7.9250   NaN        S  \n",
       "3      0            113803  53.1000  C123        S  \n",
       "4      0            373450   8.0500   NaN        S  "
      ]
     },
     "execution_count": 167,
     "metadata": {},
     "output_type": "execute_result"
    }
   ],
   "source": [
    "pd.pandas.set_option('display.max_columns',None)\n",
    "df=pd.read_csv(\"https://raw.githubusercontent.com/dsrscientist/dataset1/master/titanic_train.csv\")\n",
    "df.head()"
   ]
  },
  {
   "cell_type": "markdown",
   "metadata": {},
   "source": [
    "###### Checking the Dimensions of Dataset"
   ]
  },
  {
   "cell_type": "code",
   "execution_count": 168,
   "metadata": {},
   "outputs": [
    {
     "data": {
      "text/plain": [
       "(891, 12)"
      ]
     },
     "execution_count": 168,
     "metadata": {},
     "output_type": "execute_result"
    }
   ],
   "source": [
    "df.shape"
   ]
  },
  {
   "cell_type": "markdown",
   "metadata": {},
   "source": [
    "#Dataset Description:\n",
    "#Number of columns:12\n",
    "#Number of rows: 891\n",
    "#Number of Independent Columns:11\n",
    "#Number of Dependent Column: 1"
   ]
  },
  {
   "cell_type": "markdown",
   "metadata": {},
   "source": [
    "###### summary of a Dataset"
   ]
  },
  {
   "cell_type": "code",
   "execution_count": 169,
   "metadata": {},
   "outputs": [
    {
     "name": "stdout",
     "output_type": "stream",
     "text": [
      "<class 'pandas.core.frame.DataFrame'>\n",
      "RangeIndex: 891 entries, 0 to 890\n",
      "Data columns (total 12 columns):\n",
      " #   Column       Non-Null Count  Dtype  \n",
      "---  ------       --------------  -----  \n",
      " 0   PassengerId  891 non-null    int64  \n",
      " 1   Survived     891 non-null    int64  \n",
      " 2   Pclass       891 non-null    int64  \n",
      " 3   Name         891 non-null    object \n",
      " 4   Sex          891 non-null    object \n",
      " 5   Age          714 non-null    float64\n",
      " 6   SibSp        891 non-null    int64  \n",
      " 7   Parch        891 non-null    int64  \n",
      " 8   Ticket       891 non-null    object \n",
      " 9   Fare         891 non-null    float64\n",
      " 10  Cabin        204 non-null    object \n",
      " 11  Embarked     889 non-null    object \n",
      "dtypes: float64(2), int64(5), object(5)\n",
      "memory usage: 83.7+ KB\n"
     ]
    }
   ],
   "source": [
    "df.info()"
   ]
  },
  {
   "cell_type": "markdown",
   "metadata": {},
   "source": [
    "#Dataset has three data types: float64, int64, object "
   ]
  },
  {
   "cell_type": "markdown",
   "metadata": {},
   "source": [
    "###### check for missing or null values per column"
   ]
  },
  {
   "cell_type": "code",
   "execution_count": 170,
   "metadata": {},
   "outputs": [
    {
     "data": {
      "text/plain": [
       "PassengerId      0\n",
       "Survived         0\n",
       "Pclass           0\n",
       "Name             0\n",
       "Sex              0\n",
       "Age            177\n",
       "SibSp            0\n",
       "Parch            0\n",
       "Ticket           0\n",
       "Fare             0\n",
       "Cabin          687\n",
       "Embarked         2\n",
       "dtype: int64"
      ]
     },
     "execution_count": 170,
     "metadata": {},
     "output_type": "execute_result"
    }
   ],
   "source": [
    "df.isnull().sum(axis=0)"
   ]
  },
  {
   "cell_type": "markdown",
   "metadata": {},
   "source": [
    "#Columns has no missing value except Age,Cabin and Outlet_Size and Embarked columns  has missing values.\n",
    "#Age=177, Cabin=687 and Embarked =2 missing values."
   ]
  },
  {
   "cell_type": "markdown",
   "metadata": {},
   "source": [
    "###### Getting Each Attribute’s Data Type"
   ]
  },
  {
   "cell_type": "code",
   "execution_count": 171,
   "metadata": {},
   "outputs": [
    {
     "name": "stdout",
     "output_type": "stream",
     "text": [
      "PassengerId      int64\n",
      "Survived         int64\n",
      "Pclass           int64\n",
      "Name            object\n",
      "Sex             object\n",
      "Age            float64\n",
      "SibSp            int64\n",
      "Parch            int64\n",
      "Ticket          object\n",
      "Fare           float64\n",
      "Cabin           object\n",
      "Embarked        object\n",
      "dtype: object\n"
     ]
    }
   ],
   "source": [
    "print(df.dtypes)"
   ]
  },
  {
   "cell_type": "markdown",
   "metadata": {},
   "source": [
    "###### TO check which column Type"
   ]
  },
  {
   "cell_type": "markdown",
   "metadata": {},
   "source": [
    "###### Target Variable(Categorical)     : Survived\n",
    "#Predictors Variables (Categorical):Pclass,Sex,SibSp,Parch,Embarked                                                          \n",
    "#Predictors Variables (Continuous): PassengerId,Name,Age,Ticket,Fare,Cabin"
   ]
  },
  {
   "cell_type": "code",
   "execution_count": 172,
   "metadata": {},
   "outputs": [
    {
     "data": {
      "text/plain": [
       "PassengerId    891\n",
       "Survived         2\n",
       "Pclass           3\n",
       "Name           891\n",
       "Sex              2\n",
       "Age             88\n",
       "SibSp            7\n",
       "Parch            7\n",
       "Ticket         681\n",
       "Fare           248\n",
       "Cabin          147\n",
       "Embarked         3\n",
       "dtype: int64"
      ]
     },
     "execution_count": 172,
     "metadata": {},
     "output_type": "execute_result"
    }
   ],
   "source": [
    "df.nunique()   "
   ]
  },
  {
   "cell_type": "markdown",
   "metadata": {},
   "source": [
    "###### Features in Dataset"
   ]
  },
  {
   "cell_type": "code",
   "execution_count": 173,
   "metadata": {},
   "outputs": [
    {
     "name": "stdout",
     "output_type": "stream",
     "text": [
      "Number of continuous Features: 7\n",
      "Continuous Features:  ['PassengerId', 'Survived', 'Pclass', 'Age', 'SibSp', 'Parch', 'Fare']\n",
      "\n",
      "Number of Categorical Features: 5\n",
      "Categorical Features:  ['Name', 'Sex', 'Ticket', 'Cabin', 'Embarked']\n"
     ]
    }
   ],
   "source": [
    "# Countinuous Features in Dataset\n",
    "numfeat = [cname for cname in df.columns if df[cname].dtype != 'O']\n",
    "print(\"Number of continuous Features: {}\".format(len(numfeat)))\n",
    "print(\"Continuous Features: \",numfeat)\n",
    "\n",
    "\n",
    "# Categorical features in Dataset\n",
    "catfeat = [cname for cname in df.columns if df[cname].dtype == 'O']\n",
    "print(\"\\nNumber of Categorical Features: {}\".format(len(catfeat)))\n",
    "print(\"Categorical Features: \",catfeat)"
   ]
  },
  {
   "cell_type": "markdown",
   "metadata": {},
   "source": [
    "###### Statistical Descriptive"
   ]
  },
  {
   "cell_type": "code",
   "execution_count": 174,
   "metadata": {},
   "outputs": [
    {
     "data": {
      "text/html": [
       "<div>\n",
       "<style scoped>\n",
       "    .dataframe tbody tr th:only-of-type {\n",
       "        vertical-align: middle;\n",
       "    }\n",
       "\n",
       "    .dataframe tbody tr th {\n",
       "        vertical-align: top;\n",
       "    }\n",
       "\n",
       "    .dataframe thead th {\n",
       "        text-align: right;\n",
       "    }\n",
       "</style>\n",
       "<table border=\"1\" class=\"dataframe\">\n",
       "  <thead>\n",
       "    <tr style=\"text-align: right;\">\n",
       "      <th></th>\n",
       "      <th>PassengerId</th>\n",
       "      <th>Survived</th>\n",
       "      <th>Pclass</th>\n",
       "      <th>Age</th>\n",
       "      <th>SibSp</th>\n",
       "      <th>Parch</th>\n",
       "      <th>Fare</th>\n",
       "    </tr>\n",
       "  </thead>\n",
       "  <tbody>\n",
       "    <tr>\n",
       "      <th>count</th>\n",
       "      <td>891.000000</td>\n",
       "      <td>891.000000</td>\n",
       "      <td>891.000000</td>\n",
       "      <td>714.000000</td>\n",
       "      <td>891.000000</td>\n",
       "      <td>891.000000</td>\n",
       "      <td>891.000000</td>\n",
       "    </tr>\n",
       "    <tr>\n",
       "      <th>mean</th>\n",
       "      <td>446.000000</td>\n",
       "      <td>0.383838</td>\n",
       "      <td>2.308642</td>\n",
       "      <td>29.699118</td>\n",
       "      <td>0.523008</td>\n",
       "      <td>0.381594</td>\n",
       "      <td>32.204208</td>\n",
       "    </tr>\n",
       "    <tr>\n",
       "      <th>std</th>\n",
       "      <td>257.353842</td>\n",
       "      <td>0.486592</td>\n",
       "      <td>0.836071</td>\n",
       "      <td>14.526497</td>\n",
       "      <td>1.102743</td>\n",
       "      <td>0.806057</td>\n",
       "      <td>49.693429</td>\n",
       "    </tr>\n",
       "    <tr>\n",
       "      <th>min</th>\n",
       "      <td>1.000000</td>\n",
       "      <td>0.000000</td>\n",
       "      <td>1.000000</td>\n",
       "      <td>0.420000</td>\n",
       "      <td>0.000000</td>\n",
       "      <td>0.000000</td>\n",
       "      <td>0.000000</td>\n",
       "    </tr>\n",
       "    <tr>\n",
       "      <th>25%</th>\n",
       "      <td>223.500000</td>\n",
       "      <td>0.000000</td>\n",
       "      <td>2.000000</td>\n",
       "      <td>20.125000</td>\n",
       "      <td>0.000000</td>\n",
       "      <td>0.000000</td>\n",
       "      <td>7.910400</td>\n",
       "    </tr>\n",
       "    <tr>\n",
       "      <th>50%</th>\n",
       "      <td>446.000000</td>\n",
       "      <td>0.000000</td>\n",
       "      <td>3.000000</td>\n",
       "      <td>28.000000</td>\n",
       "      <td>0.000000</td>\n",
       "      <td>0.000000</td>\n",
       "      <td>14.454200</td>\n",
       "    </tr>\n",
       "    <tr>\n",
       "      <th>75%</th>\n",
       "      <td>668.500000</td>\n",
       "      <td>1.000000</td>\n",
       "      <td>3.000000</td>\n",
       "      <td>38.000000</td>\n",
       "      <td>1.000000</td>\n",
       "      <td>0.000000</td>\n",
       "      <td>31.000000</td>\n",
       "    </tr>\n",
       "    <tr>\n",
       "      <th>max</th>\n",
       "      <td>891.000000</td>\n",
       "      <td>1.000000</td>\n",
       "      <td>3.000000</td>\n",
       "      <td>80.000000</td>\n",
       "      <td>8.000000</td>\n",
       "      <td>6.000000</td>\n",
       "      <td>512.329200</td>\n",
       "    </tr>\n",
       "  </tbody>\n",
       "</table>\n",
       "</div>"
      ],
      "text/plain": [
       "       PassengerId    Survived      Pclass         Age       SibSp  \\\n",
       "count   891.000000  891.000000  891.000000  714.000000  891.000000   \n",
       "mean    446.000000    0.383838    2.308642   29.699118    0.523008   \n",
       "std     257.353842    0.486592    0.836071   14.526497    1.102743   \n",
       "min       1.000000    0.000000    1.000000    0.420000    0.000000   \n",
       "25%     223.500000    0.000000    2.000000   20.125000    0.000000   \n",
       "50%     446.000000    0.000000    3.000000   28.000000    0.000000   \n",
       "75%     668.500000    1.000000    3.000000   38.000000    1.000000   \n",
       "max     891.000000    1.000000    3.000000   80.000000    8.000000   \n",
       "\n",
       "            Parch        Fare  \n",
       "count  891.000000  891.000000  \n",
       "mean     0.381594   32.204208  \n",
       "std      0.806057   49.693429  \n",
       "min      0.000000    0.000000  \n",
       "25%      0.000000    7.910400  \n",
       "50%      0.000000   14.454200  \n",
       "75%      0.000000   31.000000  \n",
       "max      6.000000  512.329200  "
      ]
     },
     "execution_count": 174,
     "metadata": {},
     "output_type": "execute_result"
    }
   ],
   "source": [
    "# Descriptive Continues features\n",
    "df.describe(exclude=[object])"
   ]
  },
  {
   "cell_type": "code",
   "execution_count": 175,
   "metadata": {},
   "outputs": [
    {
     "data": {
      "image/png": "[encoded data removed]",
      "text/plain": [
       "<Figure size 1080x504 with 2 Axes>"
      ]
     },
     "metadata": {
      "needs_background": "light"
     },
     "output_type": "display_data"
    }
   ],
   "source": [
    "# Visualization of Statistical distribution of Data\n",
    "plt.figure(figsize=(15,7)) \n",
    "sns.heatmap(round(df.describe()[1:].transpose(),2),vmin=.9, vmax=30, center=0,annot=True,fmt='.2f', linewidths=.1, )\n",
    "plt.xticks(fontsize=15)\n",
    "plt.yticks(fontsize=10)\n",
    "plt.title(\"Variable Statistical Summary\")\n",
    "plt.show()"
   ]
  },
  {
   "cell_type": "code",
   "execution_count": 176,
   "metadata": {},
   "outputs": [
    {
     "data": {
      "text/html": [
       "<div>\n",
       "<style scoped>\n",
       "    .dataframe tbody tr th:only-of-type {\n",
       "        vertical-align: middle;\n",
       "    }\n",
       "\n",
       "    .dataframe tbody tr th {\n",
       "        vertical-align: top;\n",
       "    }\n",
       "\n",
       "    .dataframe thead th {\n",
       "        text-align: right;\n",
       "    }\n",
       "</style>\n",
       "<table border=\"1\" class=\"dataframe\">\n",
       "  <thead>\n",
       "    <tr style=\"text-align: right;\">\n",
       "      <th></th>\n",
       "      <th>Name</th>\n",
       "      <th>Sex</th>\n",
       "      <th>Ticket</th>\n",
       "      <th>Cabin</th>\n",
       "      <th>Embarked</th>\n",
       "    </tr>\n",
       "  </thead>\n",
       "  <tbody>\n",
       "    <tr>\n",
       "      <th>count</th>\n",
       "      <td>891</td>\n",
       "      <td>891</td>\n",
       "      <td>891</td>\n",
       "      <td>204</td>\n",
       "      <td>889</td>\n",
       "    </tr>\n",
       "    <tr>\n",
       "      <th>unique</th>\n",
       "      <td>891</td>\n",
       "      <td>2</td>\n",
       "      <td>681</td>\n",
       "      <td>147</td>\n",
       "      <td>3</td>\n",
       "    </tr>\n",
       "    <tr>\n",
       "      <th>top</th>\n",
       "      <td>Heikkinen, Miss. Laina</td>\n",
       "      <td>male</td>\n",
       "      <td>347082</td>\n",
       "      <td>G6</td>\n",
       "      <td>S</td>\n",
       "    </tr>\n",
       "    <tr>\n",
       "      <th>freq</th>\n",
       "      <td>1</td>\n",
       "      <td>577</td>\n",
       "      <td>7</td>\n",
       "      <td>4</td>\n",
       "      <td>644</td>\n",
       "    </tr>\n",
       "  </tbody>\n",
       "</table>\n",
       "</div>"
      ],
      "text/plain": [
       "                          Name   Sex  Ticket Cabin Embarked\n",
       "count                      891   891     891   204      889\n",
       "unique                     891     2     681   147        3\n",
       "top     Heikkinen, Miss. Laina  male  347082    G6        S\n",
       "freq                         1   577       7     4      644"
      ]
     },
     "execution_count": 176,
     "metadata": {},
     "output_type": "execute_result"
    }
   ],
   "source": [
    "# Descriptive Categorical features\n",
    "df.describe(include=[object])"
   ]
  },
  {
   "cell_type": "markdown",
   "metadata": {},
   "source": [
    "###### Cardinality of All Features and Target in Dataset"
   ]
  },
  {
   "cell_type": "code",
   "execution_count": 177,
   "metadata": {},
   "outputs": [
    {
     "data": {
      "text/plain": [
       "Text(0.5, 1.0, 'Cardinality')"
      ]
     },
     "execution_count": 177,
     "metadata": {},
     "output_type": "execute_result"
    },
    {
     "data": {
      "image/png": "[encoded data removed]",
      "text/plain": [
       "<Figure size 720x288 with 1 Axes>"
      ]
     },
     "metadata": {
      "needs_background": "light"
     },
     "output_type": "display_data"
    }
   ],
   "source": [
    "# Visualization of Cardinality of All Features and Target in Dataset\n",
    "df.nunique().plot.bar(figsize=(10,4))\n",
    "plt.ylabel('Number of unique categories')\n",
    "plt.xlabel('Variables')\n",
    "plt.title('Cardinality')"
   ]
  },
  {
   "cell_type": "code",
   "execution_count": 178,
   "metadata": {},
   "outputs": [
    {
     "name": "stdout",
     "output_type": "stream",
     "text": [
      "Cardinality of PassengerId are     : 891\n",
      "Cardinality of Survived are     : 2\n",
      "Cardinality of Pclass are     : 3\n",
      "Cardinality of Age are     : 89\n",
      "Cardinality of SibSp are     : 7\n",
      "Cardinality of Parch are     : 7\n",
      "Cardinality of Fare are     : 248\n"
     ]
    }
   ],
   "source": [
    "#cardinality check for Countinuous features\n",
    "for i in numfeat:\n",
    "    uval = len(df[i].unique())\n",
    "    print(\"Cardinality of {} are     : {}\".format(i, uval))"
   ]
  },
  {
   "cell_type": "markdown",
   "metadata": {},
   "source": [
    "#high cardinality Countinuous features: PassengerId,Age,Fare                                                                \n",
    "#low cardinality Countinuous features :Pclass,SibSp,Parch                                                                       \n",
    "#low cardinality Target: Survived"
   ]
  },
  {
   "cell_type": "code",
   "execution_count": 179,
   "metadata": {},
   "outputs": [
    {
     "name": "stdout",
     "output_type": "stream",
     "text": [
      "Cardinality of Name are     : 891\n",
      "Cardinality of Sex are     : 2\n",
      "Cardinality of Ticket are     : 681\n",
      "Cardinality of Cabin are     : 148\n",
      "Cardinality of Embarked are     : 4\n"
     ]
    }
   ],
   "source": [
    "#cardinality check for Categorical features:\n",
    "for i in catfeat:\n",
    "    uval = len(df[i].unique())\n",
    "    print(\"Cardinality of {} are     : {}\".format(i, uval))"
   ]
  },
  {
   "cell_type": "markdown",
   "metadata": {},
   "source": [
    "#high cardinality Categorical features: Name,Ticket,Cabin                                                                       \n",
    "#low cardinality Categorical features :Sex,Embarked"
   ]
  },
  {
   "cell_type": "markdown",
   "metadata": {},
   "source": [
    "###### check for duplicate rows"
   ]
  },
  {
   "cell_type": "code",
   "execution_count": 180,
   "metadata": {},
   "outputs": [
    {
     "data": {
      "text/plain": [
       "0"
      ]
     },
     "execution_count": 180,
     "metadata": {},
     "output_type": "execute_result"
    }
   ],
   "source": [
    "sum(df.duplicated())"
   ]
  },
  {
   "cell_type": "markdown",
   "metadata": {},
   "source": [
    "###### Handling Missing"
   ]
  },
  {
   "cell_type": "code",
   "execution_count": 181,
   "metadata": {},
   "outputs": [
    {
     "data": {
      "text/plain": [
       "PassengerId      0\n",
       "Survived         0\n",
       "Pclass           0\n",
       "Age            177\n",
       "SibSp            0\n",
       "Parch            0\n",
       "Fare             0\n",
       "dtype: int64"
      ]
     },
     "execution_count": 181,
     "metadata": {},
     "output_type": "execute_result"
    }
   ],
   "source": [
    "#Handling Missing values in Countinuous Features:\n",
    "df[numfeat].isnull().sum(axis=0)"
   ]
  },
  {
   "cell_type": "code",
   "execution_count": 182,
   "metadata": {},
   "outputs": [
    {
     "data": {
      "text/plain": [
       "PassengerId    0\n",
       "Survived       0\n",
       "Pclass         0\n",
       "Age            0\n",
       "SibSp          0\n",
       "Parch          0\n",
       "Fare           0\n",
       "dtype: int64"
      ]
     },
     "execution_count": 182,
     "metadata": {},
     "output_type": "execute_result"
    }
   ],
   "source": [
    "df['Age'].fillna(df['Age'].mean(), inplace=True)\n",
    "df[numfeat].isnull().sum(axis=0)"
   ]
  },
  {
   "cell_type": "code",
   "execution_count": 183,
   "metadata": {},
   "outputs": [
    {
     "data": {
      "text/plain": [
       "Name          0\n",
       "Sex           0\n",
       "Ticket        0\n",
       "Cabin       687\n",
       "Embarked      2\n",
       "dtype: int64"
      ]
     },
     "execution_count": 183,
     "metadata": {},
     "output_type": "execute_result"
    }
   ],
   "source": [
    "#Handling Missing values in Categorical Features:\n",
    "\n",
    "df[catfeat].isnull().sum(axis=0)"
   ]
  },
  {
   "cell_type": "code",
   "execution_count": 184,
   "metadata": {},
   "outputs": [
    {
     "data": {
      "text/plain": [
       "0      0\n",
       "1      0\n",
       "2      0\n",
       "3      0\n",
       "4      0\n",
       "      ..\n",
       "886    0\n",
       "887    0\n",
       "888    0\n",
       "889    0\n",
       "890    0\n",
       "Length: 891, dtype: int64"
      ]
     },
     "execution_count": 184,
     "metadata": {},
     "output_type": "execute_result"
    }
   ],
   "source": [
    "df[\"Embarked\"].fillna(df[\"Embarked\"].mode()[0],inplace=True)\n",
    "df[\"Cabin\"].fillna(0,inplace=True)\n",
    "df[catfeat].isnull().sum(axis=1)"
   ]
  },
  {
   "cell_type": "markdown",
   "metadata": {},
   "source": [
    "###### Encoding"
   ]
  },
  {
   "cell_type": "code",
   "execution_count": 185,
   "metadata": {},
   "outputs": [
    {
     "name": "stdout",
     "output_type": "stream",
     "text": [
      "[2 0 1]\n"
     ]
    }
   ],
   "source": [
    "# Encoding Categorical feature\n",
    "#Embarked replace value\n",
    "df['Embarked'].replace({'C':0, 'Q': 1,'S': 2}, inplace = True)\n",
    "print(df['Embarked'].unique())"
   ]
  },
  {
   "cell_type": "code",
   "execution_count": 186,
   "metadata": {},
   "outputs": [
    {
     "name": "stdout",
     "output_type": "stream",
     "text": [
      "[1 0]\n"
     ]
    }
   ],
   "source": [
    "#Sex replace value\n",
    "df['Sex'].replace({'female':0, 'male': 1}, inplace = True)\n",
    "print(df['Sex'].unique())"
   ]
  },
  {
   "cell_type": "code",
   "execution_count": 187,
   "metadata": {},
   "outputs": [],
   "source": [
    "df[\"Title\"] = df[\"Name\"].str.extract(\" ([A-Za-z]+)\\.\")\n",
    "df[\"Title\"] = df[\"Title\"].replace([\"Ms\", \"Mlle\"], \"Miss\")\n",
    "df[\"Title\"] = df[\"Title\"].replace([\"Mme\", \"Countess\", \"Lady\", \"Dona\"], \"Mrs\")\n",
    "df[\"Title\"] = df[\"Title\"].replace([\"Dr\", \"Major\", \"Col\", \"Sir\", \"Rev\", \"Jonkheer\", \"Capt\", \"Don\"], \"Mr\")\n",
    "df = df.drop([\"Name\"], axis=1)\n",
    "\n",
    "df['Title'] = df['Title'].map({\"Mr\": 0, \"Miss\": 1, \"Mrs\": 2, \"Master\": 3}).astype(int) "
   ]
  },
  {
   "cell_type": "code",
   "execution_count": 188,
   "metadata": {},
   "outputs": [],
   "source": [
    "df[\"TicketNumber\"] = df[\"Ticket\"].str.split()\n",
    "df[\"TicketNumber\"] = df[\"TicketNumber\"].str[-1]\n",
    "df[\"TicketNumber\"] = LabelEncoder().fit_transform(df[\"TicketNumber\"])\n",
    "df = df.drop([\"Ticket\"], axis=1)"
   ]
  },
  {
   "cell_type": "code",
   "execution_count": 189,
   "metadata": {},
   "outputs": [
    {
     "data": {
      "text/plain": [
       "(891, 11)"
      ]
     },
     "execution_count": 189,
     "metadata": {},
     "output_type": "execute_result"
    }
   ],
   "source": [
    "df=df.drop([\"Cabin\"],axis=1)\n",
    "df.shape"
   ]
  },
  {
   "cell_type": "markdown",
   "metadata": {},
   "source": [
    "###### check for Outliers"
   ]
  },
  {
   "cell_type": "code",
   "execution_count": 190,
   "metadata": {},
   "outputs": [
    {
     "data": {
      "image/png": "[encoded data removed]",
      "text/plain": [
       "<Figure size 1296x360 with 4 Axes>"
      ]
     },
     "metadata": {
      "needs_background": "light"
     },
     "output_type": "display_data"
    }
   ],
   "source": [
    "# check for Outliers for Categorical features\n",
    "colslst1=['Title','Sex', 'TicketNumber', 'Embarked']\n",
    "fig, pltcan=plt.subplots(nrows=1, ncols=len(colslst1), figsize=(18,5))\n",
    "for predcol , i in zip(colslst1, range(len(colslst1))):\n",
    "    df.boxplot(column=predcol, figsize=(2,10), vert=True, ax=pltcan[i])"
   ]
  },
  {
   "cell_type": "code",
   "execution_count": 191,
   "metadata": {},
   "outputs": [
    {
     "data": {
      "image/png": "[encoded data removed]",
      "text/plain": [
       "<Figure size 1296x360 with 7 Axes>"
      ]
     },
     "metadata": {
      "needs_background": "light"
     },
     "output_type": "display_data"
    }
   ],
   "source": [
    "# check for Outliers for Continuous features\n",
    "colslst1=['PassengerId', 'Survived', 'Pclass', 'Age', 'SibSp', 'Parch', 'Fare']\n",
    "fig, pltcan=plt.subplots(nrows=1, ncols=len(colslst1), figsize=(18,5))\n",
    "for predcol , i in zip(colslst1, range(len(colslst1))):\n",
    "    df.boxplot(column=predcol, figsize=(2,10), vert=True, ax=pltcan[i])"
   ]
  },
  {
   "cell_type": "markdown",
   "metadata": {},
   "source": [
    "###### remove outliers"
   ]
  },
  {
   "cell_type": "code",
   "execution_count": 192,
   "metadata": {},
   "outputs": [],
   "source": [
    "# remove outliers from Categorica Features\n",
    "\n",
    "#fout = ['Title']\n",
    "#for f in fout:\n",
    "#    q1 = df[f].quantile(0.25)\n",
    "#    q3 = df[f].quantile(0.75)\n",
    "#    IQR = q3-q1\n",
    "#    lolimit = q1 - (IQR*1.5)\n",
    "#    uplimit = q3 + (IQR*1.5)\n",
    "#    df.loc[df[f]<lolimit,f] = lolimit\n",
    "#    df.loc[df[f]>uplimit,f] = uplimit\n"
   ]
  },
  {
   "cell_type": "code",
   "execution_count": 193,
   "metadata": {},
   "outputs": [],
   "source": [
    "# remove outliers from Continuous Features\n",
    "\n",
    "\n",
    "fout = ['Age','SibSp','Parch','Fare']\n",
    "for f in fout:\n",
    "    q1 = df[f].quantile(0.25)\n",
    "    q3 = df[f].quantile(0.75)\n",
    "    IQR = q3-q1\n",
    "    lolimit = q1 - (IQR*1.5)\n",
    "    uplimit = q3 + (IQR*1.5)\n",
    "    df.loc[df[f]<lolimit,f] = lolimit\n",
    "    df.loc[df[f]>uplimit,f] = uplimit\n",
    "\n"
   ]
  },
  {
   "cell_type": "markdown",
   "metadata": {},
   "source": [
    "###### Check for outlier after removel"
   ]
  },
  {
   "cell_type": "code",
   "execution_count": 194,
   "metadata": {
    "scrolled": true
   },
   "outputs": [
    {
     "data": {
      "image/png": "[encoded data removed]",
      "text/plain": [
       "<Figure size 1296x360 with 7 Axes>"
      ]
     },
     "metadata": {
      "needs_background": "light"
     },
     "output_type": "display_data"
    }
   ],
   "source": [
    "\n",
    "colslst1=['PassengerId', 'Survived', 'Pclass', 'Age', 'SibSp', 'Parch', 'Fare']\n",
    "fig, pltcan=plt.subplots(nrows=1, ncols=len(colslst1), figsize=(18,5))\n",
    "for predcol , i in zip(colslst1, range(len(colslst1))):\n",
    "    df.boxplot(column=predcol, figsize=(2,10), vert=True, ax=pltcan[i])"
   ]
  },
  {
   "cell_type": "code",
   "execution_count": 195,
   "metadata": {},
   "outputs": [
    {
     "data": {
      "image/png": "[encoded data removed]",
      "text/plain": [
       "<Figure size 1296x360 with 4 Axes>"
      ]
     },
     "metadata": {
      "needs_background": "light"
     },
     "output_type": "display_data"
    }
   ],
   "source": [
    "# check for Outliers for Categorical features\n",
    "colslst1=['Title','Sex', 'TicketNumber', 'Embarked']\n",
    "fig, pltcan=plt.subplots(nrows=1, ncols=len(colslst1), figsize=(18,5))\n",
    "for predcol , i in zip(colslst1, range(len(colslst1))):\n",
    "    df.boxplot(column=predcol, figsize=(2,10), vert=True, ax=pltcan[i])"
   ]
  },
  {
   "cell_type": "markdown",
   "metadata": {},
   "source": [
    "###### Check for Skweness"
   ]
  },
  {
   "cell_type": "code",
   "execution_count": 196,
   "metadata": {},
   "outputs": [
    {
     "data": {
      "text/plain": [
       "PassengerId     0.000000\n",
       "Survived        0.478523\n",
       "Pclass         -0.630548\n",
       "Sex            -0.618921\n",
       "Age             0.080846\n",
       "SibSp           1.621154\n",
       "Parch           0.000000\n",
       "Fare            1.082179\n",
       "Embarked       -1.264823\n",
       "Title           1.180669\n",
       "TicketNumber    0.104705\n",
       "dtype: float64"
      ]
     },
     "execution_count": 196,
     "metadata": {},
     "output_type": "execute_result"
    }
   ],
   "source": [
    "df.skew()"
   ]
  },
  {
   "cell_type": "markdown",
   "metadata": {},
   "source": [
    "###### a) Exploring target variable:                                                                                                           #Univariate Analysis:"
   ]
  },
  {
   "cell_type": "code",
   "execution_count": 197,
   "metadata": {},
   "outputs": [
    {
     "data": {
      "image/png": "[encoded data removed]",
      "text/plain": [
       "<Figure size 360x216 with 1 Axes>"
      ]
     },
     "metadata": {
      "needs_background": "light"
     },
     "output_type": "display_data"
    }
   ],
   "source": [
    "df['Survived'].hist(figsize=(5,3))\n",
    "plt.show()"
   ]
  },
  {
   "cell_type": "code",
   "execution_count": 198,
   "metadata": {},
   "outputs": [],
   "source": [
    "#from imblearn.over_sampling import SMOTE\n",
    "#sm = SMOTE(random_state = 2)"
   ]
  },
  {
   "cell_type": "markdown",
   "metadata": {},
   "source": [
    "###### Creating Graph for--------- Continuous(Predictor) variable          # Univariate Plot \n",
    "#Shows Slightly Right skewed distribution in Item_Visibility"
   ]
  },
  {
   "cell_type": "code",
   "execution_count": 199,
   "metadata": {},
   "outputs": [
    {
     "data": {
      "text/plain": [
       "array([[<AxesSubplot:title={'center':'PassengerId'}>,\n",
       "        <AxesSubplot:title={'center':'Survived'}>,\n",
       "        <AxesSubplot:title={'center':'Pclass'}>],\n",
       "       [<AxesSubplot:title={'center':'Age'}>,\n",
       "        <AxesSubplot:title={'center':'SibSp'}>,\n",
       "        <AxesSubplot:title={'center':'Parch'}>],\n",
       "       [<AxesSubplot:title={'center':'Fare'}>, <AxesSubplot:>,\n",
       "        <AxesSubplot:>]], dtype=object)"
      ]
     },
     "execution_count": 199,
     "metadata": {},
     "output_type": "execute_result"
    },
    {
     "data": {
      "image/png": "[encoded data removed]",
      "text/plain": [
       "<Figure size 864x576 with 9 Axes>"
      ]
     },
     "metadata": {
      "needs_background": "light"
     },
     "output_type": "display_data"
    }
   ],
   "source": [
    "df[['PassengerId', 'Survived', 'Pclass', 'Age', 'SibSp', 'Parch', 'Fare']].hist(figsize=(12,8))\n"
   ]
  },
  {
   "cell_type": "markdown",
   "metadata": {},
   "source": [
    "###### Creating Graph for------------ Categorical(Predictor) variable          # Univariate Plot "
   ]
  },
  {
   "cell_type": "code",
   "execution_count": 200,
   "metadata": {},
   "outputs": [
    {
     "data": {
      "text/plain": [
       "array([[<AxesSubplot:title={'center':'Title'}>,\n",
       "        <AxesSubplot:title={'center':'Sex'}>],\n",
       "       [<AxesSubplot:title={'center':'TicketNumber'}>,\n",
       "        <AxesSubplot:title={'center':'Embarked'}>]], dtype=object)"
      ]
     },
     "execution_count": 200,
     "metadata": {},
     "output_type": "execute_result"
    },
    {
     "data": {
      "image/png": "[encoded data removed]",
      "text/plain": [
       "<Figure size 720x360 with 4 Axes>"
      ]
     },
     "metadata": {
      "needs_background": "light"
     },
     "output_type": "display_data"
    }
   ],
   "source": [
    "df[['Title', 'Sex', 'TicketNumber', 'Embarked']].hist(figsize=(10,5))"
   ]
  },
  {
   "cell_type": "markdown",
   "metadata": {},
   "source": [
    "###### Anova Test "
   ]
  },
  {
   "cell_type": "code",
   "execution_count": 201,
   "metadata": {},
   "outputs": [
    {
     "name": "stdout",
     "output_type": "stream",
     "text": [
      "PassengerId ------not correlated-----: 0.8813657768798144 \n",
      "\n",
      "Survived ------correlated------: 0.0 \n",
      "\n",
      "Pclass ------correlated------: 2.5370473879805644e-25 \n",
      "\n",
      "Sex ------correlated------: 1.406066130879597e-69 \n",
      "\n",
      "Age ------correlated------: 0.04939211675556946 \n",
      "\n",
      "SibSp ------correlated------: 0.34865002922531974 \n",
      "\n",
      "Parch ------not correlated-----: nan \n",
      "\n",
      "Fare ------correlated------: 2.6226599820092433e-22 \n",
      "\n",
      "Embarked ------correlated------: 4.811092694585158e-07 \n",
      "\n",
      "Title ------correlated------: 2.5115178215539634e-54 \n",
      "\n",
      "TicketNumber ------correlated------: 2.848047514389187e-16 \n",
      "\n"
     ]
    }
   ],
   "source": [
    "from scipy.stats import f_oneway\n",
    "cp=df.iloc[:,[0,1,2,3,4,5,6,7,8,9,10]]\n",
    "sp=[]\n",
    "for i in cp:\n",
    "    cg=df.groupby('Survived')[i].apply(list)\n",
    "    av=stat.f_oneway(*cg)\n",
    "    if av[1]<0.5:\n",
    "        print(i,'------correlated------:',av[1],'\\n')\n",
    "        sp.append(i)\n",
    "    else:\n",
    "        print(i,'------not correlated-----:',av[1],'\\n')"
   ]
  },
  {
   "cell_type": "markdown",
   "metadata": {},
   "source": [
    "###### Multivariate Analysis:Check for Correlation"
   ]
  },
  {
   "cell_type": "code",
   "execution_count": 202,
   "metadata": {},
   "outputs": [
    {
     "data": {
      "image/png": "[encoded data removed]",
      "text/plain": [
       "<Figure size 720x504 with 2 Axes>"
      ]
     },
     "metadata": {
      "needs_background": "light"
     },
     "output_type": "display_data"
    }
   ],
   "source": [
    "pcorrel = df.corr(method='pearson').round(3)\n",
    "plt.figure(figsize=(10,7)) \n",
    "sns.heatmap(pcorrel,xticklabels=pcorrel.columns,yticklabels=pcorrel.columns,cmap=\"YlGnBu\",annot=True,linewidth=0.5)\n",
    "plt.title(\"Pearson Correlation Between Variables\")\n",
    "plt.xticks(fontsize=10)\n",
    "plt.yticks(fontsize=8)\n",
    "plt.show()"
   ]
  },
  {
   "cell_type": "markdown",
   "metadata": {},
   "source": [
    "###### Check Strongly Related Features"
   ]
  },
  {
   "cell_type": "code",
   "execution_count": 203,
   "metadata": {},
   "outputs": [
    {
     "name": "stdout",
     "output_type": "stream",
     "text": [
      "Strongly Related:\n",
      "\n",
      " Survived        1.000000\n",
      "Pclass          0.338481\n",
      "Sex             0.543351\n",
      "Fare            0.317430\n",
      "Title           0.487314\n",
      "TicketNumber    0.269326\n",
      "Name: Survived, dtype: float64 \n",
      "\n",
      "Weak Relates:\n",
      "\n",
      " PassengerId    0.005007\n",
      "Age            0.065857\n",
      "SibSp          0.031434\n",
      "Embarked       0.167675\n",
      "Name: Survived, dtype: float64\n"
     ]
    }
   ],
   "source": [
    "cor = df.corr()\n",
    "cor_target = abs(cor[\"Survived\"])\n",
    "strong_related = cor_target[cor_target>0.2]\n",
    "print(\"Strongly Related:\\n\\n\",strong_related,\"\\n\")\n",
    "\n",
    "weak_related = cor_target[cor_target<0.2]\n",
    "print(\"Weak Relates:\\n\\n\",weak_related)"
   ]
  },
  {
   "cell_type": "markdown",
   "metadata": {},
   "source": [
    "###### Importance of Data Feature Selection"
   ]
  },
  {
   "cell_type": "code",
   "execution_count": 204,
   "metadata": {},
   "outputs": [
    {
     "data": {
      "text/html": [
       "<div>\n",
       "<style scoped>\n",
       "    .dataframe tbody tr th:only-of-type {\n",
       "        vertical-align: middle;\n",
       "    }\n",
       "\n",
       "    .dataframe tbody tr th {\n",
       "        vertical-align: top;\n",
       "    }\n",
       "\n",
       "    .dataframe thead th {\n",
       "        text-align: right;\n",
       "    }\n",
       "</style>\n",
       "<table border=\"1\" class=\"dataframe\">\n",
       "  <thead>\n",
       "    <tr style=\"text-align: right;\">\n",
       "      <th></th>\n",
       "      <th>Specs</th>\n",
       "      <th>Score</th>\n",
       "    </tr>\n",
       "  </thead>\n",
       "  <tbody>\n",
       "    <tr>\n",
       "      <th>0</th>\n",
       "      <td>PassengerId</td>\n",
       "      <td>3.312934</td>\n",
       "    </tr>\n",
       "    <tr>\n",
       "      <th>1</th>\n",
       "      <td>Survived</td>\n",
       "      <td>549.000000</td>\n",
       "    </tr>\n",
       "    <tr>\n",
       "      <th>2</th>\n",
       "      <td>Pclass</td>\n",
       "      <td>30.873699</td>\n",
       "    </tr>\n",
       "    <tr>\n",
       "      <th>3</th>\n",
       "      <td>Sex</td>\n",
       "      <td>92.702447</td>\n",
       "    </tr>\n",
       "    <tr>\n",
       "      <th>4</th>\n",
       "      <td>Age</td>\n",
       "      <td>19.117670</td>\n",
       "    </tr>\n",
       "    <tr>\n",
       "      <th>5</th>\n",
       "      <td>SibSp</td>\n",
       "      <td>1.034320</td>\n",
       "    </tr>\n",
       "    <tr>\n",
       "      <th>6</th>\n",
       "      <td>Parch</td>\n",
       "      <td>NaN</td>\n",
       "    </tr>\n",
       "    <tr>\n",
       "      <th>7</th>\n",
       "      <td>Fare</td>\n",
       "      <td>1564.437823</td>\n",
       "    </tr>\n",
       "    <tr>\n",
       "      <th>8</th>\n",
       "      <td>Embarked</td>\n",
       "      <td>10.202525</td>\n",
       "    </tr>\n",
       "    <tr>\n",
       "      <th>9</th>\n",
       "      <td>Title</td>\n",
       "      <td>265.441227</td>\n",
       "    </tr>\n",
       "    <tr>\n",
       "      <th>10</th>\n",
       "      <td>TicketNumber</td>\n",
       "      <td>7758.346533</td>\n",
       "    </tr>\n",
       "  </tbody>\n",
       "</table>\n",
       "</div>"
      ],
      "text/plain": [
       "           Specs        Score\n",
       "0    PassengerId     3.312934\n",
       "1       Survived   549.000000\n",
       "2         Pclass    30.873699\n",
       "3            Sex    92.702447\n",
       "4            Age    19.117670\n",
       "5          SibSp     1.034320\n",
       "6          Parch          NaN\n",
       "7           Fare  1564.437823\n",
       "8       Embarked    10.202525\n",
       "9          Title   265.441227\n",
       "10  TicketNumber  7758.346533"
      ]
     },
     "execution_count": 204,
     "metadata": {},
     "output_type": "execute_result"
    }
   ],
   "source": [
    "# Feature Selection Techniques\n",
    "\n",
    "x= df.iloc[:,0:11]  \n",
    "y = df.iloc[:,1]\n",
    "\n",
    "bestft = SelectKBest(score_func=chi2, k=10)\n",
    "fit = bestft.fit(x,y)\n",
    "\n",
    "dfscores = pd.DataFrame(fit.scores_)\n",
    "dfcolumns = pd.DataFrame(x.columns)\n",
    "\n",
    "fscores = pd.concat([dfcolumns,dfscores],axis=1)\n",
    "fscores.columns = ['Specs','Score']\n",
    "fscores"
   ]
  },
  {
   "cell_type": "markdown",
   "metadata": {},
   "source": [
    "###### Feature Importance"
   ]
  },
  {
   "cell_type": "code",
   "execution_count": 205,
   "metadata": {},
   "outputs": [
    {
     "data": {
      "text/plain": [
       "array([0.00423929, 0.75561455, 0.03128023, 0.09324177, 0.00605435,\n",
       "       0.00774664, 0.        , 0.01689664, 0.00489701, 0.06698846,\n",
       "       0.01304107])"
      ]
     },
     "execution_count": 205,
     "metadata": {},
     "output_type": "execute_result"
    }
   ],
   "source": [
    "from sklearn.ensemble import ExtraTreesRegressor\n",
    "etr_model = ExtraTreesClassifier()\n",
    "#etr_model = ExtraTreesRegressor()\n",
    "etr_model.fit(x,y)\n",
    "etr_model.feature_importances_"
   ]
  },
  {
   "cell_type": "markdown",
   "metadata": {},
   "source": [
    "###### removing less correlated feature"
   ]
  },
  {
   "cell_type": "code",
   "execution_count": 206,
   "metadata": {},
   "outputs": [
    {
     "name": "stdout",
     "output_type": "stream",
     "text": [
      "(891, 9)\n"
     ]
    }
   ],
   "source": [
    "newdf=df.drop([\"Parch\",\"SibSp\"],axis=1)\n",
    "print(newdf.shape)\n"
   ]
  },
  {
   "cell_type": "markdown",
   "metadata": {},
   "source": [
    "###### Normalization"
   ]
  },
  {
   "cell_type": "code",
   "execution_count": 207,
   "metadata": {},
   "outputs": [
    {
     "data": {
      "text/plain": [
       "array([[-2.14814111, -0.78927234,  0.86397329, ...,  0.61041095,\n",
       "        -0.80099495, -0.75127319],\n",
       "       [-2.13183003,  1.2669898 , -1.45912855, ..., -1.78052001,\n",
       "         1.42278547, -0.97175542],\n",
       "       [-2.117043  ,  1.2669898 ,  0.86397329, ...,  0.61041095,\n",
       "         1.00050291,  0.21392119],\n",
       "       ...,\n",
       "       [ 1.55071925, -0.78927234,  0.86397329, ...,  0.61041095,\n",
       "         1.00050291,  1.4626513 ],\n",
       "       [ 1.55371741,  1.2669898 , -1.45912855, ..., -1.78052001,\n",
       "        -0.80099495, -2.02176209],\n",
       "       [ 1.5567146 , -0.78927234,  0.86397329, ..., -1.23633916,\n",
       "        -0.80099495,  1.25855353]])"
      ]
     },
     "execution_count": 207,
     "metadata": {},
     "output_type": "execute_result"
    }
   ],
   "source": [
    "x=power_transform(x,method='yeo-johnson')\n",
    "x"
   ]
  },
  {
   "cell_type": "markdown",
   "metadata": {},
   "source": [
    "###### Splitting data into Independent Features and Dependent Features"
   ]
  },
  {
   "cell_type": "code",
   "execution_count": 208,
   "metadata": {},
   "outputs": [
    {
     "name": "stdout",
     "output_type": "stream",
     "text": [
      "(891, 8)\n",
      "(891,)\n"
     ]
    }
   ],
   "source": [
    "y=df.iloc[:,1]\n",
    "x=df.iloc[:,[0,2,3,4,5,6,7,8]]\n",
    "\n",
    "print(x.shape)\n",
    "print(y.shape)\n",
    "\n"
   ]
  },
  {
   "cell_type": "markdown",
   "metadata": {},
   "source": [
    "###### dividing the dataset in training and testing set"
   ]
  },
  {
   "cell_type": "code",
   "execution_count": 209,
   "metadata": {},
   "outputs": [
    {
     "name": "stdout",
     "output_type": "stream",
     "text": [
      "(668, 8)\n",
      "(668,)\n",
      "(223, 8)\n",
      "(223,)\n"
     ]
    }
   ],
   "source": [
    "x_train, x_test, y_train, y_test = train_test_split(x, y, test_size = 0.25, random_state = 440)\n",
    "\n",
    "print(x_train.shape)\n",
    "print(y_train.shape)\n",
    "print(x_test.shape)\n",
    "print(y_test.shape)"
   ]
  },
  {
   "cell_type": "markdown",
   "metadata": {},
   "source": [
    "###### Standarization"
   ]
  },
  {
   "cell_type": "code",
   "execution_count": 210,
   "metadata": {},
   "outputs": [
    {
     "name": "stdout",
     "output_type": "stream",
     "text": [
      "x_train:\n",
      " [[0.55455568 0.         1.         ... 0.         0.75424168 0.        ]\n",
      " [0.712036   0.         1.         ... 0.         0.         1.        ]\n",
      " [0.12373453 0.         1.         ... 0.         0.79226747 1.        ]\n",
      " ...\n",
      " [0.02474691 1.         0.         ... 0.         0.12233219 0.5       ]\n",
      " [0.09336333 0.         1.         ... 0.         0.7176115  1.        ]\n",
      " [0.42069741 1.         0.         ... 0.         0.32109686 1.        ]]\n",
      "\n",
      "x_test:\n",
      " [[0.16798196 1.         1.         ... 0.         0.1226491  1.        ]\n",
      " [0.30665163 0.         0.         ... 0.         1.         1.        ]\n",
      " [0.45208568 1.         0.         ... 0.         0.1319811  1.        ]\n",
      " ...\n",
      " [0.17361894 1.         1.         ... 0.         0.1226491  1.        ]\n",
      " [0.93122886 0.         0.         ... 0.         1.         1.        ]\n",
      " [0.17474634 1.         1.         ... 0.         0.1319811  1.        ]]\n"
     ]
    }
   ],
   "source": [
    "#sc = StandardScaler()\n",
    "sc=MinMaxScaler()\n",
    "x_train = sc.fit_transform(x_train)\n",
    "print('x_train:\\n',x_train)\n",
    "x_test = sc.fit_transform(x_test)\n",
    "print('\\nx_test:\\n',x_test)"
   ]
  },
  {
   "cell_type": "markdown",
   "metadata": {},
   "source": [
    "#### Model BUilding"
   ]
  },
  {
   "cell_type": "markdown",
   "metadata": {},
   "source": [
    "###### model building using Logistic Regression "
   ]
  },
  {
   "cell_type": "code",
   "execution_count": 211,
   "metadata": {},
   "outputs": [
    {
     "name": "stdout",
     "output_type": "stream",
     "text": [
      "Training accuracy : 0.7964071856287425\n",
      "Testing accuracy : 0.7757847533632287\n",
      "              precision    recall  f1-score   support\n",
      "\n",
      "           0       0.81      0.83      0.82       138\n",
      "           1       0.72      0.68      0.70        85\n",
      "\n",
      "    accuracy                           0.78       223\n",
      "   macro avg       0.76      0.76      0.76       223\n",
      "weighted avg       0.77      0.78      0.77       223\n",
      "\n",
      "[[115  23]\n",
      " [ 27  58]]\n",
      "Accuracy on testing data: 0.77\n",
      "\n",
      "10-fold Cross Validation:\n",
      "Accuracy value :\n",
      " [0.78347578 0.77388248 0.75756502 0.8309621  0.78588533 0.74942095\n",
      " 0.75497104 0.75981111 0.79319719 0.80944134]\n",
      "\n",
      "Final Average Accuracy : 0.78\n"
     ]
    }
   ],
   "source": [
    "clf = LogisticRegression()\n",
    "LR=clf.fit(x_train,y_train)\n",
    "pred=LR.predict(x_test)\n",
    "print(\"Training accuracy :\", clf.score(x_train, y_train))\n",
    "print(\"Testing accuracy :\", clf.score(x_test, y_test))\n",
    "\n",
    "print(metrics.classification_report(y_test, pred))\n",
    "print(metrics.confusion_matrix(y_test, pred))\n",
    "\n",
    "f1sc=metrics.f1_score(y_test, pred, average='weighted')\n",
    "print('Accuracy on testing data:', round(f1sc,2))\n",
    "\n",
    "acval=cross_val_score(LR, x , y, cv=10, scoring='f1_weighted')\n",
    "print('\\n10-fold Cross Validation:')\n",
    "print('Accuracy value :\\n',acval)\n",
    "print('\\nFinal Average Accuracy :',round(acval.mean(),2))"
   ]
  },
  {
   "cell_type": "code",
   "execution_count": 212,
   "metadata": {},
   "outputs": [
    {
     "data": {
      "image/png": "[encoded data removed]",
      "text/plain": [
       "<Figure size 432x288 with 1 Axes>"
      ]
     },
     "metadata": {
      "needs_background": "light"
     },
     "output_type": "display_data"
    }
   ],
   "source": [
    "\n",
    "rocauc = roc_auc_score(y_test,pred)\n",
    "fpr, tpr, thresholds = roc_curve(y_test, clf.predict_proba(x_test)[:,1])\n",
    "plt.figure()\n",
    "plt.plot(fpr, tpr, label='Logistic Regression (area = %0.2f)' % rocauc)\n",
    "plt.plot([0, 1], [0, 1],'r--')\n",
    "plt.xlim([0.0, 1.0])\n",
    "plt.ylim([0.0, 1.05])\n",
    "plt.xlabel('False Positive Rate')\n",
    "plt.ylabel('True Positive Rate')\n",
    "plt.title('Receiver operating characteristic')\n",
    "plt.legend(loc=\"lower right\")\n",
    "plt.savefig('Log_ROC')\n",
    "plt.show()\n"
   ]
  },
  {
   "cell_type": "code",
   "execution_count": 213,
   "metadata": {},
   "outputs": [
    {
     "name": "stdout",
     "output_type": "stream",
     "text": [
      "Fitting 5 folds for each of 1000 candidates, totalling 5000 fits\n",
      "max_iter reached after 0 seconds\n",
      "Best Score:  0.8537248874096985\n",
      "Best Params:  {'verbose': 15, 'solver': 'sag', 'penalty': 'l2', 'n_jobs': 200, 'multi_class': 'multinomial', 'max_iter': 5, 'class_weight': {1: 0.4, 0: 0.6}, 'C': 0.5}\n"
     ]
    },
    {
     "name": "stderr",
     "output_type": "stream",
     "text": [
      "[Parallel(n_jobs=200)]: Using backend ThreadingBackend with 200 concurrent workers.\n",
      "[Parallel(n_jobs=200)]: Done   1 tasks      | elapsed:    0.1s\n",
      "[Parallel(n_jobs=200)]: Done   1 out of   1 | elapsed:    0.1s finished\n"
     ]
    }
   ],
   "source": [
    "penalty = ['l1', 'l2', 'elasticnet']\n",
    "C=[0.1, 0.2, 0.3, 0.4, 0.5]\n",
    "max_iter = [10, 50,5,90, 200, 110, 500, 1000]\n",
    "solver=['newton-cg', 'liblinear', 'sag', 'saga']\n",
    "verbose = [1,5,4,10,30,15,20,100]\n",
    "class_weight = [{1:0.5, 0:0.5}, {1:0.4, 0:0.6}, {1:0.6, 0:0.4}, {1:0.7, 0:0.3}]\n",
    "multi_class=['ovr', 'multinomial']\n",
    "n_jobs= [1,5,10, 100,200,500]\n",
    "\n",
    "\n",
    "param_distributions = dict(penalty=penalty,\n",
    "                           C=C,\n",
    "                           max_iter=max_iter,\n",
    "                           solver=solver,\n",
    "                           verbose=verbose,\n",
    "                           class_weight=class_weight,\n",
    "                           multi_class=multi_class,\n",
    "                           n_jobs=n_jobs)\n",
    "\n",
    "random = RandomizedSearchCV(estimator=clf,\n",
    "                            param_distributions=param_distributions,\n",
    "                            scoring='roc_auc',\n",
    "                            verbose=1, n_jobs=-1,\n",
    "                            n_iter=1000)\n",
    "random_result = random.fit(x_train, y_train)\n",
    "\n",
    "print('Best Score: ', random_result.best_score_)\n",
    "print('Best Params: ', random_result.best_params_)"
   ]
  },
  {
   "cell_type": "markdown",
   "metadata": {},
   "source": [
    "###### model building using Support Vector Machines(SVM)"
   ]
  },
  {
   "cell_type": "code",
   "execution_count": 214,
   "metadata": {},
   "outputs": [
    {
     "name": "stdout",
     "output_type": "stream",
     "text": [
      "Training accuracy : 0.8218562874251497\n",
      "Testing accuracy : 0.820627802690583\n",
      "              precision    recall  f1-score   support\n",
      "\n",
      "           0       0.82      0.91      0.86       138\n",
      "           1       0.83      0.67      0.74        85\n",
      "\n",
      "    accuracy                           0.82       223\n",
      "   macro avg       0.82      0.79      0.80       223\n",
      "weighted avg       0.82      0.82      0.82       223\n",
      "\n",
      "[[126  12]\n",
      " [ 28  57]]\n",
      "Accuracy on testing data: 0.82\n",
      "\n",
      "Cross Validation:\n",
      "Accuracy value: [0.46360153 0.47206617 0.47206617 0.47206617 0.47206617 0.47206617\n",
      " 0.47206617 0.47206617 0.47206617 0.45823839]\n",
      "\n",
      "Final Average Accuracy: 0.47\n"
     ]
    }
   ],
   "source": [
    "clf = svm.SVC(probability=True)\n",
    "SVM=clf.fit(x_train,y_train)\n",
    "pred=SVM.predict(x_test)\n",
    "print(\"Training accuracy :\", SVM.score(x_train, y_train))\n",
    "print(\"Testing accuracy :\", SVM.score(x_test, y_test))\n",
    "\n",
    "print(metrics.classification_report(y_test, pred))\n",
    "print(metrics.confusion_matrix(y_test, pred))\n",
    "\n",
    "f1sc=metrics.f1_score(y_test, pred, average='weighted')\n",
    "print('Accuracy on testing data:', round(f1sc,2))\n",
    "\n",
    "acval=cross_val_score(SVM, x , y, cv=10, scoring='f1_weighted')\n",
    "print('\\nCross Validation:')\n",
    "print('Accuracy value:',acval)\n",
    "print('\\nFinal Average Accuracy:', round(acval.mean(),2))"
   ]
  },
  {
   "cell_type": "code",
   "execution_count": 215,
   "metadata": {},
   "outputs": [
    {
     "data": {
      "image/png": "[encoded data removed]",
      "text/plain": [
       "<Figure size 432x288 with 1 Axes>"
      ]
     },
     "metadata": {
      "needs_background": "light"
     },
     "output_type": "display_data"
    }
   ],
   "source": [
    "rocauc = roc_auc_score(y_test,pred)\n",
    "fpr, tpr, thresholds = roc_curve(y_test, clf.predict_proba(x_test)[:,1])\n",
    "plt.figure()\n",
    "plt.plot(fpr, tpr, label='SVM Regression (area = %0.2f)' % rocauc)\n",
    "plt.plot([0, 1], [0, 1],'r--')\n",
    "plt.xlim([0.0, 1.0])\n",
    "plt.ylim([0.0, 1.05])\n",
    "plt.xlabel('False Positive Rate')\n",
    "plt.ylabel('True Positive Rate')\n",
    "plt.title('Receiver operating characteristic')\n",
    "plt.legend(loc=\"lower right\")\n",
    "plt.savefig('SVM_ROC')\n",
    "plt.show()\n"
   ]
  },
  {
   "cell_type": "code",
   "execution_count": 216,
   "metadata": {},
   "outputs": [
    {
     "name": "stdout",
     "output_type": "stream",
     "text": [
      "Fitting 5 folds for each of 1000 candidates, totalling 5000 fits\n",
      "[LibSVM]Best Score:  0.8619353254536744\n",
      "Best Params:  {'verbose': 100, 'random_state': 100, 'max_iter': 1000, 'kernel': 'rbf', 'gamma': 0.1, 'degree': 2, 'decision_function_shape': 'ovo', 'coef0': 5.6, 'class_weight': {1: 0.4, 0: 0.6}, 'C': 0.4}\n"
     ]
    }
   ],
   "source": [
    "C=[0.1, 0.2, 0.3, 0.4, 0.5]\n",
    "kernel=['linear', 'rbf']\n",
    "gamma=[0.1,0.8,0.9,1,1.1,1.2,1.3,1.4]\n",
    "degree=[1,2,4,8,10,20]\n",
    "coef0=[1.5,3.4,5.6,9.2,10.2]\n",
    "max_iter = [10, 50,5,90, 200, 110, 500, 1000]\n",
    "verbose = [1,5,4,10,30,15,20,100]\n",
    "class_weight = [{1:0.5, 0:0.5}, {1:0.4, 0:0.6}, {1:0.6, 0:0.4}, {1:0.7, 0:0.3}]\n",
    "decision_function_shape=['ovo','ovr']\n",
    "random_state= [1,5,10, 100,200,500]\n",
    "\n",
    "\n",
    "param_distributions = dict(C=C,\n",
    "                           kernel=kernel,\n",
    "                           gamma=gamma,\n",
    "                           degree=degree,\n",
    "                           coef0=coef0,\n",
    "                           max_iter=max_iter,\n",
    "                           verbose=verbose,\n",
    "                           class_weight=class_weight,\n",
    "                           decision_function_shape=decision_function_shape,\n",
    "                           random_state=random_state)\n",
    "\n",
    "random = RandomizedSearchCV(estimator=clf,\n",
    "                            param_distributions=param_distributions,\n",
    "                            scoring='roc_auc',\n",
    "                            verbose=1, n_jobs=-1,\n",
    "                            n_iter=1000)\n",
    "random_result = random.fit(x_train, y_train)\n",
    "\n",
    "print('Best Score: ', random_result.best_score_)\n",
    "print('Best Params: ', random_result.best_params_)"
   ]
  },
  {
   "cell_type": "markdown",
   "metadata": {},
   "source": [
    "###### model building using Decision Trees"
   ]
  },
  {
   "cell_type": "code",
   "execution_count": 217,
   "metadata": {},
   "outputs": [
    {
     "name": "stdout",
     "output_type": "stream",
     "text": [
      "Training accuracy : 0.8667664670658682\n",
      "Testing accuracy : 0.8071748878923767\n",
      "              precision    recall  f1-score   support\n",
      "\n",
      "           0       0.81      0.91      0.85       138\n",
      "           1       0.81      0.65      0.72        85\n",
      "\n",
      "    accuracy                           0.81       223\n",
      "   macro avg       0.81      0.78      0.79       223\n",
      "weighted avg       0.81      0.81      0.80       223\n",
      "\n",
      "[[125  13]\n",
      " [ 30  55]]\n",
      "Accuracy of the model on Testing Sample Data: 0.8\n",
      "\n",
      "Cross Validation:\n",
      "Accuracy values:\n",
      " [0.70226596 0.77830713 0.72468837 0.84348731 0.87301025 0.78065407\n",
      " 0.78442417 0.72150067 0.84409818 0.7945888 ]\n",
      "\n",
      "Final Average Accuracy : 0.78\n"
     ]
    }
   ],
   "source": [
    "clf = tree.DecisionTreeClassifier(max_depth=6,criterion='entropy')\n",
    "DTree=clf.fit(x_train,y_train)\n",
    "pred=DTree.predict(x_test)\n",
    "print(\"Training accuracy :\", DTree.score(x_train, y_train))\n",
    "print(\"Testing accuracy :\", DTree.score(x_test, y_test))\n",
    "\n",
    "print(metrics.classification_report(y_test, pred))\n",
    "print(metrics.confusion_matrix(y_test, pred))\n",
    "\n",
    "f1sc=metrics.f1_score(y_test, pred, average='weighted')\n",
    "print('Accuracy of the model on Testing Sample Data:', round(f1sc,2))\n",
    "\n",
    "#fimp = pd.Series(DTree.feature_importances_, index=pred)\n",
    "#fimp.nlargest(10).plot(kind='barh')\n",
    "\n",
    "acval=cross_val_score(DTree, x , y, cv=10, scoring='f1_weighted')\n",
    "print('\\nCross Validation:')\n",
    "print('Accuracy values:\\n',acval)\n",
    "print('\\nFinal Average Accuracy :', round(acval.mean(),2))"
   ]
  },
  {
   "cell_type": "code",
   "execution_count": 218,
   "metadata": {},
   "outputs": [
    {
     "data": {
      "image/png": "[encoded data removed]",
      "text/plain": [
       "<Figure size 432x288 with 1 Axes>"
      ]
     },
     "metadata": {
      "needs_background": "light"
     },
     "output_type": "display_data"
    }
   ],
   "source": [
    "rocauc = roc_auc_score(y_test,pred)\n",
    "fpr, tpr, thresholds = roc_curve(y_test, clf.predict_proba(x_test)[:,1])\n",
    "plt.figure()\n",
    "plt.plot(fpr, tpr, label='Decision Tree Regression (area = %0.2f)' % rocauc)\n",
    "plt.plot([0, 1], [0, 1],'r--')\n",
    "plt.xlim([0.0, 1.0])\n",
    "plt.ylim([0.0, 1.05])\n",
    "plt.xlabel('False Positive Rate')\n",
    "plt.ylabel('True Positive Rate')\n",
    "plt.title('Receiver operating characteristic')\n",
    "plt.legend(loc=\"lower right\")\n",
    "plt.savefig('DT_ROC')\n",
    "plt.show()\n"
   ]
  },
  {
   "cell_type": "code",
   "execution_count": 219,
   "metadata": {},
   "outputs": [
    {
     "name": "stdout",
     "output_type": "stream",
     "text": [
      "Fitting 5 folds for each of 1000 candidates, totalling 5000 fits\n",
      "Best Score:  0.5036824485891918\n",
      "Best Params:  {'splitter': 'best', 'min_weight_fraction_leaf': 0.5, 'min_samples_split': 3, 'max_leaf_nodes': 10, 'max_features': 'auto', 'max_depth': 8, 'criterion': 'gini', 'class_weight': {1: 0.6, 0: 0.4}, 'ccp_alpha': 0.001}\n"
     ]
    }
   ],
   "source": [
    "criterion = ['gini', 'entropy']\n",
    "splitter=['best','random']\n",
    "max_depth = [2,4,6,8,10,12]\n",
    "min_samples_split=[1,5,3,1.5,3.9,10,15]\n",
    "min_weight_fraction_leaf=[1.4,3.5,2.6,9.3,1.2,0.5]\n",
    "max_features=['auto','sqrt','log2']\n",
    "ccp_alpha = [0.0001, 0.001, 0.01, 0.1, 1, 10, 100, 1000]\n",
    "max_leaf_nodes=[4,6,12,10,25,50]\n",
    "class_weight = [{1:0.5, 0:0.5}, {1:0.4, 0:0.6}, {1:0.6, 0:0.4}, {1:0.7, 0:0.3}]\n",
    "\n",
    "\n",
    "param_distributions = dict(criterion = criterion,\n",
    "                           splitter=splitter,\n",
    "                           max_depth=max_depth,\n",
    "                           min_samples_split=min_samples_split,\n",
    "                           min_weight_fraction_leaf=min_weight_fraction_leaf,\n",
    "                           max_features=max_features,\n",
    "                           ccp_alpha=ccp_alpha,\n",
    "                           max_leaf_nodes=max_leaf_nodes,\n",
    "                           class_weight=class_weight)                      \n",
    "\n",
    "random = RandomizedSearchCV(estimator=clf,\n",
    "                            param_distributions=param_distributions,\n",
    "                            scoring='roc_auc',\n",
    "                            verbose=1, n_jobs=-1,\n",
    "                            n_iter=1000)\n",
    "random_result = random.fit(x_train, y_train)\n",
    "\n",
    "print('Best Score: ', random_result.best_score_)\n",
    "print('Best Params: ', random_result.best_params_)"
   ]
  },
  {
   "cell_type": "markdown",
   "metadata": {},
   "source": [
    "###### model building using Random Forest"
   ]
  },
  {
   "cell_type": "code",
   "execution_count": 220,
   "metadata": {},
   "outputs": [
    {
     "name": "stdout",
     "output_type": "stream",
     "text": [
      "Training accuracy : 1.0\n",
      "Testing accuracy : 0.8385650224215246\n",
      "              precision    recall  f1-score   support\n",
      "\n",
      "           0       0.84      0.91      0.87       138\n",
      "           1       0.84      0.72      0.77        85\n",
      "\n",
      "    accuracy                           0.84       223\n",
      "   macro avg       0.84      0.82      0.82       223\n",
      "weighted avg       0.84      0.84      0.84       223\n",
      "\n",
      "[[126  12]\n",
      " [ 24  61]]\n",
      "Accuracy on testing data: 0.84\n",
      "\n",
      "Cross Validation\n",
      "Accuracy values: [0.79884454 0.76527186 0.72838378 0.85596104 0.89857726 0.80374311\n",
      " 0.84054061 0.77021909 0.83190886 0.81798726]\n",
      "\n",
      "Final Average Accuracy: 0.81\n"
     ]
    }
   ],
   "source": [
    "clf = RandomForestClassifier()\n",
    "RF=clf.fit(x_train,y_train)\n",
    "pred=RF.predict(x_test)\n",
    "print(\"Training accuracy :\", RF.score(x_train, y_train))\n",
    "print(\"Testing accuracy :\", RF.score(x_test, y_test))\n",
    "\n",
    "print(metrics.classification_report(y_test, pred))\n",
    "print(metrics.confusion_matrix(y_test, pred))\n",
    "\n",
    "f1sc=metrics.f1_score(y_test, pred, average='weighted')\n",
    "print('Accuracy on testing data:', round(f1sc,2))\n",
    "\n",
    "Accuracy_Values=cross_val_score(RF, x , y, cv=10, scoring='f1_weighted')\n",
    "print('\\nCross Validation')\n",
    "print('Accuracy values:',Accuracy_Values)\n",
    "print('\\nFinal Average Accuracy:', round(Accuracy_Values.mean(),2))\n"
   ]
  },
  {
   "cell_type": "code",
   "execution_count": 221,
   "metadata": {},
   "outputs": [
    {
     "data": {
      "image/png": "[encoded data removed]",
      "text/plain": [
       "<Figure size 432x288 with 1 Axes>"
      ]
     },
     "metadata": {
      "needs_background": "light"
     },
     "output_type": "display_data"
    }
   ],
   "source": [
    "\n",
    "rocauc = roc_auc_score(y_test,pred)\n",
    "fpr, tpr, thresholds = roc_curve(y_test, clf.predict_proba(x_test)[:,1])\n",
    "plt.figure()\n",
    "plt.plot(fpr, tpr, label='Random Forest Regression (area = %0.2f)' % rocauc)\n",
    "plt.plot([0, 1], [0, 1],'r--')\n",
    "plt.xlim([0.0, 1.0])\n",
    "plt.ylim([0.0, 1.05])\n",
    "plt.xlabel('False Positive Rate')\n",
    "plt.ylabel('True Positive Rate')\n",
    "plt.title('Receiver operating characteristic')\n",
    "plt.legend(loc=\"lower right\")\n",
    "plt.savefig('RF_ROC')\n",
    "plt.show()\n"
   ]
  },
  {
   "cell_type": "code",
   "execution_count": 222,
   "metadata": {},
   "outputs": [
    {
     "name": "stdout",
     "output_type": "stream",
     "text": [
      "Fitting 5 folds for each of 1000 candidates, totalling 5000 fits\n"
     ]
    },
    {
     "name": "stderr",
     "output_type": "stream",
     "text": [
      "[Parallel(n_jobs=1)]: Using backend SequentialBackend with 1 concurrent workers.\n",
      "[Parallel(n_jobs=1)]: Done   1 out of   1 | elapsed:    0.0s remaining:    0.0s\n",
      "[Parallel(n_jobs=1)]: Done   2 out of   2 | elapsed:    0.0s remaining:    0.0s\n",
      "[Parallel(n_jobs=1)]: Done   3 out of   3 | elapsed:    0.0s remaining:    0.0s\n"
     ]
    },
    {
     "name": "stdout",
     "output_type": "stream",
     "text": [
      "building tree 1 of 90\n",
      "building tree 2 of 90\n",
      "building tree 3 of 90\n",
      "building tree 4 of 90\n",
      "building tree 5 of 90\n",
      "building tree 6 of 90\n",
      "building tree 7 of 90\n",
      "building tree 8 of 90\n",
      "building tree 9 of 90\n",
      "building tree 10 of 90\n",
      "building tree 11 of 90\n",
      "building tree 12 of 90\n",
      "building tree 13 of 90\n",
      "building tree 14 of 90\n",
      "building tree 15 of 90\n",
      "building tree 16 of 90\n",
      "building tree 17 of 90\n",
      "building tree 18 of 90\n",
      "building tree 19 of 90\n",
      "building tree 20 of 90\n",
      "building tree 21 of 90\n",
      "building tree 22 of 90\n",
      "building tree 23 of 90\n",
      "building tree 24 of 90\n",
      "building tree 25 of 90\n",
      "building tree 26 of 90\n",
      "building tree 27 of 90\n",
      "building tree 28 of 90\n",
      "building tree 29 of 90\n",
      "building tree 30 of 90\n",
      "building tree 31 of 90\n",
      "building tree 32 of 90\n",
      "building tree 33 of 90\n",
      "building tree 34 of 90\n",
      "building tree 35 of 90\n",
      "building tree 36 of 90\n",
      "building tree 37 of 90\n",
      "building tree 38 of 90\n",
      "building tree 39 of 90\n",
      "building tree 40 of 90\n",
      "building tree 41 of 90\n",
      "building tree 42 of 90\n",
      "building tree 43 of 90\n",
      "building tree 44 of 90\n",
      "building tree 45 of 90\n",
      "building tree 46 of 90\n",
      "building tree 47 of 90\n",
      "building tree 48 of 90\n",
      "building tree 49 of 90\n",
      "building tree 50 of 90\n",
      "building tree 51 of 90\n",
      "building tree 52 of 90\n",
      "building tree 53 of 90\n",
      "building tree 54 of 90\n",
      "building tree 55 of 90\n",
      "building tree 56 of 90\n",
      "building tree 57 of 90\n",
      "building tree 58 of 90\n",
      "building tree 59 of 90\n",
      "building tree 60 of 90\n",
      "building tree 61 of 90\n",
      "building tree 62 of 90\n",
      "building tree 63 of 90\n",
      "building tree 64 of 90\n",
      "building tree 65 of 90\n",
      "building tree 66 of 90\n",
      "building tree 67 of 90\n",
      "building tree 68 of 90\n",
      "building tree 69 of 90\n",
      "building tree 70 of 90\n",
      "building tree 71 of 90\n",
      "building tree 72 of 90\n",
      "building tree 73 of 90\n",
      "building tree 74 of 90\n",
      "building tree 75 of 90\n",
      "building tree 76 of 90\n",
      "building tree 77 of 90\n",
      "building tree 78 of 90\n",
      "building tree 79 of 90\n",
      "building tree 80 of 90\n",
      "building tree 81 of 90\n",
      "building tree 82 of 90\n",
      "building tree 83 of 90\n",
      "building tree 84 of 90\n",
      "building tree 85 of 90\n",
      "building tree 86 of 90\n",
      "building tree 87 of 90\n",
      "building tree 88 of 90\n",
      "building tree 89 of 90\n",
      "building tree 90 of 90\n",
      "Best Score:  0.649939643797572\n",
      "Best Params:  {'verbose': 4, 'random_state': 200, 'n_jobs': 1, 'n_estimators': 90, 'min_weight_fraction_leaf': 0.5, 'min_samples_split': 5, 'min_samples_leaf': 2, 'max_leaf_nodes': 12, 'max_features': 'log2', 'max_depth': 10, 'criterion': 'entropy', 'class_weight': {1: 0.6, 0: 0.4}}\n"
     ]
    },
    {
     "name": "stderr",
     "output_type": "stream",
     "text": [
      "[Parallel(n_jobs=1)]: Done  90 out of  90 | elapsed:    0.3s finished\n"
     ]
    }
   ],
   "source": [
    "n_estimators=[10, 50,5,90, 200, 110, 500, 1000]\n",
    "criterion = ['gini', 'entropy']\n",
    "max_depth = [2,4,6,8,10,12]\n",
    "min_samples_split=[1,5,3,1.5,3.9,10,15]\n",
    "min_samples_leaf=[1.4,3,2.6,9.3,1.2,0.5,2,6,10]\n",
    "min_weight_fraction_leaf=[1.4,3.5,2.6,9.3,1.2,0.5]\n",
    "max_features=['auto','sqrt','log2']\n",
    "max_leaf_nodes=[4,6,12,10,25,50]\n",
    "class_weight = [{1:0.5, 0:0.5}, {1:0.4, 0:0.6}, {1:0.6, 0:0.4}, {1:0.7, 0:0.3}]\n",
    "verbose = [1,5,4,10,30,15,20,100]\n",
    "random_state= [1,5,10, 100,200,500]\n",
    "n_jobs= [1,5,10, 100,200,500]\n",
    "\n",
    "param_distributions = dict(n_estimators=n_estimators,\n",
    "                           criterion = criterion,\n",
    "                           max_depth = max_depth,\n",
    "                           min_samples_split=min_samples_split,\n",
    "                           min_samples_leaf=min_samples_leaf,\n",
    "                           min_weight_fraction_leaf=min_weight_fraction_leaf,\n",
    "                           max_features=max_features,\n",
    "                           max_leaf_nodes=max_leaf_nodes,\n",
    "                           class_weight = class_weight,\n",
    "                           verbose = verbose,\n",
    "                           random_state= random_state,\n",
    "                           n_jobs= n_jobs)\n",
    "\n",
    "random = RandomizedSearchCV(estimator=clf,\n",
    "                            param_distributions=param_distributions,\n",
    "                            scoring='roc_auc',\n",
    "                            verbose=1, n_jobs=-1,\n",
    "                            n_iter=1000)\n",
    "random_result = random.fit(x_train, y_train)\n",
    "\n",
    "print('Best Score: ', random_result.best_score_)\n",
    "print('Best Params: ', random_result.best_params_)"
   ]
  },
  {
   "cell_type": "markdown",
   "metadata": {},
   "source": [
    "###### model building using Adaboost "
   ]
  },
  {
   "cell_type": "code",
   "execution_count": 223,
   "metadata": {},
   "outputs": [
    {
     "name": "stdout",
     "output_type": "stream",
     "text": [
      "Training accuracy : 0.8562874251497006\n",
      "Testing accuracy : 0.8116591928251121\n",
      "              precision    recall  f1-score   support\n",
      "\n",
      "           0       0.83      0.88      0.85       138\n",
      "           1       0.78      0.71      0.74        85\n",
      "\n",
      "    accuracy                           0.81       223\n",
      "   macro avg       0.80      0.79      0.80       223\n",
      "weighted avg       0.81      0.81      0.81       223\n",
      "\n",
      "[[121  17]\n",
      " [ 25  60]]\n",
      "Accuracy of the model on Testing Sample Data: 0.81\n",
      "\n",
      "Cross Validation\n",
      "Accuracy values: [0.26420387 0.75063202 0.7588364  0.64452915 0.80046614 0.79319719\n",
      " 0.80711636 0.82497932 0.80842372 0.48331311]\n",
      "\n",
      "Final Average Accuracy : 0.69\n"
     ]
    }
   ],
   "source": [
    "clf = AdaBoostClassifier()\n",
    "AB=clf.fit(x_train,y_train)\n",
    "pred=AB.predict(x_test)\n",
    "print(\"Training accuracy :\", AB.score(x_train, y_train))\n",
    "print(\"Testing accuracy :\", AB.score(x_test, y_test))\n",
    "\n",
    "print(metrics.classification_report(y_test, pred))\n",
    "print(metrics.confusion_matrix(y_test, pred))\n",
    "\n",
    "f1sc=metrics.f1_score(y_test, pred, average='weighted')\n",
    "print('Accuracy of the model on Testing Sample Data:', round(f1sc,2))\n",
    "\n",
    "acval=cross_val_score(AB, x , y, cv=10, scoring='f1_weighted')\n",
    "print('\\nCross Validation')\n",
    "print('Accuracy values:',acval)\n",
    "print('\\nFinal Average Accuracy :', round(acval.mean(),2))\n"
   ]
  },
  {
   "cell_type": "code",
   "execution_count": 224,
   "metadata": {},
   "outputs": [
    {
     "data": {
      "image/png": "[encoded data removed]",
      "text/plain": [
       "<Figure size 432x288 with 1 Axes>"
      ]
     },
     "metadata": {
      "needs_background": "light"
     },
     "output_type": "display_data"
    }
   ],
   "source": [
    "\n",
    "rocauc = roc_auc_score(y_test,pred)\n",
    "fpr, tpr, thresholds = roc_curve(y_test, clf.predict_proba(x_test)[:,1])\n",
    "plt.figure()\n",
    "plt.plot(fpr, tpr, label='AdaBoost Regression (area = %0.2f)' % rocauc)\n",
    "plt.plot([0, 1], [0, 1],'r--')\n",
    "plt.xlim([0.0, 1.0])\n",
    "plt.ylim([0.0, 1.05])\n",
    "plt.xlabel('False Positive Rate')\n",
    "plt.ylabel('True Positive Rate')\n",
    "plt.title('Receiver operating characteristic')\n",
    "plt.legend(loc=\"lower right\")\n",
    "plt.savefig('AdaBoost_ROC')\n",
    "plt.show()\n"
   ]
  },
  {
   "cell_type": "code",
   "execution_count": 225,
   "metadata": {},
   "outputs": [
    {
     "name": "stdout",
     "output_type": "stream",
     "text": [
      "Fitting 5 folds for each of 360 candidates, totalling 1800 fits\n",
      "Best Score:  0.8362932416122939\n",
      "Best Params:  {'random_state': 1, 'n_estimators': 8, 'learning_rate': 1.5, 'algorithm': 'SAMME'}\n"
     ]
    }
   ],
   "source": [
    "n_estimators=[2,4,6,8,10,12]\n",
    "learning_rate=[1.5,3.4,5.6,9.2,10.2]\n",
    "random_state=[1,5,10, 100,200,500]\n",
    "algorithm=['SAMME','SAMME.R']\n",
    "\n",
    "\n",
    "\n",
    "\n",
    "param_distributions = dict(n_estimators=n_estimators,\n",
    "                           learning_rate=learning_rate,\n",
    "                           random_state=random_state,\n",
    "                           algorithm=algorithm)\n",
    "\n",
    "random = RandomizedSearchCV(estimator=clf,\n",
    "                            param_distributions=param_distributions,\n",
    "                            scoring='roc_auc',\n",
    "                            verbose=1, n_jobs=-1,\n",
    "                            n_iter=1000)\n",
    "random_result = random.fit(x_train, y_train)\n",
    "\n",
    "print('Best Score: ', random_result.best_score_)\n",
    "print('Best Params: ', random_result.best_params_)"
   ]
  },
  {
   "cell_type": "markdown",
   "metadata": {},
   "source": [
    "###### model building using K-Nearest Neighbor(KNN)"
   ]
  },
  {
   "cell_type": "code",
   "execution_count": 226,
   "metadata": {},
   "outputs": [
    {
     "name": "stdout",
     "output_type": "stream",
     "text": [
      "Training accuracy : 0.8592814371257484\n",
      "Testing accuracy : 0.8161434977578476\n",
      "              precision    recall  f1-score   support\n",
      "\n",
      "           0       0.83      0.88      0.86       138\n",
      "           1       0.78      0.72      0.75        85\n",
      "\n",
      "    accuracy                           0.82       223\n",
      "   macro avg       0.81      0.80      0.80       223\n",
      "weighted avg       0.81      0.82      0.81       223\n",
      "\n",
      "[[121  17]\n",
      " [ 24  61]]\n",
      "Accuracy on testing data: 0.81\n",
      "\n",
      "Cross Validation:\n",
      "Accuracy values: [0.34804905 0.47206617 0.39060439 0.44210044 0.46884176 0.48919036\n",
      " 0.45417422 0.46613845 0.57905503 0.48331311]\n",
      "\n",
      "Final Average Accuray: 0.46\n"
     ]
    }
   ],
   "source": [
    "clf = KNeighborsClassifier()\n",
    "KNN=clf.fit(x_train,y_train)\n",
    "pred=KNN.predict(x_test)\n",
    "print(\"Training accuracy :\", KNN.score(x_train, y_train))\n",
    "print(\"Testing accuracy :\", KNN.score(x_test, y_test))\n",
    "\n",
    "print(metrics.classification_report(y_test, pred))\n",
    "print(metrics.confusion_matrix(y_test, pred))\n",
    "\n",
    "f1sc=metrics.f1_score(y_test, pred, average='weighted')\n",
    "print('Accuracy on testing data:', round(f1sc,2))\n",
    "\n",
    "acval=cross_val_score(KNN, x , y, cv=10, scoring='f1_weighted')\n",
    "print('\\nCross Validation:')\n",
    "print('Accuracy values:',acval)\n",
    "print('\\nFinal Average Accuray:', round(acval.mean(),2))\n"
   ]
  },
  {
   "cell_type": "code",
   "execution_count": 227,
   "metadata": {},
   "outputs": [
    {
     "data": {
      "image/png": "[encoded data removed]",
      "text/plain": [
       "<Figure size 432x288 with 1 Axes>"
      ]
     },
     "metadata": {
      "needs_background": "light"
     },
     "output_type": "display_data"
    }
   ],
   "source": [
    "\n",
    "rocauc = roc_auc_score(y_test,pred)\n",
    "fpr, tpr, thresholds = roc_curve(y_test, clf.predict_proba(x_test)[:,1])\n",
    "plt.figure()\n",
    "plt.plot(fpr, tpr, label='KNN Regression (area = %0.2f)' % rocauc)\n",
    "plt.plot([0, 1], [0, 1],'r--')\n",
    "plt.xlim([0.0, 1.0])\n",
    "plt.ylim([0.0, 1.05])\n",
    "plt.xlabel('False Positive Rate')\n",
    "plt.ylabel('True Positive Rate')\n",
    "plt.title('Receiver operating characteristic')\n",
    "plt.legend(loc=\"lower right\")\n",
    "plt.savefig('KNN_ROC')\n",
    "plt.show()\n"
   ]
  },
  {
   "cell_type": "code",
   "execution_count": 228,
   "metadata": {},
   "outputs": [
    {
     "name": "stdout",
     "output_type": "stream",
     "text": [
      "Fitting 5 folds for each of 1000 candidates, totalling 5000 fits\n",
      "Best Score:  0.8627495081307461\n",
      "Best Params:  {'weights': 'distance', 'p': 1, 'n_neighbors': 15, 'n_jobs': 1, 'leaf_size': 6, 'algorithm': 'auto'}\n"
     ]
    }
   ],
   "source": [
    "n_neighbors= [1,5,4,10,30,15,20,100]\n",
    "weights=['uniform','distance']\n",
    "algorithm=['auto','ball_tree','kd_tree','brute']\n",
    "leaf_size=[1,2,4,6,12,10,25,50]\n",
    "p=[1,2,5,7,10,20,24]\n",
    "n_jobs= [1,5,10, 100,200,500]\n",
    "\n",
    "param_distributions = dict(n_neighbors=n_neighbors,\n",
    "                           weights=weights,\n",
    "                           algorithm=algorithm,\n",
    "                           leaf_size=leaf_size,\n",
    "                           p=p,\n",
    "                           n_jobs= n_jobs)\n",
    "\n",
    "random = RandomizedSearchCV(estimator=clf,\n",
    "                            param_distributions=param_distributions,\n",
    "                            scoring='roc_auc',\n",
    "                            verbose=1, n_jobs=-1,\n",
    "                            n_iter=1000)\n",
    "random_result = random.fit(x_train, y_train)\n",
    "\n",
    "print('Best Score: ', random_result.best_score_)\n",
    "print('Best Params: ', random_result.best_params_)"
   ]
  },
  {
   "cell_type": "markdown",
   "metadata": {},
   "source": [
    "###### model building using Naive Bays"
   ]
  },
  {
   "cell_type": "code",
   "execution_count": 229,
   "metadata": {},
   "outputs": [
    {
     "name": "stdout",
     "output_type": "stream",
     "text": [
      "Training accuracy : 0.7559880239520959\n",
      "Testing accuracy : 0.7757847533632287\n",
      "              precision    recall  f1-score   support\n",
      "\n",
      "           0       0.84      0.78      0.81       138\n",
      "           1       0.68      0.76      0.72        85\n",
      "\n",
      "    accuracy                           0.78       223\n",
      "   macro avg       0.76      0.77      0.77       223\n",
      "weighted avg       0.78      0.78      0.78       223\n",
      "\n",
      "[[108  30]\n",
      " [ 20  65]]\n",
      "Accuracy of the model on Testing Sample Data: 0.78\n",
      "\n",
      "Cross Validation:\n",
      "Accuracy values: [0.66938637 0.72266463 0.7752809  0.80046614 0.76732168 0.7646724\n",
      " 0.78708455 0.78874499 0.76572213 0.80944134]\n",
      "\n",
      "Final Average Accuracy: 0.77\n"
     ]
    }
   ],
   "source": [
    "clf = GaussianNB()\n",
    "NB=clf.fit(x_train,y_train)\n",
    "pred=NB.predict(x_test)\n",
    "print(\"Training accuracy :\", NB.score(x_train, y_train))\n",
    "print(\"Testing accuracy :\", NB.score(x_test, y_test))\n",
    "\n",
    "print(metrics.classification_report(y_test, pred))\n",
    "print(metrics.confusion_matrix(y_test, pred))\n",
    "\n",
    "f1sc=metrics.f1_score(y_test, pred, average='weighted')\n",
    "print('Accuracy of the model on Testing Sample Data:', round(f1sc,2))\n",
    "\n",
    "acval=cross_val_score(NB,x , y, cv=10, scoring='f1_weighted')\n",
    "print('\\nCross Validation:')\n",
    "print('Accuracy values:',acval)\n",
    "print('\\nFinal Average Accuracy:', round(acval.mean(),2))"
   ]
  },
  {
   "cell_type": "code",
   "execution_count": 230,
   "metadata": {},
   "outputs": [
    {
     "data": {
      "image/png": "[encoded data removed]",
      "text/plain": [
       "<Figure size 432x288 with 1 Axes>"
      ]
     },
     "metadata": {
      "needs_background": "light"
     },
     "output_type": "display_data"
    }
   ],
   "source": [
    "\n",
    "rocauc = roc_auc_score(y_test,pred)\n",
    "fpr, tpr, thresholds = roc_curve(y_test, clf.predict_proba(x_test)[:,1])\n",
    "plt.figure()\n",
    "plt.plot(fpr, tpr, label='Navie Bays Regression (area = %0.2f)' % rocauc)\n",
    "plt.plot([0, 1], [0, 1],'r--')\n",
    "plt.xlim([0.0, 1.0])\n",
    "plt.ylim([0.0, 1.05])\n",
    "plt.xlabel('False Positive Rate')\n",
    "plt.ylabel('True Positive Rate')\n",
    "plt.title('Receiver operating characteristic')\n",
    "plt.legend(loc=\"lower right\")\n",
    "plt.savefig('NB_ROC')\n",
    "plt.show()\n"
   ]
  },
  {
   "cell_type": "code",
   "execution_count": 231,
   "metadata": {},
   "outputs": [
    {
     "name": "stdout",
     "output_type": "stream",
     "text": [
      "Fitting 5 folds for each of 9 candidates, totalling 45 fits\n",
      "Best Score:  0.5\n",
      "Best Params:  {'var_smoothing': 1e-08, 'priors': [1, 0]}\n"
     ]
    }
   ],
   "source": [
    "#var_smoothing=np.logspace(0,-9, num=100)\n",
    "#priors=[None]\n",
    "var_smoothing=[0.00000001, 0.000000001, 0.00000001]\n",
    "priors=[[1, 0], [1, 1],[0,1]]\n",
    "param_distributions = dict(priors=priors,\n",
    "                           var_smoothing=var_smoothing)\n",
    "\n",
    "random = RandomizedSearchCV(estimator=clf,\n",
    "                            param_distributions=param_distributions,\n",
    "                            scoring='roc_auc',\n",
    "                            verbose=1, n_jobs=-1,\n",
    "                            n_iter=1000)\n",
    "random_result = random.fit(x_train, y_train)\n",
    "\n",
    "print('Best Score: ', random_result.best_score_)\n",
    "print('Best Params: ', random_result.best_params_)"
   ]
  },
  {
   "cell_type": "markdown",
   "metadata": {},
   "source": [
    "#####  K-Nearest Neighbor(KNN) as the final model "
   ]
  },
  {
   "cell_type": "markdown",
   "metadata": {},
   "source": [
    "###### full dataset Separate into Target Variable and Predictor Variables"
   ]
  },
  {
   "cell_type": "code",
   "execution_count": null,
   "metadata": {},
   "outputs": [],
   "source": [
    "x = newdf.iloc[:,:9]\n",
    "y = newdf.iloc[:,-1]\n",
    "\n",
    "X=x.values\n",
    "Y=y.values\n",
    "\n",
    "PScaler=MinMaxScaler()\n",
    "PScalerFit=PScaler.fit(X)\n",
    "\n",
    "X=PScalerFit.transform(X)\n",
    "\n",
    "print(X.shape)\n",
    "print(y.shape)"
   ]
  },
  {
   "cell_type": "markdown",
   "metadata": {},
   "source": [
    "###### Retraining the Model"
   ]
  },
  {
   "cell_type": "code",
   "execution_count": 241,
   "metadata": {},
   "outputs": [
    {
     "name": "stdout",
     "output_type": "stream",
     "text": [
      "Accuracy : 1.0\n",
      "\n",
      "Cross Validation\n",
      "Accuracy values: [0.66938637 0.72266463 0.7752809  0.80046614 0.76732168 0.7646724\n",
      " 0.78708455 0.78874499 0.76572213 0.80944134]\n",
      "\n",
      "Final Average Accuracy of the model: 0.77\n"
     ]
    }
   ],
   "source": [
    "clf =KNeighborsClassifier(weights='distance', p=1, n_neighbors=15, n_jobs=1)\n",
    "\n",
    "finalLM=clf.fit(x,y)\n",
    "\n",
    "print(\"Accuracy :\", finalLM.score(x, y))\n",
    "\n",
    "paccval=cross_val_score(finalLM, x , y, cv=5, scoring='f1_weighted')\n",
    "print('\\nCross Validation')\n",
    "print('Accuracy values:',acval)\n",
    "print('\\nFinal Average Accuracy of the model:', round(acval.mean(),2))"
   ]
  },
  {
   "cell_type": "markdown",
   "metadata": {},
   "source": [
    "###### Model Saving"
   ]
  },
  {
   "cell_type": "code",
   "execution_count": 248,
   "metadata": {},
   "outputs": [
    {
     "name": "stdout",
     "output_type": "stream",
     "text": [
      "Model Saved\n"
     ]
    }
   ],
   "source": [
    "import pickle\n",
    "filename='TitanicSurvival.pk1'\n",
    "pickle.dump(model,open(filename,'wb'))\n",
    "print(\"Model Saved\")"
   ]
  },
  {
   "cell_type": "code",
   "execution_count": null,
   "metadata": {},
   "outputs": [],
   "source": []
  },
  {
   "cell_type": "code",
   "execution_count": null,
   "metadata": {},
   "outputs": [],
   "source": []
  },
  {
   "cell_type": "code",
   "execution_count": null,
   "metadata": {},
   "outputs": [],
   "source": []
  },
  {
   "cell_type": "code",
   "execution_count": null,
   "metadata": {},
   "outputs": [],
   "source": []
  },
  {
   "cell_type": "code",
   "execution_count": null,
   "metadata": {},
   "outputs": [],
   "source": []
  }
 ],
 "metadata": {
  "kernelspec": {
   "display_name": "Python 3",
   "language": "python",
   "name": "python3"
  },
  "language_info": {
   "codemirror_mode": {
    "name": "ipython",
    "version": 3
   },
   "file_extension": ".py",
   "mimetype": "text/x-python",
   "name": "python",
   "nbconvert_exporter": "python",
   "pygments_lexer": "ipython3",
   "version": "3.8.5"
  }
 },
 "nbformat": 4,
 "nbformat_minor": 4
}
