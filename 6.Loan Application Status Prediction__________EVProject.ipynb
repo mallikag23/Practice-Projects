{
 "cells": [
  {
   "cell_type": "markdown",
   "metadata": {},
   "source": [
    "##### Loan Application Status"
   ]
  },
  {
   "cell_type": "code",
   "execution_count": null,
   "metadata": {},
   "outputs": [],
   "source": []
  },
  {
   "cell_type": "markdown",
   "metadata": {},
   "source": [
    "###### Import Libraries"
   ]
  },
  {
   "cell_type": "code",
   "execution_count": 329,
   "metadata": {},
   "outputs": [],
   "source": [
    "import pandas as pd\n",
    "import numpy as np\n",
    "import matplotlib.pyplot as plt\n",
    "import seaborn as sns\n",
    "from scipy import stats\n",
    "\n",
    "%matplotlib inline\n",
    "from sklearn import metrics\n",
    "from sklearn.metrics import make_scorer\n",
    "import warnings\n",
    "warnings.filterwarnings('ignore')\n",
    "\n",
    "from sklearn.linear_model import LogisticRegression\n",
    "from sklearn.ensemble import GradientBoostingClassifier,RandomForestClassifier,AdaBoostClassifier\n",
    "from sklearn.tree import DecisionTreeClassifier\n",
    "from sklearn.neighbors import KNeighborsClassifier\n",
    "from sklearn.svm import SVC\n",
    "from sklearn.metrics import classification_report, confusion_matrix,accuracy_score,roc_curve,auc, roc_auc_score\n",
    "from sklearn.model_selection import RandomizedSearchCV, cross_val_score\n",
    "\n",
    "from sklearn.metrics import precision_score, recall_score, precision_recall_fscore_support\n",
    "from sklearn.metrics import f1_score,precision_recall_curve\n",
    "\n"
   ]
  },
  {
   "cell_type": "markdown",
   "metadata": {},
   "source": [
    "###### Load Dataset"
   ]
  },
  {
   "cell_type": "code",
   "execution_count": 330,
   "metadata": {},
   "outputs": [],
   "source": [
    "pd.pandas.set_option('display.max_columns',None)\n",
    "df=pd.read_csv('https://raw.githubusercontent.com/dsrscientist/DSData/master/loan_prediction.csv')"
   ]
  },
  {
   "cell_type": "markdown",
   "metadata": {},
   "source": [
    "###### Dimension of Dataset"
   ]
  },
  {
   "cell_type": "code",
   "execution_count": 331,
   "metadata": {},
   "outputs": [
    {
     "data": {
      "text/plain": [
       "(614, 13)"
      ]
     },
     "execution_count": 331,
     "metadata": {},
     "output_type": "execute_result"
    }
   ],
   "source": [
    "df.shape"
   ]
  },
  {
   "cell_type": "markdown",
   "metadata": {},
   "source": [
    "*Observation :*<br>*In Dataset there are 614 rows and 13 columns*"
   ]
  },
  {
   "cell_type": "markdown",
   "metadata": {},
   "source": [
    "###### Sample of Dataset"
   ]
  },
  {
   "cell_type": "code",
   "execution_count": 332,
   "metadata": {},
   "outputs": [
    {
     "data": {
      "text/html": [
       "<div>\n",
       "<style scoped>\n",
       "    .dataframe tbody tr th:only-of-type {\n",
       "        vertical-align: middle;\n",
       "    }\n",
       "\n",
       "    .dataframe tbody tr th {\n",
       "        vertical-align: top;\n",
       "    }\n",
       "\n",
       "    .dataframe thead th {\n",
       "        text-align: right;\n",
       "    }\n",
       "</style>\n",
       "<table border=\"1\" class=\"dataframe\">\n",
       "  <thead>\n",
       "    <tr style=\"text-align: right;\">\n",
       "      <th></th>\n",
       "      <th>Loan_ID</th>\n",
       "      <th>Gender</th>\n",
       "      <th>Married</th>\n",
       "      <th>Dependents</th>\n",
       "      <th>Education</th>\n",
       "      <th>Self_Employed</th>\n",
       "      <th>ApplicantIncome</th>\n",
       "      <th>CoapplicantIncome</th>\n",
       "      <th>LoanAmount</th>\n",
       "      <th>Loan_Amount_Term</th>\n",
       "      <th>Credit_History</th>\n",
       "      <th>Property_Area</th>\n",
       "      <th>Loan_Status</th>\n",
       "    </tr>\n",
       "  </thead>\n",
       "  <tbody>\n",
       "    <tr>\n",
       "      <th>0</th>\n",
       "      <td>LP001002</td>\n",
       "      <td>Male</td>\n",
       "      <td>No</td>\n",
       "      <td>0</td>\n",
       "      <td>Graduate</td>\n",
       "      <td>No</td>\n",
       "      <td>5849</td>\n",
       "      <td>0.0</td>\n",
       "      <td>NaN</td>\n",
       "      <td>360.0</td>\n",
       "      <td>1.0</td>\n",
       "      <td>Urban</td>\n",
       "      <td>Y</td>\n",
       "    </tr>\n",
       "    <tr>\n",
       "      <th>1</th>\n",
       "      <td>LP001003</td>\n",
       "      <td>Male</td>\n",
       "      <td>Yes</td>\n",
       "      <td>1</td>\n",
       "      <td>Graduate</td>\n",
       "      <td>No</td>\n",
       "      <td>4583</td>\n",
       "      <td>1508.0</td>\n",
       "      <td>128.0</td>\n",
       "      <td>360.0</td>\n",
       "      <td>1.0</td>\n",
       "      <td>Rural</td>\n",
       "      <td>N</td>\n",
       "    </tr>\n",
       "    <tr>\n",
       "      <th>2</th>\n",
       "      <td>LP001005</td>\n",
       "      <td>Male</td>\n",
       "      <td>Yes</td>\n",
       "      <td>0</td>\n",
       "      <td>Graduate</td>\n",
       "      <td>Yes</td>\n",
       "      <td>3000</td>\n",
       "      <td>0.0</td>\n",
       "      <td>66.0</td>\n",
       "      <td>360.0</td>\n",
       "      <td>1.0</td>\n",
       "      <td>Urban</td>\n",
       "      <td>Y</td>\n",
       "    </tr>\n",
       "    <tr>\n",
       "      <th>3</th>\n",
       "      <td>LP001006</td>\n",
       "      <td>Male</td>\n",
       "      <td>Yes</td>\n",
       "      <td>0</td>\n",
       "      <td>Not Graduate</td>\n",
       "      <td>No</td>\n",
       "      <td>2583</td>\n",
       "      <td>2358.0</td>\n",
       "      <td>120.0</td>\n",
       "      <td>360.0</td>\n",
       "      <td>1.0</td>\n",
       "      <td>Urban</td>\n",
       "      <td>Y</td>\n",
       "    </tr>\n",
       "    <tr>\n",
       "      <th>4</th>\n",
       "      <td>LP001008</td>\n",
       "      <td>Male</td>\n",
       "      <td>No</td>\n",
       "      <td>0</td>\n",
       "      <td>Graduate</td>\n",
       "      <td>No</td>\n",
       "      <td>6000</td>\n",
       "      <td>0.0</td>\n",
       "      <td>141.0</td>\n",
       "      <td>360.0</td>\n",
       "      <td>1.0</td>\n",
       "      <td>Urban</td>\n",
       "      <td>Y</td>\n",
       "    </tr>\n",
       "  </tbody>\n",
       "</table>\n",
       "</div>"
      ],
      "text/plain": [
       "    Loan_ID Gender Married Dependents     Education Self_Employed  \\\n",
       "0  LP001002   Male      No          0      Graduate            No   \n",
       "1  LP001003   Male     Yes          1      Graduate            No   \n",
       "2  LP001005   Male     Yes          0      Graduate           Yes   \n",
       "3  LP001006   Male     Yes          0  Not Graduate            No   \n",
       "4  LP001008   Male      No          0      Graduate            No   \n",
       "\n",
       "   ApplicantIncome  CoapplicantIncome  LoanAmount  Loan_Amount_Term  \\\n",
       "0             5849                0.0         NaN             360.0   \n",
       "1             4583             1508.0       128.0             360.0   \n",
       "2             3000                0.0        66.0             360.0   \n",
       "3             2583             2358.0       120.0             360.0   \n",
       "4             6000                0.0       141.0             360.0   \n",
       "\n",
       "   Credit_History Property_Area Loan_Status  \n",
       "0             1.0         Urban           Y  \n",
       "1             1.0         Rural           N  \n",
       "2             1.0         Urban           Y  \n",
       "3             1.0         Urban           Y  \n",
       "4             1.0         Urban           Y  "
      ]
     },
     "execution_count": 332,
     "metadata": {},
     "output_type": "execute_result"
    }
   ],
   "source": [
    "df.head()"
   ]
  },
  {
   "cell_type": "markdown",
   "metadata": {},
   "source": [
    "###### Breif about Dataset"
   ]
  },
  {
   "cell_type": "code",
   "execution_count": 333,
   "metadata": {},
   "outputs": [
    {
     "name": "stdout",
     "output_type": "stream",
     "text": [
      "<class 'pandas.core.frame.DataFrame'>\n",
      "RangeIndex: 614 entries, 0 to 613\n",
      "Data columns (total 13 columns):\n",
      " #   Column             Non-Null Count  Dtype  \n",
      "---  ------             --------------  -----  \n",
      " 0   Loan_ID            614 non-null    object \n",
      " 1   Gender             601 non-null    object \n",
      " 2   Married            611 non-null    object \n",
      " 3   Dependents         599 non-null    object \n",
      " 4   Education          614 non-null    object \n",
      " 5   Self_Employed      582 non-null    object \n",
      " 6   ApplicantIncome    614 non-null    int64  \n",
      " 7   CoapplicantIncome  614 non-null    float64\n",
      " 8   LoanAmount         592 non-null    float64\n",
      " 9   Loan_Amount_Term   600 non-null    float64\n",
      " 10  Credit_History     564 non-null    float64\n",
      " 11  Property_Area      614 non-null    object \n",
      " 12  Loan_Status        614 non-null    object \n",
      "dtypes: float64(4), int64(1), object(8)\n",
      "memory usage: 62.5+ KB\n"
     ]
    }
   ],
   "source": [
    "df.info()"
   ]
  },
  {
   "cell_type": "markdown",
   "metadata": {},
   "source": [
    "*Observation :*<br>*In Dataset there are 4 float type columns 1 int type column and 8 object type columns*<br>\n",
    "*All columns do not have 614 non null values so there are missing values in the dataset*"
   ]
  },
  {
   "cell_type": "markdown",
   "metadata": {},
   "source": [
    "###### Statistical Summary of Data"
   ]
  },
  {
   "cell_type": "markdown",
   "metadata": {},
   "source": [
    "###### ---for numerical variable"
   ]
  },
  {
   "cell_type": "code",
   "execution_count": 334,
   "metadata": {},
   "outputs": [
    {
     "data": {
      "text/html": [
       "<div>\n",
       "<style scoped>\n",
       "    .dataframe tbody tr th:only-of-type {\n",
       "        vertical-align: middle;\n",
       "    }\n",
       "\n",
       "    .dataframe tbody tr th {\n",
       "        vertical-align: top;\n",
       "    }\n",
       "\n",
       "    .dataframe thead th {\n",
       "        text-align: right;\n",
       "    }\n",
       "</style>\n",
       "<table border=\"1\" class=\"dataframe\">\n",
       "  <thead>\n",
       "    <tr style=\"text-align: right;\">\n",
       "      <th></th>\n",
       "      <th>ApplicantIncome</th>\n",
       "      <th>CoapplicantIncome</th>\n",
       "      <th>LoanAmount</th>\n",
       "      <th>Loan_Amount_Term</th>\n",
       "      <th>Credit_History</th>\n",
       "    </tr>\n",
       "  </thead>\n",
       "  <tbody>\n",
       "    <tr>\n",
       "      <th>count</th>\n",
       "      <td>614.000000</td>\n",
       "      <td>614.000000</td>\n",
       "      <td>592.000000</td>\n",
       "      <td>600.00000</td>\n",
       "      <td>564.000000</td>\n",
       "    </tr>\n",
       "    <tr>\n",
       "      <th>mean</th>\n",
       "      <td>5403.459283</td>\n",
       "      <td>1621.245798</td>\n",
       "      <td>146.412162</td>\n",
       "      <td>342.00000</td>\n",
       "      <td>0.842199</td>\n",
       "    </tr>\n",
       "    <tr>\n",
       "      <th>std</th>\n",
       "      <td>6109.041673</td>\n",
       "      <td>2926.248369</td>\n",
       "      <td>85.587325</td>\n",
       "      <td>65.12041</td>\n",
       "      <td>0.364878</td>\n",
       "    </tr>\n",
       "    <tr>\n",
       "      <th>min</th>\n",
       "      <td>150.000000</td>\n",
       "      <td>0.000000</td>\n",
       "      <td>9.000000</td>\n",
       "      <td>12.00000</td>\n",
       "      <td>0.000000</td>\n",
       "    </tr>\n",
       "    <tr>\n",
       "      <th>25%</th>\n",
       "      <td>2877.500000</td>\n",
       "      <td>0.000000</td>\n",
       "      <td>100.000000</td>\n",
       "      <td>360.00000</td>\n",
       "      <td>1.000000</td>\n",
       "    </tr>\n",
       "    <tr>\n",
       "      <th>50%</th>\n",
       "      <td>3812.500000</td>\n",
       "      <td>1188.500000</td>\n",
       "      <td>128.000000</td>\n",
       "      <td>360.00000</td>\n",
       "      <td>1.000000</td>\n",
       "    </tr>\n",
       "    <tr>\n",
       "      <th>75%</th>\n",
       "      <td>5795.000000</td>\n",
       "      <td>2297.250000</td>\n",
       "      <td>168.000000</td>\n",
       "      <td>360.00000</td>\n",
       "      <td>1.000000</td>\n",
       "    </tr>\n",
       "    <tr>\n",
       "      <th>max</th>\n",
       "      <td>81000.000000</td>\n",
       "      <td>41667.000000</td>\n",
       "      <td>700.000000</td>\n",
       "      <td>480.00000</td>\n",
       "      <td>1.000000</td>\n",
       "    </tr>\n",
       "  </tbody>\n",
       "</table>\n",
       "</div>"
      ],
      "text/plain": [
       "       ApplicantIncome  CoapplicantIncome  LoanAmount  Loan_Amount_Term  \\\n",
       "count       614.000000         614.000000  592.000000         600.00000   \n",
       "mean       5403.459283        1621.245798  146.412162         342.00000   \n",
       "std        6109.041673        2926.248369   85.587325          65.12041   \n",
       "min         150.000000           0.000000    9.000000          12.00000   \n",
       "25%        2877.500000           0.000000  100.000000         360.00000   \n",
       "50%        3812.500000        1188.500000  128.000000         360.00000   \n",
       "75%        5795.000000        2297.250000  168.000000         360.00000   \n",
       "max       81000.000000       41667.000000  700.000000         480.00000   \n",
       "\n",
       "       Credit_History  \n",
       "count      564.000000  \n",
       "mean         0.842199  \n",
       "std          0.364878  \n",
       "min          0.000000  \n",
       "25%          1.000000  \n",
       "50%          1.000000  \n",
       "75%          1.000000  \n",
       "max          1.000000  "
      ]
     },
     "execution_count": 334,
     "metadata": {},
     "output_type": "execute_result"
    }
   ],
   "source": [
    "df.describe(exclude='object')"
   ]
  },
  {
   "cell_type": "markdown",
   "metadata": {},
   "source": [
    "###### ---for categorical variable"
   ]
  },
  {
   "cell_type": "code",
   "execution_count": 335,
   "metadata": {},
   "outputs": [
    {
     "data": {
      "text/html": [
       "<div>\n",
       "<style scoped>\n",
       "    .dataframe tbody tr th:only-of-type {\n",
       "        vertical-align: middle;\n",
       "    }\n",
       "\n",
       "    .dataframe tbody tr th {\n",
       "        vertical-align: top;\n",
       "    }\n",
       "\n",
       "    .dataframe thead th {\n",
       "        text-align: right;\n",
       "    }\n",
       "</style>\n",
       "<table border=\"1\" class=\"dataframe\">\n",
       "  <thead>\n",
       "    <tr style=\"text-align: right;\">\n",
       "      <th></th>\n",
       "      <th>Loan_ID</th>\n",
       "      <th>Gender</th>\n",
       "      <th>Married</th>\n",
       "      <th>Dependents</th>\n",
       "      <th>Education</th>\n",
       "      <th>Self_Employed</th>\n",
       "      <th>Property_Area</th>\n",
       "      <th>Loan_Status</th>\n",
       "    </tr>\n",
       "  </thead>\n",
       "  <tbody>\n",
       "    <tr>\n",
       "      <th>count</th>\n",
       "      <td>614</td>\n",
       "      <td>601</td>\n",
       "      <td>611</td>\n",
       "      <td>599</td>\n",
       "      <td>614</td>\n",
       "      <td>582</td>\n",
       "      <td>614</td>\n",
       "      <td>614</td>\n",
       "    </tr>\n",
       "    <tr>\n",
       "      <th>unique</th>\n",
       "      <td>614</td>\n",
       "      <td>2</td>\n",
       "      <td>2</td>\n",
       "      <td>4</td>\n",
       "      <td>2</td>\n",
       "      <td>2</td>\n",
       "      <td>3</td>\n",
       "      <td>2</td>\n",
       "    </tr>\n",
       "    <tr>\n",
       "      <th>top</th>\n",
       "      <td>LP001157</td>\n",
       "      <td>Male</td>\n",
       "      <td>Yes</td>\n",
       "      <td>0</td>\n",
       "      <td>Graduate</td>\n",
       "      <td>No</td>\n",
       "      <td>Semiurban</td>\n",
       "      <td>Y</td>\n",
       "    </tr>\n",
       "    <tr>\n",
       "      <th>freq</th>\n",
       "      <td>1</td>\n",
       "      <td>489</td>\n",
       "      <td>398</td>\n",
       "      <td>345</td>\n",
       "      <td>480</td>\n",
       "      <td>500</td>\n",
       "      <td>233</td>\n",
       "      <td>422</td>\n",
       "    </tr>\n",
       "  </tbody>\n",
       "</table>\n",
       "</div>"
      ],
      "text/plain": [
       "         Loan_ID Gender Married Dependents Education Self_Employed  \\\n",
       "count        614    601     611        599       614           582   \n",
       "unique       614      2       2          4         2             2   \n",
       "top     LP001157   Male     Yes          0  Graduate            No   \n",
       "freq           1    489     398        345       480           500   \n",
       "\n",
       "       Property_Area Loan_Status  \n",
       "count            614         614  \n",
       "unique             3           2  \n",
       "top        Semiurban           Y  \n",
       "freq             233         422  "
      ]
     },
     "execution_count": 335,
     "metadata": {},
     "output_type": "execute_result"
    }
   ],
   "source": [
    "df.describe(include=[object]) "
   ]
  },
  {
   "cell_type": "markdown",
   "metadata": {},
   "source": [
    "*Observation :*<br>*Total count for all columns should be 614 but in the statistical summary for*\n",
    "<br> *both categorical and numerical some columns not have count 614 so those columns have missing values*\n",
    "<br>*In some columns max and min values have big difference so there are outliers.*<br>*In some columns all quartlies values are same.*"
   ]
  },
  {
   "cell_type": "markdown",
   "metadata": {},
   "source": [
    "###### check for unique values in columns"
   ]
  },
  {
   "cell_type": "code",
   "execution_count": 336,
   "metadata": {},
   "outputs": [
    {
     "data": {
      "text/plain": [
       "Loan_ID              614\n",
       "Gender                 2\n",
       "Married                2\n",
       "Dependents             4\n",
       "Education              2\n",
       "Self_Employed          2\n",
       "ApplicantIncome      505\n",
       "CoapplicantIncome    287\n",
       "LoanAmount           203\n",
       "Loan_Amount_Term      10\n",
       "Credit_History         2\n",
       "Property_Area          3\n",
       "Loan_Status            2\n",
       "dtype: int64"
      ]
     },
     "execution_count": 336,
     "metadata": {},
     "output_type": "execute_result"
    }
   ],
   "source": [
    "df.nunique()"
   ]
  },
  {
   "cell_type": "markdown",
   "metadata": {},
   "source": [
    "*Observation :*<br>*Loan_id, ApplicantIncome,CoapplicantIncome,LoanAmount columns have move than 20 unnique values.*<br>*so they are countinues values*<br>\n",
    "*and rest have less than 20 unique value so they are categorical columns*"
   ]
  },
  {
   "cell_type": "markdown",
   "metadata": {},
   "source": [
    "###### check for missing values in columns"
   ]
  },
  {
   "cell_type": "code",
   "execution_count": 337,
   "metadata": {},
   "outputs": [
    {
     "data": {
      "text/plain": [
       "Loan_ID               0\n",
       "Gender               13\n",
       "Married               3\n",
       "Dependents           15\n",
       "Education             0\n",
       "Self_Employed        32\n",
       "ApplicantIncome       0\n",
       "CoapplicantIncome     0\n",
       "LoanAmount           22\n",
       "Loan_Amount_Term     14\n",
       "Credit_History       50\n",
       "Property_Area         0\n",
       "Loan_Status           0\n",
       "dtype: int64"
      ]
     },
     "execution_count": 337,
     "metadata": {},
     "output_type": "execute_result"
    }
   ],
   "source": [
    "df.isnull().sum()"
   ]
  },
  {
   "cell_type": "code",
   "execution_count": 338,
   "metadata": {},
   "outputs": [
    {
     "name": "stdout",
     "output_type": "stream",
     "text": [
      "Total missing values : 149\n"
     ]
    }
   ],
   "source": [
    "print(\"Total missing values :\",df.isnull().sum().sum())"
   ]
  },
  {
   "cell_type": "markdown",
   "metadata": {},
   "source": [
    "*Observation :*<br>*All columns have missing values except columns*\n",
    "<br>*Loan_Id,Education,ApplicantIncome,CoapplicantIncome,Property_Area and Loan_Status*\n",
    "<br>*Total missing values in dataset are 149.*"
   ]
  },
  {
   "cell_type": "markdown",
   "metadata": {},
   "source": [
    "###### total % missing values in columns"
   ]
  },
  {
   "cell_type": "code",
   "execution_count": 339,
   "metadata": {},
   "outputs": [
    {
     "name": "stdout",
     "output_type": "stream",
     "text": [
      "Total % of MIssing Values in Columns :\n"
     ]
    },
    {
     "data": {
      "text/plain": [
       "Loan_ID              0.000000\n",
       "Gender               2.117264\n",
       "Married              0.488599\n",
       "Dependents           2.442997\n",
       "Education            0.000000\n",
       "Self_Employed        5.211726\n",
       "ApplicantIncome      0.000000\n",
       "CoapplicantIncome    0.000000\n",
       "LoanAmount           3.583062\n",
       "Loan_Amount_Term     2.280130\n",
       "Credit_History       8.143322\n",
       "Property_Area        0.000000\n",
       "Loan_Status          0.000000\n",
       "dtype: float64"
      ]
     },
     "execution_count": 339,
     "metadata": {},
     "output_type": "execute_result"
    }
   ],
   "source": [
    "print(\"Total % of MIssing Values in Columns :\")\n",
    "df.isnull().sum()/df.shape[0]*100 "
   ]
  },
  {
   "cell_type": "markdown",
   "metadata": {},
   "source": [
    "*Observation :*<br>*Gender,Dependents,Self_Employed,LoanAmount,Loan_Amount_Term columns have less than 6% data missing*\n",
    "<br>*Credit_History column have 8% data missing*"
   ]
  },
  {
   "cell_type": "markdown",
   "metadata": {},
   "source": [
    "###### check for duplicate rows"
   ]
  },
  {
   "cell_type": "code",
   "execution_count": 340,
   "metadata": {},
   "outputs": [
    {
     "data": {
      "text/plain": [
       "0"
      ]
     },
     "execution_count": 340,
     "metadata": {},
     "output_type": "execute_result"
    }
   ],
   "source": [
    "sum(df.duplicated())"
   ]
  },
  {
   "cell_type": "markdown",
   "metadata": {},
   "source": [
    "*Observation :*<br>*No duplicate rows*"
   ]
  },
  {
   "cell_type": "markdown",
   "metadata": {},
   "source": [
    "###### check for zeros in columns"
   ]
  },
  {
   "cell_type": "code",
   "execution_count": 341,
   "metadata": {},
   "outputs": [
    {
     "name": "stdout",
     "output_type": "stream",
     "text": [
      "Loan_ID                0\n",
      "Gender                 0\n",
      "Married                0\n",
      "Dependents             0\n",
      "Education              0\n",
      "Self_Employed          0\n",
      "ApplicantIncome        0\n",
      "CoapplicantIncome    273\n",
      "LoanAmount             0\n",
      "Loan_Amount_Term       0\n",
      "Credit_History        89\n",
      "Property_Area          0\n",
      "Loan_Status            0\n",
      "dtype: int64\n",
      "Total zeros in Dataset: 362\n"
     ]
    }
   ],
   "source": [
    "print(df[df==0].count())\n",
    "print('Total zeros in Dataset:', df[df==0].count().sum())"
   ]
  },
  {
   "cell_type": "markdown",
   "metadata": {},
   "source": [
    "*Observation :*<br>*CoapplicantIncome and Credit_History column have zero values.*"
   ]
  },
  {
   "cell_type": "markdown",
   "metadata": {},
   "source": [
    "###### total % of zeros in columns"
   ]
  },
  {
   "cell_type": "code",
   "execution_count": 342,
   "metadata": {},
   "outputs": [
    {
     "name": "stdout",
     "output_type": "stream",
     "text": [
      "Total % of Zeros as Value in Columns\n"
     ]
    },
    {
     "data": {
      "text/plain": [
       "Loan_ID               0.000000\n",
       "Gender                0.000000\n",
       "Married               0.000000\n",
       "Dependents            0.000000\n",
       "Education             0.000000\n",
       "Self_Employed         0.000000\n",
       "ApplicantIncome       0.000000\n",
       "CoapplicantIncome    44.462541\n",
       "LoanAmount            0.000000\n",
       "Loan_Amount_Term      0.000000\n",
       "Credit_History       14.495114\n",
       "Property_Area         0.000000\n",
       "Loan_Status           0.000000\n",
       "dtype: float64"
      ]
     },
     "execution_count": 342,
     "metadata": {},
     "output_type": "execute_result"
    }
   ],
   "source": [
    "print(\"Total % of Zeros as Value in Columns\")\n",
    "df[df==0].count()/df.shape[0]*100   "
   ]
  },
  {
   "cell_type": "markdown",
   "metadata": {},
   "source": [
    "*Observation :*<br>*CoapplicantIncome column have 44% and Credit_History column have 14% zero values*"
   ]
  },
  {
   "cell_type": "markdown",
   "metadata": {},
   "source": [
    "###### Identification of numbers"
   ]
  },
  {
   "cell_type": "markdown",
   "metadata": {},
   "source": [
    "###### check for numerical variables"
   ]
  },
  {
   "cell_type": "code",
   "execution_count": 343,
   "metadata": {},
   "outputs": [
    {
     "name": "stdout",
     "output_type": "stream",
     "text": [
      "Number of numerical variables:  5\n"
     ]
    }
   ],
   "source": [
    "numerical_features = [feature for feature in df.columns if df[feature].dtypes != 'O']\n",
    "print('Number of numerical variables: ', len(numerical_features))"
   ]
  },
  {
   "cell_type": "code",
   "execution_count": 344,
   "metadata": {},
   "outputs": [
    {
     "name": "stdout",
     "output_type": "stream",
     "text": [
      "The feature is ApplicantIncome and number of numerical are 505\n",
      "The feature is CoapplicantIncome and number of numerical are 287\n",
      "The feature is LoanAmount and number of numerical are 204\n",
      "The feature is Loan_Amount_Term and number of numerical are 11\n",
      "The feature is Credit_History and number of numerical are 3\n"
     ]
    }
   ],
   "source": [
    "for feature in numerical_features:\n",
    "    print('The feature is {} and number of numerical are {}'.format(feature,len(df[feature].unique())))"
   ]
  },
  {
   "cell_type": "code",
   "execution_count": 345,
   "metadata": {},
   "outputs": [
    {
     "data": {
      "text/html": [
       "<div>\n",
       "<style scoped>\n",
       "    .dataframe tbody tr th:only-of-type {\n",
       "        vertical-align: middle;\n",
       "    }\n",
       "\n",
       "    .dataframe tbody tr th {\n",
       "        vertical-align: top;\n",
       "    }\n",
       "\n",
       "    .dataframe thead th {\n",
       "        text-align: right;\n",
       "    }\n",
       "</style>\n",
       "<table border=\"1\" class=\"dataframe\">\n",
       "  <thead>\n",
       "    <tr style=\"text-align: right;\">\n",
       "      <th></th>\n",
       "      <th>ApplicantIncome</th>\n",
       "      <th>CoapplicantIncome</th>\n",
       "      <th>LoanAmount</th>\n",
       "      <th>Loan_Amount_Term</th>\n",
       "      <th>Credit_History</th>\n",
       "    </tr>\n",
       "  </thead>\n",
       "  <tbody>\n",
       "    <tr>\n",
       "      <th>0</th>\n",
       "      <td>5849</td>\n",
       "      <td>0.0</td>\n",
       "      <td>NaN</td>\n",
       "      <td>360.0</td>\n",
       "      <td>1.0</td>\n",
       "    </tr>\n",
       "    <tr>\n",
       "      <th>1</th>\n",
       "      <td>4583</td>\n",
       "      <td>1508.0</td>\n",
       "      <td>128.0</td>\n",
       "      <td>360.0</td>\n",
       "      <td>1.0</td>\n",
       "    </tr>\n",
       "    <tr>\n",
       "      <th>2</th>\n",
       "      <td>3000</td>\n",
       "      <td>0.0</td>\n",
       "      <td>66.0</td>\n",
       "      <td>360.0</td>\n",
       "      <td>1.0</td>\n",
       "    </tr>\n",
       "    <tr>\n",
       "      <th>3</th>\n",
       "      <td>2583</td>\n",
       "      <td>2358.0</td>\n",
       "      <td>120.0</td>\n",
       "      <td>360.0</td>\n",
       "      <td>1.0</td>\n",
       "    </tr>\n",
       "    <tr>\n",
       "      <th>4</th>\n",
       "      <td>6000</td>\n",
       "      <td>0.0</td>\n",
       "      <td>141.0</td>\n",
       "      <td>360.0</td>\n",
       "      <td>1.0</td>\n",
       "    </tr>\n",
       "  </tbody>\n",
       "</table>\n",
       "</div>"
      ],
      "text/plain": [
       "   ApplicantIncome  CoapplicantIncome  LoanAmount  Loan_Amount_Term  \\\n",
       "0             5849                0.0         NaN             360.0   \n",
       "1             4583             1508.0       128.0             360.0   \n",
       "2             3000                0.0        66.0             360.0   \n",
       "3             2583             2358.0       120.0             360.0   \n",
       "4             6000                0.0       141.0             360.0   \n",
       "\n",
       "   Credit_History  \n",
       "0             1.0  \n",
       "1             1.0  \n",
       "2             1.0  \n",
       "3             1.0  \n",
       "4             1.0  "
      ]
     },
     "execution_count": 345,
     "metadata": {},
     "output_type": "execute_result"
    }
   ],
   "source": [
    "df[numerical_features].head()"
   ]
  },
  {
   "cell_type": "markdown",
   "metadata": {},
   "source": [
    "###### ---check for descrete variable"
   ]
  },
  {
   "cell_type": "code",
   "execution_count": 346,
   "metadata": {},
   "outputs": [
    {
     "name": "stdout",
     "output_type": "stream",
     "text": [
      "Descrete Variables Count: 2 \n",
      "\n",
      "The feature is Loan_Amount_Term and number of numerical are 11\n",
      "The feature is Credit_History and number of numerical are 3\n",
      "\n",
      " Loan_Amount_Term  :  [360. 120. 240.  nan 180.  60. 300. 480.  36.  84.  12.]\n",
      "\n",
      " Credit_History  :  [ 1.  0. nan]\n"
     ]
    }
   ],
   "source": [
    "descrete_feature=[feature for feature in numerical_features if len(df[feature].unique())<25]\n",
    "print(\"Descrete Variables Count: {}\".format(len(descrete_feature)),\"\\n\")\n",
    "\n",
    "for feature in descrete_feature:\n",
    "    print('The feature is {} and number of numerical are {}'.format(feature,len(df[feature].unique())))\n",
    "    \n",
    "    \n",
    "for feature in descrete_feature:\n",
    "    print(\"\\n\",feature,\" : \", df[feature].unique())"
   ]
  },
  {
   "cell_type": "code",
   "execution_count": 347,
   "metadata": {},
   "outputs": [
    {
     "data": {
      "text/html": [
       "<div>\n",
       "<style scoped>\n",
       "    .dataframe tbody tr th:only-of-type {\n",
       "        vertical-align: middle;\n",
       "    }\n",
       "\n",
       "    .dataframe tbody tr th {\n",
       "        vertical-align: top;\n",
       "    }\n",
       "\n",
       "    .dataframe thead th {\n",
       "        text-align: right;\n",
       "    }\n",
       "</style>\n",
       "<table border=\"1\" class=\"dataframe\">\n",
       "  <thead>\n",
       "    <tr style=\"text-align: right;\">\n",
       "      <th></th>\n",
       "      <th>Loan_Amount_Term</th>\n",
       "      <th>Credit_History</th>\n",
       "    </tr>\n",
       "  </thead>\n",
       "  <tbody>\n",
       "    <tr>\n",
       "      <th>0</th>\n",
       "      <td>360.0</td>\n",
       "      <td>1.0</td>\n",
       "    </tr>\n",
       "    <tr>\n",
       "      <th>1</th>\n",
       "      <td>360.0</td>\n",
       "      <td>1.0</td>\n",
       "    </tr>\n",
       "    <tr>\n",
       "      <th>2</th>\n",
       "      <td>360.0</td>\n",
       "      <td>1.0</td>\n",
       "    </tr>\n",
       "    <tr>\n",
       "      <th>3</th>\n",
       "      <td>360.0</td>\n",
       "      <td>1.0</td>\n",
       "    </tr>\n",
       "    <tr>\n",
       "      <th>4</th>\n",
       "      <td>360.0</td>\n",
       "      <td>1.0</td>\n",
       "    </tr>\n",
       "  </tbody>\n",
       "</table>\n",
       "</div>"
      ],
      "text/plain": [
       "   Loan_Amount_Term  Credit_History\n",
       "0             360.0             1.0\n",
       "1             360.0             1.0\n",
       "2             360.0             1.0\n",
       "3             360.0             1.0\n",
       "4             360.0             1.0"
      ]
     },
     "execution_count": 347,
     "metadata": {},
     "output_type": "execute_result"
    }
   ],
   "source": [
    "df[descrete_feature].head()"
   ]
  },
  {
   "cell_type": "markdown",
   "metadata": {},
   "source": [
    "###### ---check for countinuous variable"
   ]
  },
  {
   "cell_type": "code",
   "execution_count": 348,
   "metadata": {},
   "outputs": [
    {
     "name": "stdout",
     "output_type": "stream",
     "text": [
      "Continuous Variables Count 3 \n",
      "\n",
      "The feature is:  ApplicantIncome     and number of numerical are:  505\n",
      "The feature is:  CoapplicantIncome     and number of numerical are:  287\n",
      "The feature is:  LoanAmount     and number of numerical are:  204\n"
     ]
    }
   ],
   "source": [
    "continuous_feature=[feature for feature in numerical_features if feature not in descrete_feature ]\n",
    "print(\"Continuous Variables Count {}\".format(len(continuous_feature)),\"\\n\")\n",
    "\n",
    "for feature in continuous_feature:\n",
    "    print('The feature is:  {}     and number of numerical are:  {}'.format(feature,len(df[feature].unique())))"
   ]
  },
  {
   "cell_type": "code",
   "execution_count": 349,
   "metadata": {},
   "outputs": [
    {
     "data": {
      "text/html": [
       "<div>\n",
       "<style scoped>\n",
       "    .dataframe tbody tr th:only-of-type {\n",
       "        vertical-align: middle;\n",
       "    }\n",
       "\n",
       "    .dataframe tbody tr th {\n",
       "        vertical-align: top;\n",
       "    }\n",
       "\n",
       "    .dataframe thead th {\n",
       "        text-align: right;\n",
       "    }\n",
       "</style>\n",
       "<table border=\"1\" class=\"dataframe\">\n",
       "  <thead>\n",
       "    <tr style=\"text-align: right;\">\n",
       "      <th></th>\n",
       "      <th>ApplicantIncome</th>\n",
       "      <th>CoapplicantIncome</th>\n",
       "      <th>LoanAmount</th>\n",
       "    </tr>\n",
       "  </thead>\n",
       "  <tbody>\n",
       "    <tr>\n",
       "      <th>0</th>\n",
       "      <td>5849</td>\n",
       "      <td>0.0</td>\n",
       "      <td>NaN</td>\n",
       "    </tr>\n",
       "    <tr>\n",
       "      <th>1</th>\n",
       "      <td>4583</td>\n",
       "      <td>1508.0</td>\n",
       "      <td>128.0</td>\n",
       "    </tr>\n",
       "    <tr>\n",
       "      <th>2</th>\n",
       "      <td>3000</td>\n",
       "      <td>0.0</td>\n",
       "      <td>66.0</td>\n",
       "    </tr>\n",
       "    <tr>\n",
       "      <th>3</th>\n",
       "      <td>2583</td>\n",
       "      <td>2358.0</td>\n",
       "      <td>120.0</td>\n",
       "    </tr>\n",
       "    <tr>\n",
       "      <th>4</th>\n",
       "      <td>6000</td>\n",
       "      <td>0.0</td>\n",
       "      <td>141.0</td>\n",
       "    </tr>\n",
       "  </tbody>\n",
       "</table>\n",
       "</div>"
      ],
      "text/plain": [
       "   ApplicantIncome  CoapplicantIncome  LoanAmount\n",
       "0             5849                0.0         NaN\n",
       "1             4583             1508.0       128.0\n",
       "2             3000                0.0        66.0\n",
       "3             2583             2358.0       120.0\n",
       "4             6000                0.0       141.0"
      ]
     },
     "execution_count": 349,
     "metadata": {},
     "output_type": "execute_result"
    }
   ],
   "source": [
    "df[continuous_feature].head()"
   ]
  },
  {
   "cell_type": "markdown",
   "metadata": {},
   "source": [
    "*Observation :*<br>*ApplicantIncome,CoapplicantIncome,LoanAmount,Loan_Amount_Term,Credit_History columns are Numerical variables*<br>*ApplicantIncome,CoapplicantIncome,LoanAmount are countinuous features and Loan_Amount_Term,Credit_History are discrete features*"
   ]
  },
  {
   "cell_type": "markdown",
   "metadata": {},
   "source": [
    "###### check for categorical variable"
   ]
  },
  {
   "cell_type": "code",
   "execution_count": 350,
   "metadata": {},
   "outputs": [
    {
     "name": "stdout",
     "output_type": "stream",
     "text": [
      "Number of Categorical variables:  8\n"
     ]
    }
   ],
   "source": [
    "categorical_features=[feature for feature in df.columns if df[feature].dtypes=='O']\n",
    "print('Number of Categorical variables: ', len(categorical_features))"
   ]
  },
  {
   "cell_type": "code",
   "execution_count": 351,
   "metadata": {},
   "outputs": [
    {
     "name": "stdout",
     "output_type": "stream",
     "text": [
      "The feature is Loan_ID and number of categories are 614\n",
      "The feature is Gender and number of categories are 3\n",
      "The feature is Married and number of categories are 3\n",
      "The feature is Dependents and number of categories are 5\n",
      "The feature is Education and number of categories are 2\n",
      "The feature is Self_Employed and number of categories are 3\n",
      "The feature is Property_Area and number of categories are 3\n",
      "The feature is Loan_Status and number of categories are 2\n"
     ]
    }
   ],
   "source": [
    "for feature in categorical_features:\n",
    "    print('The feature is {} and number of categories are {}'.format(feature,len(df[feature].unique())))"
   ]
  },
  {
   "cell_type": "code",
   "execution_count": 352,
   "metadata": {},
   "outputs": [
    {
     "data": {
      "text/html": [
       "<div>\n",
       "<style scoped>\n",
       "    .dataframe tbody tr th:only-of-type {\n",
       "        vertical-align: middle;\n",
       "    }\n",
       "\n",
       "    .dataframe tbody tr th {\n",
       "        vertical-align: top;\n",
       "    }\n",
       "\n",
       "    .dataframe thead th {\n",
       "        text-align: right;\n",
       "    }\n",
       "</style>\n",
       "<table border=\"1\" class=\"dataframe\">\n",
       "  <thead>\n",
       "    <tr style=\"text-align: right;\">\n",
       "      <th></th>\n",
       "      <th>Loan_ID</th>\n",
       "      <th>Gender</th>\n",
       "      <th>Married</th>\n",
       "      <th>Dependents</th>\n",
       "      <th>Education</th>\n",
       "      <th>Self_Employed</th>\n",
       "      <th>Property_Area</th>\n",
       "      <th>Loan_Status</th>\n",
       "    </tr>\n",
       "  </thead>\n",
       "  <tbody>\n",
       "    <tr>\n",
       "      <th>0</th>\n",
       "      <td>LP001002</td>\n",
       "      <td>Male</td>\n",
       "      <td>No</td>\n",
       "      <td>0</td>\n",
       "      <td>Graduate</td>\n",
       "      <td>No</td>\n",
       "      <td>Urban</td>\n",
       "      <td>Y</td>\n",
       "    </tr>\n",
       "    <tr>\n",
       "      <th>1</th>\n",
       "      <td>LP001003</td>\n",
       "      <td>Male</td>\n",
       "      <td>Yes</td>\n",
       "      <td>1</td>\n",
       "      <td>Graduate</td>\n",
       "      <td>No</td>\n",
       "      <td>Rural</td>\n",
       "      <td>N</td>\n",
       "    </tr>\n",
       "    <tr>\n",
       "      <th>2</th>\n",
       "      <td>LP001005</td>\n",
       "      <td>Male</td>\n",
       "      <td>Yes</td>\n",
       "      <td>0</td>\n",
       "      <td>Graduate</td>\n",
       "      <td>Yes</td>\n",
       "      <td>Urban</td>\n",
       "      <td>Y</td>\n",
       "    </tr>\n",
       "    <tr>\n",
       "      <th>3</th>\n",
       "      <td>LP001006</td>\n",
       "      <td>Male</td>\n",
       "      <td>Yes</td>\n",
       "      <td>0</td>\n",
       "      <td>Not Graduate</td>\n",
       "      <td>No</td>\n",
       "      <td>Urban</td>\n",
       "      <td>Y</td>\n",
       "    </tr>\n",
       "    <tr>\n",
       "      <th>4</th>\n",
       "      <td>LP001008</td>\n",
       "      <td>Male</td>\n",
       "      <td>No</td>\n",
       "      <td>0</td>\n",
       "      <td>Graduate</td>\n",
       "      <td>No</td>\n",
       "      <td>Urban</td>\n",
       "      <td>Y</td>\n",
       "    </tr>\n",
       "  </tbody>\n",
       "</table>\n",
       "</div>"
      ],
      "text/plain": [
       "    Loan_ID Gender Married Dependents     Education Self_Employed  \\\n",
       "0  LP001002   Male      No          0      Graduate            No   \n",
       "1  LP001003   Male     Yes          1      Graduate            No   \n",
       "2  LP001005   Male     Yes          0      Graduate           Yes   \n",
       "3  LP001006   Male     Yes          0  Not Graduate            No   \n",
       "4  LP001008   Male      No          0      Graduate            No   \n",
       "\n",
       "  Property_Area Loan_Status  \n",
       "0         Urban           Y  \n",
       "1         Rural           N  \n",
       "2         Urban           Y  \n",
       "3         Urban           Y  \n",
       "4         Urban           Y  "
      ]
     },
     "execution_count": 352,
     "metadata": {},
     "output_type": "execute_result"
    }
   ],
   "source": [
    "df[categorical_features].head()"
   ]
  },
  {
   "cell_type": "markdown",
   "metadata": {},
   "source": [
    "###### ---check for binary variable"
   ]
  },
  {
   "cell_type": "code",
   "execution_count": 353,
   "metadata": {},
   "outputs": [
    {
     "name": "stdout",
     "output_type": "stream",
     "text": [
      "Binary Variables Count: 2\n"
     ]
    }
   ],
   "source": [
    "binary_feature=[feature for feature in categorical_features if len(df[feature].unique())==2 or len(df[feature].unique())<2 and feature not in date_feature]\n",
    "print(\"Binary Variables Count: {}\".format(len(binary_feature)))"
   ]
  },
  {
   "cell_type": "code",
   "execution_count": 354,
   "metadata": {},
   "outputs": [
    {
     "name": "stdout",
     "output_type": "stream",
     "text": [
      "Education  :  ['Graduate' 'Not Graduate']\n",
      "Loan_Status  :  ['Y' 'N']\n"
     ]
    }
   ],
   "source": [
    "for feature in binary_feature:\n",
    "    print(feature,\" : \", df[feature].unique())"
   ]
  },
  {
   "cell_type": "code",
   "execution_count": 355,
   "metadata": {},
   "outputs": [
    {
     "data": {
      "text/html": [
       "<div>\n",
       "<style scoped>\n",
       "    .dataframe tbody tr th:only-of-type {\n",
       "        vertical-align: middle;\n",
       "    }\n",
       "\n",
       "    .dataframe tbody tr th {\n",
       "        vertical-align: top;\n",
       "    }\n",
       "\n",
       "    .dataframe thead th {\n",
       "        text-align: right;\n",
       "    }\n",
       "</style>\n",
       "<table border=\"1\" class=\"dataframe\">\n",
       "  <thead>\n",
       "    <tr style=\"text-align: right;\">\n",
       "      <th></th>\n",
       "      <th>Education</th>\n",
       "      <th>Loan_Status</th>\n",
       "    </tr>\n",
       "  </thead>\n",
       "  <tbody>\n",
       "    <tr>\n",
       "      <th>0</th>\n",
       "      <td>Graduate</td>\n",
       "      <td>Y</td>\n",
       "    </tr>\n",
       "    <tr>\n",
       "      <th>1</th>\n",
       "      <td>Graduate</td>\n",
       "      <td>N</td>\n",
       "    </tr>\n",
       "    <tr>\n",
       "      <th>2</th>\n",
       "      <td>Graduate</td>\n",
       "      <td>Y</td>\n",
       "    </tr>\n",
       "    <tr>\n",
       "      <th>3</th>\n",
       "      <td>Not Graduate</td>\n",
       "      <td>Y</td>\n",
       "    </tr>\n",
       "    <tr>\n",
       "      <th>4</th>\n",
       "      <td>Graduate</td>\n",
       "      <td>Y</td>\n",
       "    </tr>\n",
       "  </tbody>\n",
       "</table>\n",
       "</div>"
      ],
      "text/plain": [
       "      Education Loan_Status\n",
       "0      Graduate           Y\n",
       "1      Graduate           N\n",
       "2      Graduate           Y\n",
       "3  Not Graduate           Y\n",
       "4      Graduate           Y"
      ]
     },
     "execution_count": 355,
     "metadata": {},
     "output_type": "execute_result"
    }
   ],
   "source": [
    "df[binary_feature].head()"
   ]
  },
  {
   "cell_type": "markdown",
   "metadata": {},
   "source": [
    "###### ---check for nominal variable"
   ]
  },
  {
   "cell_type": "code",
   "execution_count": 356,
   "metadata": {},
   "outputs": [
    {
     "name": "stdout",
     "output_type": "stream",
     "text": [
      "Nominal feature Count 6\n"
     ]
    }
   ],
   "source": [
    "nominal_feature=[feature for feature in categorical_features if feature not in binary_feature]\n",
    "print(\"Nominal feature Count {}\".format(len(nominal_feature)))"
   ]
  },
  {
   "cell_type": "code",
   "execution_count": 357,
   "metadata": {},
   "outputs": [
    {
     "name": "stdout",
     "output_type": "stream",
     "text": [
      "The feature is Loan_ID and number of numerical are 614\n",
      "The feature is Gender and number of numerical are 3\n",
      "The feature is Married and number of numerical are 3\n",
      "The feature is Dependents and number of numerical are 5\n",
      "The feature is Self_Employed and number of numerical are 3\n",
      "The feature is Property_Area and number of numerical are 3\n"
     ]
    }
   ],
   "source": [
    "for feature in nominal_feature:\n",
    "    print('The feature is {} and number of numerical are {}'.format(feature,len(df[feature].unique())))"
   ]
  },
  {
   "cell_type": "code",
   "execution_count": 358,
   "metadata": {},
   "outputs": [
    {
     "name": "stdout",
     "output_type": "stream",
     "text": [
      "Gender  :  ['Male' 'Female' nan]\n",
      "Married  :  ['No' 'Yes' nan]\n",
      "Dependents  :  ['0' '1' '2' '3+' nan]\n",
      "Self_Employed  :  ['No' 'Yes' nan]\n",
      "Property_Area  :  ['Urban' 'Rural' 'Semiurban']\n"
     ]
    }
   ],
   "source": [
    "nominalfeature=['Gender','Married','Dependents','Self_Employed','Property_Area']\n",
    "for feature in nominalfeature :\n",
    "    print(feature,\" : \", df[feature].unique())"
   ]
  },
  {
   "cell_type": "code",
   "execution_count": 359,
   "metadata": {},
   "outputs": [
    {
     "data": {
      "text/html": [
       "<div>\n",
       "<style scoped>\n",
       "    .dataframe tbody tr th:only-of-type {\n",
       "        vertical-align: middle;\n",
       "    }\n",
       "\n",
       "    .dataframe tbody tr th {\n",
       "        vertical-align: top;\n",
       "    }\n",
       "\n",
       "    .dataframe thead th {\n",
       "        text-align: right;\n",
       "    }\n",
       "</style>\n",
       "<table border=\"1\" class=\"dataframe\">\n",
       "  <thead>\n",
       "    <tr style=\"text-align: right;\">\n",
       "      <th></th>\n",
       "      <th>Loan_ID</th>\n",
       "      <th>Gender</th>\n",
       "      <th>Married</th>\n",
       "      <th>Dependents</th>\n",
       "      <th>Self_Employed</th>\n",
       "      <th>Property_Area</th>\n",
       "    </tr>\n",
       "  </thead>\n",
       "  <tbody>\n",
       "    <tr>\n",
       "      <th>0</th>\n",
       "      <td>LP001002</td>\n",
       "      <td>Male</td>\n",
       "      <td>No</td>\n",
       "      <td>0</td>\n",
       "      <td>No</td>\n",
       "      <td>Urban</td>\n",
       "    </tr>\n",
       "    <tr>\n",
       "      <th>1</th>\n",
       "      <td>LP001003</td>\n",
       "      <td>Male</td>\n",
       "      <td>Yes</td>\n",
       "      <td>1</td>\n",
       "      <td>No</td>\n",
       "      <td>Rural</td>\n",
       "    </tr>\n",
       "    <tr>\n",
       "      <th>2</th>\n",
       "      <td>LP001005</td>\n",
       "      <td>Male</td>\n",
       "      <td>Yes</td>\n",
       "      <td>0</td>\n",
       "      <td>Yes</td>\n",
       "      <td>Urban</td>\n",
       "    </tr>\n",
       "    <tr>\n",
       "      <th>3</th>\n",
       "      <td>LP001006</td>\n",
       "      <td>Male</td>\n",
       "      <td>Yes</td>\n",
       "      <td>0</td>\n",
       "      <td>No</td>\n",
       "      <td>Urban</td>\n",
       "    </tr>\n",
       "    <tr>\n",
       "      <th>4</th>\n",
       "      <td>LP001008</td>\n",
       "      <td>Male</td>\n",
       "      <td>No</td>\n",
       "      <td>0</td>\n",
       "      <td>No</td>\n",
       "      <td>Urban</td>\n",
       "    </tr>\n",
       "  </tbody>\n",
       "</table>\n",
       "</div>"
      ],
      "text/plain": [
       "    Loan_ID Gender Married Dependents Self_Employed Property_Area\n",
       "0  LP001002   Male      No          0            No         Urban\n",
       "1  LP001003   Male     Yes          1            No         Rural\n",
       "2  LP001005   Male     Yes          0           Yes         Urban\n",
       "3  LP001006   Male     Yes          0            No         Urban\n",
       "4  LP001008   Male      No          0            No         Urban"
      ]
     },
     "execution_count": 359,
     "metadata": {},
     "output_type": "execute_result"
    }
   ],
   "source": [
    "df[nominal_feature].head()"
   ]
  },
  {
   "cell_type": "markdown",
   "metadata": {},
   "source": [
    "*Observation :*<br>*Loan_ID,Gender,Married,Dependents,Education,Self_Employed,Property_Area,Loan_Status are categorical variables*<br>*Loan_ID\tGender\tMarried\tDependentsSelf_Employed\tProperty_Area are nominal features and Education,Loan_Status are binary features*"
   ]
  },
  {
   "cell_type": "markdown",
   "metadata": {},
   "source": [
    "###### check for cardinality"
   ]
  },
  {
   "cell_type": "markdown",
   "metadata": {},
   "source": [
    "###### ---for categorical variables"
   ]
  },
  {
   "cell_type": "code",
   "execution_count": 360,
   "metadata": {},
   "outputs": [
    {
     "data": {
      "text/plain": [
       "Text(0.5, 1.0, 'Cardinality')"
      ]
     },
     "execution_count": 360,
     "metadata": {},
     "output_type": "execute_result"
    },
    {
     "data": {
      "image/png": "[encoded data removed]",
      "text/plain": [
       "<Figure size 864x288 with 1 Axes>"
      ]
     },
     "metadata": {
      "needs_background": "light"
     },
     "output_type": "display_data"
    }
   ],
   "source": [
    "df[categorical_features].nunique().plot.bar(figsize=(12,4),color='#17becf')\n",
    "plt.ylabel('Number of unique categories')\n",
    "plt.xlabel('Categorical Variables')\n",
    "plt.title('Cardinality')"
   ]
  },
  {
   "cell_type": "markdown",
   "metadata": {},
   "source": [
    "*Observation :*<br>*All columns have low cardinality Except Loan_ID*"
   ]
  },
  {
   "cell_type": "markdown",
   "metadata": {},
   "source": [
    "###### check for outliers "
   ]
  },
  {
   "cell_type": "markdown",
   "metadata": {},
   "source": [
    "###### ---for numerical variables"
   ]
  },
  {
   "cell_type": "code",
   "execution_count": 361,
   "metadata": {},
   "outputs": [
    {
     "data": {
      "image/png": "[encoded data removed]",
      "text/plain": [
       "<Figure size 936x576 with 5 Axes>"
      ]
     },
     "metadata": {
      "needs_background": "light"
     },
     "output_type": "display_data"
    }
   ],
   "source": [
    "fig, pltcan=plt.subplots(nrows=1, ncols=len(numerical_features), figsize=(13,8))\n",
    "for predcol , i in zip(numerical_features, range(len(numerical_features))):\n",
    "    df.boxplot(column=predcol, figsize=(2,10), vert=True, ax=pltcan[i])"
   ]
  },
  {
   "cell_type": "markdown",
   "metadata": {},
   "source": [
    "*Observation :*<br>*Loan_Amount_Term and Credit_History have unique values 11 an 2 respectively, so can not count as outiler.*<br>*ApplicantIncome,CoapplicantINcome and LoanAmount have outliers*"
   ]
  },
  {
   "cell_type": "markdown",
   "metadata": {},
   "source": [
    "###### check for skewness"
   ]
  },
  {
   "cell_type": "code",
   "execution_count": 362,
   "metadata": {},
   "outputs": [
    {
     "name": "stdout",
     "output_type": "stream",
     "text": [
      "ApplicantIncome      6.539513\n",
      "CoapplicantIncome    7.491531\n",
      "LoanAmount           2.677552\n",
      "Loan_Amount_Term    -2.362414\n",
      "Credit_History      -1.882361\n",
      "dtype: float64\n"
     ]
    },
    {
     "data": {
      "text/plain": [
       "<AxesSubplot:>"
      ]
     },
     "execution_count": 362,
     "metadata": {},
     "output_type": "execute_result"
    },
    {
     "data": {
      "image/png": "[encoded data removed]",
      "text/plain": [
       "<Figure size 432x288 with 1 Axes>"
      ]
     },
     "metadata": {
      "needs_background": "light"
     },
     "output_type": "display_data"
    }
   ],
   "source": [
    "print(df.skew())\n",
    "df.skew().plot(kind='barh',color='#9467bd')"
   ]
  },
  {
   "cell_type": "code",
   "execution_count": 363,
   "metadata": {},
   "outputs": [
    {
     "data": {
      "image/png": "[encoded data removed]",
      "text/plain": [
       "<Figure size 1224x1368 with 5 Axes>"
      ]
     },
     "metadata": {
      "needs_background": "light"
     },
     "output_type": "display_data"
    }
   ],
   "source": [
    "#Visualization of Skewness (numerical variable)\n",
    "plt.figure(figsize=(17,19))\n",
    "plt.subplot(5,3,1)\n",
    "sns.kdeplot(df['ApplicantIncome'],color='crimson',shade=True)\n",
    "plt.subplot(5,3,2)\n",
    "sns.kdeplot(df['CoapplicantIncome'],color='crimson',shade=True)\n",
    "plt.subplot(5,3,3)\n",
    "sns.kdeplot(df['LoanAmount'],color='crimson',shade=True)\n",
    "plt.subplot(5,3,4)\n",
    "sns.kdeplot(df['Loan_Amount_Term'],color='aqua',shade=True)\n",
    "plt.subplot(5,3,5)\n",
    "sns.kdeplot(df['Credit_History'],color='aqua',shade=True)\n",
    "\n",
    "plt.show()\n"
   ]
  },
  {
   "cell_type": "markdown",
   "metadata": {},
   "source": [
    "*Observation :*<br>*ApplicantIncome, CoapplicantIncome,LoanAmount have light right skewness*<br>*Loan_Amount_Term,Credit_History have left skewness*"
   ]
  },
  {
   "cell_type": "markdown",
   "metadata": {},
   "source": [
    "###### Identify Target and Feature Variable"
   ]
  },
  {
   "cell_type": "markdown",
   "metadata": {},
   "source": [
    "*Prediction-*<br>*Loan_Status (Approve or Reject)*"
   ]
  },
  {
   "cell_type": "markdown",
   "metadata": {},
   "source": [
    "*Targe Variable (Depaendent Features)* <br>            *-Loan_Status* <br>\n",
    "*Predictors (Independent Features)*<br>                 *- All variables* "
   ]
  },
  {
   "cell_type": "markdown",
   "metadata": {},
   "source": [
    "###### Univariate Analysis"
   ]
  },
  {
   "cell_type": "markdown",
   "metadata": {},
   "source": [
    "###### 1. Loan_Status variable"
   ]
  },
  {
   "cell_type": "code",
   "execution_count": 364,
   "metadata": {},
   "outputs": [
    {
     "data": {
      "text/plain": [
       "<AxesSubplot:ylabel='Loan_Status'>"
      ]
     },
     "execution_count": 364,
     "metadata": {},
     "output_type": "execute_result"
    },
    {
     "data": {
      "image/png": "[encoded data removed]",
      "text/plain": [
       "<Figure size 360x360 with 1 Axes>"
      ]
     },
     "metadata": {},
     "output_type": "display_data"
    }
   ],
   "source": [
    "df['Loan_Status'].value_counts().plot(kind = \"pie\",autopct='%1.2f%%',fontsize=12,figsize=(5,5),colors = ['coral','plum'])"
   ]
  },
  {
   "cell_type": "markdown",
   "metadata": {},
   "source": [
    "*Observation :*<br>*68% people have taken loan*<br>*31% have no loan amount*"
   ]
  },
  {
   "cell_type": "markdown",
   "metadata": {},
   "source": [
    "###### 2. Loan_ID, LoanAmount, Loan_Amount_Term variable"
   ]
  },
  {
   "cell_type": "code",
   "execution_count": 365,
   "metadata": {},
   "outputs": [
    {
     "data": {
      "image/png": "[encoded data removed]",
      "text/plain": [
       "<Figure size 1656x1152 with 2 Axes>"
      ]
     },
     "metadata": {
      "needs_background": "light"
     },
     "output_type": "display_data"
    }
   ],
   "source": [
    "plt.figure(figsize=(15,15))\n",
    "plt.subplot(211)\n",
    "df['Loan_ID'].value_counts().plot(kind='line', title='Loan Identification Number', figsize=(23,16),color='maroon')\n",
    "plt.xticks(rotation=25,fontsize=15)\n",
    "plt.subplot(212)\n",
    "sns.distplot(df['LoanAmount'],hist = True, bins=10, kde=True, color='purple')\n",
    "plt.xlabel('Loan Amount', fontsize=12)\n",
    "plt.ylabel('Density', fontsize=12)\n",
    "plt.grid(axis='y')"
   ]
  },
  {
   "cell_type": "code",
   "execution_count": 366,
   "metadata": {},
   "outputs": [
    {
     "data": {
      "image/png": "[encoded data removed]",
      "text/plain": [
       "<Figure size 1296x288 with 1 Axes>"
      ]
     },
     "metadata": {
      "needs_background": "light"
     },
     "output_type": "display_data"
    }
   ],
   "source": [
    "df['Loan_Amount_Term'].value_counts().plot(kind='bar', figsize=(18,4),color='green')\n",
    "plt.xticks(rotation=45, fontsize=15)\n",
    "plt.xlabel('Loan Amount Term', fontsize=15)\n",
    "plt.show()"
   ]
  },
  {
   "cell_type": "markdown",
   "metadata": {},
   "source": [
    "*Observation :*<br>*Loan ID is unique*<br>*max people have taken loan amount in the range of 50 to 150*\n",
    "<br>*Loan amount term is the highest on 360*"
   ]
  },
  {
   "cell_type": "markdown",
   "metadata": {},
   "source": [
    "###### 3. ApplicantIncome, CoapplicantIncome variable"
   ]
  },
  {
   "cell_type": "code",
   "execution_count": 367,
   "metadata": {},
   "outputs": [
    {
     "data": {
      "image/png": "[encoded data removed]",
      "text/plain": [
       "<Figure size 1296x576 with 2 Axes>"
      ]
     },
     "metadata": {
      "needs_background": "light"
     },
     "output_type": "display_data"
    }
   ],
   "source": [
    "plt.figure(figsize=(18,8))\n",
    "plt.subplot(2,2,1)\n",
    "plt.hist(df['ApplicantIncome'], rwidth = 0.98,color='teal')\n",
    "plt.xlabel('Applicant Income', fontsize=10)\n",
    "plt.grid(axis='y', alpha=0.75)\n",
    "plt.subplot(2,2,2)\n",
    "plt.hist(df['CoapplicantIncome'], rwidth = 0.98,color='green')\n",
    "plt.xlabel('Coapplicant Income', fontsize=10)\n",
    "plt.ylabel('Count', fontsize=10)\n",
    "plt.grid(axis='y', alpha=0.75)"
   ]
  },
  {
   "cell_type": "markdown",
   "metadata": {},
   "source": [
    "*Observation :*<br>*max applicant income is in the range from 0 to 10000*<br>*max coapplicant income is in the range between 0 to 5000*"
   ]
  },
  {
   "cell_type": "markdown",
   "metadata": {},
   "source": [
    "###### 4. Gender, Married, Education, Dependents, Self_Employed, Property_Area, Credit_History variable"
   ]
  },
  {
   "cell_type": "code",
   "execution_count": 368,
   "metadata": {},
   "outputs": [
    {
     "data": {
      "text/plain": [
       "<AxesSubplot:ylabel='Credit_History'>"
      ]
     },
     "execution_count": 368,
     "metadata": {},
     "output_type": "execute_result"
    },
    {
     "data": {
      "image/png": "[encoded data removed]",
      "text/plain": [
       "<Figure size 2160x4320 with 7 Axes>"
      ]
     },
     "metadata": {},
     "output_type": "display_data"
    }
   ],
   "source": [
    "plt.subplot(721)\n",
    "df['Gender'].value_counts().plot(kind = \"pie\",autopct='%1.2f%%',fontsize=12,figsize=(30,60),colors = ['orange', 'green'])\n",
    "plt.subplot(722)\n",
    "df['Married'].value_counts().plot(kind = \"pie\",autopct='%1.2f%%',fontsize=12,figsize=(30,60),colors = ['lightblue', 'pink'])\n",
    "plt.subplot(723)\n",
    "df['Education'].value_counts().plot(kind = \"pie\",autopct='%1.2f%%',fontsize=12,figsize=(30,60),colors = ['gold', 'olive'])\n",
    "plt.subplot(724)\n",
    "df['Dependents'].value_counts().plot(kind = \"pie\",autopct='%1.2f%%',fontsize=12,figsize=(30,60),colors = ['coral', 'tan','silver','magenta'])\n",
    "plt.subplot(725)\n",
    "df['Self_Employed'].value_counts().plot(kind = \"pie\",autopct='%1.2f%%',fontsize=12,figsize=(30,60),colors = ['#7f7f7f','#e377c2'])\n",
    "plt.subplot(726)\n",
    "df['Property_Area'].value_counts().plot(kind = \"pie\",autopct='%1.2f%%',fontsize=12,figsize=(30,60),colors = ['#8c564b', '#d62728','#9467bd'])\n",
    "plt.subplot(727)\n",
    "df['Credit_History'].value_counts().plot(kind = \"pie\",autopct='%1.2f%%',fontsize=12,figsize=(30,60),colors = ['#ff7f0e', '#1f77b4'])"
   ]
  },
  {
   "cell_type": "markdown",
   "metadata": {},
   "source": [
    "*Observation :*<br>*Max no of male has taken loan they are 81% only 18% female has taken loan*<br>*65% loan applicant are married.*\n",
    "<br>*78% loan applicant are graduate.*<br>*57% loan application have no dependencies*<br>*85% of loan applicant are self employeed.*\n",
    "<br>*loan applicant have property in rural,urban and semiurban area and semiurban area property are 37%*<br>*84% applicant have credit history*"
   ]
  },
  {
   "cell_type": "markdown",
   "metadata": {},
   "source": [
    "###### Bivariate Analysis"
   ]
  },
  {
   "cell_type": "markdown",
   "metadata": {},
   "source": [
    "###### 1.Categorical Vs Numerical"
   ]
  },
  {
   "cell_type": "markdown",
   "metadata": {},
   "source": [
    "###### Loan Status\n",
    "            Vs ApplicantIncome\n",
    "            Vs CoapplicantIncome\n",
    "            Vs LoanAmount\n",
    "            Vs Loan Amount Term\n",
    "            Vs Credit History"
   ]
  },
  {
   "cell_type": "code",
   "execution_count": 369,
   "metadata": {},
   "outputs": [
    {
     "data": {
      "text/plain": [
       "Text(0, 0.5, 'Credit_History')"
      ]
     },
     "execution_count": 369,
     "metadata": {},
     "output_type": "execute_result"
    },
    {
     "data": {
      "image/png": "[encoded data removed]",
      "text/plain": [
       "<Figure size 1368x2160 with 5 Axes>"
      ]
     },
     "metadata": {
      "needs_background": "light"
     },
     "output_type": "display_data"
    }
   ],
   "source": [
    "plt.figure(figsize=(19,30))\n",
    "plt.subplot(5,3,1)\n",
    "boxplot = sns.boxplot(x ='Loan_Status',y='ApplicantIncome',data=df,showmeans=True,width=0.5,palette=\"ocean\")\n",
    "plt.title(\"Loan_Status Vs ApplicantIncome\", fontsize=14)\n",
    "plt.xlabel('Loan_Status', fontsize=12)\n",
    "plt.ylabel('ApplicantIncome', fontsize=12)\n",
    "plt.subplot(5,3,2)\n",
    "boxplot = sns.boxplot(x ='Loan_Status',y='CoapplicantIncome',data=df,showmeans=True,width=0.5,palette=\"colorblind\")\n",
    "plt.title(\"Loan_Status Vs CoapplicantIncome\", fontsize=14)\n",
    "plt.xlabel('Loan_Status', fontsize=12)\n",
    "plt.ylabel('CoapplicantIncome', fontsize=12)\n",
    "plt.subplot(5,3,3)\n",
    "boxplot = sns.boxplot(x ='Loan_Status',y='LoanAmount',data=df,showmeans=True,width=0.5,palette=\"colorblind\")\n",
    "plt.title(\"Loan_Status Vs LoanAmount\", fontsize=14)\n",
    "plt.xlabel('Loan_Status', fontsize=12)\n",
    "plt.ylabel('LoanAmount', fontsize=12)\n",
    "plt.subplot(5,3,4)\n",
    "boxplot = sns.boxplot(x ='Loan_Status',y='Loan_Amount_Term',data=df,showmeans=True,width=0.5,palette=\"colorblind\")\n",
    "plt.title(\"Loan_Status Vs Loan_Amount_Term\", fontsize=14)\n",
    "plt.xlabel('Loan_Status', fontsize=12)\n",
    "plt.ylabel('Loan_Amount_Term', fontsize=12)\n",
    "plt.subplot(5,3,5)\n",
    "boxplot = sns.boxplot(x ='Loan_Status',y='Credit_History',data=df,showmeans=True,width=0.5,palette=\"colorblind\")\n",
    "plt.title(\"Loan_Status Vs Credit_History\", fontsize=14)\n",
    "plt.xlabel('Loan_Status', fontsize=12)\n",
    "plt.ylabel('Credit_History', fontsize=12)"
   ]
  },
  {
   "cell_type": "markdown",
   "metadata": {},
   "source": [
    "*Observation :*<br>*ApplicantIncome have approx same count of Loan Status*\n",
    "<br>*cpapplicantIncome have loan_status count yes more than Loan_Status NO*\n",
    "<br>*LoanAmount which is less have more approval than large Loan Amount*\n",
    "<br*Loan_Amount_Term is same with both the approved and rejected Loan Status*\n",
    "<br>*All Loan_Status are No with Credit_History*"
   ]
  },
  {
   "cell_type": "markdown",
   "metadata": {},
   "source": [
    "###### 2.Both Categorical"
   ]
  },
  {
   "cell_type": "markdown",
   "metadata": {},
   "source": [
    "###### Loan_Status\n",
    "            Vs Gender\n",
    "            Vs Married\n",
    "            Vs Departments\n",
    "            Vs Education\n",
    "            Vs Self_Employed\n",
    "            Vs Property_Area"
   ]
  },
  {
   "cell_type": "code",
   "execution_count": 370,
   "metadata": {},
   "outputs": [
    {
     "data": {
      "text/plain": [
       "<matplotlib.legend.Legend at 0x14fb8855eb0>"
      ]
     },
     "execution_count": 370,
     "metadata": {},
     "output_type": "execute_result"
    },
    {
     "data": {
      "image/png": "[encoded data removed]",
      "text/plain": [
       "<Figure size 1152x72 with 1 Axes>"
      ]
     },
     "metadata": {
      "needs_background": "light"
     },
     "output_type": "display_data"
    },
    {
     "data": {
      "image/png": "[encoded data removed]",
      "text/plain": [
       "<Figure size 1152x72 with 1 Axes>"
      ]
     },
     "metadata": {
      "needs_background": "light"
     },
     "output_type": "display_data"
    },
    {
     "data": {
      "image/png": "[encoded data removed]",
      "text/plain": [
       "<Figure size 1152x72 with 1 Axes>"
      ]
     },
     "metadata": {
      "needs_background": "light"
     },
     "output_type": "display_data"
    },
    {
     "data": {
      "image/png": "[encoded data removed]",
      "text/plain": [
       "<Figure size 1152x72 with 1 Axes>"
      ]
     },
     "metadata": {
      "needs_background": "light"
     },
     "output_type": "display_data"
    },
    {
     "data": {
      "image/png": "[encoded data removed]",
      "text/plain": [
       "<Figure size 1152x72 with 1 Axes>"
      ]
     },
     "metadata": {
      "needs_background": "light"
     },
     "output_type": "display_data"
    },
    {
     "data": {
      "image/png": "[encoded data removed]",
      "text/plain": [
       "<Figure size 1152x72 with 1 Axes>"
      ]
     },
     "metadata": {
      "needs_background": "light"
     },
     "output_type": "display_data"
    }
   ],
   "source": [
    "temp=pd.crosstab(df['Loan_Status'],df['Gender'],dropna = False,normalize = 'columns').round(3)*100\n",
    "temp.plot(kind='barh', stacked=True, grid=False,title = 'Income Vs Gender', mark_right = True,figsize=(16,1))\n",
    "plt.legend(title = 'Gender',bbox_to_anchor=(1.05, 1), loc='upper left')\n",
    "temp=pd.crosstab(df['Loan_Status'],df['Married'],dropna = False,normalize = 'columns').round(3)*100\n",
    "temp.plot(kind='barh', stacked=True, grid=False,title = 'Income VS Married', mark_right = True,figsize=(16,1))\n",
    "plt.legend(title = 'Married',bbox_to_anchor=(1.05, 1), loc='upper left')\n",
    "temp=pd.crosstab(df['Loan_Status'],df['Dependents'],dropna = False,normalize = 'columns').round(3)*100\n",
    "temp.plot(kind='barh', stacked=True, grid=False,title = 'Income Vs Occupation', mark_right = True,figsize=(16,1))\n",
    "plt.legend(title = 'Dependents',bbox_to_anchor=(1.05, 1), loc='upper left')\n",
    "temp=pd.crosstab(df['Loan_Status'],df['Education'],dropna = False,normalize = 'columns').round(3)*100\n",
    "temp.plot(kind='barh', stacked=True, grid=False,title = 'Income Vs Education', mark_right = True,figsize=(16,1))\n",
    "plt.legend(title = 'Education',bbox_to_anchor=(1.05, 1), loc='upper left')\n",
    "temp=pd.crosstab(df['Loan_Status'],df['Self_Employed'],dropna = False,normalize = 'columns').round(3)*100\n",
    "temp.plot(kind='barh', stacked=True, grid=False,title = 'Income Vs Self_Employed', mark_right = True,figsize=(16,1))\n",
    "plt.legend(title = 'Self_Employed',bbox_to_anchor=(1.05, 1), loc='upper left')\n",
    "temp=pd.crosstab(df['Loan_Status'],df['Property_Area'],dropna = False,normalize = 'columns').round(3)*100\n",
    "temp.plot(kind='barh', stacked=True, grid=False,title = 'Income VS Property_Area', mark_right = True,figsize=(16,1))\n",
    "plt.legend(title = 'Property_Area',bbox_to_anchor=(1.05, 1), loc='upper left')"
   ]
  },
  {
   "cell_type": "markdown",
   "metadata": {},
   "source": [
    "*Observation :*<br>*Male have more Loan_Status Yes than Female*\n",
    "<br>*Married have more Loan than unmarried*\n",
    "<br>*Dependents with 2 have more loan than others*\n",
    "<br>*Not graduate have more Loan status Yes*\n",
    "<br>*Self_Employed have more Loan*\n",
    "<br>*Semiurban have less rejected loan status*"
   ]
  },
  {
   "cell_type": "markdown",
   "metadata": {},
   "source": [
    "###### 3.Numerical Vs Numerical"
   ]
  },
  {
   "cell_type": "code",
   "execution_count": 371,
   "metadata": {},
   "outputs": [
    {
     "data": {
      "image/png": "[encoded data removed]",
      "text/plain": [
       "<Figure size 1224x288 with 2 Axes>"
      ]
     },
     "metadata": {
      "needs_background": "light"
     },
     "output_type": "display_data"
    }
   ],
   "source": [
    "pcorrel = df.corr(method='pearson').round(3)\n",
    "plt.figure(figsize=(17,4)) \n",
    "sns.heatmap(pcorrel,xticklabels=pcorrel.columns,yticklabels=pcorrel.columns,cmap=\"YlGnBu\",annot=True,linewidth=1.9)\n",
    "plt.title(\"Pearson Correlation Between Variables\")\n",
    "plt.xticks(fontsize=10)\n",
    "plt.yticks(fontsize=8)\n",
    "plt.show()   "
   ]
  },
  {
   "cell_type": "code",
   "execution_count": null,
   "metadata": {},
   "outputs": [],
   "source": []
  },
  {
   "cell_type": "code",
   "execution_count": null,
   "metadata": {},
   "outputs": [],
   "source": []
  },
  {
   "cell_type": "markdown",
   "metadata": {},
   "source": [
    "###### Handling Outliers"
   ]
  },
  {
   "cell_type": "code",
   "execution_count": 372,
   "metadata": {},
   "outputs": [],
   "source": [
    "fout =['ApplicantIncome','CoapplicantIncome','LoanAmount']\n",
    "for f in fout:\n",
    "    q1 = df[f].quantile(0.25)\n",
    "    q3 = df[f].quantile(0.75)\n",
    "    IQR = q3-q1\n",
    "    lolimit = q1 - (IQR*1.5)\n",
    "    uplimit = q3 + (IQR*1.5)\n",
    "    df.loc[df[f]<lolimit,f] = lolimit\n",
    "    df.loc[df[f]>uplimit,f] = uplimit"
   ]
  },
  {
   "cell_type": "code",
   "execution_count": 373,
   "metadata": {},
   "outputs": [],
   "source": [
    "#Recheck for Outliers After Removing"
   ]
  },
  {
   "cell_type": "code",
   "execution_count": 374,
   "metadata": {},
   "outputs": [
    {
     "data": {
      "image/png": "[encoded data removed]",
      "text/plain": [
       "<Figure size 1080x288 with 3 Axes>"
      ]
     },
     "metadata": {
      "needs_background": "light"
     },
     "output_type": "display_data"
    }
   ],
   "source": [
    "fig, pltcan=plt.subplots(nrows=1, ncols=len(fout), figsize=(15,4))\n",
    "for predcol , i in zip(fout, range(len(fout))):\n",
    "    df.boxplot(column=predcol, figsize=(2,10), ax=pltcan[i])\n",
    "   \n",
    "   "
   ]
  },
  {
   "cell_type": "markdown",
   "metadata": {},
   "source": [
    "*Observation :*<br>*All Outliers removed*"
   ]
  },
  {
   "cell_type": "markdown",
   "metadata": {},
   "source": [
    "###### Handling Missing/Zeros Values"
   ]
  },
  {
   "cell_type": "code",
   "execution_count": 375,
   "metadata": {},
   "outputs": [],
   "source": [
    "#nan values before removing"
   ]
  },
  {
   "cell_type": "code",
   "execution_count": 376,
   "metadata": {},
   "outputs": [
    {
     "name": "stdout",
     "output_type": "stream",
     "text": [
      "Gender  :  ['Male' 'Female' nan]\n",
      "Married  :  ['No' 'Yes' nan]\n",
      "Dependents  :  ['0' '1' '2' '3+' nan]\n",
      "Education  :  ['Graduate' 'Not Graduate']\n",
      "Self_Employed  :  ['No' 'Yes' nan]\n",
      "Property_Area  :  ['Urban' 'Rural' 'Semiurban']\n",
      "Loan_Status  :  ['Y' 'N']\n",
      "Credit_History  :  [ 1.  0. nan]\n",
      "Loan_Amount_Term  :  [360. 120. 240.  nan 180.  60. 300. 480.  36.  84.  12.]\n"
     ]
    }
   ],
   "source": [
    "for feature in df[['Gender','Married','Dependents','Education','Self_Employed','Property_Area','Loan_Status','Credit_History','Loan_Amount_Term']]:\n",
    "    print(feature,\" : \", df[feature].unique())"
   ]
  },
  {
   "cell_type": "code",
   "execution_count": 377,
   "metadata": {},
   "outputs": [
    {
     "data": {
      "text/plain": [
       "149"
      ]
     },
     "execution_count": 377,
     "metadata": {},
     "output_type": "execute_result"
    }
   ],
   "source": [
    "df.isnull().sum().sum()"
   ]
  },
  {
   "cell_type": "code",
   "execution_count": 378,
   "metadata": {},
   "outputs": [],
   "source": [
    "#Removing nan values in Credit"
   ]
  },
  {
   "cell_type": "code",
   "execution_count": 379,
   "metadata": {},
   "outputs": [],
   "source": [
    "df.Credit_History.median()\n",
    "df['Credit_History'] = df['Credit_History'].replace(np.nan,1.0)"
   ]
  },
  {
   "cell_type": "code",
   "execution_count": 380,
   "metadata": {},
   "outputs": [],
   "source": [
    "#removing null values"
   ]
  },
  {
   "cell_type": "code",
   "execution_count": 381,
   "metadata": {},
   "outputs": [],
   "source": [
    "df=df.dropna(axis=0, how='any', thresh=None, subset=None, inplace=False)"
   ]
  },
  {
   "cell_type": "code",
   "execution_count": 382,
   "metadata": {},
   "outputs": [],
   "source": [
    "#Recheck for nan/missing values"
   ]
  },
  {
   "cell_type": "code",
   "execution_count": 383,
   "metadata": {},
   "outputs": [
    {
     "data": {
      "text/plain": [
       "0"
      ]
     },
     "execution_count": 383,
     "metadata": {},
     "output_type": "execute_result"
    }
   ],
   "source": [
    "df.isnull().sum().sum()"
   ]
  },
  {
   "cell_type": "code",
   "execution_count": 384,
   "metadata": {},
   "outputs": [
    {
     "data": {
      "text/plain": [
       "(523, 13)"
      ]
     },
     "execution_count": 384,
     "metadata": {},
     "output_type": "execute_result"
    }
   ],
   "source": [
    "df.shape"
   ]
  },
  {
   "cell_type": "markdown",
   "metadata": {},
   "source": [
    "*Observation :*<br>*All missing values and Zeros are removed*"
   ]
  },
  {
   "cell_type": "markdown",
   "metadata": {},
   "source": [
    "###### Encoding Categorical Variables"
   ]
  },
  {
   "cell_type": "code",
   "execution_count": 385,
   "metadata": {},
   "outputs": [],
   "source": [
    "#Unique values before Encoding"
   ]
  },
  {
   "cell_type": "code",
   "execution_count": 386,
   "metadata": {},
   "outputs": [
    {
     "name": "stdout",
     "output_type": "stream",
     "text": [
      "Gender  :  ['Male' 'Female']\n",
      "Married  :  ['Yes' 'No']\n",
      "Dependents  :  ['1' '0' '2' '3+']\n",
      "Education  :  ['Graduate' 'Not Graduate']\n",
      "Self_Employed  :  ['No' 'Yes']\n",
      "Property_Area  :  ['Rural' 'Urban' 'Semiurban']\n",
      "Loan_Status  :  ['N' 'Y']\n"
     ]
    }
   ],
   "source": [
    "for feature in df[['Gender','Married','Dependents','Education','Self_Employed','Property_Area','Loan_Status']]:\n",
    "    print(feature,\" : \", df[feature].unique())"
   ]
  },
  {
   "cell_type": "code",
   "execution_count": 387,
   "metadata": {},
   "outputs": [],
   "source": [
    "#Encoding categorical Variable"
   ]
  },
  {
   "cell_type": "code",
   "execution_count": 388,
   "metadata": {},
   "outputs": [],
   "source": [
    "from sklearn.preprocessing import LabelEncoder\n",
    "le=LabelEncoder()\n",
    "df['Gender']=le.fit_transform(df['Gender'])\n",
    "df['Married']=le.fit_transform(df['Married'])\n",
    "df['Dependents']=le.fit_transform(df['Dependents'])\n",
    "df['Education']=le.fit_transform(df['Education'])\n",
    "df['Self_Employed']=le.fit_transform(df['Self_Employed'])\n",
    "df['Property_Area']=le.fit_transform(df['Property_Area'])\n",
    "df['Loan_Status']=le.fit_transform(df['Loan_Status'])"
   ]
  },
  {
   "cell_type": "markdown",
   "metadata": {},
   "source": [
    "#Recheck Encoded Column Unique Values "
   ]
  },
  {
   "cell_type": "code",
   "execution_count": 389,
   "metadata": {},
   "outputs": [
    {
     "name": "stdout",
     "output_type": "stream",
     "text": [
      "Gender  :  [1 0]\n",
      "Married  :  [1 0]\n",
      "Dependents  :  [1 0 2 3]\n",
      "Education  :  [0 1]\n",
      "Self_Employed  :  [0 1]\n",
      "Property_Area  :  [0 2 1]\n",
      "Loan_Status  :  [0 1]\n"
     ]
    }
   ],
   "source": [
    "for feature in df[['Gender','Married','Dependents','Education','Self_Employed','Property_Area','Loan_Status']]:\n",
    "    print(feature,\" : \", df[feature].unique())"
   ]
  },
  {
   "cell_type": "markdown",
   "metadata": {},
   "source": [
    "*Observation :*<br>*Ctegorical fetures are converted into numerical*"
   ]
  },
  {
   "cell_type": "markdown",
   "metadata": {},
   "source": [
    "###### Handling Cardinality"
   ]
  },
  {
   "cell_type": "code",
   "execution_count": 390,
   "metadata": {},
   "outputs": [],
   "source": [
    "#droping Loan_ID column"
   ]
  },
  {
   "cell_type": "code",
   "execution_count": 391,
   "metadata": {},
   "outputs": [],
   "source": [
    "df.drop('Loan_ID',inplace=True,axis=1)"
   ]
  },
  {
   "cell_type": "code",
   "execution_count": 392,
   "metadata": {},
   "outputs": [],
   "source": [
    "#Recheck Cardinality"
   ]
  },
  {
   "cell_type": "code",
   "execution_count": 393,
   "metadata": {},
   "outputs": [
    {
     "data": {
      "text/plain": [
       "Text(0.5, 1.0, 'Cardinality')"
      ]
     },
     "execution_count": 393,
     "metadata": {},
     "output_type": "execute_result"
    },
    {
     "data": {
      "image/png": "[encoded data removed]",
      "text/plain": [
       "<Figure size 864x288 with 1 Axes>"
      ]
     },
     "metadata": {
      "needs_background": "light"
     },
     "output_type": "display_data"
    }
   ],
   "source": [
    "categorical_feature=['Gender','Married','Dependents','Education','Self_Employed','Property_Area','Loan_Status']\n",
    "df[categorical_feature].nunique().plot.bar(figsize=(12,4),color='#17becf')\n",
    "plt.ylabel('Number of unique categories')\n",
    "plt.xlabel('Categorical Variables')\n",
    "plt.title('Cardinality')"
   ]
  },
  {
   "cell_type": "markdown",
   "metadata": {},
   "source": [
    "*Observation :*<br>*Cardinality is removed in categorical features*"
   ]
  },
  {
   "cell_type": "markdown",
   "metadata": {},
   "source": [
    "###### Handling Skewness"
   ]
  },
  {
   "cell_type": "code",
   "execution_count": 394,
   "metadata": {},
   "outputs": [],
   "source": [
    "#Skweness before removing"
   ]
  },
  {
   "cell_type": "code",
   "execution_count": 395,
   "metadata": {},
   "outputs": [
    {
     "name": "stdout",
     "output_type": "stream",
     "text": [
      "ApplicantIncome      1.033473\n",
      "CoapplicantIncome    1.025487\n",
      "LoanAmount           0.688285\n",
      "Loan_Amount_Term    -2.431222\n",
      "dtype: float64\n"
     ]
    }
   ],
   "source": [
    "print(df[['ApplicantIncome','CoapplicantIncome','LoanAmount','Loan_Amount_Term']].skew())\n",
    "#df.skew().plot(kind='barh',color='#9467bd')"
   ]
  },
  {
   "cell_type": "code",
   "execution_count": 396,
   "metadata": {},
   "outputs": [],
   "source": [
    "#Removing Skweness"
   ]
  },
  {
   "cell_type": "code",
   "execution_count": 397,
   "metadata": {},
   "outputs": [],
   "source": [
    "df[['ApplicantIncome']]= np.sqrt(df[['ApplicantIncome']])\n",
    "df[['CoapplicantIncome']]= np.sqrt(df[['CoapplicantIncome']])\n",
    "df[['LoanAmount']]= np.sqrt(df[['LoanAmount']])\n",
    "#df[['Loan_Amount_Term']]= np.sqrt(df[['Loan_Amount_Term']])\n"
   ]
  },
  {
   "cell_type": "code",
   "execution_count": 398,
   "metadata": {},
   "outputs": [],
   "source": [
    "#Recheck for Skewness"
   ]
  },
  {
   "cell_type": "code",
   "execution_count": 399,
   "metadata": {},
   "outputs": [
    {
     "name": "stdout",
     "output_type": "stream",
     "text": [
      "ApplicantIncome      0.590590\n",
      "CoapplicantIncome    0.204997\n",
      "LoanAmount           0.076574\n",
      "Loan_Amount_Term    -2.431222\n",
      "dtype: float64\n"
     ]
    }
   ],
   "source": [
    "print(df[['ApplicantIncome','CoapplicantIncome','LoanAmount','Loan_Amount_Term']].skew())\n",
    "#df.skew().plot(kind='barh',color='#9467bd')"
   ]
  },
  {
   "cell_type": "code",
   "execution_count": 400,
   "metadata": {},
   "outputs": [
    {
     "data": {
      "text/plain": [
       "(523, 12)"
      ]
     },
     "execution_count": 400,
     "metadata": {},
     "output_type": "execute_result"
    }
   ],
   "source": [
    "df.shape"
   ]
  },
  {
   "cell_type": "code",
   "execution_count": 401,
   "metadata": {},
   "outputs": [
    {
     "data": {
      "text/html": [
       "<div>\n",
       "<style scoped>\n",
       "    .dataframe tbody tr th:only-of-type {\n",
       "        vertical-align: middle;\n",
       "    }\n",
       "\n",
       "    .dataframe tbody tr th {\n",
       "        vertical-align: top;\n",
       "    }\n",
       "\n",
       "    .dataframe thead th {\n",
       "        text-align: right;\n",
       "    }\n",
       "</style>\n",
       "<table border=\"1\" class=\"dataframe\">\n",
       "  <thead>\n",
       "    <tr style=\"text-align: right;\">\n",
       "      <th></th>\n",
       "      <th>Gender</th>\n",
       "      <th>Married</th>\n",
       "      <th>Dependents</th>\n",
       "      <th>Education</th>\n",
       "      <th>Self_Employed</th>\n",
       "      <th>ApplicantIncome</th>\n",
       "      <th>CoapplicantIncome</th>\n",
       "      <th>LoanAmount</th>\n",
       "      <th>Loan_Amount_Term</th>\n",
       "      <th>Credit_History</th>\n",
       "      <th>Property_Area</th>\n",
       "      <th>Loan_Status</th>\n",
       "    </tr>\n",
       "  </thead>\n",
       "  <tbody>\n",
       "    <tr>\n",
       "      <th>1</th>\n",
       "      <td>1</td>\n",
       "      <td>1</td>\n",
       "      <td>1</td>\n",
       "      <td>0</td>\n",
       "      <td>0</td>\n",
       "      <td>67.697858</td>\n",
       "      <td>38.832976</td>\n",
       "      <td>11.313708</td>\n",
       "      <td>360.0</td>\n",
       "      <td>1.0</td>\n",
       "      <td>0</td>\n",
       "      <td>0</td>\n",
       "    </tr>\n",
       "    <tr>\n",
       "      <th>2</th>\n",
       "      <td>1</td>\n",
       "      <td>1</td>\n",
       "      <td>0</td>\n",
       "      <td>0</td>\n",
       "      <td>1</td>\n",
       "      <td>54.772256</td>\n",
       "      <td>0.000000</td>\n",
       "      <td>8.124038</td>\n",
       "      <td>360.0</td>\n",
       "      <td>1.0</td>\n",
       "      <td>2</td>\n",
       "      <td>1</td>\n",
       "    </tr>\n",
       "    <tr>\n",
       "      <th>3</th>\n",
       "      <td>1</td>\n",
       "      <td>1</td>\n",
       "      <td>0</td>\n",
       "      <td>1</td>\n",
       "      <td>0</td>\n",
       "      <td>50.823223</td>\n",
       "      <td>48.559242</td>\n",
       "      <td>10.954451</td>\n",
       "      <td>360.0</td>\n",
       "      <td>1.0</td>\n",
       "      <td>2</td>\n",
       "      <td>1</td>\n",
       "    </tr>\n",
       "    <tr>\n",
       "      <th>4</th>\n",
       "      <td>1</td>\n",
       "      <td>0</td>\n",
       "      <td>0</td>\n",
       "      <td>0</td>\n",
       "      <td>0</td>\n",
       "      <td>77.459667</td>\n",
       "      <td>0.000000</td>\n",
       "      <td>11.874342</td>\n",
       "      <td>360.0</td>\n",
       "      <td>1.0</td>\n",
       "      <td>2</td>\n",
       "      <td>1</td>\n",
       "    </tr>\n",
       "    <tr>\n",
       "      <th>5</th>\n",
       "      <td>1</td>\n",
       "      <td>1</td>\n",
       "      <td>2</td>\n",
       "      <td>0</td>\n",
       "      <td>1</td>\n",
       "      <td>73.600272</td>\n",
       "      <td>64.776539</td>\n",
       "      <td>16.340135</td>\n",
       "      <td>360.0</td>\n",
       "      <td>1.0</td>\n",
       "      <td>2</td>\n",
       "      <td>1</td>\n",
       "    </tr>\n",
       "  </tbody>\n",
       "</table>\n",
       "</div>"
      ],
      "text/plain": [
       "   Gender  Married  Dependents  Education  Self_Employed  ApplicantIncome  \\\n",
       "1       1        1           1          0              0        67.697858   \n",
       "2       1        1           0          0              1        54.772256   \n",
       "3       1        1           0          1              0        50.823223   \n",
       "4       1        0           0          0              0        77.459667   \n",
       "5       1        1           2          0              1        73.600272   \n",
       "\n",
       "   CoapplicantIncome  LoanAmount  Loan_Amount_Term  Credit_History  \\\n",
       "1          38.832976   11.313708             360.0             1.0   \n",
       "2           0.000000    8.124038             360.0             1.0   \n",
       "3          48.559242   10.954451             360.0             1.0   \n",
       "4           0.000000   11.874342             360.0             1.0   \n",
       "5          64.776539   16.340135             360.0             1.0   \n",
       "\n",
       "   Property_Area  Loan_Status  \n",
       "1              0            0  \n",
       "2              2            1  \n",
       "3              2            1  \n",
       "4              2            1  \n",
       "5              2            1  "
      ]
     },
     "execution_count": 401,
     "metadata": {},
     "output_type": "execute_result"
    }
   ],
   "source": [
    "df.head()"
   ]
  },
  {
   "cell_type": "markdown",
   "metadata": {},
   "source": [
    "*Observation :*<br>*Skweness is removed*"
   ]
  },
  {
   "cell_type": "markdown",
   "metadata": {},
   "source": [
    "###### Feature Selection"
   ]
  },
  {
   "cell_type": "code",
   "execution_count": 402,
   "metadata": {},
   "outputs": [
    {
     "data": {
      "image/png": "[encoded data removed]",
      "text/plain": [
       "<Figure size 1440x360 with 2 Axes>"
      ]
     },
     "metadata": {
      "needs_background": "light"
     },
     "output_type": "display_data"
    }
   ],
   "source": [
    "# Variable Correlation\n",
    "pcorrel = df.corr(method='pearson').round(3)\n",
    "plt.figure(figsize=(20,5)) \n",
    "sns.heatmap(pcorrel,xticklabels=pcorrel.columns,yticklabels=pcorrel.columns,cmap=\"YlGnBu\",annot=True,linewidth=0.5)\n",
    "plt.title(\"Pearson Correlation Between Variables\")\n",
    "plt.xticks(fontsize=10)\n",
    "plt.yticks(fontsize=8)\n",
    "plt.show()        \n",
    "    "
   ]
  },
  {
   "cell_type": "markdown",
   "metadata": {},
   "source": [
    "###### split target and feature variables"
   ]
  },
  {
   "cell_type": "code",
   "execution_count": 403,
   "metadata": {},
   "outputs": [
    {
     "name": "stdout",
     "output_type": "stream",
     "text": [
      "y_train : (523, 1)\n",
      "X_train : (523, 11)\n"
     ]
    }
   ],
   "source": [
    "y_train=df[['Loan_Status']]\n",
    "X_train=df.drop(['Loan_Status'],axis=1)\n",
    "\n",
    "print(\"y_train :\",y_train.shape)\n",
    "print(\"X_train :\",X_train.shape)"
   ]
  },
  {
   "cell_type": "markdown",
   "metadata": {},
   "source": [
    "*Observation :*<br>*target and prediction features are seprated*"
   ]
  },
  {
   "cell_type": "code",
   "execution_count": 404,
   "metadata": {},
   "outputs": [
    {
     "name": "stdout",
     "output_type": "stream",
     "text": [
      "[0.02448524 0.02537622 0.06794287 0.02109017 0.02458164 0.18055268\n",
      " 0.09919716 0.18530603 0.05488715 0.25594533 0.06063551]\n"
     ]
    },
    {
     "data": {
      "image/png": "[encoded data removed]",
      "text/plain": [
       "<Figure size 432x288 with 1 Axes>"
      ]
     },
     "metadata": {
      "needs_background": "light"
     },
     "output_type": "display_data"
    }
   ],
   "source": [
    "from sklearn.ensemble import ExtraTreesClassifier\n",
    "import matplotlib.pyplot as plt\n",
    "model = ExtraTreesClassifier()\n",
    "model.fit(X_train,y_train)\n",
    "print(model.feature_importances_) \n",
    "feat_importances = pd.Series(model.feature_importances_, index=X_train.columns)\n",
    "feat_importances.nlargest(11).plot(kind='barh')\n",
    "plt.show()"
   ]
  },
  {
   "cell_type": "code",
   "execution_count": 405,
   "metadata": {},
   "outputs": [],
   "source": [
    "#droping features"
   ]
  },
  {
   "cell_type": "code",
   "execution_count": 406,
   "metadata": {},
   "outputs": [],
   "source": [
    "X_train.drop(['Education','Self_Employed','Married','Loan_Amount_Term'],inplace=True,axis=1)"
   ]
  },
  {
   "cell_type": "code",
   "execution_count": 407,
   "metadata": {},
   "outputs": [
    {
     "data": {
      "text/plain": [
       "(523, 7)"
      ]
     },
     "execution_count": 407,
     "metadata": {},
     "output_type": "execute_result"
    }
   ],
   "source": [
    "X_train.shape"
   ]
  },
  {
   "cell_type": "code",
   "execution_count": 408,
   "metadata": {},
   "outputs": [],
   "source": [
    "#selected features"
   ]
  },
  {
   "cell_type": "code",
   "execution_count": 409,
   "metadata": {},
   "outputs": [
    {
     "data": {
      "text/plain": [
       "Index(['Gender', 'Dependents', 'ApplicantIncome', 'CoapplicantIncome',\n",
       "       'LoanAmount', 'Credit_History', 'Property_Area'],\n",
       "      dtype='object')"
      ]
     },
     "execution_count": 409,
     "metadata": {},
     "output_type": "execute_result"
    }
   ],
   "source": [
    "X_train.columns"
   ]
  },
  {
   "cell_type": "code",
   "execution_count": 410,
   "metadata": {},
   "outputs": [
    {
     "data": {
      "text/plain": [
       "Index(['Loan_Status'], dtype='object')"
      ]
     },
     "execution_count": 410,
     "metadata": {},
     "output_type": "execute_result"
    }
   ],
   "source": [
    "y_train.columns"
   ]
  },
  {
   "cell_type": "markdown",
   "metadata": {},
   "source": [
    "###### Normilization of data"
   ]
  },
  {
   "cell_type": "code",
   "execution_count": 411,
   "metadata": {},
   "outputs": [
    {
     "data": {
      "text/plain": [
       "array([[ 0.47415647,  0.79857116,  0.19988111, ..., -0.06004595,\n",
       "         0.39309717, -1.34844424],\n",
       "       [ 0.47415647, -0.85008679, -0.59777291, ..., -1.35177616,\n",
       "         0.39309717,  1.21769269],\n",
       "       [ 0.47415647, -0.85008679, -0.86935868, ..., -0.20392308,\n",
       "         0.39309717,  1.21769269],\n",
       "       ...,\n",
       "       [ 0.47415647,  0.79857116,  1.33427215, ...,  1.75030137,\n",
       "         0.39309717,  1.21769269],\n",
       "       [ 0.47415647,  1.28746358,  1.20503797, ...,  0.87693755,\n",
       "         0.39309717,  1.21769269],\n",
       "       [-2.10900846, -0.85008679,  0.19988111, ...,  0.02742216,\n",
       "        -2.54390027,  0.02630573]])"
      ]
     },
     "execution_count": 411,
     "metadata": {},
     "output_type": "execute_result"
    }
   ],
   "source": [
    "from sklearn.preprocessing import power_transform\n",
    "X=power_transform(X_train,method='yeo-johnson')\n",
    "X"
   ]
  },
  {
   "cell_type": "markdown",
   "metadata": {},
   "source": [
    "###### Splitting Dataset into train and test set"
   ]
  },
  {
   "cell_type": "code",
   "execution_count": 230,
   "metadata": {},
   "outputs": [
    {
     "name": "stdout",
     "output_type": "stream",
     "text": [
      "(392, 7)\n",
      "(392, 1)\n",
      "(131, 7)\n",
      "(131, 1)\n"
     ]
    }
   ],
   "source": [
    "from sklearn.model_selection import train_test_split\n",
    "x_train, x_test, y_train, y_test = train_test_split(X, y_train, test_size = 0.25, random_state = 44)\n",
    "print(x_train.shape)\n",
    "print(y_train.shape)\n",
    "print(x_test.shape)\n",
    "print(y_test.shape)"
   ]
  },
  {
   "cell_type": "markdown",
   "metadata": {},
   "source": [
    "###### Sandardization of data"
   ]
  },
  {
   "cell_type": "code",
   "execution_count": 231,
   "metadata": {},
   "outputs": [
    {
     "name": "stdout",
     "output_type": "stream",
     "text": [
      "[[-2.10818511 -0.85437392 -1.16326729 ... -1.24198413  0.41249152\n",
      "   0.0271109 ]\n",
      " [-2.10818511  0.7904069   0.22941839 ...  0.03941795  0.41249152\n",
      "   1.20700518]\n",
      " [-2.10818511 -0.85437392 -1.18571652 ...  0.07277798 -2.42429226\n",
      "   0.0271109 ]\n",
      " ...\n",
      " [-2.10818511 -0.85437392  1.78799372 ...  1.75674743  0.41249152\n",
      "   1.20700518]\n",
      " [-2.10818511 -0.85437392 -0.44685398 ... -1.01187765  0.41249152\n",
      "   1.20700518]\n",
      " [ 0.47434165 -0.85437392 -0.25784475 ... -0.2376651  -2.42429226\n",
      "  -1.33437759]]\n",
      "[[ 4.73602223e-01 -8.37366186e-01  1.48691394e+00 -1.14468587e+00\n",
      "   5.85014396e-01  3.31917899e-01  2.38143525e-02]\n",
      " [ 4.73602223e-01  1.54518359e+00 -5.20478251e-01 -1.14468587e+00\n",
      "  -1.19152625e+00  3.31917899e-01  2.38143525e-02]\n",
      " [ 4.73602223e-01  8.23458996e-01  1.93222517e+00 -1.14468587e+00\n",
      "   2.20373166e+00  3.31917899e-01  1.25171653e+00]\n",
      " [ 4.73602223e-01  8.23458996e-01  1.33768204e+00 -1.14468587e+00\n",
      "   1.80471779e+00  3.31917899e-01  1.25171653e+00]\n",
      " [-2.11147658e+00 -8.37366186e-01 -5.24176757e-01  9.09031145e-01\n",
      "   4.81329909e-01  3.31917899e-01  2.38143525e-02]\n",
      " [-2.11147658e+00 -8.37366186e-01  1.89383740e+00  8.05764612e-01\n",
      "   1.59505970e+00  3.31917899e-01 -1.39307079e+00]\n",
      " [ 4.73602223e-01  1.54518359e+00  9.15550918e-01 -1.14468587e+00\n",
      "   4.10989436e-01  3.31917899e-01  2.38143525e-02]\n",
      " [ 4.73602223e-01 -8.37366186e-01  5.21801623e-01 -1.14468587e+00\n",
      "   1.56466516e-01  3.31917899e-01  1.25171653e+00]\n",
      " [-2.11147658e+00 -8.37366186e-01  1.14944565e+00 -1.14468587e+00\n",
      "   1.93666503e-01  3.31917899e-01 -1.39307079e+00]\n",
      " [ 4.73602223e-01  1.31595948e+00  1.27967058e+00 -1.14468587e+00\n",
      "   1.02741609e+00  3.31917899e-01  1.25171653e+00]\n",
      " [ 4.73602223e-01 -8.37366186e-01 -2.30198378e-01  1.12417965e+00\n",
      "   7.86256727e-01  3.31917899e-01 -1.39307079e+00]\n",
      " [ 4.73602223e-01 -8.37366186e-01 -1.10979812e+00  7.61259735e-01\n",
      "  -5.27849570e-01 -3.01279324e+00  1.25171653e+00]\n",
      " [-2.11147658e+00 -8.37366186e-01 -1.39918692e-01 -1.14468587e+00\n",
      "  -3.36023183e-01  3.31917899e-01  2.38143525e-02]\n",
      " [ 4.73602223e-01  1.54518359e+00  1.04890454e-01  1.60230480e-01\n",
      "  -7.32118046e-02  3.31917899e-01  2.38143525e-02]\n",
      " [ 4.73602223e-01 -8.37366186e-01 -1.46557023e+00  8.40001749e-01\n",
      "  -1.87974482e+00  3.31917899e-01  2.38143525e-02]\n",
      " [ 4.73602223e-01  8.23458996e-01  1.24480133e-01  8.29621486e-01\n",
      "  -2.12769692e-01  3.31917899e-01  1.25171653e+00]\n",
      " [-2.11147658e+00 -8.37366186e-01 -9.74025570e-01 -1.14468587e+00\n",
      "  -1.69342400e+00  3.31917899e-01 -1.39307079e+00]\n",
      " [ 4.73602223e-01  1.31595948e+00  5.51057501e-01 -1.14468587e+00\n",
      "   4.30590472e-02  3.31917899e-01  1.25171653e+00]\n",
      " [ 4.73602223e-01 -8.37366186e-01  1.93222517e+00 -1.14468587e+00\n",
      "   1.56466516e-01  3.31917899e-01  1.25171653e+00]\n",
      " [ 4.73602223e-01  8.23458996e-01 -1.23839234e+00 -1.14468587e+00\n",
      "  -1.40538720e+00 -3.01279324e+00 -1.39307079e+00]\n",
      " [ 4.73602223e-01  1.31595948e+00  7.76271816e-01 -1.14468587e+00\n",
      "   1.30338628e+00  3.31917899e-01  2.38143525e-02]\n",
      " [ 4.73602223e-01 -8.37366186e-01  1.62715785e-01 -1.14468587e+00\n",
      "  -1.52421986e-01  3.31917899e-01 -1.39307079e+00]\n",
      " [-2.11147658e+00 -8.37366186e-01 -3.75586212e-01  9.79186284e-01\n",
      "  -2.94547799e-01  3.31917899e-01  2.38143525e-02]\n",
      " [ 4.73602223e-01 -8.37366186e-01 -1.05650517e+00  8.91767684e-01\n",
      "  -2.53466800e-01  3.31917899e-01  2.38143525e-02]\n",
      " [ 4.73602223e-01 -8.37366186e-01 -1.17520705e+00  8.70728809e-01\n",
      "  -3.56912178e-01  3.31917899e-01 -1.39307079e+00]\n",
      " [ 4.73602223e-01 -8.37366186e-01  9.46694122e-01 -1.14468587e+00\n",
      "  -4.62927968e-01 -3.01279324e+00 -1.39307079e+00]\n",
      " [ 4.73602223e-01  8.23458996e-01  1.06714164e+00 -1.14468587e+00\n",
      "   1.22808863e+00  3.31917899e-01  2.38143525e-02]\n",
      " [ 4.73602223e-01 -8.37366186e-01  2.22710173e-01 -1.14468587e+00\n",
      "  -1.21755354e+00  3.31917899e-01  2.38143525e-02]\n",
      " [ 4.73602223e-01 -8.37366186e-01  1.37838925e+00 -1.14468587e+00\n",
      "   2.20373166e+00  3.31917899e-01  1.25171653e+00]\n",
      " [ 4.73602223e-01 -8.37366186e-01 -9.17285980e-01  8.91767684e-01\n",
      "  -4.84455946e-01  3.31917899e-01 -1.39307079e+00]\n",
      " [ 4.73602223e-01  1.31595948e+00  1.48664904e+00  1.01894547e+00\n",
      "   6.69823947e-01  3.31917899e-01 -1.39307079e+00]\n",
      " [ 4.73602223e-01 -8.37366186e-01  1.67792413e+00 -1.14468587e+00\n",
      "   1.63758257e+00  3.31917899e-01  2.38143525e-02]\n",
      " [ 4.73602223e-01  1.31595948e+00 -8.14361448e-01 -1.14468587e+00\n",
      "  -4.41510354e-01 -3.01279324e+00  2.38143525e-02]\n",
      " [ 4.73602223e-01  1.31595948e+00  3.74096859e-02  7.56591835e-01\n",
      "   2.38849320e-02  3.31917899e-01 -1.39307079e+00]\n",
      " [-2.11147658e+00 -8.37366186e-01 -6.18686129e-01  5.17978543e-01\n",
      "  -5.27849570e-01  3.31917899e-01  2.38143525e-02]\n",
      " [ 4.73602223e-01  8.23458996e-01 -2.61705270e+00  1.00304100e+00\n",
      "  -3.56912178e-01  3.31917899e-01  1.25171653e+00]\n",
      " [ 4.73602223e-01 -8.37366186e-01  1.93222517e+00 -1.14468587e+00\n",
      "   2.20373166e+00  3.31917899e-01  2.38143525e-02]\n",
      " [ 4.73602223e-01  8.23458996e-01  1.93222517e+00  1.08581725e+00\n",
      "   5.85014396e-01 -3.01279324e+00  1.25171653e+00]\n",
      " [-2.11147658e+00 -8.37366186e-01 -6.10949158e-02  9.07866892e-01\n",
      "   3.03551216e-01  3.31917899e-01  2.38143525e-02]\n",
      " [ 4.73602223e-01 -8.37366186e-01  1.48664904e+00  1.07674915e+00\n",
      "   1.02741609e+00  3.31917899e-01 -1.39307079e+00]\n",
      " [ 4.73602223e-01 -8.37366186e-01 -3.81368610e-01  1.13344264e+00\n",
      "  -9.28834373e-02  3.31917899e-01  2.38143525e-02]\n",
      " [ 4.73602223e-01 -8.37366186e-01  1.93222517e+00  1.22579401e+00\n",
      "   2.20373166e+00  3.31917899e-01  1.25171653e+00]\n",
      " [ 4.73602223e-01  1.31595948e+00  1.30372104e+00 -1.14468587e+00\n",
      "   9.95881362e-01  3.31917899e-01 -1.39307079e+00]\n",
      " [ 4.73602223e-01 -8.37366186e-01 -1.46698109e-01 -1.14468587e+00\n",
      "  -3.56912178e-01  3.31917899e-01 -1.39307079e+00]\n",
      " [ 4.73602223e-01 -8.37366186e-01  3.47174410e-01 -1.14468587e+00\n",
      "   1.00108188e-01  3.31917899e-01 -1.39307079e+00]\n",
      " [ 4.73602223e-01  1.31595948e+00 -3.01170087e-01 -1.14468587e+00\n",
      "  -1.03919879e+00 -3.01279324e+00 -1.39307079e+00]\n",
      " [ 4.73602223e-01 -8.37366186e-01  1.73621444e+00 -1.14468587e+00\n",
      "  -1.16568785e+00  3.31917899e-01  1.25171653e+00]\n",
      " [ 4.73602223e-01  1.54518359e+00 -3.46893926e-01  1.04594646e+00\n",
      "   4.10989436e-01  3.31917899e-01 -1.39307079e+00]\n",
      " [ 4.73602223e-01  8.23458996e-01 -3.56035935e-01  8.78091851e-01\n",
      "   6.19107702e-01  3.31917899e-01  2.38143525e-02]\n",
      " [ 4.73602223e-01 -8.37366186e-01 -5.20478251e-01  1.00292888e+00\n",
      "   1.75103174e-01  3.31917899e-01  1.25171653e+00]\n",
      " [ 4.73602223e-01  8.23458996e-01  5.09603723e-01  7.56591835e-01\n",
      "   6.02089655e-01 -3.01279324e+00  2.38143525e-02]\n",
      " [ 4.73602223e-01 -8.37366186e-01 -4.75961771e-01  7.53670405e-01\n",
      "   1.93666503e-01  3.31917899e-01  2.38143525e-02]\n",
      " [-2.11147658e+00 -8.37366186e-01  2.15126840e-01 -1.14468587e+00\n",
      "  -9.41046449e-01  3.31917899e-01 -1.39307079e+00]\n",
      " [ 4.73602223e-01  1.31595948e+00 -2.30740127e-01  2.27528649e-01\n",
      "  -3.98999872e-01  3.31917899e-01  2.38143525e-02]\n",
      " [ 4.73602223e-01  1.31595948e+00 -9.79326700e-01  1.14760716e+00\n",
      "   8.51642076e-01  3.31917899e-01 -1.39307079e+00]\n",
      " [-2.11147658e+00 -8.37366186e-01  1.08634543e-01 -1.14468587e+00\n",
      "   4.81329909e-01  3.31917899e-01 -1.39307079e+00]\n",
      " [ 4.73602223e-01  1.31595948e+00  8.62973436e-01  7.26205071e-01\n",
      "  -3.98999872e-01  3.31917899e-01 -1.39307079e+00]\n",
      " [ 4.73602223e-01 -8.37366186e-01 -1.27809019e+00  7.90874989e-01\n",
      "  -6.60857847e-01  3.31917899e-01  2.38143525e-02]\n",
      " [ 4.73602223e-01 -8.37366186e-01 -6.56986471e-01  9.89102372e-01\n",
      "   6.21536775e-02  3.31917899e-01  2.38143525e-02]\n",
      " [ 4.73602223e-01 -8.37366186e-01 -3.29285603e-01  8.59390430e-01\n",
      "  -2.33070897e-01  3.31917899e-01 -1.39307079e+00]\n",
      " [ 4.73602223e-01  1.31595948e+00 -1.13572359e+00  6.39280934e-01\n",
      "  -1.08926814e+00  3.31917899e-01  1.25171653e+00]\n",
      " [ 4.73602223e-01 -8.37366186e-01 -9.79326700e-01  1.08094795e+00\n",
      "  -1.52421986e-01  3.31917899e-01  1.25171653e+00]\n",
      " [ 4.73602223e-01 -8.37366186e-01 -6.77378167e-01  9.26333857e-01\n",
      "  -3.36023183e-01  3.31917899e-01  2.38143525e-02]\n",
      " [-2.11147658e+00 -8.37366186e-01  4.70478827e-04 -1.14468587e+00\n",
      "  -2.53466800e-01  3.31917899e-01  2.38143525e-02]\n",
      " [-2.11147658e+00  8.23458996e-01 -7.11339335e-01  7.84530649e-01\n",
      "  -7.98431266e-01  3.31917899e-01  1.25171653e+00]\n",
      " [ 4.73602223e-01 -8.37366186e-01 -1.33678502e-01 -1.14468587e+00\n",
      "  -1.14003450e+00  3.31917899e-01  2.38143525e-02]\n",
      " [ 4.73602223e-01  1.54518359e+00 -1.37836742e-01  6.38397183e-01\n",
      "  -5.71704798e-01  3.31917899e-01  2.38143525e-02]\n",
      " [ 4.73602223e-01  1.31595948e+00  4.11760074e-01  8.78724983e-01\n",
      "   9.95881362e-01  3.31917899e-01 -1.39307079e+00]\n",
      " [ 4.73602223e-01  1.31595948e+00  7.94590787e-02  1.02910852e+00\n",
      "   1.00108188e-01  3.31917899e-01  1.25171653e+00]\n",
      " [ 4.73602223e-01 -8.37366186e-01 -3.74431506e-01 -1.14468587e+00\n",
      "  -1.47055682e-02  3.31917899e-01  2.38143525e-02]\n",
      " [ 4.73602223e-01 -8.37366186e-01  5.61116540e-01 -1.14468587e+00\n",
      "   7.20044302e-01  3.31917899e-01  1.25171653e+00]\n",
      " [ 4.73602223e-01  8.23458996e-01  9.81993186e-01 -1.14468587e+00\n",
      "   1.75103174e-01  3.31917899e-01  1.25171653e+00]\n",
      " [ 4.73602223e-01  1.54518359e+00  1.77931262e+00 -1.14468587e+00\n",
      "   2.20373166e+00  3.31917899e-01 -1.39307079e+00]\n",
      " [ 4.73602223e-01 -8.37366186e-01 -8.90187739e-01  9.00205694e-01\n",
      "   4.10989436e-01  3.31917899e-01  2.38143525e-02]\n",
      " [ 4.73602223e-01  8.23458996e-01 -6.98626200e-01 -1.14468587e+00\n",
      "  -6.83457806e-01  3.31917899e-01  2.38143525e-02]\n",
      " [ 4.73602223e-01 -8.37366186e-01 -9.81228312e-02  5.74929166e-01\n",
      "  -3.15235519e-01  3.31917899e-01  2.38143525e-02]\n",
      " [ 4.73602223e-01  1.31595948e+00  1.93222517e+00  6.80821038e-01\n",
      "   1.59505970e+00  3.31917899e-01  1.25171653e+00]\n",
      " [ 4.73602223e-01  8.23458996e-01 -3.46893926e-01  7.03481099e-01\n",
      "   4.30590472e-02  3.31917899e-01 -1.39307079e+00]\n",
      " [ 4.73602223e-01  1.31595948e+00 -5.32830434e-01  7.84530649e-01\n",
      "   1.18969878e-01  3.31917899e-01  1.25171653e+00]\n",
      " [ 4.73602223e-01  1.31595948e+00  7.53212538e-01 -1.14468587e+00\n",
      "   1.00108188e-01  3.31917899e-01  2.38143525e-02]\n",
      " [-2.11147658e+00 -8.37366186e-01 -1.07385979e+00 -1.14468587e+00\n",
      "  -3.77452191e+00  3.31917899e-01  1.25171653e+00]\n",
      " [ 4.73602223e-01 -8.37366186e-01 -8.20698706e-01 -1.14468587e+00\n",
      "  -1.57512774e+00  3.31917899e-01  1.25171653e+00]\n",
      " [ 4.73602223e-01  8.23458996e-01 -5.96273246e-01  6.52934051e-01\n",
      "  -5.71704798e-01  3.31917899e-01  1.25171653e+00]\n",
      " [-2.11147658e+00 -8.37366186e-01  7.76271816e-01 -1.14468587e+00\n",
      "   5.16130086e-01  3.31917899e-01  1.25171653e+00]\n",
      " [ 4.73602223e-01  8.23458996e-01 -3.75008785e-01  8.21723704e-01\n",
      "   1.01167164e+00  3.31917899e-01  1.25171653e+00]\n",
      " [-2.11147658e+00 -8.37366186e-01 -9.04793699e-01  8.15540173e-01\n",
      "  -5.93809941e-01  3.31917899e-01  2.38143525e-02]\n",
      " [ 4.73602223e-01 -8.37366186e-01  3.46329416e-01 -1.14468587e+00\n",
      "  -1.94450594e+00  3.31917899e-01 -1.39307079e+00]\n",
      " [ 4.73602223e-01 -8.37366186e-01 -6.52407704e-01  1.22318032e+00\n",
      "   4.98760324e-01  3.31917899e-01  1.25171653e+00]\n",
      " [ 4.73602223e-01  8.23458996e-01  5.92948147e-01  7.16290453e-01\n",
      "   7.53255761e-01  3.31917899e-01 -1.39307079e+00]\n",
      " [ 4.73602223e-01 -8.37366186e-01 -1.91526416e-01  8.06153138e-01\n",
      "  -3.56912178e-01  3.31917899e-01  2.38143525e-02]\n",
      " [ 4.73602223e-01 -8.37366186e-01 -8.56959449e-01  1.12409879e+00\n",
      "  -1.32487424e-01  3.31917899e-01 -1.39307079e+00]\n",
      " [ 4.73602223e-01 -8.37366186e-01 -1.24781838e+00  9.25640847e-01\n",
      "  -2.53466800e-01  3.31917899e-01  1.25171653e+00]\n",
      " [ 4.73602223e-01 -8.37366186e-01 -6.29654332e-01  1.04474747e+00\n",
      "  -1.69342400e+00  3.31917899e-01  2.38143525e-02]\n",
      " [ 4.73602223e-01 -8.37366186e-01 -2.38881856e-01  1.18130614e+00\n",
      "   1.02741609e+00  3.31917899e-01  2.38143525e-02]\n",
      " [ 4.73602223e-01 -8.37366186e-01 -4.04647370e-01  8.96764124e-01\n",
      "   1.37755699e-01  3.31917899e-01 -1.39307079e+00]\n",
      " [ 4.73602223e-01  1.31595948e+00 -1.03241863e-01 -1.14468587e+00\n",
      "  -7.32118046e-02  3.31917899e-01  2.38143525e-02]\n",
      " [-2.11147658e+00  1.31595948e+00 -2.06610147e+00  8.45253553e-01\n",
      "   7.03358433e-01  3.31917899e-01  1.25171653e+00]\n",
      " [ 4.73602223e-01  1.31595948e+00 -5.29117619e-01  4.10308118e-01\n",
      "  -3.98999872e-01  3.31917899e-01  1.25171653e+00]\n",
      " [-2.11147658e+00  8.23458996e-01  2.25380799e-01 -1.14468587e+00\n",
      "  -1.01441713e+00  3.31917899e-01 -1.39307079e+00]\n",
      " [ 4.73602223e-01 -8.37366186e-01 -1.41758561e+00  6.42793020e-01\n",
      "  -1.87974482e+00  3.31917899e-01  2.38143525e-02]\n",
      " [ 4.73602223e-01 -8.37366186e-01  8.72154898e-01 -1.14468587e+00\n",
      "  -1.92561944e-01 -3.01279324e+00 -1.39307079e+00]\n",
      " [ 4.73602223e-01 -8.37366186e-01 -1.58904094e+00  7.04263288e-01\n",
      "  -1.97743135e+00  3.31917899e-01  1.25171653e+00]\n",
      " [ 4.73602223e-01 -8.37366186e-01 -1.08338501e+00  9.43372039e-01\n",
      "   1.56466516e-01  3.31917899e-01  2.38143525e-02]\n",
      " [-2.11147658e+00 -8.37366186e-01 -9.91492320e-01  9.11781204e-01\n",
      "   1.75103174e-01  3.31917899e-01  2.38143525e-02]\n",
      " [ 4.73602223e-01 -8.37366186e-01 -7.40383845e-01  8.41058366e-01\n",
      "  -3.41239082e-02  3.31917899e-01 -1.39307079e+00]\n",
      " [-2.11147658e+00 -8.37366186e-01 -1.20867380e+00 -1.14468587e+00\n",
      "  -1.40538720e+00  3.31917899e-01 -1.39307079e+00]\n",
      " [ 4.73602223e-01 -8.37366186e-01 -6.29654332e-01  8.05764612e-01\n",
      "  -5.71704798e-01 -3.01279324e+00  1.25171653e+00]\n",
      " [-2.11147658e+00 -8.37366186e-01  3.94432705e-01  9.44690460e-01\n",
      "   4.28668631e-01  3.31917899e-01 -1.39307079e+00]\n",
      " [ 4.73602223e-01  1.31595948e+00 -2.08096639e-01 -1.14468587e+00\n",
      "  -1.52421986e-01  3.31917899e-01  2.38143525e-02]\n",
      " [ 4.73602223e-01 -8.37366186e-01 -1.34174979e+00  8.98114768e-01\n",
      "   1.18969878e-01  3.31917899e-01  2.38143525e-02]\n",
      " [ 4.73602223e-01  1.31595948e+00 -4.59717854e-01  8.34491660e-01\n",
      "  -1.01441713e+00  3.31917899e-01  1.25171653e+00]\n",
      " [ 4.73602223e-01 -8.37366186e-01 -8.33428327e-01  9.75457515e-01\n",
      "  -6.60857847e-01  3.31917899e-01  2.38143525e-02]\n",
      " [ 4.73602223e-01  8.23458996e-01 -5.72822117e-01  7.21283449e-01\n",
      "  -1.32487424e-01 -3.01279324e+00  2.38143525e-02]\n",
      " [-2.11147658e+00  8.23458996e-01  1.93222517e+00 -1.14468587e+00\n",
      "   2.20373166e+00 -3.01279324e+00  1.25171653e+00]\n",
      " [ 4.73602223e-01 -8.37366186e-01 -8.34137696e-01  8.70890504e-01\n",
      "  -1.12641613e-01  3.31917899e-01  2.38143525e-02]\n",
      " [-2.11147658e+00 -8.37366186e-01  2.15126840e-01 -1.14468587e+00\n",
      "   1.00108188e-01 -3.01279324e+00  2.38143525e-02]\n",
      " [ 4.73602223e-01  1.31595948e+00  1.82587547e+00 -1.14468587e+00\n",
      "  -3.15235519e-01  3.31917899e-01  1.25171653e+00]\n",
      " [ 4.73602223e-01  1.31595948e+00 -5.80778327e-02  7.77437195e-01\n",
      "   7.20044302e-01  3.31917899e-01  1.25171653e+00]\n",
      " [ 4.73602223e-01 -8.37366186e-01  3.16161894e-02 -1.14468587e+00\n",
      "  -2.53466800e-01  3.31917899e-01  2.38143525e-02]\n",
      " [ 4.73602223e-01  8.23458996e-01  1.93222517e+00 -1.14468587e+00\n",
      "   4.46284684e-01  3.31917899e-01  2.38143525e-02]\n",
      " [ 4.73602223e-01  1.31595948e+00  4.69824858e-01 -1.14468587e+00\n",
      "   4.98760324e-01  3.31917899e-01  2.38143525e-02]\n",
      " [-2.11147658e+00 -8.37366186e-01 -9.79326700e-01 -1.14468587e+00\n",
      "  -1.37791760e+00  3.31917899e-01  1.25171653e+00]\n",
      " [ 4.73602223e-01 -8.37366186e-01  2.59386791e-01  8.51112896e-01\n",
      "   9.95881362e-01  3.31917899e-01  2.38143525e-02]\n",
      " [ 4.73602223e-01  1.31595948e+00  1.01166705e+00  8.21723704e-01\n",
      "   1.66576326e+00  3.31917899e-01  2.38143525e-02]\n",
      " [ 4.73602223e-01  1.54518359e+00 -5.24176757e-01  1.09901840e+00\n",
      "   9.16229085e-01 -3.01279324e+00  2.38143525e-02]\n",
      " [ 4.73602223e-01 -8.37366186e-01 -1.09935433e+00  7.92695534e-01\n",
      "   8.11697537e-02  3.31917899e-01  2.38143525e-02]\n",
      " [ 4.73602223e-01 -8.37366186e-01  1.88546787e+00 -1.14468587e+00\n",
      "   9.16229085e-01  3.31917899e-01 -1.39307079e+00]\n",
      " [ 4.73602223e-01  1.31595948e+00  9.59827236e-01 -1.14468587e+00\n",
      "   1.30338628e+00  3.31917899e-01  2.38143525e-02]\n",
      " [-2.11147658e+00  8.23458996e-01 -1.29009470e-01 -1.14468587e+00\n",
      "  -1.51757167e+00  3.31917899e-01  2.38143525e-02]\n",
      " [ 4.73602223e-01 -8.37366186e-01 -5.64012581e-01  7.26205071e-01\n",
      "  -1.03919879e+00  3.31917899e-01  1.25171653e+00]\n",
      " [ 4.73602223e-01 -8.37366186e-01 -1.06990331e+00  8.87318484e-01\n",
      "  -1.63372662e+00  3.31917899e-01 -1.39307079e+00]]\n"
     ]
    }
   ],
   "source": [
    "\n",
    "from sklearn.preprocessing import StandardScaler\n",
    "sc = StandardScaler()\n",
    "x_train = sc.fit_transform(x_train)\n",
    "print(x_train)\n",
    "x_test = sc.fit_transform(x_test)\n",
    "print(x_test)"
   ]
  },
  {
   "cell_type": "markdown",
   "metadata": {},
   "source": [
    "###### Model Building"
   ]
  },
  {
   "cell_type": "code",
   "execution_count": 258,
   "metadata": {},
   "outputs": [],
   "source": []
  },
  {
   "cell_type": "code",
   "execution_count": 259,
   "metadata": {},
   "outputs": [],
   "source": [
    "models=[]\n",
    "models1 = []\n",
    "models2=[]\n",
    "\n",
    "Z = [SVC(probability=True) , DecisionTreeClassifier() , LogisticRegression() , KNeighborsClassifier() ,\n",
    "    RandomForestClassifier() , GradientBoostingClassifier(),AdaBoostClassifier()]\n",
    "X = [\"SVC\" , \"DecisionTreeClassifier\" , \"LogisticRegression\" , \"KNeighborsClassifier\" ,\n",
    "    \"RandomForestClassifier\" , \"GradientBoostingClassifier\",\"AdaBoostClassifier\"]\n",
    "for i in range(0,len(Z)):\n",
    "    model = Z[i]\n",
    "    model=model.fit( x_train , y_train )\n",
    "    pred = model.predict(x_test)\n",
    "    models.append(accuracy_score(pred , y_test))\n",
    "    models1.append(model.score(x_train , y_train))\n"
   ]
  },
  {
   "cell_type": "code",
   "execution_count": 260,
   "metadata": {},
   "outputs": [
    {
     "data": {
      "text/html": [
       "<div>\n",
       "<style scoped>\n",
       "    .dataframe tbody tr th:only-of-type {\n",
       "        vertical-align: middle;\n",
       "    }\n",
       "\n",
       "    .dataframe tbody tr th {\n",
       "        vertical-align: top;\n",
       "    }\n",
       "\n",
       "    .dataframe thead th {\n",
       "        text-align: right;\n",
       "    }\n",
       "</style>\n",
       "<table border=\"1\" class=\"dataframe\">\n",
       "  <thead>\n",
       "    <tr style=\"text-align: right;\">\n",
       "      <th></th>\n",
       "      <th>Training Accuracy</th>\n",
       "      <th>Testing Accuracy</th>\n",
       "    </tr>\n",
       "  </thead>\n",
       "  <tbody>\n",
       "    <tr>\n",
       "      <th>SVC</th>\n",
       "      <td>0.808673</td>\n",
       "      <td>0.839695</td>\n",
       "    </tr>\n",
       "    <tr>\n",
       "      <th>DecisionTreeClassifier</th>\n",
       "      <td>1.000000</td>\n",
       "      <td>0.732824</td>\n",
       "    </tr>\n",
       "    <tr>\n",
       "      <th>LogisticRegression</th>\n",
       "      <td>0.798469</td>\n",
       "      <td>0.839695</td>\n",
       "    </tr>\n",
       "    <tr>\n",
       "      <th>KNeighborsClassifier</th>\n",
       "      <td>0.821429</td>\n",
       "      <td>0.824427</td>\n",
       "    </tr>\n",
       "    <tr>\n",
       "      <th>RandomForestClassifier</th>\n",
       "      <td>1.000000</td>\n",
       "      <td>0.809160</td>\n",
       "    </tr>\n",
       "    <tr>\n",
       "      <th>GradientBoostingClassifier</th>\n",
       "      <td>0.910714</td>\n",
       "      <td>0.809160</td>\n",
       "    </tr>\n",
       "    <tr>\n",
       "      <th>AdaBoostClassifier</th>\n",
       "      <td>0.834184</td>\n",
       "      <td>0.832061</td>\n",
       "    </tr>\n",
       "  </tbody>\n",
       "</table>\n",
       "</div>"
      ],
      "text/plain": [
       "                            Training Accuracy  Testing Accuracy\n",
       "SVC                                  0.808673          0.839695\n",
       "DecisionTreeClassifier               1.000000          0.732824\n",
       "LogisticRegression                   0.798469          0.839695\n",
       "KNeighborsClassifier                 0.821429          0.824427\n",
       "RandomForestClassifier               1.000000          0.809160\n",
       "GradientBoostingClassifier           0.910714          0.809160\n",
       "AdaBoostClassifier                   0.834184          0.832061"
      ]
     },
     "execution_count": 260,
     "metadata": {},
     "output_type": "execute_result"
    }
   ],
   "source": [
    "d = {\"Training Accuracy\":models1,\"Testing Accuracy\" : models}\n",
    "data_frame = pd.DataFrame(d,index=X)\n",
    "data_frame"
   ]
  },
  {
   "cell_type": "code",
   "execution_count": 261,
   "metadata": {},
   "outputs": [
    {
     "data": {
      "image/png": "[encoded data removed]",
      "text/plain": [
       "<Figure size 1080x288 with 1 Axes>"
      ]
     },
     "metadata": {
      "needs_background": "light"
     },
     "output_type": "display_data"
    }
   ],
   "source": [
    "data_frame.plot(kind='barh',figsize=(15,4),title='Accuracy Comparition of all Algorithms',colormap='cool')\n",
    "plt.show()"
   ]
  },
  {
   "cell_type": "markdown",
   "metadata": {},
   "source": [
    "###### Evaluation"
   ]
  },
  {
   "cell_type": "code",
   "execution_count": 262,
   "metadata": {},
   "outputs": [],
   "source": [
    "#Classification Report"
   ]
  },
  {
   "cell_type": "code",
   "execution_count": 263,
   "metadata": {},
   "outputs": [
    {
     "name": "stdout",
     "output_type": "stream",
     "text": [
      "Model Name : SVC(probability=True) \n",
      "               precision    recall  f1-score   support\n",
      "\n",
      "           0       0.92      0.38      0.53        32\n",
      "           1       0.83      0.99      0.90        99\n",
      "\n",
      "    accuracy                           0.84       131\n",
      "   macro avg       0.88      0.68      0.72       131\n",
      "weighted avg       0.85      0.84      0.81       131\n",
      "\n",
      "Testing Accuracy of Data with Model SVC(probability=True) : 0.81 \n",
      "\n",
      "Model Name : DecisionTreeClassifier() \n",
      "               precision    recall  f1-score   support\n",
      "\n",
      "           0       0.44      0.50      0.47        32\n",
      "           1       0.83      0.80      0.81        99\n",
      "\n",
      "    accuracy                           0.73       131\n",
      "   macro avg       0.64      0.65      0.64       131\n",
      "weighted avg       0.74      0.73      0.73       131\n",
      "\n",
      "Testing Accuracy of Data with Model DecisionTreeClassifier() : 0.73 \n",
      "\n",
      "Model Name : LogisticRegression() \n",
      "               precision    recall  f1-score   support\n",
      "\n",
      "           0       0.92      0.38      0.53        32\n",
      "           1       0.83      0.99      0.90        99\n",
      "\n",
      "    accuracy                           0.84       131\n",
      "   macro avg       0.88      0.68      0.72       131\n",
      "weighted avg       0.85      0.84      0.81       131\n",
      "\n",
      "Testing Accuracy of Data with Model LogisticRegression() : 0.81 \n",
      "\n",
      "Model Name : KNeighborsClassifier() \n",
      "               precision    recall  f1-score   support\n",
      "\n",
      "           0       0.80      0.38      0.51        32\n",
      "           1       0.83      0.97      0.89        99\n",
      "\n",
      "    accuracy                           0.82       131\n",
      "   macro avg       0.81      0.67      0.70       131\n",
      "weighted avg       0.82      0.82      0.80       131\n",
      "\n",
      "Testing Accuracy of Data with Model KNeighborsClassifier() : 0.8 \n",
      "\n",
      "Model Name : RandomForestClassifier() \n",
      "               precision    recall  f1-score   support\n",
      "\n",
      "           0       0.67      0.44      0.53        32\n",
      "           1       0.84      0.93      0.88        99\n",
      "\n",
      "    accuracy                           0.81       131\n",
      "   macro avg       0.75      0.68      0.70       131\n",
      "weighted avg       0.79      0.81      0.79       131\n",
      "\n",
      "Testing Accuracy of Data with Model RandomForestClassifier() : 0.79 \n",
      "\n",
      "Model Name : GradientBoostingClassifier() \n",
      "               precision    recall  f1-score   support\n",
      "\n",
      "           0       0.67      0.44      0.53        32\n",
      "           1       0.84      0.93      0.88        99\n",
      "\n",
      "    accuracy                           0.81       131\n",
      "   macro avg       0.75      0.68      0.70       131\n",
      "weighted avg       0.79      0.81      0.79       131\n",
      "\n",
      "Testing Accuracy of Data with Model GradientBoostingClassifier() : 0.79 \n",
      "\n",
      "Model Name : AdaBoostClassifier() \n",
      "               precision    recall  f1-score   support\n",
      "\n",
      "           0       0.78      0.44      0.56        32\n",
      "           1       0.84      0.96      0.90        99\n",
      "\n",
      "    accuracy                           0.83       131\n",
      "   macro avg       0.81      0.70      0.73       131\n",
      "weighted avg       0.83      0.83      0.81       131\n",
      "\n",
      "Testing Accuracy of Data with Model AdaBoostClassifier() : 0.81 \n",
      "\n"
     ]
    }
   ],
   "source": [
    "models2=[]\n",
    "models3=[]\n",
    "for i in range(0,len(Z)):\n",
    "    model = Z[i]\n",
    "    model=model.fit( x_train , y_train )\n",
    "    pred = model.predict(x_test)\n",
    "    Class_Report=metrics.classification_report(y_test, pred)\n",
    "    models2.append(Class_Report)\n",
    "    print(\"Model Name :\",model,\"\\n\",Class_Report)\n",
    "    f1sc=metrics.f1_score(y_test, pred, average='weighted')\n",
    "    models3.append(f1sc)\n",
    "    print(\"Testing Accuracy of Data with Model\",model,\":\",round(f1sc,2),\"\\n\")"
   ]
  },
  {
   "cell_type": "code",
   "execution_count": 264,
   "metadata": {},
   "outputs": [
    {
     "data": {
      "text/html": [
       "<div>\n",
       "<style scoped>\n",
       "    .dataframe tbody tr th:only-of-type {\n",
       "        vertical-align: middle;\n",
       "    }\n",
       "\n",
       "    .dataframe tbody tr th {\n",
       "        vertical-align: top;\n",
       "    }\n",
       "\n",
       "    .dataframe thead th {\n",
       "        text-align: right;\n",
       "    }\n",
       "</style>\n",
       "<table border=\"1\" class=\"dataframe\">\n",
       "  <thead>\n",
       "    <tr style=\"text-align: right;\">\n",
       "      <th></th>\n",
       "      <th>Accuracy of Testing Data</th>\n",
       "    </tr>\n",
       "  </thead>\n",
       "  <tbody>\n",
       "    <tr>\n",
       "      <th>SVC</th>\n",
       "      <td>0.812870</td>\n",
       "    </tr>\n",
       "    <tr>\n",
       "      <th>DecisionTreeClassifier</th>\n",
       "      <td>0.730440</td>\n",
       "    </tr>\n",
       "    <tr>\n",
       "      <th>LogisticRegression</th>\n",
       "      <td>0.812870</td>\n",
       "    </tr>\n",
       "    <tr>\n",
       "      <th>KNeighborsClassifier</th>\n",
       "      <td>0.799616</td>\n",
       "    </tr>\n",
       "    <tr>\n",
       "      <th>RandomForestClassifier</th>\n",
       "      <td>0.794378</td>\n",
       "    </tr>\n",
       "    <tr>\n",
       "      <th>GradientBoostingClassifier</th>\n",
       "      <td>0.794378</td>\n",
       "    </tr>\n",
       "    <tr>\n",
       "      <th>AdaBoostClassifier</th>\n",
       "      <td>0.814095</td>\n",
       "    </tr>\n",
       "  </tbody>\n",
       "</table>\n",
       "</div>"
      ],
      "text/plain": [
       "                            Accuracy of Testing Data\n",
       "SVC                                         0.812870\n",
       "DecisionTreeClassifier                      0.730440\n",
       "LogisticRegression                          0.812870\n",
       "KNeighborsClassifier                        0.799616\n",
       "RandomForestClassifier                      0.794378\n",
       "GradientBoostingClassifier                  0.794378\n",
       "AdaBoostClassifier                          0.814095"
      ]
     },
     "execution_count": 264,
     "metadata": {},
     "output_type": "execute_result"
    }
   ],
   "source": [
    "d2 = {\"Accuracy of Testing Data\" : models3}\n",
    "data_frame2 = pd.DataFrame(d2,index=X)\n",
    "data_frame2"
   ]
  },
  {
   "cell_type": "code",
   "execution_count": 265,
   "metadata": {},
   "outputs": [],
   "source": [
    "# Confusion Matrix"
   ]
  },
  {
   "cell_type": "code",
   "execution_count": 266,
   "metadata": {},
   "outputs": [
    {
     "data": {
      "text/html": [
       "<div>\n",
       "<style scoped>\n",
       "    .dataframe tbody tr th:only-of-type {\n",
       "        vertical-align: middle;\n",
       "    }\n",
       "\n",
       "    .dataframe tbody tr th {\n",
       "        vertical-align: top;\n",
       "    }\n",
       "\n",
       "    .dataframe thead th {\n",
       "        text-align: right;\n",
       "    }\n",
       "</style>\n",
       "<table border=\"1\" class=\"dataframe\">\n",
       "  <thead>\n",
       "    <tr style=\"text-align: right;\">\n",
       "      <th></th>\n",
       "      <th>Confusion Matrix</th>\n",
       "    </tr>\n",
       "  </thead>\n",
       "  <tbody>\n",
       "    <tr>\n",
       "      <th>SVC</th>\n",
       "      <td>[[98, 1], [20, 12]]</td>\n",
       "    </tr>\n",
       "    <tr>\n",
       "      <th>DecisionTreeClassifier</th>\n",
       "      <td>[[79, 20], [15, 17]]</td>\n",
       "    </tr>\n",
       "    <tr>\n",
       "      <th>LogisticRegression</th>\n",
       "      <td>[[98, 1], [20, 12]]</td>\n",
       "    </tr>\n",
       "    <tr>\n",
       "      <th>KNeighborsClassifier</th>\n",
       "      <td>[[96, 3], [20, 12]]</td>\n",
       "    </tr>\n",
       "    <tr>\n",
       "      <th>RandomForestClassifier</th>\n",
       "      <td>[[94, 5], [17, 15]]</td>\n",
       "    </tr>\n",
       "    <tr>\n",
       "      <th>GradientBoostingClassifier</th>\n",
       "      <td>[[92, 7], [18, 14]]</td>\n",
       "    </tr>\n",
       "    <tr>\n",
       "      <th>AdaBoostClassifier</th>\n",
       "      <td>[[95, 4], [18, 14]]</td>\n",
       "    </tr>\n",
       "  </tbody>\n",
       "</table>\n",
       "</div>"
      ],
      "text/plain": [
       "                                Confusion Matrix\n",
       "SVC                          [[98, 1], [20, 12]]\n",
       "DecisionTreeClassifier      [[79, 20], [15, 17]]\n",
       "LogisticRegression           [[98, 1], [20, 12]]\n",
       "KNeighborsClassifier         [[96, 3], [20, 12]]\n",
       "RandomForestClassifier       [[94, 5], [17, 15]]\n",
       "GradientBoostingClassifier   [[92, 7], [18, 14]]\n",
       "AdaBoostClassifier           [[95, 4], [18, 14]]"
      ]
     },
     "execution_count": 266,
     "metadata": {},
     "output_type": "execute_result"
    }
   ],
   "source": [
    "cmodel=[]\n",
    "for i in range(0,len(Z)):\n",
    "    model = Z[i]\n",
    "    model=model.fit( x_train , y_train )\n",
    "    pred = model.predict(x_test)\n",
    "    cm = np.array(confusion_matrix(y_test, pred, labels=[1,0]))\n",
    "    cmodel.append(cm)\n",
    "    \n",
    "\n",
    "dc={\"Confusion Matrix\":cmodel}    \n",
    "conf_mat=pd.DataFrame(dc,index=X)\n",
    "\n",
    "conf_mat"
   ]
  },
  {
   "cell_type": "code",
   "execution_count": 327,
   "metadata": {},
   "outputs": [
    {
     "data": {
      "image/png": "[encoded data removed]",
      "text/plain": [
       "<Figure size 1440x1800 with 14 Axes>"
      ]
     },
     "metadata": {
      "needs_background": "light"
     },
     "output_type": "display_data"
    }
   ],
   "source": [
    "plt.figure(figsize=(20,25))\n",
    "plt.subplot(7,3,1)\n",
    "sns.heatmap(cmodel[0],annot=True,fmt='g',cmap='Set2')\n",
    "plt.title(\"BY SVC\")\n",
    "plt.subplot(7,3,2)\n",
    "sns.heatmap(cmodel[1],annot=True,fmt='g',cmap='Set1')\n",
    "plt.title(\"BY Decision Tree\")\n",
    "plt.subplot(7,3,3)\n",
    "sns.heatmap(cmodel[2],annot=True,fmt='g',cmap='Set3')\n",
    "plt.title(\"BY Logistic Regression\")\n",
    "plt.subplot(7,3,4)\n",
    "sns.heatmap(cmodel[3],annot=True,fmt='g',cmap='Set3')\n",
    "plt.title(\"BY KNeighbors\")  \n",
    "plt.subplot(7,3,5)\n",
    "sns.heatmap(cmodel[4],annot=True,fmt='g',cmap='Set2')\n",
    "plt.title(\"BY RandomForest\")\n",
    "plt.subplot(7,3,6)\n",
    "sns.heatmap(cmodel[5],annot=True,fmt='g',cmap='Set1')\n",
    "plt.title(\"BY GradientBoosting\")\n",
    "plt.subplot(7,3,7)\n",
    "sns.heatmap(cmodel[5],annot=True,fmt='g',cmap='Set2')\n",
    "plt.title(\"BY AdaBoostClassifier\")\n",
    "plt.show()   \n"
   ]
  },
  {
   "cell_type": "markdown",
   "metadata": {},
   "source": [
    "###### Validation"
   ]
  },
  {
   "cell_type": "code",
   "execution_count": 268,
   "metadata": {},
   "outputs": [],
   "source": [
    "#Cross validation"
   ]
  },
  {
   "cell_type": "code",
   "execution_count": 269,
   "metadata": {},
   "outputs": [
    {
     "name": "stdout",
     "output_type": "stream",
     "text": [
      "\n",
      " SVC(probability=True)  10-fold Cross Validation:\n",
      "Accuracy value : [0.725      0.73151261 0.73496031 0.8603582  0.71648352 0.80450148\n",
      " 0.8603582  0.80450148 0.76296296 0.7037037 ]\n",
      "Final Average Accuracy : 0.77\n",
      "\n",
      " DecisionTreeClassifier()  10-fold Cross Validation:\n",
      "Accuracy value : [0.62840671 0.78871473 0.64102564 0.70197802 0.52555723 0.70401338\n",
      " 0.69230769 0.61051991 0.67532468 0.61873638]\n",
      "Final Average Accuracy : 0.659\n",
      "\n",
      " LogisticRegression()  10-fold Cross Validation:\n",
      "Accuracy value : [0.725      0.73151261 0.73496031 0.8603582  0.71648352 0.80450148\n",
      " 0.8603582  0.80450148 0.76296296 0.7037037 ]\n",
      "Final Average Accuracy : 0.77\n",
      "\n",
      " KNeighborsClassifier()  10-fold Cross Validation:\n",
      "Accuracy value : [0.69285714 0.74646247 0.74864475 0.86601118 0.73496031 0.80450148\n",
      " 0.76631195 0.78143236 0.72943723 0.69674185]\n",
      "Final Average Accuracy : 0.757\n",
      "\n",
      " RandomForestClassifier()  10-fold Cross Validation:\n",
      "Accuracy value : [0.71430206 0.76845878 0.72679045 0.83607427 0.69602978 0.73651349\n",
      " 0.81241565 0.78143236 0.7183908  0.74041035]\n",
      "Final Average Accuracy : 0.753\n",
      "\n",
      " GradientBoostingClassifier()  10-fold Cross Validation:\n",
      "Accuracy value : [0.65       0.76845878 0.67606261 0.8603582  0.71648352 0.75882013\n",
      " 0.81241565 0.73651349 0.67532468 0.70724638]\n",
      "Final Average Accuracy : 0.736\n",
      "\n",
      " AdaBoostClassifier()  10-fold Cross Validation:\n",
      "Accuracy value : [0.6830721  0.725      0.72679045 0.8603582  0.71648352 0.73651349\n",
      " 0.83607427 0.75882013 0.67532468 0.69674185]\n",
      "Final Average Accuracy : 0.742\n"
     ]
    }
   ],
   "source": [
    "\n",
    "vmodel=[]\n",
    "acvalmodel=[]\n",
    "for i in range(0,len(Z)):\n",
    "    model = Z[i]\n",
    "    model.fit( x_train , y_train )\n",
    "    pred = model.predict(x_test)\n",
    "    acval=cross_val_score(model,x_train , y_train, cv=10, scoring='f1_weighted')\n",
    "    acvalmodel.append(acval)\n",
    "    print('\\n',model,' 10-fold Cross Validation:')\n",
    "    print('Accuracy value :',acval)\n",
    "    vmodel.append(round(acval.mean(),2))\n",
    "    print('Final Average Accuracy :',round(acval.mean(),3))\n",
    "    \n",
    "\n"
   ]
  },
  {
   "cell_type": "code",
   "execution_count": 270,
   "metadata": {},
   "outputs": [
    {
     "data": {
      "text/html": [
       "<div>\n",
       "<style scoped>\n",
       "    .dataframe tbody tr th:only-of-type {\n",
       "        vertical-align: middle;\n",
       "    }\n",
       "\n",
       "    .dataframe tbody tr th {\n",
       "        vertical-align: top;\n",
       "    }\n",
       "\n",
       "    .dataframe thead th {\n",
       "        text-align: right;\n",
       "    }\n",
       "</style>\n",
       "<table border=\"1\" class=\"dataframe\">\n",
       "  <thead>\n",
       "    <tr style=\"text-align: right;\">\n",
       "      <th></th>\n",
       "      <th>10 fold Cross Validation</th>\n",
       "      <th>Final Average Accuracy</th>\n",
       "    </tr>\n",
       "  </thead>\n",
       "  <tbody>\n",
       "    <tr>\n",
       "      <th>SVC</th>\n",
       "      <td>[0.725, 0.7315126050420168, 0.7349603145167273...</td>\n",
       "      <td>0.77</td>\n",
       "    </tr>\n",
       "    <tr>\n",
       "      <th>DecisionTreeClassifier</th>\n",
       "      <td>[0.6284067085953878, 0.7887147335423198, 0.641...</td>\n",
       "      <td>0.66</td>\n",
       "    </tr>\n",
       "    <tr>\n",
       "      <th>LogisticRegression</th>\n",
       "      <td>[0.725, 0.7315126050420168, 0.7349603145167273...</td>\n",
       "      <td>0.77</td>\n",
       "    </tr>\n",
       "    <tr>\n",
       "      <th>KNeighborsClassifier</th>\n",
       "      <td>[0.6928571428571428, 0.7464624676445211, 0.748...</td>\n",
       "      <td>0.76</td>\n",
       "    </tr>\n",
       "    <tr>\n",
       "      <th>RandomForestClassifier</th>\n",
       "      <td>[0.7143020594965674, 0.7684587813620072, 0.726...</td>\n",
       "      <td>0.75</td>\n",
       "    </tr>\n",
       "    <tr>\n",
       "      <th>GradientBoostingClassifier</th>\n",
       "      <td>[0.65, 0.7684587813620072, 0.6760626066315556,...</td>\n",
       "      <td>0.74</td>\n",
       "    </tr>\n",
       "    <tr>\n",
       "      <th>AdaBoostClassifier</th>\n",
       "      <td>[0.6830721003134796, 0.725, 0.726790450928382,...</td>\n",
       "      <td>0.74</td>\n",
       "    </tr>\n",
       "  </tbody>\n",
       "</table>\n",
       "</div>"
      ],
      "text/plain": [
       "                                                     10 fold Cross Validation  \\\n",
       "SVC                         [0.725, 0.7315126050420168, 0.7349603145167273...   \n",
       "DecisionTreeClassifier      [0.6284067085953878, 0.7887147335423198, 0.641...   \n",
       "LogisticRegression          [0.725, 0.7315126050420168, 0.7349603145167273...   \n",
       "KNeighborsClassifier        [0.6928571428571428, 0.7464624676445211, 0.748...   \n",
       "RandomForestClassifier      [0.7143020594965674, 0.7684587813620072, 0.726...   \n",
       "GradientBoostingClassifier  [0.65, 0.7684587813620072, 0.6760626066315556,...   \n",
       "AdaBoostClassifier          [0.6830721003134796, 0.725, 0.726790450928382,...   \n",
       "\n",
       "                            Final Average Accuracy  \n",
       "SVC                                           0.77  \n",
       "DecisionTreeClassifier                        0.66  \n",
       "LogisticRegression                            0.77  \n",
       "KNeighborsClassifier                          0.76  \n",
       "RandomForestClassifier                        0.75  \n",
       "GradientBoostingClassifier                    0.74  \n",
       "AdaBoostClassifier                            0.74  "
      ]
     },
     "execution_count": 270,
     "metadata": {},
     "output_type": "execute_result"
    }
   ],
   "source": [
    "dv={\"10 fold Cross Validation\":acvalmodel,\"Final Average Accuracy\":vmodel}    \n",
    "cross_val=pd.DataFrame(dv,index=X)\n",
    "cross_val"
   ]
  },
  {
   "cell_type": "code",
   "execution_count": 271,
   "metadata": {},
   "outputs": [],
   "source": [
    "#visualization of final Accuracy"
   ]
  },
  {
   "cell_type": "code",
   "execution_count": 272,
   "metadata": {},
   "outputs": [
    {
     "data": {
      "image/png": "[encoded data removed]",
      "text/plain": [
       "<Figure size 1080x288 with 1 Axes>"
      ]
     },
     "metadata": {
      "needs_background": "light"
     },
     "output_type": "display_data"
    }
   ],
   "source": [
    "#cross_val['Final Average Accuracy'].plot(kind='bar')\n",
    "cross_val['Final Average Accuracy'].plot(kind='bar',figsize=(15,4),title='FinalAverage Accuray',colormap='summer')\n",
    "plt.show()"
   ]
  },
  {
   "cell_type": "code",
   "execution_count": 273,
   "metadata": {},
   "outputs": [],
   "source": [
    "#AUC_ROC Curve"
   ]
  },
  {
   "cell_type": "code",
   "execution_count": 274,
   "metadata": {},
   "outputs": [
    {
     "data": {
      "image/png": "[encoded data removed]",
      "text/plain": [
       "<Figure size 576x432 with 1 Axes>"
      ]
     },
     "metadata": {
      "needs_background": "light"
     },
     "output_type": "display_data"
    }
   ],
   "source": [
    "result_table = pd.DataFrame(columns=['Z', 'fpr','tpr','auc'])\n",
    "for i in range(0,len(Z)):\n",
    "    model = Z[i]\n",
    "    model=model.fit( x_train , y_train )\n",
    "    ypred = model.predict_proba(x_test)[::,1]\n",
    "    fpr, tpr, _ = roc_curve(y_test,  ypred)\n",
    "    auc = roc_auc_score(y_test, ypred)\n",
    "    result_table = result_table.append({'model':model.__class__.__name__,'fpr':fpr,'tpr':tpr,'auc':auc},ignore_index=True)\n",
    "result_table.set_index('model', inplace=True)\n",
    "\n",
    "fig = plt.figure(figsize=(8,6))\n",
    "for i in result_table.index:\n",
    "    plt.plot(result_table.loc[i]['fpr'],result_table.loc[i]['tpr'],label=\"{}, AUC={:.3f}\".format(i, result_table.loc[i]['auc']))\n",
    "plt.plot([0,1], [0,1], color='orange', linestyle='--')\n",
    "plt.xticks(np.arange(0.0, 1.1, step=0.1))\n",
    "plt.xlabel(\"Flase Positive Rate\", fontsize=15)\n",
    "plt.yticks(np.arange(0.0, 1.1, step=0.1))\n",
    "plt.ylabel(\"True Positive Rate\", fontsize=15)\n",
    "plt.title('ROC Curve Analysis', fontweight='bold', fontsize=15)\n",
    "plt.legend(prop={'size':13}, loc='lower right')\n",
    "plt.show()"
   ]
  },
  {
   "cell_type": "markdown",
   "metadata": {},
   "source": [
    "###### Model Comparision"
   ]
  },
  {
   "cell_type": "code",
   "execution_count": 275,
   "metadata": {},
   "outputs": [
    {
     "data": {
      "text/html": [
       "<div>\n",
       "<style scoped>\n",
       "    .dataframe tbody tr th:only-of-type {\n",
       "        vertical-align: middle;\n",
       "    }\n",
       "\n",
       "    .dataframe tbody tr th {\n",
       "        vertical-align: top;\n",
       "    }\n",
       "\n",
       "    .dataframe thead th {\n",
       "        text-align: right;\n",
       "    }\n",
       "</style>\n",
       "<table border=\"1\" class=\"dataframe\">\n",
       "  <thead>\n",
       "    <tr style=\"text-align: right;\">\n",
       "      <th></th>\n",
       "      <th>Training Accuracy</th>\n",
       "      <th>Testing Accuracy</th>\n",
       "      <th>Final Average Accuracy</th>\n",
       "    </tr>\n",
       "  </thead>\n",
       "  <tbody>\n",
       "    <tr>\n",
       "      <th>SVC</th>\n",
       "      <td>0.808673</td>\n",
       "      <td>0.839695</td>\n",
       "      <td>0.77</td>\n",
       "    </tr>\n",
       "    <tr>\n",
       "      <th>DecisionTreeClassifier</th>\n",
       "      <td>1.000000</td>\n",
       "      <td>0.732824</td>\n",
       "      <td>0.66</td>\n",
       "    </tr>\n",
       "    <tr>\n",
       "      <th>LogisticRegression</th>\n",
       "      <td>0.798469</td>\n",
       "      <td>0.839695</td>\n",
       "      <td>0.77</td>\n",
       "    </tr>\n",
       "    <tr>\n",
       "      <th>KNeighborsClassifier</th>\n",
       "      <td>0.821429</td>\n",
       "      <td>0.824427</td>\n",
       "      <td>0.76</td>\n",
       "    </tr>\n",
       "    <tr>\n",
       "      <th>RandomForestClassifier</th>\n",
       "      <td>1.000000</td>\n",
       "      <td>0.809160</td>\n",
       "      <td>0.75</td>\n",
       "    </tr>\n",
       "    <tr>\n",
       "      <th>GradientBoostingClassifier</th>\n",
       "      <td>0.910714</td>\n",
       "      <td>0.809160</td>\n",
       "      <td>0.74</td>\n",
       "    </tr>\n",
       "  </tbody>\n",
       "</table>\n",
       "</div>"
      ],
      "text/plain": [
       "                            Training Accuracy  Testing Accuracy  \\\n",
       "SVC                                  0.808673          0.839695   \n",
       "DecisionTreeClassifier               1.000000          0.732824   \n",
       "LogisticRegression                   0.798469          0.839695   \n",
       "KNeighborsClassifier                 0.821429          0.824427   \n",
       "RandomForestClassifier               1.000000          0.809160   \n",
       "GradientBoostingClassifier           0.910714          0.809160   \n",
       "\n",
       "                            Final Average Accuracy  \n",
       "SVC                                           0.77  \n",
       "DecisionTreeClassifier                        0.66  \n",
       "LogisticRegression                            0.77  \n",
       "KNeighborsClassifier                          0.76  \n",
       "RandomForestClassifier                        0.75  \n",
       "GradientBoostingClassifier                    0.74  "
      ]
     },
     "execution_count": 275,
     "metadata": {},
     "output_type": "execute_result"
    }
   ],
   "source": [
    "dfcomp=pd.concat([data_frame,cross_val],axis=1)\n",
    "dfcomp[['Training Accuracy','Testing Accuracy','Final Average Accuracy']].head(6)"
   ]
  },
  {
   "cell_type": "code",
   "execution_count": 276,
   "metadata": {},
   "outputs": [
    {
     "data": {
      "text/plain": [
       "<AxesSubplot:title={'center':'Accuracy Comparision'}>"
      ]
     },
     "execution_count": 276,
     "metadata": {},
     "output_type": "execute_result"
    },
    {
     "data": {
      "image/png": "[encoded data removed]",
      "text/plain": [
       "<Figure size 1080x432 with 1 Axes>"
      ]
     },
     "metadata": {
      "needs_background": "light"
     },
     "output_type": "display_data"
    }
   ],
   "source": [
    "dfcomp[['Training Accuracy','Testing Accuracy','Final Average Accuracy']].plot(kind='bar',figsize=(15,6),title='Accuracy Comparision',colormap='summer')"
   ]
  },
  {
   "cell_type": "markdown",
   "metadata": {},
   "source": [
    "###### Hyperparameter Tuning "
   ]
  },
  {
   "cell_type": "code",
   "execution_count": 280,
   "metadata": {},
   "outputs": [],
   "source": [
    "#for SVC Model"
   ]
  },
  {
   "cell_type": "code",
   "execution_count": 279,
   "metadata": {},
   "outputs": [
    {
     "name": "stdout",
     "output_type": "stream",
     "text": [
      "Fitting 5 folds for each of 1000 candidates, totalling 5000 fits\n",
      "[LibSVM]Best Score:  0.7517034707663639\n",
      "Best Params:  {'verbose': 15, 'random_state': 1, 'max_iter': 500, 'kernel': 'rbf', 'gamma': 0.1, 'degree': 20, 'decision_function_shape': 'ovo', 'coef0': 1.5, 'class_weight': {1: 0.5, 0: 0.5}, 'C': 0.5}\n"
     ]
    }
   ],
   "source": [
    "C=[0.1, 0.2, 0.3, 0.4, 0.5]\n",
    "kernel=['linear', 'rbf']\n",
    "gamma=[0.1,0.8,0.9,1,1.1,1.2,1.3,1.4]\n",
    "degree=[1,2,4,8,10,20]\n",
    "coef0=[1.5,3.4,5.6,9.2,10.2]\n",
    "max_iter = [10, 50,5,90, 200, 110, 500, 1000]\n",
    "verbose = [1,5,4,10,30,15,20,100]\n",
    "class_weight = [{1:0.5, 0:0.5}, {1:0.4, 0:0.6}, {1:0.6, 0:0.4}, {1:0.7, 0:0.3}]\n",
    "decision_function_shape=['ovo','ovr']\n",
    "random_state= [1,5,10, 100,200,500]\n",
    "\n",
    "\n",
    "param_distributions = dict(C=C,\n",
    "                           kernel=kernel,\n",
    "                           gamma=gamma,\n",
    "                           degree=degree,\n",
    "                           coef0=coef0,\n",
    "                           max_iter=max_iter,\n",
    "                           verbose=verbose,\n",
    "                           class_weight=class_weight,\n",
    "                           decision_function_shape=decision_function_shape,\n",
    "                           random_state=random_state)\n",
    "\n",
    "random = RandomizedSearchCV(estimator=SVC(probability=True),\n",
    "                            param_distributions=param_distributions,\n",
    "                            scoring='roc_auc',\n",
    "                            verbose=1, n_jobs=-1,\n",
    "                            n_iter=1000)\n",
    "random_result = random.fit(x_train, y_train)\n",
    "\n",
    "print('Best Score: ', random_result.best_score_)\n",
    "print('Best Params: ', random_result.best_params_)"
   ]
  },
  {
   "cell_type": "code",
   "execution_count": null,
   "metadata": {},
   "outputs": [],
   "source": [
    "# for LogisticRegression"
   ]
  },
  {
   "cell_type": "code",
   "execution_count": 281,
   "metadata": {},
   "outputs": [
    {
     "name": "stdout",
     "output_type": "stream",
     "text": [
      "Fitting 5 folds for each of 1000 candidates, totalling 5000 fits\n",
      "max_iter reached after 0 seconds\n",
      "Best Score:  0.7191149545772187\n",
      "Best Params:  {'verbose': 20, 'solver': 'sag', 'penalty': 'l2', 'n_jobs': 100, 'multi_class': 'multinomial', 'max_iter': 5, 'class_weight': {1: 0.7, 0: 0.3}, 'C': 0.5}\n"
     ]
    },
    {
     "name": "stderr",
     "output_type": "stream",
     "text": [
      "[Parallel(n_jobs=100)]: Using backend ThreadingBackend with 100 concurrent workers.\n",
      "[Parallel(n_jobs=100)]: Done   1 tasks      | elapsed:    0.0s\n",
      "[Parallel(n_jobs=100)]: Done   1 out of   1 | elapsed:    0.0s finished\n"
     ]
    }
   ],
   "source": [
    "penalty = ['l1', 'l2', 'elasticnet']\n",
    "C=[0.1, 0.2, 0.3, 0.4, 0.5]\n",
    "max_iter = [10, 50,5,90, 200, 110, 500, 1000]\n",
    "solver=['newton-cg', 'liblinear', 'sag', 'saga']\n",
    "verbose = [1,5,4,10,30,15,20,100]\n",
    "class_weight = [{1:0.5, 0:0.5}, {1:0.4, 0:0.6}, {1:0.6, 0:0.4}, {1:0.7, 0:0.3}]\n",
    "multi_class=['ovr', 'multinomial']\n",
    "n_jobs= [1,5,10, 100,200,500]\n",
    "\n",
    "\n",
    "param_distributions = dict(penalty=penalty,\n",
    "                           C=C,\n",
    "                           max_iter=max_iter,\n",
    "                           solver=solver,\n",
    "                           verbose=verbose,\n",
    "                           class_weight=class_weight,\n",
    "                           multi_class=multi_class,\n",
    "                           n_jobs=n_jobs)\n",
    "\n",
    "random = RandomizedSearchCV(estimator=LogisticRegression(),\n",
    "                            param_distributions=param_distributions,\n",
    "                            scoring='roc_auc',\n",
    "                            verbose=1, n_jobs=-1,\n",
    "                            n_iter=1000)\n",
    "random_result = random.fit(x_train, y_train)\n",
    "\n",
    "print('Best Score: ', random_result.best_score_)\n",
    "print('Best Params: ', random_result.best_params_)"
   ]
  },
  {
   "cell_type": "markdown",
   "metadata": {},
   "source": [
    "###### Final Model"
   ]
  },
  {
   "cell_type": "markdown",
   "metadata": {},
   "source": [
    "*Choosing the SVC as Final Model*\n",
    "<br>*SVC Test Accuray is higher than Train Accuracy and its Accuracy is higher than all*\n",
    "<br>*final Accuracy is also higher than other models*\n",
    "<br>*Best Score after Hyperparameter tuning is also high*"
   ]
  },
  {
   "cell_type": "markdown",
   "metadata": {},
   "source": [
    "###### Retraining the Model"
   ]
  },
  {
   "cell_type": "code",
   "execution_count": null,
   "metadata": {},
   "outputs": [],
   "source": [
    "#Full Dataset"
   ]
  },
  {
   "cell_type": "code",
   "execution_count": 306,
   "metadata": {},
   "outputs": [],
   "source": [
    "y_train=df[['Loan_Status']]\n",
    "X_train=df.drop(['Loan_Status'],axis=1)\n"
   ]
  },
  {
   "cell_type": "code",
   "execution_count": 308,
   "metadata": {},
   "outputs": [
    {
     "name": "stdout",
     "output_type": "stream",
     "text": [
      "x_train : (523, 11)\n",
      "y_train : (523, 1)\n"
     ]
    }
   ],
   "source": [
    "PScaler=StandardScaler()\n",
    "PScalerFit=PScaler.fit(X_train)\n",
    "\n",
    "x_train=PScalerFit.transform(X_train)\n",
    "\n",
    "print(\"x_train :\",x_train.shape)\n",
    "print(\"y_train :\",y_train.shape)\n"
   ]
  },
  {
   "cell_type": "code",
   "execution_count": 315,
   "metadata": {},
   "outputs": [
    {
     "name": "stdout",
     "output_type": "stream",
     "text": [
      "[LibSVM]Accuracy : 0.8107074569789675\n",
      "[LibSVM][LibSVM][LibSVM][LibSVM][LibSVM]\n",
      "\n",
      "Cross Validation\n",
      "Accuracy values: [0.74123646 0.75306122 0.73061224 0.80536975 0.79232604]\n",
      "\n",
      "Final Average Accuracy of the model: 0.76\n"
     ]
    }
   ],
   "source": [
    "clf =SVC(verbose=15,random_state=1,max_iter=500,kernel='rbf',gamma=0.1,degree=20,decision_function_shape='ovo',coef0=1.5,class_weight={1: 0.5, 0: 0.5},C=0.5)\n",
    "\n",
    "finalSVC=clf.fit(x_train,y_train)\n",
    "print(\"Accuracy :\", finalSVC.score(x_train, y_train))\n",
    "\n",
    "paccval=cross_val_score(finalSVC, x_train , y_train, cv=5, scoring='f1_weighted')\n",
    "print('\\n\\nCross Validation')\n",
    "print('Accuracy values:',paccval)\n",
    "\n",
    "print('\\nFinal Average Accuracy of the model:', round(paccval.mean(),2))"
   ]
  },
  {
   "cell_type": "markdown",
   "metadata": {},
   "source": [
    "###### Model Saving"
   ]
  },
  {
   "cell_type": "code",
   "execution_count": 328,
   "metadata": {},
   "outputs": [
    {
     "name": "stdout",
     "output_type": "stream",
     "text": [
      "Model Saved\n"
     ]
    }
   ],
   "source": [
    "import pickle\n",
    "filename='LoanStatus.pk1'\n",
    "pickle.dump(SVC,open(filename,'wb'))\n",
    "print(\"Model Saved\")"
   ]
  },
  {
   "cell_type": "code",
   "execution_count": null,
   "metadata": {},
   "outputs": [],
   "source": []
  },
  {
   "cell_type": "code",
   "execution_count": null,
   "metadata": {},
   "outputs": [],
   "source": []
  },
  {
   "cell_type": "code",
   "execution_count": null,
   "metadata": {},
   "outputs": [],
   "source": []
  },
  {
   "cell_type": "code",
   "execution_count": null,
   "metadata": {},
   "outputs": [],
   "source": []
  },
  {
   "cell_type": "code",
   "execution_count": null,
   "metadata": {},
   "outputs": [],
   "source": []
  },
  {
   "cell_type": "code",
   "execution_count": null,
   "metadata": {},
   "outputs": [],
   "source": []
  },
  {
   "cell_type": "code",
   "execution_count": null,
   "metadata": {},
   "outputs": [],
   "source": []
  },
  {
   "cell_type": "code",
   "execution_count": null,
   "metadata": {},
   "outputs": [],
   "source": []
  },
  {
   "cell_type": "code",
   "execution_count": null,
   "metadata": {},
   "outputs": [],
   "source": []
  },
  {
   "cell_type": "code",
   "execution_count": null,
   "metadata": {},
   "outputs": [],
   "source": []
  },
  {
   "cell_type": "code",
   "execution_count": null,
   "metadata": {},
   "outputs": [],
   "source": []
  },
  {
   "cell_type": "code",
   "execution_count": null,
   "metadata": {},
   "outputs": [],
   "source": []
  },
  {
   "cell_type": "code",
   "execution_count": null,
   "metadata": {},
   "outputs": [],
   "source": []
  },
  {
   "cell_type": "code",
   "execution_count": null,
   "metadata": {},
   "outputs": [],
   "source": []
  },
  {
   "cell_type": "code",
   "execution_count": null,
   "metadata": {},
   "outputs": [],
   "source": []
  },
  {
   "cell_type": "code",
   "execution_count": null,
   "metadata": {},
   "outputs": [],
   "source": []
  },
  {
   "cell_type": "code",
   "execution_count": null,
   "metadata": {},
   "outputs": [],
   "source": []
  },
  {
   "cell_type": "code",
   "execution_count": null,
   "metadata": {},
   "outputs": [],
   "source": []
  }
 ],
 "metadata": {
  "kernelspec": {
   "display_name": "Python 3",
   "language": "python",
   "name": "python3"
  },
  "language_info": {
   "codemirror_mode": {
    "name": "ipython",
    "version": 3
   },
   "file_extension": ".py",
   "mimetype": "text/x-python",
   "name": "python",
   "nbconvert_exporter": "python",
   "pygments_lexer": "ipython3",
   "version": "3.8.5"
  }
 },
 "nbformat": 4,
 "nbformat_minor": 4
}
