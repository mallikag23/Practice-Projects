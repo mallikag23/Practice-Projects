{
 "cells": [
  {
   "cell_type": "code",
   "execution_count": 1296,
   "metadata": {},
   "outputs": [],
   "source": [
    "# Abalone Age Detection\n",
    "\n",
    "from pandas import read_csv, set_option\n",
    "import matplotlib.pyplot as plt\n",
    "import seaborn as sns\n",
    "import pandas as pd\n",
    "import numpy as np\n",
    "#from numpy import set_printoptions\n",
    "from scipy.stats import zscore\n",
    "from scipy import stats\n",
    "from sklearn.model_selection import train_test_split\n",
    "from sklearn.preprocessing import StandardScaler,MinMaxScaler,power_transform, LabelEncoder\n",
    "from sklearn.tree import DecisionTreeRegressor\n",
    "from sklearn.linear_model import LinearRegression,Lasso,LassoCV,Ridge,RidgeCV\n",
    "from sklearn.ensemble import RandomForestRegressor, AdaBoostRegressor\n",
    "from sklearn import metrics\n",
    "from sklearn.metrics import make_scorer\n",
    "from sklearn.neighbors import KNeighborsRegressor \n",
    "import warnings\n",
    "warnings.filterwarnings('ignore')"
   ]
  },
  {
   "cell_type": "code",
   "execution_count": 1297,
   "metadata": {},
   "outputs": [
    {
     "data": {
      "text/html": [
       "<div>\n",
       "<style scoped>\n",
       "    .dataframe tbody tr th:only-of-type {\n",
       "        vertical-align: middle;\n",
       "    }\n",
       "\n",
       "    .dataframe tbody tr th {\n",
       "        vertical-align: top;\n",
       "    }\n",
       "\n",
       "    .dataframe thead th {\n",
       "        text-align: right;\n",
       "    }\n",
       "</style>\n",
       "<table border=\"1\" class=\"dataframe\">\n",
       "  <thead>\n",
       "    <tr style=\"text-align: right;\">\n",
       "      <th></th>\n",
       "      <th>Sex</th>\n",
       "      <th>Length</th>\n",
       "      <th>Diameter</th>\n",
       "      <th>Height</th>\n",
       "      <th>Whole weight</th>\n",
       "      <th>Shucked weight</th>\n",
       "      <th>Viscera weight</th>\n",
       "      <th>Shell weight</th>\n",
       "      <th>Rings</th>\n",
       "    </tr>\n",
       "  </thead>\n",
       "  <tbody>\n",
       "    <tr>\n",
       "      <th>0</th>\n",
       "      <td>M</td>\n",
       "      <td>0.455</td>\n",
       "      <td>0.365</td>\n",
       "      <td>0.095</td>\n",
       "      <td>0.5140</td>\n",
       "      <td>0.2245</td>\n",
       "      <td>0.1010</td>\n",
       "      <td>0.150</td>\n",
       "      <td>15</td>\n",
       "    </tr>\n",
       "    <tr>\n",
       "      <th>1</th>\n",
       "      <td>M</td>\n",
       "      <td>0.350</td>\n",
       "      <td>0.265</td>\n",
       "      <td>0.090</td>\n",
       "      <td>0.2255</td>\n",
       "      <td>0.0995</td>\n",
       "      <td>0.0485</td>\n",
       "      <td>0.070</td>\n",
       "      <td>7</td>\n",
       "    </tr>\n",
       "    <tr>\n",
       "      <th>2</th>\n",
       "      <td>F</td>\n",
       "      <td>0.530</td>\n",
       "      <td>0.420</td>\n",
       "      <td>0.135</td>\n",
       "      <td>0.6770</td>\n",
       "      <td>0.2565</td>\n",
       "      <td>0.1415</td>\n",
       "      <td>0.210</td>\n",
       "      <td>9</td>\n",
       "    </tr>\n",
       "    <tr>\n",
       "      <th>3</th>\n",
       "      <td>M</td>\n",
       "      <td>0.440</td>\n",
       "      <td>0.365</td>\n",
       "      <td>0.125</td>\n",
       "      <td>0.5160</td>\n",
       "      <td>0.2155</td>\n",
       "      <td>0.1140</td>\n",
       "      <td>0.155</td>\n",
       "      <td>10</td>\n",
       "    </tr>\n",
       "    <tr>\n",
       "      <th>4</th>\n",
       "      <td>I</td>\n",
       "      <td>0.330</td>\n",
       "      <td>0.255</td>\n",
       "      <td>0.080</td>\n",
       "      <td>0.2050</td>\n",
       "      <td>0.0895</td>\n",
       "      <td>0.0395</td>\n",
       "      <td>0.055</td>\n",
       "      <td>7</td>\n",
       "    </tr>\n",
       "    <tr>\n",
       "      <th>5</th>\n",
       "      <td>I</td>\n",
       "      <td>0.425</td>\n",
       "      <td>0.300</td>\n",
       "      <td>0.095</td>\n",
       "      <td>0.3515</td>\n",
       "      <td>0.1410</td>\n",
       "      <td>0.0775</td>\n",
       "      <td>0.120</td>\n",
       "      <td>8</td>\n",
       "    </tr>\n",
       "    <tr>\n",
       "      <th>6</th>\n",
       "      <td>F</td>\n",
       "      <td>0.530</td>\n",
       "      <td>0.415</td>\n",
       "      <td>0.150</td>\n",
       "      <td>0.7775</td>\n",
       "      <td>0.2370</td>\n",
       "      <td>0.1415</td>\n",
       "      <td>0.330</td>\n",
       "      <td>20</td>\n",
       "    </tr>\n",
       "    <tr>\n",
       "      <th>7</th>\n",
       "      <td>F</td>\n",
       "      <td>0.545</td>\n",
       "      <td>0.425</td>\n",
       "      <td>0.125</td>\n",
       "      <td>0.7680</td>\n",
       "      <td>0.2940</td>\n",
       "      <td>0.1495</td>\n",
       "      <td>0.260</td>\n",
       "      <td>16</td>\n",
       "    </tr>\n",
       "    <tr>\n",
       "      <th>8</th>\n",
       "      <td>M</td>\n",
       "      <td>0.475</td>\n",
       "      <td>0.370</td>\n",
       "      <td>0.125</td>\n",
       "      <td>0.5095</td>\n",
       "      <td>0.2165</td>\n",
       "      <td>0.1125</td>\n",
       "      <td>0.165</td>\n",
       "      <td>9</td>\n",
       "    </tr>\n",
       "    <tr>\n",
       "      <th>9</th>\n",
       "      <td>F</td>\n",
       "      <td>0.550</td>\n",
       "      <td>0.440</td>\n",
       "      <td>0.150</td>\n",
       "      <td>0.8945</td>\n",
       "      <td>0.3145</td>\n",
       "      <td>0.1510</td>\n",
       "      <td>0.320</td>\n",
       "      <td>19</td>\n",
       "    </tr>\n",
       "  </tbody>\n",
       "</table>\n",
       "</div>"
      ],
      "text/plain": [
       "  Sex  Length  Diameter  Height  Whole weight  Shucked weight  Viscera weight  \\\n",
       "0   M   0.455     0.365   0.095        0.5140          0.2245          0.1010   \n",
       "1   M   0.350     0.265   0.090        0.2255          0.0995          0.0485   \n",
       "2   F   0.530     0.420   0.135        0.6770          0.2565          0.1415   \n",
       "3   M   0.440     0.365   0.125        0.5160          0.2155          0.1140   \n",
       "4   I   0.330     0.255   0.080        0.2050          0.0895          0.0395   \n",
       "5   I   0.425     0.300   0.095        0.3515          0.1410          0.0775   \n",
       "6   F   0.530     0.415   0.150        0.7775          0.2370          0.1415   \n",
       "7   F   0.545     0.425   0.125        0.7680          0.2940          0.1495   \n",
       "8   M   0.475     0.370   0.125        0.5095          0.2165          0.1125   \n",
       "9   F   0.550     0.440   0.150        0.8945          0.3145          0.1510   \n",
       "\n",
       "   Shell weight  Rings  \n",
       "0         0.150     15  \n",
       "1         0.070      7  \n",
       "2         0.210      9  \n",
       "3         0.155     10  \n",
       "4         0.055      7  \n",
       "5         0.120      8  \n",
       "6         0.330     20  \n",
       "7         0.260     16  \n",
       "8         0.165      9  \n",
       "9         0.320     19  "
      ]
     },
     "execution_count": 1297,
     "metadata": {},
     "output_type": "execute_result"
    }
   ],
   "source": [
    "# loading dataset\n",
    "pd.pandas.set_option('display.max_columns',None)\n",
    "path = r\"https://raw.githubusercontent.com/dsrscientist/dataset1/master/abalone.csv\"\n",
    "df = pd.read_csv(path)\n",
    "df.head(10)"
   ]
  },
  {
   "cell_type": "code",
   "execution_count": 1298,
   "metadata": {},
   "outputs": [
    {
     "data": {
      "text/plain": [
       "(4177, 9)"
      ]
     },
     "execution_count": 1298,
     "metadata": {},
     "output_type": "execute_result"
    }
   ],
   "source": [
    "#checking dimension of data\n",
    "df.shape"
   ]
  },
  {
   "cell_type": "code",
   "execution_count": 1299,
   "metadata": {},
   "outputs": [
    {
     "name": "stdout",
     "output_type": "stream",
     "text": [
      "<class 'pandas.core.frame.DataFrame'>\n",
      "RangeIndex: 4177 entries, 0 to 4176\n",
      "Data columns (total 9 columns):\n",
      " #   Column          Non-Null Count  Dtype  \n",
      "---  ------          --------------  -----  \n",
      " 0   Sex             4177 non-null   object \n",
      " 1   Length          4177 non-null   float64\n",
      " 2   Diameter        4177 non-null   float64\n",
      " 3   Height          4177 non-null   float64\n",
      " 4   Whole weight    4177 non-null   float64\n",
      " 5   Shucked weight  4177 non-null   float64\n",
      " 6   Viscera weight  4177 non-null   float64\n",
      " 7   Shell weight    4177 non-null   float64\n",
      " 8   Rings           4177 non-null   int64  \n",
      "dtypes: float64(7), int64(1), object(1)\n",
      "memory usage: 293.8+ KB\n"
     ]
    }
   ],
   "source": [
    "# Summarized information of data \n",
    "# Check for NUll values, variable datatype,total rows\n",
    "df.info()"
   ]
  },
  {
   "cell_type": "code",
   "execution_count": 1300,
   "metadata": {},
   "outputs": [
    {
     "data": {
      "text/plain": [
       "Sex               0\n",
       "Length            0\n",
       "Diameter          0\n",
       "Height            0\n",
       "Whole weight      0\n",
       "Shucked weight    0\n",
       "Viscera weight    0\n",
       "Shell weight      0\n",
       "Rings             0\n",
       "dtype: int64"
      ]
     },
     "execution_count": 1300,
     "metadata": {},
     "output_type": "execute_result"
    }
   ],
   "source": [
    "# check for missing or null values per column\n",
    "df.isnull().sum(axis=0)"
   ]
  },
  {
   "cell_type": "code",
   "execution_count": 1301,
   "metadata": {},
   "outputs": [
    {
     "name": "stdout",
     "output_type": "stream",
     "text": [
      "(4177, 10)\n"
     ]
    },
    {
     "data": {
      "text/plain": [
       "Index(['Sex', 'Length', 'Diameter', 'Height', 'Whole weight', 'Shucked weight',\n",
       "       'Viscera weight', 'Shell weight', 'Rings', 'age'],\n",
       "      dtype='object')"
      ]
     },
     "execution_count": 1301,
     "metadata": {},
     "output_type": "execute_result"
    }
   ],
   "source": [
    "# Adding Age column  Age= (Rings+1.5)\n",
    "df['age'] = df['Rings']+1.5\n",
    "print(df.shape)\n",
    "df.columns"
   ]
  },
  {
   "cell_type": "code",
   "execution_count": 1302,
   "metadata": {},
   "outputs": [
    {
     "name": "stdout",
     "output_type": "stream",
     "text": [
      "(4177, 9)\n",
      "<class 'pandas.core.frame.DataFrame'>\n",
      "RangeIndex: 4177 entries, 0 to 4176\n",
      "Data columns (total 9 columns):\n",
      " #   Column          Non-Null Count  Dtype  \n",
      "---  ------          --------------  -----  \n",
      " 0   Sex             4177 non-null   object \n",
      " 1   Length          4177 non-null   float64\n",
      " 2   Diameter        4177 non-null   float64\n",
      " 3   Height          4177 non-null   float64\n",
      " 4   Whole weight    4177 non-null   float64\n",
      " 5   Shucked weight  4177 non-null   float64\n",
      " 6   Viscera weight  4177 non-null   float64\n",
      " 7   Shell weight    4177 non-null   float64\n",
      " 8   age             4177 non-null   float64\n",
      "dtypes: float64(8), object(1)\n",
      "memory usage: 293.8+ KB\n"
     ]
    }
   ],
   "source": [
    "#droping Ring column from dataset\n",
    "df.drop('Rings', axis = 1, inplace = True)\n",
    "print(df.shape)\n",
    "df.info()"
   ]
  },
  {
   "cell_type": "code",
   "execution_count": 1303,
   "metadata": {},
   "outputs": [
    {
     "data": {
      "text/html": [
       "<div>\n",
       "<style scoped>\n",
       "    .dataframe tbody tr th:only-of-type {\n",
       "        vertical-align: middle;\n",
       "    }\n",
       "\n",
       "    .dataframe tbody tr th {\n",
       "        vertical-align: top;\n",
       "    }\n",
       "\n",
       "    .dataframe thead th {\n",
       "        text-align: right;\n",
       "    }\n",
       "</style>\n",
       "<table border=\"1\" class=\"dataframe\">\n",
       "  <thead>\n",
       "    <tr style=\"text-align: right;\">\n",
       "      <th></th>\n",
       "      <th>Sex</th>\n",
       "      <th>Length</th>\n",
       "      <th>Diameter</th>\n",
       "      <th>Height</th>\n",
       "      <th>Whole weight</th>\n",
       "      <th>Shucked weight</th>\n",
       "      <th>Viscera weight</th>\n",
       "      <th>Shell weight</th>\n",
       "      <th>age</th>\n",
       "    </tr>\n",
       "  </thead>\n",
       "  <tbody>\n",
       "    <tr>\n",
       "      <th>0</th>\n",
       "      <td>2</td>\n",
       "      <td>0.455</td>\n",
       "      <td>0.365</td>\n",
       "      <td>0.095</td>\n",
       "      <td>0.5140</td>\n",
       "      <td>0.2245</td>\n",
       "      <td>0.1010</td>\n",
       "      <td>0.150</td>\n",
       "      <td>16.5</td>\n",
       "    </tr>\n",
       "    <tr>\n",
       "      <th>1</th>\n",
       "      <td>2</td>\n",
       "      <td>0.350</td>\n",
       "      <td>0.265</td>\n",
       "      <td>0.090</td>\n",
       "      <td>0.2255</td>\n",
       "      <td>0.0995</td>\n",
       "      <td>0.0485</td>\n",
       "      <td>0.070</td>\n",
       "      <td>8.5</td>\n",
       "    </tr>\n",
       "    <tr>\n",
       "      <th>2</th>\n",
       "      <td>0</td>\n",
       "      <td>0.530</td>\n",
       "      <td>0.420</td>\n",
       "      <td>0.135</td>\n",
       "      <td>0.6770</td>\n",
       "      <td>0.2565</td>\n",
       "      <td>0.1415</td>\n",
       "      <td>0.210</td>\n",
       "      <td>10.5</td>\n",
       "    </tr>\n",
       "    <tr>\n",
       "      <th>3</th>\n",
       "      <td>2</td>\n",
       "      <td>0.440</td>\n",
       "      <td>0.365</td>\n",
       "      <td>0.125</td>\n",
       "      <td>0.5160</td>\n",
       "      <td>0.2155</td>\n",
       "      <td>0.1140</td>\n",
       "      <td>0.155</td>\n",
       "      <td>11.5</td>\n",
       "    </tr>\n",
       "    <tr>\n",
       "      <th>4</th>\n",
       "      <td>1</td>\n",
       "      <td>0.330</td>\n",
       "      <td>0.255</td>\n",
       "      <td>0.080</td>\n",
       "      <td>0.2050</td>\n",
       "      <td>0.0895</td>\n",
       "      <td>0.0395</td>\n",
       "      <td>0.055</td>\n",
       "      <td>8.5</td>\n",
       "    </tr>\n",
       "  </tbody>\n",
       "</table>\n",
       "</div>"
      ],
      "text/plain": [
       "   Sex  Length  Diameter  Height  Whole weight  Shucked weight  \\\n",
       "0    2   0.455     0.365   0.095        0.5140          0.2245   \n",
       "1    2   0.350     0.265   0.090        0.2255          0.0995   \n",
       "2    0   0.530     0.420   0.135        0.6770          0.2565   \n",
       "3    2   0.440     0.365   0.125        0.5160          0.2155   \n",
       "4    1   0.330     0.255   0.080        0.2050          0.0895   \n",
       "\n",
       "   Viscera weight  Shell weight   age  \n",
       "0          0.1010         0.150  16.5  \n",
       "1          0.0485         0.070   8.5  \n",
       "2          0.1415         0.210  10.5  \n",
       "3          0.1140         0.155  11.5  \n",
       "4          0.0395         0.055   8.5  "
      ]
     },
     "execution_count": 1303,
     "metadata": {},
     "output_type": "execute_result"
    }
   ],
   "source": [
    "# Encoding Categorical Variable \n",
    "le=LabelEncoder()\n",
    "df['Sex']=le.fit_transform(df['Sex'])\n",
    "df.head()"
   ]
  },
  {
   "cell_type": "code",
   "execution_count": 1304,
   "metadata": {},
   "outputs": [
    {
     "data": {
      "text/html": [
       "<div>\n",
       "<style scoped>\n",
       "    .dataframe tbody tr th:only-of-type {\n",
       "        vertical-align: middle;\n",
       "    }\n",
       "\n",
       "    .dataframe tbody tr th {\n",
       "        vertical-align: top;\n",
       "    }\n",
       "\n",
       "    .dataframe thead th {\n",
       "        text-align: right;\n",
       "    }\n",
       "</style>\n",
       "<table border=\"1\" class=\"dataframe\">\n",
       "  <thead>\n",
       "    <tr style=\"text-align: right;\">\n",
       "      <th></th>\n",
       "      <th>Sex</th>\n",
       "      <th>Length</th>\n",
       "      <th>Diameter</th>\n",
       "      <th>Height</th>\n",
       "      <th>Whole weight</th>\n",
       "      <th>Shucked weight</th>\n",
       "      <th>Viscera weight</th>\n",
       "      <th>Shell weight</th>\n",
       "      <th>age</th>\n",
       "    </tr>\n",
       "  </thead>\n",
       "  <tbody>\n",
       "    <tr>\n",
       "      <th>count</th>\n",
       "      <td>4177.000000</td>\n",
       "      <td>4177.000000</td>\n",
       "      <td>4177.000000</td>\n",
       "      <td>4177.000000</td>\n",
       "      <td>4177.000000</td>\n",
       "      <td>4177.000000</td>\n",
       "      <td>4177.000000</td>\n",
       "      <td>4177.000000</td>\n",
       "      <td>4177.000000</td>\n",
       "    </tr>\n",
       "    <tr>\n",
       "      <th>mean</th>\n",
       "      <td>1.052909</td>\n",
       "      <td>0.523992</td>\n",
       "      <td>0.407881</td>\n",
       "      <td>0.139516</td>\n",
       "      <td>0.828742</td>\n",
       "      <td>0.359367</td>\n",
       "      <td>0.180594</td>\n",
       "      <td>0.238831</td>\n",
       "      <td>11.433684</td>\n",
       "    </tr>\n",
       "    <tr>\n",
       "      <th>std</th>\n",
       "      <td>0.822240</td>\n",
       "      <td>0.120093</td>\n",
       "      <td>0.099240</td>\n",
       "      <td>0.041827</td>\n",
       "      <td>0.490389</td>\n",
       "      <td>0.221963</td>\n",
       "      <td>0.109614</td>\n",
       "      <td>0.139203</td>\n",
       "      <td>3.224169</td>\n",
       "    </tr>\n",
       "    <tr>\n",
       "      <th>min</th>\n",
       "      <td>0.000000</td>\n",
       "      <td>0.075000</td>\n",
       "      <td>0.055000</td>\n",
       "      <td>0.000000</td>\n",
       "      <td>0.002000</td>\n",
       "      <td>0.001000</td>\n",
       "      <td>0.000500</td>\n",
       "      <td>0.001500</td>\n",
       "      <td>2.500000</td>\n",
       "    </tr>\n",
       "    <tr>\n",
       "      <th>25%</th>\n",
       "      <td>0.000000</td>\n",
       "      <td>0.450000</td>\n",
       "      <td>0.350000</td>\n",
       "      <td>0.115000</td>\n",
       "      <td>0.441500</td>\n",
       "      <td>0.186000</td>\n",
       "      <td>0.093500</td>\n",
       "      <td>0.130000</td>\n",
       "      <td>9.500000</td>\n",
       "    </tr>\n",
       "    <tr>\n",
       "      <th>50%</th>\n",
       "      <td>1.000000</td>\n",
       "      <td>0.545000</td>\n",
       "      <td>0.425000</td>\n",
       "      <td>0.140000</td>\n",
       "      <td>0.799500</td>\n",
       "      <td>0.336000</td>\n",
       "      <td>0.171000</td>\n",
       "      <td>0.234000</td>\n",
       "      <td>10.500000</td>\n",
       "    </tr>\n",
       "    <tr>\n",
       "      <th>75%</th>\n",
       "      <td>2.000000</td>\n",
       "      <td>0.615000</td>\n",
       "      <td>0.480000</td>\n",
       "      <td>0.165000</td>\n",
       "      <td>1.153000</td>\n",
       "      <td>0.502000</td>\n",
       "      <td>0.253000</td>\n",
       "      <td>0.329000</td>\n",
       "      <td>12.500000</td>\n",
       "    </tr>\n",
       "    <tr>\n",
       "      <th>max</th>\n",
       "      <td>2.000000</td>\n",
       "      <td>0.815000</td>\n",
       "      <td>0.650000</td>\n",
       "      <td>1.130000</td>\n",
       "      <td>2.825500</td>\n",
       "      <td>1.488000</td>\n",
       "      <td>0.760000</td>\n",
       "      <td>1.005000</td>\n",
       "      <td>30.500000</td>\n",
       "    </tr>\n",
       "  </tbody>\n",
       "</table>\n",
       "</div>"
      ],
      "text/plain": [
       "               Sex       Length     Diameter       Height  Whole weight  \\\n",
       "count  4177.000000  4177.000000  4177.000000  4177.000000   4177.000000   \n",
       "mean      1.052909     0.523992     0.407881     0.139516      0.828742   \n",
       "std       0.822240     0.120093     0.099240     0.041827      0.490389   \n",
       "min       0.000000     0.075000     0.055000     0.000000      0.002000   \n",
       "25%       0.000000     0.450000     0.350000     0.115000      0.441500   \n",
       "50%       1.000000     0.545000     0.425000     0.140000      0.799500   \n",
       "75%       2.000000     0.615000     0.480000     0.165000      1.153000   \n",
       "max       2.000000     0.815000     0.650000     1.130000      2.825500   \n",
       "\n",
       "       Shucked weight  Viscera weight  Shell weight          age  \n",
       "count     4177.000000     4177.000000   4177.000000  4177.000000  \n",
       "mean         0.359367        0.180594      0.238831    11.433684  \n",
       "std          0.221963        0.109614      0.139203     3.224169  \n",
       "min          0.001000        0.000500      0.001500     2.500000  \n",
       "25%          0.186000        0.093500      0.130000     9.500000  \n",
       "50%          0.336000        0.171000      0.234000    10.500000  \n",
       "75%          0.502000        0.253000      0.329000    12.500000  \n",
       "max          1.488000        0.760000      1.005000    30.500000  "
      ]
     },
     "execution_count": 1304,
     "metadata": {},
     "output_type": "execute_result"
    }
   ],
   "source": [
    "#Statistical Summary of Data\n",
    "df.describe()"
   ]
  },
  {
   "cell_type": "code",
   "execution_count": 1305,
   "metadata": {},
   "outputs": [
    {
     "data": {
      "image/png": "[encoded data removed]",
      "text/plain": [
       "<Figure size 1080x504 with 2 Axes>"
      ]
     },
     "metadata": {},
     "output_type": "display_data"
    }
   ],
   "source": [
    "# Visualization of Statistical distribution of Data\n",
    "plt.figure(figsize=(15,7)) \n",
    "sns.heatmap(round(df.describe()[1:].transpose(),2),vmin=.4, vmax=2, center=0,annot=True,fmt='.2g', linewidths=.1, )\n",
    "plt.xticks(fontsize=15)\n",
    "plt.yticks(fontsize=10)\n",
    "plt.title(\"Variable Statistical Summary\")\n",
    "plt.show()"
   ]
  },
  {
   "cell_type": "code",
   "execution_count": 1306,
   "metadata": {},
   "outputs": [
    {
     "name": "stdout",
     "output_type": "stream",
     "text": [
      "Sex              -0.098155\n",
      "Length           -0.639873\n",
      "Diameter         -0.609198\n",
      "Height            3.128817\n",
      "Whole weight      0.530959\n",
      "Shucked weight    0.719098\n",
      "Viscera weight    0.591852\n",
      "Shell weight      0.620927\n",
      "age               1.114102\n",
      "dtype: float64\n"
     ]
    }
   ],
   "source": [
    "#Reviewing Skew of Attribute Distribution\n",
    "print(df.skew())"
   ]
  },
  {
   "cell_type": "code",
   "execution_count": 1307,
   "metadata": {},
   "outputs": [
    {
     "data": {
      "text/plain": [
       "0"
      ]
     },
     "execution_count": 1307,
     "metadata": {},
     "output_type": "execute_result"
    }
   ],
   "source": [
    "# check for duplicate rows\n",
    "sum(df.duplicated())"
   ]
  },
  {
   "cell_type": "code",
   "execution_count": 1308,
   "metadata": {},
   "outputs": [
    {
     "data": {
      "text/plain": [
       "<AxesSubplot:xlabel='count', ylabel='age'>"
      ]
     },
     "execution_count": 1308,
     "metadata": {},
     "output_type": "execute_result"
    },
    {
     "data": {
      "image/png": "[encoded data removed]",
      "text/plain": [
       "<Figure size 360x504 with 1 Axes>"
      ]
     },
     "metadata": {},
     "output_type": "display_data"
    }
   ],
   "source": [
    "# # Creating Graph for-----------Categorical(Target) variable\n",
    "fig, ax = plt.subplots(figsize=(5,7))\n",
    "sns.countplot(y=df['age'],saturation=0.95,ax=ax)     "
   ]
  },
  {
   "cell_type": "code",
   "execution_count": 1309,
   "metadata": {},
   "outputs": [
    {
     "data": {
      "image/png": "[encoded data removed]",
      "text/plain": [
       "<Figure size 720x1080 with 9 Axes>"
      ]
     },
     "metadata": {},
     "output_type": "display_data"
    }
   ],
   "source": [
    "# Creating Graph for------------ (Predictor) variable           \n",
    "# All are Selected                                                       \n",
    "df.hist(bins=30, figsize=(10, 15))\n",
    "plt.show()"
   ]
  },
  {
   "cell_type": "code",
   "execution_count": 1310,
   "metadata": {},
   "outputs": [
    {
     "data": {
      "text/plain": [
       "Sex                  3\n",
       "Length             134\n",
       "Diameter           111\n",
       "Height              51\n",
       "Whole weight      2429\n",
       "Shucked weight    1515\n",
       "Viscera weight     880\n",
       "Shell weight       926\n",
       "age                 28\n",
       "dtype: int64"
      ]
     },
     "execution_count": 1310,
     "metadata": {},
     "output_type": "execute_result"
    }
   ],
   "source": [
    "# TO check variable Type\n",
    "    #Target Variable(Categorical)     : Age\n",
    "    #Predictors Variables (Continuous): All except 'sex' is categorical\n",
    "#Supervised ML Regression Model   \n",
    "df.nunique()    "
   ]
  },
  {
   "cell_type": "code",
   "execution_count": 1311,
   "metadata": {},
   "outputs": [
    {
     "data": {
      "text/plain": [
       "<AxesSubplot:>"
      ]
     },
     "execution_count": 1311,
     "metadata": {},
     "output_type": "execute_result"
    },
    {
     "data": {
      "image/png": "[encoded data removed]",
      "text/plain": [
       "<Figure size 1080x360 with 1 Axes>"
      ]
     },
     "metadata": {},
     "output_type": "display_data"
    }
   ],
   "source": [
    "# checking for outliers\n",
    "df.boxplot( rot = 90, figsize=(15,5))"
   ]
  },
  {
   "cell_type": "code",
   "execution_count": 1312,
   "metadata": {
    "scrolled": true
   },
   "outputs": [
    {
     "name": "stdout",
     "output_type": "stream",
     "text": [
      "Int64Index([ 170, 1048, 1052, 1204, 1206, 1207, 1422, 1427, 1757, 1759, 1762,\n",
      "            1763, 2623, 2624, 2709, 2710, 2810, 2811, 2863, 3427, 3628, 3715,\n",
      "            4148],\n",
      "           dtype='int64')\n"
     ]
    }
   ],
   "source": [
    "# Outlier Check\n",
    "print(df[(df['Viscera weight']> 0.5) & (df['age'] < 20)].index)\n",
    "\n",
    "# outliers removal\n",
    "df.drop(df[(df['Viscera weight']> 0.5) & (df['age'] < 20)].index, inplace=True)\n",
    "df.drop(df[(df['Viscera weight']<0.5) & (df['age'] > 25)].index, inplace=True)\n"
   ]
  },
  {
   "cell_type": "code",
   "execution_count": 1313,
   "metadata": {},
   "outputs": [
    {
     "name": "stdout",
     "output_type": "stream",
     "text": [
      "Int64Index([  81,  129,  157,  163,  164,  165,  166,  167,  168,  169,  277,\n",
      "             334,  358,  375,  468,  882,  891, 1193, 1428, 1761, 1823, 1985,\n",
      "            2088, 2090, 2157, 2161, 2208, 2210, 2265, 2274, 2334, 2368, 2542,\n",
      "            2973, 3008, 3148, 3151, 3188, 3599, 3928, 3993, 4145],\n",
      "           dtype='int64')\n"
     ]
    }
   ],
   "source": [
    "# Outlier Check\n",
    "print(df[(df['Shell weight']> 0.6) & (df['age'] < 25)].index)\n",
    "\n",
    "# outliers removal\n",
    "df.drop(df[(df['Shell weight']> 0.6) & (df['age'] < 25)].index, inplace=True)"
   ]
  },
  {
   "cell_type": "code",
   "execution_count": 1314,
   "metadata": {},
   "outputs": [
    {
     "name": "stdout",
     "output_type": "stream",
     "text": [
      "Int64Index([1051, 1197, 1199, 1202, 1209, 1417, 1418, 1426, 1527, 1528, 1754,\n",
      "            1756, 1821, 1982, 2544, 2625, 2675, 2862, 3007, 3082, 3713, 3961,\n",
      "            3962],\n",
      "           dtype='int64')\n",
      "Int64Index([   6,    9,   33,   72,   83,  128,  181,  232,  256,  270,  275,\n",
      "             278,  293,  310,  312,  313,  314,  351,  355,  362,  365,  372,\n",
      "             416,  417,  427,  428,  431,  433,  442,  469,  478,  483,  497,\n",
      "             501,  530,  572,  582,  593,  628,  642,  664,  672,  673,  674,\n",
      "             675,  678,  744,  754,  756,  811, 2101, 2160, 2176, 2180, 2199,\n",
      "            2202, 2275, 2277, 2305, 2335, 2344, 2351, 2358, 2366, 2436, 2459,\n",
      "            2471, 2499, 3140, 3193, 3244, 3319, 3359, 3360, 3373, 3381, 3392,\n",
      "            3865, 3914, 3924, 3930, 3944],\n",
      "           dtype='int64')\n"
     ]
    }
   ],
   "source": [
    "# Outlier Check\n",
    "print(df[(df['Shucked weight']>= 1) & (df['age'] < 20)].index)\n",
    "print(df[(df['Shucked weight']<1) & (df['age'] > 20)].index)\n",
    "\n",
    "# outliers removal\n",
    "df.drop(df[(df['Shucked weight']>= 1) & (df['age'] < 20)].index, inplace=True)\n",
    "df.drop(df[(df['Shucked weight']<1) & (df['age'] > 20)].index, inplace=True)"
   ]
  },
  {
   "cell_type": "code",
   "execution_count": 1315,
   "metadata": {},
   "outputs": [
    {
     "name": "stdout",
     "output_type": "stream",
     "text": [
      "Int64Index([236, 238], dtype='int64')\n",
      "Int64Index([1423, 3992], dtype='int64')\n"
     ]
    }
   ],
   "source": [
    "# Outlier Check\n",
    "print(df[(df['Diameter']<0.1) & (df['age'] < 5)].index)\n",
    "print(df[(df['Diameter']>=0.6) & (df['age']< 25)].index)\n",
    "\n",
    "# outliers removal\n",
    "df.drop(df[(df['Diameter']<0.1) & (df['age'] < 5)].index, inplace=True)\n",
    "df.drop(df[(df['Diameter']>=0.6) & (df['age']< 25)].index, inplace=True)"
   ]
  },
  {
   "cell_type": "code",
   "execution_count": 1316,
   "metadata": {},
   "outputs": [
    {
     "name": "stdout",
     "output_type": "stream",
     "text": [
      "Int64Index([2051], dtype='int64')\n"
     ]
    }
   ],
   "source": [
    "# Outlier Check\n",
    "print(df[(df['Height']>0.4) & (df['age'] < 15)].index)\n",
    "\n",
    "\n",
    "# outliers removal\n",
    "df.drop(df[(df['Height']>0.4) & (df['age'] < 15)].index, inplace=True)"
   ]
  },
  {
   "cell_type": "code",
   "execution_count": 1317,
   "metadata": {},
   "outputs": [
    {
     "name": "stdout",
     "output_type": "stream",
     "text": [
      "(array([  30,  217,  217,  218,  278,  286,  322,  324,  384,  385,  386,\n",
      "        387,  402,  472,  472,  535,  555,  563,  598,  600,  628,  628,\n",
      "        628,  630,  630,  653,  653,  653,  654,  654,  654,  668, 1099,\n",
      "       1174, 1328, 1339, 1339, 1657, 1658, 1658, 1664, 1883, 1884, 1884,\n",
      "       1884, 2006, 2006, 2043, 2051, 2058, 2058, 2067, 2087, 2150, 2210,\n",
      "       2224, 2233, 2234, 2250, 2250, 2285, 2287, 2300, 2342, 2823, 2825,\n",
      "       3011, 3034, 3038, 3065, 3080, 3101, 3116, 3121, 3142, 3159, 3223,\n",
      "       3231, 3236, 3306, 3630, 3667, 3693, 3728, 3728, 3731, 3731, 3746,\n",
      "       3816], dtype=int64), array([8, 1, 2, 1, 1, 8, 8, 8, 8, 8, 8, 8, 8, 1, 2, 8, 8, 8, 8, 8, 1, 2,\n",
      "       3, 1, 2, 1, 2, 3, 1, 2, 3, 8, 3, 3, 6, 1, 2, 5, 5, 6, 6, 1, 1, 2,\n",
      "       3, 1, 2, 8, 6, 1, 3, 3, 8, 8, 8, 8, 8, 8, 1, 3, 8, 8, 8, 8, 5, 5,\n",
      "       8, 3, 8, 8, 8, 8, 8, 8, 6, 1, 8, 8, 8, 1, 4, 2, 8, 1, 2, 1, 3, 8,\n",
      "       3], dtype=int64))\n",
      "(3924, 9)\n"
     ]
    }
   ],
   "source": [
    "# Removing Outliers\n",
    "z=np.abs(zscore(df))\n",
    "z.shape\n",
    "threshold=3\n",
    "print(np.where(z>3))\n",
    "\n",
    "\n",
    "df_new=df[(z<3).all(axis=1)]\n",
    "print(df_new.shape)"
   ]
  },
  {
   "cell_type": "code",
   "execution_count": 1318,
   "metadata": {},
   "outputs": [
    {
     "name": "stdout",
     "output_type": "stream",
     "text": [
      "(3777, 9)\n"
     ]
    }
   ],
   "source": [
    "#removing outlier by IQR method\n",
    "Q1 = df.quantile(0.25)\n",
    "Q3 = df.quantile(0.75)\n",
    "IQR = Q3 - Q1\n",
    "df = df[~((df < (Q1 - 1.5 * IQR)) |(df > (Q3 + 1.5 * IQR))).any(axis=1)]\n",
    "print(df.shape)\n"
   ]
  },
  {
   "cell_type": "code",
   "execution_count": 1319,
   "metadata": {},
   "outputs": [
    {
     "name": "stdout",
     "output_type": "stream",
     "text": [
      "Sex ------not correlated-----: 0.5247302813727267 \n",
      "\n",
      "Length ------correlated------: 0.0 \n",
      "\n",
      "Diameter ------correlated------: 0.0 \n",
      "\n",
      "Height ------correlated------: 0.0 \n",
      "\n",
      "Whole weight ------correlated------: 0.0 \n",
      "\n",
      "Shucked weight ------correlated------: 0.0 \n",
      "\n",
      "Viscera weight ------correlated------: 0.0 \n",
      "\n",
      "Shell weight ------correlated------: 0.0 \n",
      "\n"
     ]
    }
   ],
   "source": [
    "# Anova Test \n",
    "from scipy.stats import f_oneway\n",
    "cp=df.iloc[:,[0,1,2,3,4,5,6,7]]\n",
    "sp=[]\n",
    "for i in cp:\n",
    "    cg=df.groupby('age')[i].apply(list)\n",
    "    av=stats.f_oneway(*cg)\n",
    "    if av[1]<0.5:\n",
    "        print(i,'------correlated------:',av[1],'\\n')\n",
    "        sp.append(i)\n",
    "    else:\n",
    "        print(i,'------not correlated-----:',av[1],'\\n')\n"
   ]
  },
  {
   "cell_type": "code",
   "execution_count": 1320,
   "metadata": {},
   "outputs": [
    {
     "data": {
      "text/html": [
       "<div>\n",
       "<style scoped>\n",
       "    .dataframe tbody tr th:only-of-type {\n",
       "        vertical-align: middle;\n",
       "    }\n",
       "\n",
       "    .dataframe tbody tr th {\n",
       "        vertical-align: top;\n",
       "    }\n",
       "\n",
       "    .dataframe thead th {\n",
       "        text-align: right;\n",
       "    }\n",
       "</style>\n",
       "<table border=\"1\" class=\"dataframe\">\n",
       "  <thead>\n",
       "    <tr style=\"text-align: right;\">\n",
       "      <th></th>\n",
       "      <th>Sex</th>\n",
       "      <th>Length</th>\n",
       "      <th>Diameter</th>\n",
       "      <th>Height</th>\n",
       "      <th>Whole weight</th>\n",
       "      <th>Shucked weight</th>\n",
       "      <th>Viscera weight</th>\n",
       "      <th>Shell weight</th>\n",
       "      <th>age</th>\n",
       "    </tr>\n",
       "  </thead>\n",
       "  <tbody>\n",
       "    <tr>\n",
       "      <th>Sex</th>\n",
       "      <td>1.000000</td>\n",
       "      <td>-0.037882</td>\n",
       "      <td>-0.040880</td>\n",
       "      <td>-0.045456</td>\n",
       "      <td>-0.030186</td>\n",
       "      <td>-0.012402</td>\n",
       "      <td>-0.038854</td>\n",
       "      <td>-0.039861</td>\n",
       "      <td>-0.023514</td>\n",
       "    </tr>\n",
       "    <tr>\n",
       "      <th>Length</th>\n",
       "      <td>-0.037882</td>\n",
       "      <td>1.000000</td>\n",
       "      <td>0.986177</td>\n",
       "      <td>0.895815</td>\n",
       "      <td>0.940445</td>\n",
       "      <td>0.914961</td>\n",
       "      <td>0.914073</td>\n",
       "      <td>0.923842</td>\n",
       "      <td>0.591033</td>\n",
       "    </tr>\n",
       "    <tr>\n",
       "      <th>Diameter</th>\n",
       "      <td>-0.040880</td>\n",
       "      <td>0.986177</td>\n",
       "      <td>1.000000</td>\n",
       "      <td>0.901180</td>\n",
       "      <td>0.938449</td>\n",
       "      <td>0.908441</td>\n",
       "      <td>0.908686</td>\n",
       "      <td>0.929929</td>\n",
       "      <td>0.608279</td>\n",
       "    </tr>\n",
       "    <tr>\n",
       "      <th>Height</th>\n",
       "      <td>-0.045456</td>\n",
       "      <td>0.895815</td>\n",
       "      <td>0.901180</td>\n",
       "      <td>1.000000</td>\n",
       "      <td>0.894032</td>\n",
       "      <td>0.848454</td>\n",
       "      <td>0.874759</td>\n",
       "      <td>0.901944</td>\n",
       "      <td>0.619582</td>\n",
       "    </tr>\n",
       "    <tr>\n",
       "      <th>Whole weight</th>\n",
       "      <td>-0.030186</td>\n",
       "      <td>0.940445</td>\n",
       "      <td>0.938449</td>\n",
       "      <td>0.894032</td>\n",
       "      <td>1.000000</td>\n",
       "      <td>0.973590</td>\n",
       "      <td>0.966817</td>\n",
       "      <td>0.962273</td>\n",
       "      <td>0.563010</td>\n",
       "    </tr>\n",
       "    <tr>\n",
       "      <th>Shucked weight</th>\n",
       "      <td>-0.012402</td>\n",
       "      <td>0.914961</td>\n",
       "      <td>0.908441</td>\n",
       "      <td>0.848454</td>\n",
       "      <td>0.973590</td>\n",
       "      <td>1.000000</td>\n",
       "      <td>0.930204</td>\n",
       "      <td>0.903939</td>\n",
       "      <td>0.471197</td>\n",
       "    </tr>\n",
       "    <tr>\n",
       "      <th>Viscera weight</th>\n",
       "      <td>-0.038854</td>\n",
       "      <td>0.914073</td>\n",
       "      <td>0.908686</td>\n",
       "      <td>0.874759</td>\n",
       "      <td>0.966817</td>\n",
       "      <td>0.930204</td>\n",
       "      <td>1.000000</td>\n",
       "      <td>0.923066</td>\n",
       "      <td>0.548263</td>\n",
       "    </tr>\n",
       "    <tr>\n",
       "      <th>Shell weight</th>\n",
       "      <td>-0.039861</td>\n",
       "      <td>0.923842</td>\n",
       "      <td>0.929929</td>\n",
       "      <td>0.901944</td>\n",
       "      <td>0.962273</td>\n",
       "      <td>0.903939</td>\n",
       "      <td>0.923066</td>\n",
       "      <td>1.000000</td>\n",
       "      <td>0.626839</td>\n",
       "    </tr>\n",
       "    <tr>\n",
       "      <th>age</th>\n",
       "      <td>-0.023514</td>\n",
       "      <td>0.591033</td>\n",
       "      <td>0.608279</td>\n",
       "      <td>0.619582</td>\n",
       "      <td>0.563010</td>\n",
       "      <td>0.471197</td>\n",
       "      <td>0.548263</td>\n",
       "      <td>0.626839</td>\n",
       "      <td>1.000000</td>\n",
       "    </tr>\n",
       "  </tbody>\n",
       "</table>\n",
       "</div>"
      ],
      "text/plain": [
       "                     Sex    Length  Diameter    Height  Whole weight  \\\n",
       "Sex             1.000000 -0.037882 -0.040880 -0.045456     -0.030186   \n",
       "Length         -0.037882  1.000000  0.986177  0.895815      0.940445   \n",
       "Diameter       -0.040880  0.986177  1.000000  0.901180      0.938449   \n",
       "Height         -0.045456  0.895815  0.901180  1.000000      0.894032   \n",
       "Whole weight   -0.030186  0.940445  0.938449  0.894032      1.000000   \n",
       "Shucked weight -0.012402  0.914961  0.908441  0.848454      0.973590   \n",
       "Viscera weight -0.038854  0.914073  0.908686  0.874759      0.966817   \n",
       "Shell weight   -0.039861  0.923842  0.929929  0.901944      0.962273   \n",
       "age            -0.023514  0.591033  0.608279  0.619582      0.563010   \n",
       "\n",
       "                Shucked weight  Viscera weight  Shell weight       age  \n",
       "Sex                  -0.012402       -0.038854     -0.039861 -0.023514  \n",
       "Length                0.914961        0.914073      0.923842  0.591033  \n",
       "Diameter              0.908441        0.908686      0.929929  0.608279  \n",
       "Height                0.848454        0.874759      0.901944  0.619582  \n",
       "Whole weight          0.973590        0.966817      0.962273  0.563010  \n",
       "Shucked weight        1.000000        0.930204      0.903939  0.471197  \n",
       "Viscera weight        0.930204        1.000000      0.923066  0.548263  \n",
       "Shell weight          0.903939        0.923066      1.000000  0.626839  \n",
       "age                   0.471197        0.548263      0.626839  1.000000  "
      ]
     },
     "execution_count": 1320,
     "metadata": {},
     "output_type": "execute_result"
    }
   ],
   "source": [
    "# Reviewing Correlation between Attributes\n",
    "co_rel = df.corr(method='pearson')\n",
    "co_rel"
   ]
  },
  {
   "cell_type": "code",
   "execution_count": 1321,
   "metadata": {},
   "outputs": [
    {
     "data": {
      "image/png": "[encoded data removed]",
      "text/plain": [
       "<Figure size 720x720 with 2 Axes>"
      ]
     },
     "metadata": {},
     "output_type": "display_data"
    }
   ],
   "source": [
    "# Heatmap to check correlation\n",
    "fig, ax = plt.subplots(figsize=(10,10)) \n",
    "sns.heatmap(co_rel,vmin=-1, vmax=1, annot=True, linewidths=.5, ax=ax)\n",
    "plt.show()"
   ]
  },
  {
   "cell_type": "code",
   "execution_count": 1322,
   "metadata": {},
   "outputs": [
    {
     "name": "stdout",
     "output_type": "stream",
     "text": [
      "strong correlated : ['Length', 'Diameter', 'Height', 'Whole weight', 'Shucked weight', 'Viscera weight', 'Shell weight', 'age']\n",
      "weak correlated : ['Sex']\n"
     ]
    }
   ],
   "source": [
    "#Correlation with the output variable\n",
    "cor = df.corr()\n",
    "ctarget = abs(cor['age'])\n",
    "rfeatature = ctarget[ctarget>.2]\n",
    "result1=rfeatature.keys().to_list()\n",
    "print('strong correlated :',result1)\n",
    "\n",
    "rfeatature = ctarget[ctarget<0.2]\n",
    "result2=rfeatature.keys().to_list()\n",
    "print('weak correlated :',result2)"
   ]
  },
  {
   "cell_type": "code",
   "execution_count": 1323,
   "metadata": {},
   "outputs": [
    {
     "data": {
      "text/plain": [
       "(3777, 8)"
      ]
     },
     "execution_count": 1323,
     "metadata": {},
     "output_type": "execute_result"
    }
   ],
   "source": [
    "# removing less correlated feature\n",
    "newdf=df.drop([\"Sex\"],axis=1)\n",
    "newdf.shape"
   ]
  },
  {
   "cell_type": "code",
   "execution_count": 1324,
   "metadata": {},
   "outputs": [
    {
     "data": {
      "text/plain": [
       "Index(['Length', 'Diameter', 'Height', 'Whole weight', 'Shucked weight',\n",
       "       'Viscera weight', 'Shell weight', 'age'],\n",
       "      dtype='object')"
      ]
     },
     "execution_count": 1324,
     "metadata": {},
     "output_type": "execute_result"
    }
   ],
   "source": [
    "# Printing all the column names selected\n",
    "newdf.columns\n"
   ]
  },
  {
   "cell_type": "code",
   "execution_count": 1325,
   "metadata": {},
   "outputs": [
    {
     "name": "stdout",
     "output_type": "stream",
     "text": [
      "(3777, 7)\n",
      "x : Index(['Length', 'Diameter', 'Height', 'Whole weight', 'Shucked weight',\n",
      "       'Viscera weight', 'Shell weight'],\n",
      "      dtype='object')\n",
      "(3777,)\n",
      "y : [16.5  8.5 10.5 ... 10.5 11.5 13.5]\n"
     ]
    }
   ],
   "source": [
    "# dividing the dataset into Target and features variables\n",
    "\n",
    "x = newdf.iloc[:,:7]\n",
    "y = newdf.iloc[:,-1]\n",
    "\n",
    "# determining the shape of x and y.\n",
    "print(x.shape)\n",
    "print('x :',x.columns)\n",
    "print(y.shape)\n",
    "print('y :',y.values)"
   ]
  },
  {
   "cell_type": "code",
   "execution_count": 1326,
   "metadata": {},
   "outputs": [
    {
     "name": "stdout",
     "output_type": "stream",
     "text": [
      "(2832, 7)\n",
      "(2832,)\n",
      "(945, 7)\n",
      "(945,)\n"
     ]
    }
   ],
   "source": [
    "# dividing the dataset in training and testing set\n",
    "x_train, x_test, y_train, y_test = train_test_split(x, y, test_size = 0.25, random_state = 440)\n",
    "\n",
    "print(x_train.shape)\n",
    "print(y_train.shape)\n",
    "print(x_test.shape)\n",
    "print(y_test.shape)"
   ]
  },
  {
   "cell_type": "code",
   "execution_count": 1327,
   "metadata": {},
   "outputs": [
    {
     "data": {
      "text/plain": [
       "array([[-0.67372484, -0.52676959, -1.17556078, ..., -0.52986092,\n",
       "        -0.67519577, -0.56617488],\n",
       "       [-1.43724474, -1.42454798, -1.30517831, ..., -1.31916532,\n",
       "        -1.33988999, -1.34103142],\n",
       "       [-0.01618251,  0.0714129 , -0.08919493, ..., -0.34819972,\n",
       "        -0.21550258, -0.04021159],\n",
       "       ...,\n",
       "       [ 0.69194564,  0.75309429,  2.03278312, ...,  0.93151698,\n",
       "         1.14092336,  0.73353604],\n",
       "       [ 0.96862304,  0.88661651,  0.3413697 , ...,  0.95388084,\n",
       "         0.92447179,  0.6439149 ],\n",
       "       [ 2.01022189,  1.90998325,  1.71179386, ...,  2.33933853,\n",
       "         1.790617  ,  1.97664183]])"
      ]
     },
     "execution_count": 1327,
     "metadata": {},
     "output_type": "execute_result"
    }
   ],
   "source": [
    "#Normalization \n",
    "\n",
    "x=power_transform(x,method='yeo-johnson')\n",
    "x"
   ]
  },
  {
   "cell_type": "code",
   "execution_count": 1328,
   "metadata": {},
   "outputs": [
    {
     "name": "stdout",
     "output_type": "stream",
     "text": [
      "[[ 2.72919437e-01  2.80692133e-01  2.31134548e-01 ... -2.12413529e-01\n",
      "  -2.06227382e-01  3.17678816e-04]\n",
      " [ 5.83627237e-01  4.94855296e-01  3.71933223e-01 ...  5.96184450e-01\n",
      "   3.01565027e-01  3.17678816e-04]\n",
      " [ 7.61174551e-01  1.19088557e+00  9.35127922e-01 ...  1.24994452e+00\n",
      "   1.21260435e+00  8.71358336e-01]\n",
      " ...\n",
      " [ 4.94853580e-01  6.01936877e-01  7.94329247e-01 ...  7.51022362e-01\n",
      "   4.16067238e-01  4.62419061e-01]\n",
      " [-1.70948849e-01  1.73610551e-01 -5.04628019e-02 ... -2.14871274e-01\n",
      "  -3.10772878e-01 -1.50989853e-01]\n",
      " [-3.92882991e-01 -2.01174984e-01 -4.72858826e-01 ... -2.78772634e-01\n",
      "  -8.18565288e-01 -5.88554878e-01]]\n",
      "[[ 1.26050815  1.39218574  1.36650723 ...  0.74154977  0.7304984\n",
      "   2.21450903]\n",
      " [ 1.48703717  1.28167624  0.3657937  ...  0.59455069  1.20053311\n",
      "   1.46788404]\n",
      " [ 1.758872    1.77896897  1.08058908 ...  2.09443958  2.46562655\n",
      "   1.57987779]\n",
      " ...\n",
      " [ 1.35111976  1.33693099  1.50946631 ...  1.15264888  1.81057817\n",
      "   1.79971737]\n",
      " [ 1.12459074  1.115912    0.79467093 ...  1.69330651  1.36054493\n",
      "   0.93695071]\n",
      " [ 0.49030948  0.39760029  0.65171185 ...  0.69171957 -0.05955995\n",
      "   0.43090489]]\n"
     ]
    }
   ],
   "source": [
    "# Sandardization of data\n",
    "\n",
    "sc = StandardScaler()\n",
    "x_train = sc.fit_transform(x_train)\n",
    "print(x_train)\n",
    "x_test = sc.fit_transform(x_test)\n",
    "print(x_test)"
   ]
  },
  {
   "cell_type": "code",
   "execution_count": 1329,
   "metadata": {},
   "outputs": [
    {
     "name": "stdout",
     "output_type": "stream",
     "text": [
      "Score On Train Data: 0.5069694951115292\n",
      "Score On Test Data: 0.45969758068737554\n",
      "Mean Absolute Error: 1.3140238671803774\n",
      "Mean Squared Error: 2.842113243139804\n",
      "Root Mean Squared Error: 1.6858568275923682\n"
     ]
    }
   ],
   "source": [
    "# MOdel Building using Linear Regression\n",
    "regressor = LinearRegression()\n",
    "regressor.fit(x_train, y_train)\n",
    "y_pred = regressor.predict(x_test)\n",
    "y_pred = pd.DataFrame(y_pred, columns=['Predictions'])\n",
    "\n",
    "# Calculating R2 Score\n",
    "r2_score_train =regressor.score(x_train, y_train)\n",
    "print('Score On Train Data:',r2_score_train)\n",
    "r2_score_test=regressor.score(x_test,y_test)\n",
    "print('Score On Test Data:',r2_score_test)\n",
    "\n",
    "print('Mean Absolute Error:', metrics.mean_absolute_error(y_test, y_pred))\n",
    "print('Mean Squared Error:', metrics.mean_squared_error(y_test, y_pred))\n",
    "print('Root Mean Squared Error:', np.sqrt(metrics.mean_squared_error(y_test, y_pred)))"
   ]
  },
  {
   "cell_type": "code",
   "execution_count": 1330,
   "metadata": {},
   "outputs": [
    {
     "name": "stdout",
     "output_type": "stream",
     "text": [
      "Score On Train Data: 0.22392476850135734\n",
      "Score On Test Data: 0.2216650716010139\n",
      "Mean Absolute Error: 1.6063124604660521\n",
      "Mean Squared Error: 4.094218216559709\n",
      "Root Mean Squared Error: 2.0234174597842407\n"
     ]
    }
   ],
   "source": [
    "# Lasso\n",
    "regressor = Lasso()\n",
    "regressor.fit(x_train, y_train)\n",
    "y_pred = regressor.predict(x_test)\n",
    "y_pred = pd.DataFrame(y_pred, columns=['Predictions'])\n",
    "\n",
    "# Calculating R2 Score\n",
    "r2_score_train =regressor.score(x_train, y_train)\n",
    "print('Score On Train Data:',r2_score_train)\n",
    "r2_score_test=regressor.score(x_test,y_test)\n",
    "print('Score On Test Data:',r2_score_test)\n",
    "\n",
    "\n",
    "print('Mean Absolute Error:', metrics.mean_absolute_error(y_test, y_pred))\n",
    "print('Mean Squared Error:', metrics.mean_squared_error(y_test, y_pred))\n",
    "print('Root Mean Squared Error:', np.sqrt(metrics.mean_squared_error(y_test, y_pred)))\n"
   ]
  },
  {
   "cell_type": "code",
   "execution_count": 1331,
   "metadata": {},
   "outputs": [
    {
     "name": "stdout",
     "output_type": "stream",
     "text": [
      "Score On Train Data: 0.5068033914424901\n",
      "Score On Test Data: 0.46071212563598907\n",
      "Mean Absolute Error: 1.312335079283625\n",
      "Mean Squared Error: 2.836776506654553\n",
      "Root Mean Squared Error: 1.6842732874015882\n"
     ]
    }
   ],
   "source": [
    "# LassoCV\n",
    "regressor = LassoCV()\n",
    "regressor.fit(x_train, y_train)\n",
    "y_pred = regressor.predict(x_test)\n",
    "y_pred = pd.DataFrame(y_pred, columns=['Predictions'])\n",
    "\n",
    "# Calculating R2 Score\n",
    "r2_score_train =regressor.score(x_train, y_train)\n",
    "print('Score On Train Data:',r2_score_train)\n",
    "r2_score_test=regressor.score(x_test,y_test)\n",
    "print('Score On Test Data:',r2_score_test)\n",
    "\n",
    "\n",
    "print('Mean Absolute Error:', metrics.mean_absolute_error(y_test, y_pred))\n",
    "print('Mean Squared Error:', metrics.mean_squared_error(y_test, y_pred))\n",
    "print('Root Mean Squared Error:', np.sqrt(metrics.mean_squared_error(y_test, y_pred)))"
   ]
  },
  {
   "cell_type": "code",
   "execution_count": 1332,
   "metadata": {},
   "outputs": [
    {
     "name": "stdout",
     "output_type": "stream",
     "text": [
      "Score On Train Data: 0.5069422554698638\n",
      "Score On Test Data: 0.46021007216157706\n",
      "Mean Absolute Error: 1.3133182718298058\n",
      "Mean Squared Error: 2.8394174217742854\n",
      "Root Mean Squared Error: 1.6850570974819474\n"
     ]
    }
   ],
   "source": [
    "# Ridge\n",
    "regressor = Ridge()\n",
    "regressor.fit(x_train, y_train)\n",
    "y_pred = regressor.predict(x_test)\n",
    "y_pred = pd.DataFrame(y_pred, columns=['Predictions'])\n",
    "\n",
    "# Calculating R2 Score\n",
    "r2_score_train =regressor.score(x_train, y_train)\n",
    "print('Score On Train Data:',r2_score_train)\n",
    "r2_score_test=regressor.score(x_test,y_test)\n",
    "print('Score On Test Data:',r2_score_test)\n",
    "\n",
    "print('Mean Absolute Error:', metrics.mean_absolute_error(y_test, y_pred))\n",
    "print('Mean Squared Error:', metrics.mean_squared_error(y_test, y_pred))\n",
    "print('Root Mean Squared Error:', np.sqrt(metrics.mean_squared_error(y_test, y_pred)))"
   ]
  },
  {
   "cell_type": "code",
   "execution_count": 1333,
   "metadata": {},
   "outputs": [
    {
     "name": "stdout",
     "output_type": "stream",
     "text": [
      "Score On Train Data: 0.5069422554698644\n",
      "Score On Test Data: 0.4602100721611224\n",
      "Mean Absolute Error: 1.3133182718298664\n",
      "Mean Squared Error: 2.8394174217766768\n",
      "Root Mean Squared Error: 1.685057097482657\n"
     ]
    }
   ],
   "source": [
    "# RidgeCV\n",
    "regressor = RidgeCV()\n",
    "regressor.fit(x_train, y_train)\n",
    "y_pred = regressor.predict(x_test)\n",
    "y_pred = pd.DataFrame(y_pred, columns=['Predictions'])\n",
    "#y_pred.head(2)\n",
    "\n",
    "\n",
    "# Calculating R2 Score\n",
    "r2_score_train =regressor.score(x_train, y_train)\n",
    "print('Score On Train Data:',r2_score_train)\n",
    "r2_score_test=regressor.score(x_test,y_test)\n",
    "print('Score On Test Data:',r2_score_test)\n",
    "\n",
    "print('Mean Absolute Error:', metrics.mean_absolute_error(y_test, y_pred))\n",
    "print('Mean Squared Error:', metrics.mean_squared_error(y_test, y_pred))\n",
    "print('Root Mean Squared Error:', np.sqrt(metrics.mean_squared_error(y_test, y_pred)))"
   ]
  },
  {
   "cell_type": "code",
   "execution_count": 1334,
   "metadata": {},
   "outputs": [
    {
     "name": "stdout",
     "output_type": "stream",
     "text": [
      "Score On Train Data: 0.5801393092604389\n",
      "Score On Test Data: 0.513440411590069\n",
      "Mean Absolute Error: 1.2418104851135003\n",
      "Mean Squared Error: 2.5594137660086647\n",
      "Root Mean Squared Error: 1.5998167913885217\n"
     ]
    }
   ],
   "source": [
    "# Random Forest MOdel\n",
    "\n",
    "regressor = RandomForestRegressor(max_depth=5, n_estimators=100,criterion='mse')\n",
    "regressor.fit(x_train, y_train)\n",
    "y_pred = regressor.predict(x_test)\n",
    "y_pred = pd.DataFrame(y_pred, columns=['Predictions'])\n",
    "#y_pred.head(2)\n",
    "\n",
    "# Calculating R2 Score\n",
    "r2_score_train =regressor.score(x_train, y_train)\n",
    "print('Score On Train Data:',r2_score_train)\n",
    "r2_score_test=regressor.score(x_test,y_test)\n",
    "print('Score On Test Data:',r2_score_test)\n",
    "\n",
    "print('Mean Absolute Error:', metrics.mean_absolute_error(y_test, y_pred))\n",
    "print('Mean Squared Error:', metrics.mean_squared_error(y_test, y_pred))\n",
    "print('Root Mean Squared Error:', np.sqrt(metrics.mean_squared_error(y_test, y_pred)))"
   ]
  },
  {
   "cell_type": "code",
   "execution_count": 1335,
   "metadata": {},
   "outputs": [
    {
     "name": "stdout",
     "output_type": "stream",
     "text": [
      "Score On Train Data: 0.5920093549104006\n",
      "Score On Test Data: 0.435097814130576\n",
      "Mean Absolute Error: 1.3255679786271213\n",
      "Mean Squared Error: 2.971513593406927\n",
      "Root Mean Squared Error: 1.7238078760137183\n"
     ]
    }
   ],
   "source": [
    "#Decision Tree   \n",
    "\n",
    "regressor =  DecisionTreeRegressor(max_depth=6,criterion='mse')\n",
    "regressor.fit(x_train, y_train)\n",
    "y_pred = regressor.predict(x_test)\n",
    "y_pred = pd.DataFrame(y_pred, columns=['Predictions'])\n",
    "\n",
    "\n",
    "# Calculating R2 Score\n",
    "r2_score_train =regressor.score(x_train, y_train)\n",
    "print('Score On Train Data:',r2_score_train)\n",
    "r2_score_test=regressor.score(x_test,y_test)\n",
    "print('Score On Test Data:',r2_score_test)\n",
    "\n",
    "print('Mean Absolute Error:', metrics.mean_absolute_error(y_test, y_pred))\n",
    "print('Mean Squared Error:', metrics.mean_squared_error(y_test, y_pred))\n",
    "print('Root Mean Squared Error:', np.sqrt(metrics.mean_squared_error(y_test, y_pred)))"
   ]
  },
  {
   "cell_type": "code",
   "execution_count": 1336,
   "metadata": {},
   "outputs": [
    {
     "name": "stdout",
     "output_type": "stream",
     "text": [
      "Score On Train Data: 0.8676231960092186\n",
      "Score On Test Data: 0.5185995873014305\n",
      "Mean Absolute Error: 1.212633417964592\n",
      "Mean Squared Error: 2.53227533188579\n",
      "Root Mean Squared Error: 1.5913124557690705\n"
     ]
    }
   ],
   "source": [
    "#Adaboost  \n",
    "DTR=DecisionTreeRegressor(max_depth=10)\n",
    "regressor =  AdaBoostRegressor(n_estimators=100, base_estimator=DTR ,learning_rate=0.04)\n",
    "regressor.fit(x_train, y_train)\n",
    "y_pred = regressor.predict(x_test)\n",
    "y_pred = pd.DataFrame(y_pred, columns=['Predictions'])\n",
    "\n",
    "\n",
    "# Calculating R2 Score\n",
    "r2_score_train =regressor.score(x_train, y_train)\n",
    "print('Score On Train Data:',r2_score_train)\n",
    "r2_score_test=regressor.score(x_test,y_test)\n",
    "print('Score On Test Data:',r2_score_test)\n",
    "\n",
    "print('Mean Absolute Error:', metrics.mean_absolute_error(y_test, y_pred))\n",
    "print('Mean Squared Error:', metrics.mean_squared_error(y_test, y_pred))\n",
    "print('Root Mean Squared Error:', np.sqrt(metrics.mean_squared_error(y_test, y_pred)))"
   ]
  },
  {
   "cell_type": "code",
   "execution_count": 1337,
   "metadata": {},
   "outputs": [
    {
     "name": "stdout",
     "output_type": "stream",
     "text": [
      "Score On Train Data: 0.7780173966545685\n",
      "Score On Test Data: 0.32165396420319337\n",
      "Mean Absolute Error: 1.452910052910053\n",
      "Mean Squared Error: 3.5682539682539685\n",
      "Root Mean Squared Error: 1.8889822572628807\n"
     ]
    }
   ],
   "source": [
    "# K-Nearest Neighbor(KNN)\n",
    "regressor =  KNeighborsRegressor(n_neighbors=2)\n",
    "regressor.fit(x_train, y_train)\n",
    "y_pred = regressor.predict(x_test)\n",
    "y_pred = pd.DataFrame(y_pred, columns=['Predictions'])\n",
    "\n",
    "\n",
    "# Calculating R2 Score\n",
    "r2_score_train =regressor.score(x_train, y_train)\n",
    "print('Score On Train Data:',r2_score_train)\n",
    "r2_score_test=regressor.score(x_test,y_test)\n",
    "print('Score On Test Data:',r2_score_test)\n",
    "\n",
    "print('Mean Absolute Error:', metrics.mean_absolute_error(y_test, y_pred))\n",
    "print('Mean Squared Error:', metrics.mean_squared_error(y_test, y_pred))\n",
    "print('Root Mean Squared Error:', np.sqrt(metrics.mean_squared_error(y_test, y_pred)))\n",
    "\n"
   ]
  },
  {
   "cell_type": "code",
   "execution_count": 1338,
   "metadata": {},
   "outputs": [],
   "source": [
    "#Adaboost as the final model "
   ]
  },
  {
   "cell_type": "code",
   "execution_count": 1339,
   "metadata": {},
   "outputs": [
    {
     "name": "stdout",
     "output_type": "stream",
     "text": [
      "(3777, 7)\n",
      "(3777,)\n"
     ]
    }
   ],
   "source": [
    "# Separate Target Variable and Predictor Variables\n",
    "\n",
    "x = newdf.iloc[:,:7]\n",
    "y = newdf.iloc[:,-1]\n",
    "\n",
    "X=x.values\n",
    "Y=y.values\n",
    "\n",
    "PScaler=MinMaxScaler()\n",
    "PScalerFit=PScaler.fit(X)\n",
    "\n",
    "X=PScalerFit.transform(X)\n",
    "\n",
    "print(X.shape)\n",
    "print(y.shape)"
   ]
  },
  {
   "cell_type": "code",
   "execution_count": 1340,
   "metadata": {},
   "outputs": [
    {
     "name": "stdout",
     "output_type": "stream",
     "text": [
      "r2 Score: 0.8352566505985646\n"
     ]
    }
   ],
   "source": [
    "# Retraining the Model \n",
    "DTR=DecisionTreeRegressor(max_depth=10)\n",
    "regressor =  AdaBoostRegressor(n_estimators=100, base_estimator=DTR ,learning_rate=0.04)\n",
    "Final_Model=regressor.fit(X,y)\n",
    "\n",
    "# Calculating R2 Score\n",
    "r2_score =regressor.score(X, y)\n",
    "print('r2 Score:',r2_score)"
   ]
  },
  {
   "cell_type": "code",
   "execution_count": 1341,
   "metadata": {},
   "outputs": [
    {
     "name": "stdout",
     "output_type": "stream",
     "text": [
      "Model Saved\n"
     ]
    }
   ],
   "source": [
    "# Model Saving\n",
    "import pickle\n",
    "filename='Abalone Age.pk1'\n",
    "pickle.dump(regressor,open(filename,'wb'))\n",
    "print(\"Model Saved\")"
   ]
  },
  {
   "cell_type": "code",
   "execution_count": null,
   "metadata": {},
   "outputs": [],
   "source": []
  }
 ],
 "metadata": {
  "kernelspec": {
   "display_name": "Python 3",
   "language": "python",
   "name": "python3"
  },
  "language_info": {
   "codemirror_mode": {
    "name": "ipython",
    "version": 3
   },
   "file_extension": ".py",
   "mimetype": "text/x-python",
   "name": "python",
   "nbconvert_exporter": "python",
   "pygments_lexer": "ipython3",
   "version": "3.8.5"
  }
 },
 "nbformat": 4,
 "nbformat_minor": 4
}
